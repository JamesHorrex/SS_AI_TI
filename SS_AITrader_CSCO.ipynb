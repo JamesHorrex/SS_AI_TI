{
  "nbformat": 4,
  "nbformat_minor": 0,
  "metadata": {
    "colab": {
      "name": "SS_AITrader.ipynb",
      "provenance": [],
      "collapsed_sections": [],
      "authorship_tag": "ABX9TyPrpD3EzsTq1m5Zan4pDioh",
      "include_colab_link": true
    },
    "kernelspec": {
      "name": "python3",
      "display_name": "Python 3"
    },
    "accelerator": "GPU"
  },
  "cells": [
    {
      "cell_type": "markdown",
      "metadata": {
        "id": "view-in-github",
        "colab_type": "text"
      },
      "source": [
        "<a href=\"https://colab.research.google.com/github/JamesHorrex/SS_AI_TI/blob/master/SS_AITrader_CSCO.ipynb\" target=\"_parent\"><img src=\"https://colab.research.google.com/assets/colab-badge.svg\" alt=\"Open In Colab\"/></a>"
      ]
    },
    {
      "cell_type": "code",
      "metadata": {
        "id": "bKT2tX6DtauA",
        "colab_type": "code",
        "colab": {
          "base_uri": "https://localhost:8080/",
          "height": 34
        },
        "outputId": "b6934d21-069b-4fc7-9759-13fdbf3b8a3f"
      },
      "source": [
        "%matplotlib inline\n",
        "import numpy as np\n",
        "import tensorflow as tf\n",
        "print(tf.__version__)"
      ],
      "execution_count": 2,
      "outputs": [
        {
          "output_type": "stream",
          "text": [
            "2.2.0\n"
          ],
          "name": "stdout"
        }
      ]
    },
    {
      "cell_type": "code",
      "metadata": {
        "id": "k2b2DdBskfka",
        "colab_type": "code",
        "colab": {
          "base_uri": "https://localhost:8080/",
          "height": 314
        },
        "outputId": "83c60797-79dc-416e-b1dd-4c6c0dcf0479"
      },
      "source": [
        "!pip install git+https://github.com/tensorflow/docs"
      ],
      "execution_count": 3,
      "outputs": [
        {
          "output_type": "stream",
          "text": [
            "Collecting git+https://github.com/tensorflow/docs\n",
            "  Cloning https://github.com/tensorflow/docs to /tmp/pip-req-build-u1gg8kd7\n",
            "  Running command git clone -q https://github.com/tensorflow/docs /tmp/pip-req-build-u1gg8kd7\n",
            "Requirement already satisfied: astor in /usr/local/lib/python3.6/dist-packages (from tensorflow-docs===0.0.087622f0d4888b557639c605c04a0e822874df5ba-) (0.8.1)\n",
            "Requirement already satisfied: absl-py in /usr/local/lib/python3.6/dist-packages (from tensorflow-docs===0.0.087622f0d4888b557639c605c04a0e822874df5ba-) (0.9.0)\n",
            "Requirement already satisfied: protobuf in /usr/local/lib/python3.6/dist-packages (from tensorflow-docs===0.0.087622f0d4888b557639c605c04a0e822874df5ba-) (3.10.0)\n",
            "Requirement already satisfied: pyyaml in /usr/local/lib/python3.6/dist-packages (from tensorflow-docs===0.0.087622f0d4888b557639c605c04a0e822874df5ba-) (3.13)\n",
            "Requirement already satisfied: six in /usr/local/lib/python3.6/dist-packages (from absl-py->tensorflow-docs===0.0.087622f0d4888b557639c605c04a0e822874df5ba-) (1.12.0)\n",
            "Requirement already satisfied: setuptools in /usr/local/lib/python3.6/dist-packages (from protobuf->tensorflow-docs===0.0.087622f0d4888b557639c605c04a0e822874df5ba-) (47.3.1)\n",
            "Building wheels for collected packages: tensorflow-docs\n",
            "  Building wheel for tensorflow-docs (setup.py) ... \u001b[?25l\u001b[?25hdone\n",
            "  Created wheel for tensorflow-docs: filename=tensorflow_docs-0.0.087622f0d4888b557639c605c04a0e822874df5ba_-cp36-none-any.whl size=123835 sha256=6bd4575d9ab5558f18a03de08bb32ffe50026b9f6c5c612e189fbdd90ce56612\n",
            "  Stored in directory: /tmp/pip-ephem-wheel-cache-boryl4mq/wheels/eb/1b/35/fce87697be00d2fc63e0b4b395b0d9c7e391a10e98d9a0d97f\n",
            "Successfully built tensorflow-docs\n",
            "Installing collected packages: tensorflow-docs\n",
            "Successfully installed tensorflow-docs-0.0.087622f0d4888b557639c605c04a0e822874df5ba-\n"
          ],
          "name": "stdout"
        }
      ]
    },
    {
      "cell_type": "code",
      "metadata": {
        "id": "IYtw7-dbkYiD",
        "colab_type": "code",
        "colab": {}
      },
      "source": [
        "import tensorflow_docs as tfdocs\n",
        "import tensorflow_docs.plots\n",
        "import tensorflow_docs.modeling"
      ],
      "execution_count": 4,
      "outputs": []
    },
    {
      "cell_type": "code",
      "metadata": {
        "id": "hDdT5zKLv1rP",
        "colab_type": "code",
        "colab": {
          "base_uri": "https://localhost:8080/",
          "height": 123
        },
        "outputId": "b0389859-a0a4-4852-fcf7-310a27f6929d"
      },
      "source": [
        "from google.colab import drive \n",
        "drive.mount('/content/gdrive')"
      ],
      "execution_count": 5,
      "outputs": [
        {
          "output_type": "stream",
          "text": [
            "Go to this URL in a browser: https://accounts.google.com/o/oauth2/auth?client_id=947318989803-6bn6qk8qdgf4n4g3pfee6491hc0brc4i.apps.googleusercontent.com&redirect_uri=urn%3aietf%3awg%3aoauth%3a2.0%3aoob&response_type=code&scope=email%20https%3a%2f%2fwww.googleapis.com%2fauth%2fdocs.test%20https%3a%2f%2fwww.googleapis.com%2fauth%2fdrive%20https%3a%2f%2fwww.googleapis.com%2fauth%2fdrive.photos.readonly%20https%3a%2f%2fwww.googleapis.com%2fauth%2fpeopleapi.readonly\n",
            "\n",
            "Enter your authorization code:\n",
            "··········\n",
            "Mounted at /content/gdrive\n"
          ],
          "name": "stdout"
        }
      ]
    },
    {
      "cell_type": "code",
      "metadata": {
        "id": "mAz2vMeqAyTL",
        "colab_type": "code",
        "colab": {}
      },
      "source": [
        "import pandas as pd \n",
        "stock='CSCO'\n",
        "df=pd.read_csv('gdrive/My Drive/SS_AITrader/'+stock+'/df_'+stock+'_20drtn_features.csv')"
      ],
      "execution_count": 463,
      "outputs": []
    },
    {
      "cell_type": "code",
      "metadata": {
        "id": "I0Qvmpz-BCSt",
        "colab_type": "code",
        "colab": {
          "base_uri": "https://localhost:8080/",
          "height": 312
        },
        "outputId": "cea2012d-303d-47f0-ac09-29c669045616"
      },
      "source": [
        "df.head()"
      ],
      "execution_count": 464,
      "outputs": [
        {
          "output_type": "execute_result",
          "data": {
            "text/html": [
              "<div>\n",
              "<style scoped>\n",
              "    .dataframe tbody tr th:only-of-type {\n",
              "        vertical-align: middle;\n",
              "    }\n",
              "\n",
              "    .dataframe tbody tr th {\n",
              "        vertical-align: top;\n",
              "    }\n",
              "\n",
              "    .dataframe thead th {\n",
              "        text-align: right;\n",
              "    }\n",
              "</style>\n",
              "<table border=\"1\" class=\"dataframe\">\n",
              "  <thead>\n",
              "    <tr style=\"text-align: right;\">\n",
              "      <th></th>\n",
              "      <th>timestamp</th>\n",
              "      <th>rsi_10</th>\n",
              "      <th>rsi_15</th>\n",
              "      <th>rsi_20</th>\n",
              "      <th>rsi_40</th>\n",
              "      <th>wr_10</th>\n",
              "      <th>wr_15</th>\n",
              "      <th>wr_20</th>\n",
              "      <th>wr_40</th>\n",
              "      <th>mfi_10</th>\n",
              "      <th>mfi_15</th>\n",
              "      <th>mfi_20</th>\n",
              "      <th>mfi_40</th>\n",
              "      <th>roc_1</th>\n",
              "      <th>roc_3</th>\n",
              "      <th>roc_5</th>\n",
              "      <th>roc_10</th>\n",
              "      <th>roc_20</th>\n",
              "      <th>trix_10</th>\n",
              "      <th>trix_15</th>\n",
              "      <th>trix_20</th>\n",
              "      <th>trix_40</th>\n",
              "      <th>macd10</th>\n",
              "      <th>macd15</th>\n",
              "      <th>macd20</th>\n",
              "      <th>macd40</th>\n",
              "      <th>cci_5</th>\n",
              "      <th>cci_10</th>\n",
              "      <th>cci_15</th>\n",
              "      <th>cci_25</th>\n",
              "      <th>kst_20</th>\n",
              "      <th>kst_40</th>\n",
              "      <th>ibr</th>\n",
              "      <th>bb_h10</th>\n",
              "      <th>bb_l10</th>\n",
              "      <th>bb_h15</th>\n",
              "      <th>bb_l15</th>\n",
              "      <th>bb_h20</th>\n",
              "      <th>bb_l20</th>\n",
              "      <th>bb_h40</th>\n",
              "      <th>bb_l40</th>\n",
              "      <th>realised_vol_10</th>\n",
              "      <th>realised_vol_change_5d_10</th>\n",
              "      <th>realised_vol_20</th>\n",
              "      <th>realised_vol_change_5d_20</th>\n",
              "      <th>realised_vol_40</th>\n",
              "      <th>realised_vol_change_5d_40</th>\n",
              "      <th>vix_level</th>\n",
              "      <th>vix_1d_change</th>\n",
              "      <th>vix_5d_change</th>\n",
              "      <th>forcei_10</th>\n",
              "      <th>forcei_15</th>\n",
              "      <th>forcei_20</th>\n",
              "      <th>forcei_40</th>\n",
              "      <th>cmf_10</th>\n",
              "      <th>cmf_15</th>\n",
              "      <th>cmf_20</th>\n",
              "      <th>cmf_40</th>\n",
              "      <th>volume_delta</th>\n",
              "      <th>curve</th>\n",
              "      <th>curve_shift</th>\n",
              "      <th>curve_shift_5d</th>\n",
              "      <th>dollarix_1d_change</th>\n",
              "      <th>dollarix_5d_change</th>\n",
              "      <th>labels</th>\n",
              "    </tr>\n",
              "  </thead>\n",
              "  <tbody>\n",
              "    <tr>\n",
              "      <th>0</th>\n",
              "      <td>2008-03-06</td>\n",
              "      <td>62.397171</td>\n",
              "      <td>54.909878</td>\n",
              "      <td>55.815241</td>\n",
              "      <td>43.146290</td>\n",
              "      <td>-53.777737</td>\n",
              "      <td>-49.590116</td>\n",
              "      <td>-35.798798</td>\n",
              "      <td>-55.714281</td>\n",
              "      <td>50.495869</td>\n",
              "      <td>42.192490</td>\n",
              "      <td>46.349161</td>\n",
              "      <td>40.715595</td>\n",
              "      <td>-1.359703</td>\n",
              "      <td>-1.885242</td>\n",
              "      <td>-2.919705</td>\n",
              "      <td>3.234153</td>\n",
              "      <td>3.726173</td>\n",
              "      <td>0.094766</td>\n",
              "      <td>-0.116780</td>\n",
              "      <td>-0.208357</td>\n",
              "      <td>-0.164541</td>\n",
              "      <td>-0.055720</td>\n",
              "      <td>-0.055720</td>\n",
              "      <td>-0.055720</td>\n",
              "      <td>-0.055720</td>\n",
              "      <td>-106.227129</td>\n",
              "      <td>-18.428157</td>\n",
              "      <td>26.340132</td>\n",
              "      <td>35.777021</td>\n",
              "      <td>-18.581282</td>\n",
              "      <td>-29.507989</td>\n",
              "      <td>0.041668</td>\n",
              "      <td>0.0</td>\n",
              "      <td>0.0</td>\n",
              "      <td>0.0</td>\n",
              "      <td>0.0</td>\n",
              "      <td>0.0</td>\n",
              "      <td>0.0</td>\n",
              "      <td>0.0</td>\n",
              "      <td>0.0</td>\n",
              "      <td>0.248311</td>\n",
              "      <td>-0.042381</td>\n",
              "      <td>0.238573</td>\n",
              "      <td>-0.066409</td>\n",
              "      <td>0.321875</td>\n",
              "      <td>-0.012626</td>\n",
              "      <td>27.549999</td>\n",
              "      <td>2.949999</td>\n",
              "      <td>4.019999</td>\n",
              "      <td>-9.039720e+06</td>\n",
              "      <td>-9.039720e+06</td>\n",
              "      <td>-9.039720e+06</td>\n",
              "      <td>-9.039720e+06</td>\n",
              "      <td>0.126486</td>\n",
              "      <td>-0.062019</td>\n",
              "      <td>0.139714</td>\n",
              "      <td>0.012750</td>\n",
              "      <td>-0.052450</td>\n",
              "      <td>2.257</td>\n",
              "      <td>0.044</td>\n",
              "      <td>0.397</td>\n",
              "      <td>-0.480003</td>\n",
              "      <td>-0.720001</td>\n",
              "      <td>1.0</td>\n",
              "    </tr>\n",
              "    <tr>\n",
              "      <th>1</th>\n",
              "      <td>2008-03-07</td>\n",
              "      <td>65.759041</td>\n",
              "      <td>50.693239</td>\n",
              "      <td>59.147358</td>\n",
              "      <td>45.757193</td>\n",
              "      <td>-53.061199</td>\n",
              "      <td>-42.622901</td>\n",
              "      <td>-42.622901</td>\n",
              "      <td>-52.244891</td>\n",
              "      <td>58.997127</td>\n",
              "      <td>48.574327</td>\n",
              "      <td>57.327931</td>\n",
              "      <td>40.693165</td>\n",
              "      <td>0.710109</td>\n",
              "      <td>-0.741047</td>\n",
              "      <td>-1.148007</td>\n",
              "      <td>2.161018</td>\n",
              "      <td>3.122333</td>\n",
              "      <td>0.096553</td>\n",
              "      <td>-0.098014</td>\n",
              "      <td>-0.193914</td>\n",
              "      <td>-0.164548</td>\n",
              "      <td>-0.051422</td>\n",
              "      <td>-0.051422</td>\n",
              "      <td>-0.051422</td>\n",
              "      <td>-0.051422</td>\n",
              "      <td>-20.512384</td>\n",
              "      <td>-17.324079</td>\n",
              "      <td>36.978974</td>\n",
              "      <td>52.895102</td>\n",
              "      <td>-11.736879</td>\n",
              "      <td>-22.737085</td>\n",
              "      <td>0.358696</td>\n",
              "      <td>0.0</td>\n",
              "      <td>0.0</td>\n",
              "      <td>0.0</td>\n",
              "      <td>0.0</td>\n",
              "      <td>0.0</td>\n",
              "      <td>0.0</td>\n",
              "      <td>0.0</td>\n",
              "      <td>0.0</td>\n",
              "      <td>0.236553</td>\n",
              "      <td>-0.032341</td>\n",
              "      <td>0.235849</td>\n",
              "      <td>-0.071282</td>\n",
              "      <td>0.311217</td>\n",
              "      <td>-0.021065</td>\n",
              "      <td>27.490000</td>\n",
              "      <td>-0.059999</td>\n",
              "      <td>0.949999</td>\n",
              "      <td>-2.041990e+06</td>\n",
              "      <td>-2.041990e+06</td>\n",
              "      <td>-2.041990e+06</td>\n",
              "      <td>-2.041990e+06</td>\n",
              "      <td>0.020641</td>\n",
              "      <td>-0.034336</td>\n",
              "      <td>-0.029325</td>\n",
              "      <td>-0.011496</td>\n",
              "      <td>-0.020744</td>\n",
              "      <td>2.141</td>\n",
              "      <td>-0.116</td>\n",
              "      <td>0.392</td>\n",
              "      <td>0.029999</td>\n",
              "      <td>-0.680000</td>\n",
              "      <td>0.0</td>\n",
              "    </tr>\n",
              "    <tr>\n",
              "      <th>2</th>\n",
              "      <td>2008-03-10</td>\n",
              "      <td>57.018615</td>\n",
              "      <td>55.547734</td>\n",
              "      <td>55.491717</td>\n",
              "      <td>42.394978</td>\n",
              "      <td>-79.452094</td>\n",
              "      <td>-47.540967</td>\n",
              "      <td>-47.540967</td>\n",
              "      <td>-54.693888</td>\n",
              "      <td>51.785589</td>\n",
              "      <td>48.738803</td>\n",
              "      <td>52.129835</td>\n",
              "      <td>38.920969</td>\n",
              "      <td>-0.497722</td>\n",
              "      <td>-1.153690</td>\n",
              "      <td>-1.680327</td>\n",
              "      <td>0.798322</td>\n",
              "      <td>1.911635</td>\n",
              "      <td>0.090966</td>\n",
              "      <td>-0.082864</td>\n",
              "      <td>-0.180684</td>\n",
              "      <td>-0.164381</td>\n",
              "      <td>-0.057041</td>\n",
              "      <td>-0.057041</td>\n",
              "      <td>-0.057041</td>\n",
              "      <td>-0.057041</td>\n",
              "      <td>-31.462904</td>\n",
              "      <td>-53.469948</td>\n",
              "      <td>26.278567</td>\n",
              "      <td>52.736284</td>\n",
              "      <td>-5.596748</td>\n",
              "      <td>-16.229799</td>\n",
              "      <td>0.000000</td>\n",
              "      <td>0.0</td>\n",
              "      <td>0.0</td>\n",
              "      <td>0.0</td>\n",
              "      <td>0.0</td>\n",
              "      <td>0.0</td>\n",
              "      <td>0.0</td>\n",
              "      <td>0.0</td>\n",
              "      <td>0.0</td>\n",
              "      <td>0.236263</td>\n",
              "      <td>-0.023004</td>\n",
              "      <td>0.236124</td>\n",
              "      <td>-0.063590</td>\n",
              "      <td>0.311269</td>\n",
              "      <td>-0.020115</td>\n",
              "      <td>29.379999</td>\n",
              "      <td>1.889999</td>\n",
              "      <td>3.099998</td>\n",
              "      <td>-3.288044e+06</td>\n",
              "      <td>-3.288044e+06</td>\n",
              "      <td>-3.288044e+06</td>\n",
              "      <td>-3.288044e+06</td>\n",
              "      <td>-0.107275</td>\n",
              "      <td>-0.056693</td>\n",
              "      <td>-0.087480</td>\n",
              "      <td>-0.033174</td>\n",
              "      <td>-0.314969</td>\n",
              "      <td>2.138</td>\n",
              "      <td>-0.003</td>\n",
              "      <td>0.239</td>\n",
              "      <td>-0.040001</td>\n",
              "      <td>-0.709999</td>\n",
              "      <td>0.0</td>\n",
              "    </tr>\n",
              "    <tr>\n",
              "      <th>3</th>\n",
              "      <td>2008-03-11</td>\n",
              "      <td>69.671878</td>\n",
              "      <td>69.050962</td>\n",
              "      <td>62.754060</td>\n",
              "      <td>46.686647</td>\n",
              "      <td>-0.704241</td>\n",
              "      <td>-0.408172</td>\n",
              "      <td>-0.408172</td>\n",
              "      <td>-31.020420</td>\n",
              "      <td>52.325830</td>\n",
              "      <td>55.627940</td>\n",
              "      <td>52.183146</td>\n",
              "      <td>40.949317</td>\n",
              "      <td>4.835347</td>\n",
              "      <td>5.054298</td>\n",
              "      <td>3.540546</td>\n",
              "      <td>4.486913</td>\n",
              "      <td>6.930268</td>\n",
              "      <td>0.110422</td>\n",
              "      <td>-0.061261</td>\n",
              "      <td>-0.164469</td>\n",
              "      <td>-0.163531</td>\n",
              "      <td>0.031742</td>\n",
              "      <td>0.031742</td>\n",
              "      <td>0.031742</td>\n",
              "      <td>0.031742</td>\n",
              "      <td>166.666667</td>\n",
              "      <td>146.493734</td>\n",
              "      <td>133.413805</td>\n",
              "      <td>150.669632</td>\n",
              "      <td>3.469148</td>\n",
              "      <td>-6.662123</td>\n",
              "      <td>0.986301</td>\n",
              "      <td>0.0</td>\n",
              "      <td>0.0</td>\n",
              "      <td>0.0</td>\n",
              "      <td>0.0</td>\n",
              "      <td>1.0</td>\n",
              "      <td>0.0</td>\n",
              "      <td>0.0</td>\n",
              "      <td>0.0</td>\n",
              "      <td>0.334656</td>\n",
              "      <td>0.101014</td>\n",
              "      <td>0.289443</td>\n",
              "      <td>0.037932</td>\n",
              "      <td>0.334270</td>\n",
              "      <td>0.007442</td>\n",
              "      <td>26.360001</td>\n",
              "      <td>-3.019999</td>\n",
              "      <td>0.840000</td>\n",
              "      <td>2.352354e+07</td>\n",
              "      <td>2.352354e+07</td>\n",
              "      <td>2.352354e+07</td>\n",
              "      <td>2.352354e+07</td>\n",
              "      <td>-0.050450</td>\n",
              "      <td>0.064083</td>\n",
              "      <td>-0.043261</td>\n",
              "      <td>-0.008077</td>\n",
              "      <td>0.380716</td>\n",
              "      <td>2.156</td>\n",
              "      <td>0.018</td>\n",
              "      <td>0.172</td>\n",
              "      <td>0.290001</td>\n",
              "      <td>-0.380005</td>\n",
              "      <td>0.0</td>\n",
              "    </tr>\n",
              "    <tr>\n",
              "      <th>4</th>\n",
              "      <td>2008-03-12</td>\n",
              "      <td>65.853641</td>\n",
              "      <td>74.660827</td>\n",
              "      <td>62.494909</td>\n",
              "      <td>47.660969</td>\n",
              "      <td>-24.731228</td>\n",
              "      <td>-17.037069</td>\n",
              "      <td>-15.916982</td>\n",
              "      <td>-23.755682</td>\n",
              "      <td>50.219074</td>\n",
              "      <td>60.892596</td>\n",
              "      <td>52.339936</td>\n",
              "      <td>40.967227</td>\n",
              "      <td>-0.039762</td>\n",
              "      <td>4.272081</td>\n",
              "      <td>3.584668</td>\n",
              "      <td>0.761518</td>\n",
              "      <td>7.298331</td>\n",
              "      <td>0.140896</td>\n",
              "      <td>-0.036206</td>\n",
              "      <td>-0.146325</td>\n",
              "      <td>-0.162081</td>\n",
              "      <td>0.100143</td>\n",
              "      <td>0.100143</td>\n",
              "      <td>0.100143</td>\n",
              "      <td>0.100143</td>\n",
              "      <td>108.134927</td>\n",
              "      <td>171.495463</td>\n",
              "      <td>169.072892</td>\n",
              "      <td>173.781977</td>\n",
              "      <td>9.315301</td>\n",
              "      <td>-0.439042</td>\n",
              "      <td>0.233332</td>\n",
              "      <td>0.0</td>\n",
              "      <td>0.0</td>\n",
              "      <td>0.0</td>\n",
              "      <td>0.0</td>\n",
              "      <td>0.0</td>\n",
              "      <td>0.0</td>\n",
              "      <td>0.0</td>\n",
              "      <td>0.0</td>\n",
              "      <td>0.283299</td>\n",
              "      <td>0.051845</td>\n",
              "      <td>0.288544</td>\n",
              "      <td>0.054162</td>\n",
              "      <td>0.331488</td>\n",
              "      <td>0.004693</td>\n",
              "      <td>27.219999</td>\n",
              "      <td>0.859999</td>\n",
              "      <td>2.619999</td>\n",
              "      <td>1.549237e+07</td>\n",
              "      <td>1.549237e+07</td>\n",
              "      <td>1.549237e+07</td>\n",
              "      <td>1.549237e+07</td>\n",
              "      <td>-0.187758</td>\n",
              "      <td>0.004365</td>\n",
              "      <td>-0.043948</td>\n",
              "      <td>-0.007206</td>\n",
              "      <td>-0.142997</td>\n",
              "      <td>2.043</td>\n",
              "      <td>-0.113</td>\n",
              "      <td>-0.170</td>\n",
              "      <td>-0.879997</td>\n",
              "      <td>-1.080002</td>\n",
              "      <td>0.0</td>\n",
              "    </tr>\n",
              "  </tbody>\n",
              "</table>\n",
              "</div>"
            ],
            "text/plain": [
              "    timestamp     rsi_10  ...  dollarix_5d_change  labels\n",
              "0  2008-03-06  62.397171  ...           -0.720001     1.0\n",
              "1  2008-03-07  65.759041  ...           -0.680000     0.0\n",
              "2  2008-03-10  57.018615  ...           -0.709999     0.0\n",
              "3  2008-03-11  69.671878  ...           -0.380005     0.0\n",
              "4  2008-03-12  65.853641  ...           -1.080002     0.0\n",
              "\n",
              "[5 rows x 65 columns]"
            ]
          },
          "metadata": {
            "tags": []
          },
          "execution_count": 464
        }
      ]
    },
    {
      "cell_type": "code",
      "metadata": {
        "id": "1qE_jesFKOpZ",
        "colab_type": "code",
        "colab": {}
      },
      "source": [
        "df['timestamp'] = pd.to_datetime(df['timestamp'])"
      ],
      "execution_count": 465,
      "outputs": []
    },
    {
      "cell_type": "code",
      "metadata": {
        "id": "qTGO7R82NRMH",
        "colab_type": "code",
        "colab": {}
      },
      "source": [
        "from_date='2010-01-01'\n",
        "to_date='2020-01-01'"
      ],
      "execution_count": 466,
      "outputs": []
    },
    {
      "cell_type": "code",
      "metadata": {
        "id": "Hy0qnGa0NZpz",
        "colab_type": "code",
        "colab": {}
      },
      "source": [
        "df = df[pd.to_datetime(from_date) < df['timestamp'] ]\n",
        "df = df[pd.to_datetime(to_date) > df['timestamp'] ]\n"
      ],
      "execution_count": 467,
      "outputs": []
    },
    {
      "cell_type": "code",
      "metadata": {
        "id": "inuuZ7pWKXup",
        "colab_type": "code",
        "colab": {
          "base_uri": "https://localhost:8080/",
          "height": 312
        },
        "outputId": "62e985fc-c8de-495f-a738-9c146892323e"
      },
      "source": [
        "df.head()"
      ],
      "execution_count": 468,
      "outputs": [
        {
          "output_type": "execute_result",
          "data": {
            "text/html": [
              "<div>\n",
              "<style scoped>\n",
              "    .dataframe tbody tr th:only-of-type {\n",
              "        vertical-align: middle;\n",
              "    }\n",
              "\n",
              "    .dataframe tbody tr th {\n",
              "        vertical-align: top;\n",
              "    }\n",
              "\n",
              "    .dataframe thead th {\n",
              "        text-align: right;\n",
              "    }\n",
              "</style>\n",
              "<table border=\"1\" class=\"dataframe\">\n",
              "  <thead>\n",
              "    <tr style=\"text-align: right;\">\n",
              "      <th></th>\n",
              "      <th>timestamp</th>\n",
              "      <th>rsi_10</th>\n",
              "      <th>rsi_15</th>\n",
              "      <th>rsi_20</th>\n",
              "      <th>rsi_40</th>\n",
              "      <th>wr_10</th>\n",
              "      <th>wr_15</th>\n",
              "      <th>wr_20</th>\n",
              "      <th>wr_40</th>\n",
              "      <th>mfi_10</th>\n",
              "      <th>mfi_15</th>\n",
              "      <th>mfi_20</th>\n",
              "      <th>mfi_40</th>\n",
              "      <th>roc_1</th>\n",
              "      <th>roc_3</th>\n",
              "      <th>roc_5</th>\n",
              "      <th>roc_10</th>\n",
              "      <th>roc_20</th>\n",
              "      <th>trix_10</th>\n",
              "      <th>trix_15</th>\n",
              "      <th>trix_20</th>\n",
              "      <th>trix_40</th>\n",
              "      <th>macd10</th>\n",
              "      <th>macd15</th>\n",
              "      <th>macd20</th>\n",
              "      <th>macd40</th>\n",
              "      <th>cci_5</th>\n",
              "      <th>cci_10</th>\n",
              "      <th>cci_15</th>\n",
              "      <th>cci_25</th>\n",
              "      <th>kst_20</th>\n",
              "      <th>kst_40</th>\n",
              "      <th>ibr</th>\n",
              "      <th>bb_h10</th>\n",
              "      <th>bb_l10</th>\n",
              "      <th>bb_h15</th>\n",
              "      <th>bb_l15</th>\n",
              "      <th>bb_h20</th>\n",
              "      <th>bb_l20</th>\n",
              "      <th>bb_h40</th>\n",
              "      <th>bb_l40</th>\n",
              "      <th>realised_vol_10</th>\n",
              "      <th>realised_vol_change_5d_10</th>\n",
              "      <th>realised_vol_20</th>\n",
              "      <th>realised_vol_change_5d_20</th>\n",
              "      <th>realised_vol_40</th>\n",
              "      <th>realised_vol_change_5d_40</th>\n",
              "      <th>vix_level</th>\n",
              "      <th>vix_1d_change</th>\n",
              "      <th>vix_5d_change</th>\n",
              "      <th>forcei_10</th>\n",
              "      <th>forcei_15</th>\n",
              "      <th>forcei_20</th>\n",
              "      <th>forcei_40</th>\n",
              "      <th>cmf_10</th>\n",
              "      <th>cmf_15</th>\n",
              "      <th>cmf_20</th>\n",
              "      <th>cmf_40</th>\n",
              "      <th>volume_delta</th>\n",
              "      <th>curve</th>\n",
              "      <th>curve_shift</th>\n",
              "      <th>curve_shift_5d</th>\n",
              "      <th>dollarix_1d_change</th>\n",
              "      <th>dollarix_5d_change</th>\n",
              "      <th>labels</th>\n",
              "    </tr>\n",
              "  </thead>\n",
              "  <tbody>\n",
              "    <tr>\n",
              "      <th>445</th>\n",
              "      <td>2010-01-05</td>\n",
              "      <td>82.851113</td>\n",
              "      <td>60.508182</td>\n",
              "      <td>59.502688</td>\n",
              "      <td>57.253487</td>\n",
              "      <td>-19.117655</td>\n",
              "      <td>-14.285729</td>\n",
              "      <td>-14.285729</td>\n",
              "      <td>-14.285729</td>\n",
              "      <td>91.223769</td>\n",
              "      <td>58.027739</td>\n",
              "      <td>52.892309</td>\n",
              "      <td>56.919839</td>\n",
              "      <td>-0.445527</td>\n",
              "      <td>1.654258</td>\n",
              "      <td>2.076412</td>\n",
              "      <td>5.357908</td>\n",
              "      <td>1.738411</td>\n",
              "      <td>0.100812</td>\n",
              "      <td>0.040793</td>\n",
              "      <td>0.033626</td>\n",
              "      <td>0.103242</td>\n",
              "      <td>0.175501</td>\n",
              "      <td>0.175501</td>\n",
              "      <td>0.175501</td>\n",
              "      <td>0.175501</td>\n",
              "      <td>90.872428</td>\n",
              "      <td>153.921408</td>\n",
              "      <td>155.315250</td>\n",
              "      <td>185.683412</td>\n",
              "      <td>11.696236</td>\n",
              "      <td>13.252570</td>\n",
              "      <td>0.571430</td>\n",
              "      <td>0.0</td>\n",
              "      <td>0.0</td>\n",
              "      <td>0.0</td>\n",
              "      <td>0.0</td>\n",
              "      <td>0.0</td>\n",
              "      <td>0.0</td>\n",
              "      <td>1.0</td>\n",
              "      <td>0.0</td>\n",
              "      <td>0.176621</td>\n",
              "      <td>0.038913</td>\n",
              "      <td>0.168201</td>\n",
              "      <td>0.018676</td>\n",
              "      <td>0.178089</td>\n",
              "      <td>-0.015950</td>\n",
              "      <td>19.350000</td>\n",
              "      <td>-0.690001</td>\n",
              "      <td>-0.580000</td>\n",
              "      <td>7.883957e+06</td>\n",
              "      <td>7.883957e+06</td>\n",
              "      <td>7.883957e+06</td>\n",
              "      <td>7.883957e+06</td>\n",
              "      <td>0.201056</td>\n",
              "      <td>-0.036026</td>\n",
              "      <td>-0.074735</td>\n",
              "      <td>0.051996</td>\n",
              "      <td>-0.246087</td>\n",
              "      <td>3.695</td>\n",
              "      <td>-0.091</td>\n",
              "      <td>-0.092</td>\n",
              "      <td>0.090004</td>\n",
              "      <td>-0.009995</td>\n",
              "      <td>0.0</td>\n",
              "    </tr>\n",
              "    <tr>\n",
              "      <th>446</th>\n",
              "      <td>2010-01-06</td>\n",
              "      <td>75.195819</td>\n",
              "      <td>60.637786</td>\n",
              "      <td>53.355802</td>\n",
              "      <td>52.894276</td>\n",
              "      <td>-33.070860</td>\n",
              "      <td>-23.076931</td>\n",
              "      <td>-23.076931</td>\n",
              "      <td>-23.076931</td>\n",
              "      <td>78.642717</td>\n",
              "      <td>51.023109</td>\n",
              "      <td>47.833950</td>\n",
              "      <td>56.915594</td>\n",
              "      <td>-0.650935</td>\n",
              "      <td>2.005011</td>\n",
              "      <td>1.327800</td>\n",
              "      <td>3.299495</td>\n",
              "      <td>0.867414</td>\n",
              "      <td>0.124928</td>\n",
              "      <td>0.053564</td>\n",
              "      <td>0.039731</td>\n",
              "      <td>0.101892</td>\n",
              "      <td>0.188601</td>\n",
              "      <td>0.188601</td>\n",
              "      <td>0.188601</td>\n",
              "      <td>0.188601</td>\n",
              "      <td>47.735626</td>\n",
              "      <td>103.900898</td>\n",
              "      <td>119.247772</td>\n",
              "      <td>157.949237</td>\n",
              "      <td>11.904814</td>\n",
              "      <td>13.922302</td>\n",
              "      <td>0.200000</td>\n",
              "      <td>0.0</td>\n",
              "      <td>0.0</td>\n",
              "      <td>0.0</td>\n",
              "      <td>0.0</td>\n",
              "      <td>0.0</td>\n",
              "      <td>0.0</td>\n",
              "      <td>0.0</td>\n",
              "      <td>0.0</td>\n",
              "      <td>0.179451</td>\n",
              "      <td>0.042029</td>\n",
              "      <td>0.170165</td>\n",
              "      <td>0.020638</td>\n",
              "      <td>0.178523</td>\n",
              "      <td>0.001473</td>\n",
              "      <td>19.160000</td>\n",
              "      <td>-0.190001</td>\n",
              "      <td>-0.850000</td>\n",
              "      <td>3.351136e+06</td>\n",
              "      <td>3.351136e+06</td>\n",
              "      <td>3.351136e+06</td>\n",
              "      <td>3.351136e+06</td>\n",
              "      <td>0.133380</td>\n",
              "      <td>-0.008884</td>\n",
              "      <td>-0.092563</td>\n",
              "      <td>0.038669</td>\n",
              "      <td>-0.208508</td>\n",
              "      <td>3.763</td>\n",
              "      <td>0.068</td>\n",
              "      <td>0.049</td>\n",
              "      <td>-0.130005</td>\n",
              "      <td>-0.340004</td>\n",
              "      <td>0.0</td>\n",
              "    </tr>\n",
              "    <tr>\n",
              "      <th>447</th>\n",
              "      <td>2010-01-07</td>\n",
              "      <td>73.468221</td>\n",
              "      <td>61.486017</td>\n",
              "      <td>54.280203</td>\n",
              "      <td>54.246612</td>\n",
              "      <td>-27.192950</td>\n",
              "      <td>-17.032941</td>\n",
              "      <td>-17.032941</td>\n",
              "      <td>-17.032941</td>\n",
              "      <td>68.113049</td>\n",
              "      <td>53.032401</td>\n",
              "      <td>48.670309</td>\n",
              "      <td>54.208398</td>\n",
              "      <td>0.450453</td>\n",
              "      <td>-0.648035</td>\n",
              "      <td>1.447479</td>\n",
              "      <td>3.284213</td>\n",
              "      <td>3.023945</td>\n",
              "      <td>0.145336</td>\n",
              "      <td>0.066148</td>\n",
              "      <td>0.046239</td>\n",
              "      <td>0.100773</td>\n",
              "      <td>0.205491</td>\n",
              "      <td>0.205491</td>\n",
              "      <td>0.205491</td>\n",
              "      <td>0.205491</td>\n",
              "      <td>8.620729</td>\n",
              "      <td>62.409057</td>\n",
              "      <td>90.402275</td>\n",
              "      <td>123.543430</td>\n",
              "      <td>14.548366</td>\n",
              "      <td>16.404696</td>\n",
              "      <td>0.900002</td>\n",
              "      <td>0.0</td>\n",
              "      <td>0.0</td>\n",
              "      <td>0.0</td>\n",
              "      <td>0.0</td>\n",
              "      <td>0.0</td>\n",
              "      <td>0.0</td>\n",
              "      <td>0.0</td>\n",
              "      <td>0.0</td>\n",
              "      <td>0.179421</td>\n",
              "      <td>0.075961</td>\n",
              "      <td>0.158242</td>\n",
              "      <td>0.029873</td>\n",
              "      <td>0.178030</td>\n",
              "      <td>0.001795</td>\n",
              "      <td>19.059999</td>\n",
              "      <td>-0.100000</td>\n",
              "      <td>-0.900000</td>\n",
              "      <td>3.390241e+06</td>\n",
              "      <td>3.390241e+06</td>\n",
              "      <td>3.390241e+06</td>\n",
              "      <td>3.390241e+06</td>\n",
              "      <td>0.199516</td>\n",
              "      <td>0.142415</td>\n",
              "      <td>-0.009632</td>\n",
              "      <td>0.026254</td>\n",
              "      <td>-0.117161</td>\n",
              "      <td>3.777</td>\n",
              "      <td>0.014</td>\n",
              "      <td>0.033</td>\n",
              "      <td>0.420006</td>\n",
              "      <td>0.000000</td>\n",
              "      <td>0.0</td>\n",
              "    </tr>\n",
              "    <tr>\n",
              "      <th>448</th>\n",
              "      <td>2010-01-08</td>\n",
              "      <td>73.771420</td>\n",
              "      <td>71.167059</td>\n",
              "      <td>62.113098</td>\n",
              "      <td>54.030326</td>\n",
              "      <td>-17.142899</td>\n",
              "      <td>-9.890128</td>\n",
              "      <td>-9.890128</td>\n",
              "      <td>-9.890128</td>\n",
              "      <td>69.790411</td>\n",
              "      <td>61.238577</td>\n",
              "      <td>54.388525</td>\n",
              "      <td>57.131033</td>\n",
              "      <td>0.529960</td>\n",
              "      <td>0.325468</td>\n",
              "      <td>3.007516</td>\n",
              "      <td>3.700585</td>\n",
              "      <td>3.352889</td>\n",
              "      <td>0.164293</td>\n",
              "      <td>0.078994</td>\n",
              "      <td>0.053308</td>\n",
              "      <td>0.099911</td>\n",
              "      <td>0.226752</td>\n",
              "      <td>0.226752</td>\n",
              "      <td>0.226752</td>\n",
              "      <td>0.226752</td>\n",
              "      <td>53.528319</td>\n",
              "      <td>74.837559</td>\n",
              "      <td>99.165754</td>\n",
              "      <td>134.476981</td>\n",
              "      <td>17.334384</td>\n",
              "      <td>19.197382</td>\n",
              "      <td>0.911109</td>\n",
              "      <td>0.0</td>\n",
              "      <td>0.0</td>\n",
              "      <td>0.0</td>\n",
              "      <td>0.0</td>\n",
              "      <td>0.0</td>\n",
              "      <td>0.0</td>\n",
              "      <td>1.0</td>\n",
              "      <td>0.0</td>\n",
              "      <td>0.179286</td>\n",
              "      <td>0.058285</td>\n",
              "      <td>0.158799</td>\n",
              "      <td>0.025363</td>\n",
              "      <td>0.174245</td>\n",
              "      <td>-0.003778</td>\n",
              "      <td>18.129999</td>\n",
              "      <td>-0.930000</td>\n",
              "      <td>-3.550001</td>\n",
              "      <td>3.955172e+06</td>\n",
              "      <td>3.955172e+06</td>\n",
              "      <td>3.955172e+06</td>\n",
              "      <td>3.955172e+06</td>\n",
              "      <td>0.318501</td>\n",
              "      <td>0.243364</td>\n",
              "      <td>-0.011321</td>\n",
              "      <td>0.060269</td>\n",
              "      <td>0.240546</td>\n",
              "      <td>3.768</td>\n",
              "      <td>-0.009</td>\n",
              "      <td>-0.025</td>\n",
              "      <td>-0.440002</td>\n",
              "      <td>-0.389999</td>\n",
              "      <td>0.0</td>\n",
              "    </tr>\n",
              "    <tr>\n",
              "      <th>449</th>\n",
              "      <td>2010-01-11</td>\n",
              "      <td>70.280894</td>\n",
              "      <td>69.947265</td>\n",
              "      <td>60.219190</td>\n",
              "      <td>55.804436</td>\n",
              "      <td>-27.777709</td>\n",
              "      <td>-16.042749</td>\n",
              "      <td>-16.042749</td>\n",
              "      <td>-16.042749</td>\n",
              "      <td>72.202008</td>\n",
              "      <td>68.090185</td>\n",
              "      <td>54.595608</td>\n",
              "      <td>57.063022</td>\n",
              "      <td>-0.283859</td>\n",
              "      <td>0.696151</td>\n",
              "      <td>-0.405024</td>\n",
              "      <td>2.629387</td>\n",
              "      <td>2.715119</td>\n",
              "      <td>0.177998</td>\n",
              "      <td>0.090719</td>\n",
              "      <td>0.060307</td>\n",
              "      <td>0.099230</td>\n",
              "      <td>0.235241</td>\n",
              "      <td>0.235241</td>\n",
              "      <td>0.235241</td>\n",
              "      <td>0.235241</td>\n",
              "      <td>119.967861</td>\n",
              "      <td>85.745178</td>\n",
              "      <td>103.512959</td>\n",
              "      <td>137.608772</td>\n",
              "      <td>20.237948</td>\n",
              "      <td>21.793865</td>\n",
              "      <td>0.375001</td>\n",
              "      <td>0.0</td>\n",
              "      <td>0.0</td>\n",
              "      <td>0.0</td>\n",
              "      <td>0.0</td>\n",
              "      <td>0.0</td>\n",
              "      <td>0.0</td>\n",
              "      <td>0.0</td>\n",
              "      <td>0.0</td>\n",
              "      <td>0.180600</td>\n",
              "      <td>0.012547</td>\n",
              "      <td>0.159462</td>\n",
              "      <td>-0.013469</td>\n",
              "      <td>0.172459</td>\n",
              "      <td>-0.017278</td>\n",
              "      <td>17.549999</td>\n",
              "      <td>-0.580000</td>\n",
              "      <td>-2.490002</td>\n",
              "      <td>1.800217e+06</td>\n",
              "      <td>1.800217e+06</td>\n",
              "      <td>1.800217e+06</td>\n",
              "      <td>1.800217e+06</td>\n",
              "      <td>0.245665</td>\n",
              "      <td>0.275221</td>\n",
              "      <td>-0.007975</td>\n",
              "      <td>0.041716</td>\n",
              "      <td>-0.083419</td>\n",
              "      <td>3.793</td>\n",
              "      <td>0.025</td>\n",
              "      <td>0.007</td>\n",
              "      <td>-0.470001</td>\n",
              "      <td>-0.529999</td>\n",
              "      <td>0.0</td>\n",
              "    </tr>\n",
              "  </tbody>\n",
              "</table>\n",
              "</div>"
            ],
            "text/plain": [
              "     timestamp     rsi_10  ...  dollarix_5d_change  labels\n",
              "445 2010-01-05  82.851113  ...           -0.009995     0.0\n",
              "446 2010-01-06  75.195819  ...           -0.340004     0.0\n",
              "447 2010-01-07  73.468221  ...            0.000000     0.0\n",
              "448 2010-01-08  73.771420  ...           -0.389999     0.0\n",
              "449 2010-01-11  70.280894  ...           -0.529999     0.0\n",
              "\n",
              "[5 rows x 65 columns]"
            ]
          },
          "metadata": {
            "tags": []
          },
          "execution_count": 468
        }
      ]
    },
    {
      "cell_type": "code",
      "metadata": {
        "id": "KR7WRpTJaRB4",
        "colab_type": "code",
        "colab": {}
      },
      "source": [
        "df.drop(['timestamp'], inplace=True, axis=1)"
      ],
      "execution_count": 469,
      "outputs": []
    },
    {
      "cell_type": "code",
      "metadata": {
        "id": "Anb_cU4SHzkl",
        "colab_type": "code",
        "colab": {}
      },
      "source": [
        "train_dataset = df.sample(frac=0.8,random_state=0)\n",
        "test_dataset = df.drop(train_dataset.index)"
      ],
      "execution_count": 470,
      "outputs": []
    },
    {
      "cell_type": "code",
      "metadata": {
        "id": "KyB_Wb9Fav0m",
        "colab_type": "code",
        "colab": {}
      },
      "source": [
        "train_labels = train_dataset.pop('labels')\n",
        "test_labels = test_dataset.pop('labels')"
      ],
      "execution_count": 471,
      "outputs": []
    },
    {
      "cell_type": "code",
      "metadata": {
        "id": "YumkgVabeud9",
        "colab_type": "code",
        "colab": {
          "base_uri": "https://localhost:8080/",
          "height": 121
        },
        "outputId": "f07b3f1f-145a-4881-eaf6-adf073d19487"
      },
      "source": [
        "train_labels.head()"
      ],
      "execution_count": 472,
      "outputs": [
        {
          "output_type": "execute_result",
          "data": {
            "text/plain": [
              "1856    1.0\n",
              "2747    0.0\n",
              "898     0.0\n",
              "765     0.0\n",
              "1100    0.0\n",
              "Name: labels, dtype: float64"
            ]
          },
          "metadata": {
            "tags": []
          },
          "execution_count": 472
        }
      ]
    },
    {
      "cell_type": "code",
      "metadata": {
        "id": "LQpxY8Kjeh9H",
        "colab_type": "code",
        "colab": {}
      },
      "source": [
        "from sklearn.utils import compute_class_weight\n",
        "def get_sample_weights(y):\n",
        "      y = y.astype(int)  # compute_class_weight needs int labels\n",
        "      class_weights = compute_class_weight('balanced', np.unique(y), y)\n",
        "\n",
        "      print(\"real class weights are {}\".format(class_weights), np.unique(y))\n",
        "      print(\"value_counts\", np.unique(y, return_counts=True))\n",
        "      sample_weights = y.copy().astype(float)\n",
        "      for i in np.unique(y):\n",
        "          sample_weights[sample_weights == i] = class_weights[i]  # if i == 2 else 0.8 * class_weights[i]\n",
        "            # sample_weights = np.where(sample_weights == i, class_weights[int(i)], y_)\n",
        "\n",
        "      return sample_weights\n"
      ],
      "execution_count": 473,
      "outputs": []
    },
    {
      "cell_type": "code",
      "metadata": {
        "id": "iXhEiJnO28kQ",
        "colab_type": "code",
        "colab": {
          "base_uri": "https://localhost:8080/",
          "height": 259
        },
        "outputId": "0b167777-e8cb-462c-fc90-5f3b3c9b9d55"
      },
      "source": [
        "get_sample_weights(train_labels)"
      ],
      "execution_count": 474,
      "outputs": [
        {
          "output_type": "stream",
          "text": [
            "real class weights are [1.13425926 0.89416058] [0 1]\n",
            "value_counts (array([0, 1]), array([ 864, 1096]))\n"
          ],
          "name": "stdout"
        },
        {
          "output_type": "execute_result",
          "data": {
            "text/plain": [
              "1856    0.894161\n",
              "2747    1.134259\n",
              "898     1.134259\n",
              "765     1.134259\n",
              "1100    1.134259\n",
              "          ...   \n",
              "2051    0.894161\n",
              "1301    0.894161\n",
              "2192    0.894161\n",
              "1640    0.894161\n",
              "2882    0.894161\n",
              "Name: labels, Length: 1960, dtype: float64"
            ]
          },
          "metadata": {
            "tags": []
          },
          "execution_count": 474
        }
      ]
    },
    {
      "cell_type": "code",
      "metadata": {
        "id": "EmTtLI6ufD7f",
        "colab_type": "code",
        "colab": {
          "base_uri": "https://localhost:8080/",
          "height": 51
        },
        "outputId": "eaebd36d-0084-4794-dbe2-b9cf2c55c6e1"
      },
      "source": [
        "SAMPLE_WEIGHT=get_sample_weights(train_labels)"
      ],
      "execution_count": 475,
      "outputs": [
        {
          "output_type": "stream",
          "text": [
            "real class weights are [1.13425926 0.89416058] [0 1]\n",
            "value_counts (array([0, 1]), array([ 864, 1096]))\n"
          ],
          "name": "stdout"
        }
      ]
    },
    {
      "cell_type": "code",
      "metadata": {
        "id": "ft6KC349cvWN",
        "colab_type": "code",
        "colab": {}
      },
      "source": [
        "train_stats = train_dataset.describe()\n",
        "train_stats = train_stats.transpose()"
      ],
      "execution_count": 476,
      "outputs": []
    },
    {
      "cell_type": "code",
      "metadata": {
        "id": "zMEH1r2ya1UM",
        "colab_type": "code",
        "colab": {}
      },
      "source": [
        "def norm(x):\n",
        "  return (x - train_stats['mean']) / train_stats['std']\n",
        "normed_train_data = norm(train_dataset)\n",
        "normed_test_data = norm(test_dataset)"
      ],
      "execution_count": 477,
      "outputs": []
    },
    {
      "cell_type": "code",
      "metadata": {
        "id": "QZQxTHBAGIJY",
        "colab_type": "code",
        "colab": {
          "base_uri": "https://localhost:8080/",
          "height": 363
        },
        "outputId": "c91bffb3-218d-4f2c-80ba-c554d9f8e00b"
      },
      "source": [
        "from sklearn.feature_selection import SelectKBest, f_classif, mutual_info_classif\n",
        "from operator import itemgetter\n",
        "\n",
        "k=20\n",
        "list_features = list(normed_train_data.columns)\n",
        "select_k_best = SelectKBest(f_classif, k=k)\n",
        "select_k_best.fit(normed_train_data, train_labels)\n",
        "selected_features_anova = itemgetter(*select_k_best.get_support(indices=True))(list_features)\n",
        "\n",
        "selected_features_anova"
      ],
      "execution_count": 478,
      "outputs": [
        {
          "output_type": "execute_result",
          "data": {
            "text/plain": [
              "('rsi_40',\n",
              " 'wr_20',\n",
              " 'trix_10',\n",
              " 'trix_15',\n",
              " 'macd10',\n",
              " 'macd15',\n",
              " 'macd20',\n",
              " 'macd40',\n",
              " 'cci_25',\n",
              " 'kst_20',\n",
              " 'kst_40',\n",
              " 'bb_l20',\n",
              " 'realised_vol_10',\n",
              " 'realised_vol_20',\n",
              " 'realised_vol_40',\n",
              " 'vix_level',\n",
              " 'cmf_10',\n",
              " 'cmf_15',\n",
              " 'cmf_20',\n",
              " 'curve')"
            ]
          },
          "metadata": {
            "tags": []
          },
          "execution_count": 478
        }
      ]
    },
    {
      "cell_type": "code",
      "metadata": {
        "id": "UoGj_iK6JdDy",
        "colab_type": "code",
        "colab": {
          "base_uri": "https://localhost:8080/",
          "height": 363
        },
        "outputId": "2717ab47-17cd-4599-e43f-873ba3618c72"
      },
      "source": [
        "select_k_best = SelectKBest(mutual_info_classif, k=k)\n",
        "select_k_best.fit(normed_train_data, train_labels)\n",
        "selected_features_mic = itemgetter(*select_k_best.get_support(indices=True))(list_features)\n",
        "selected_features_mic"
      ],
      "execution_count": 479,
      "outputs": [
        {
          "output_type": "execute_result",
          "data": {
            "text/plain": [
              "('rsi_10',\n",
              " 'rsi_20',\n",
              " 'mfi_10',\n",
              " 'mfi_20',\n",
              " 'roc_1',\n",
              " 'roc_5',\n",
              " 'roc_20',\n",
              " 'trix_15',\n",
              " 'trix_40',\n",
              " 'cci_15',\n",
              " 'bb_h20',\n",
              " 'realised_vol_10',\n",
              " 'realised_vol_20',\n",
              " 'realised_vol_40',\n",
              " 'vix_level',\n",
              " 'forcei_15',\n",
              " 'forcei_20',\n",
              " 'forcei_40',\n",
              " 'cmf_15',\n",
              " 'curve')"
            ]
          },
          "metadata": {
            "tags": []
          },
          "execution_count": 479
        }
      ]
    },
    {
      "cell_type": "code",
      "metadata": {
        "id": "VS_4c6YyMHl9",
        "colab_type": "code",
        "colab": {
          "base_uri": "https://localhost:8080/",
          "height": 226
        },
        "outputId": "03c34496-846c-4172-9ffd-51ffeafd13ba"
      },
      "source": [
        "list_features = list(normed_train_data.columns)\n",
        "feat_idx = []\n",
        "for c in selected_features_mic:\n",
        "      feat_idx.append(list_features.index(c))\n",
        "\n",
        "feat_idx = sorted(feat_idx)\n",
        "X_train_new=normed_train_data.iloc[:, feat_idx]\n",
        "X_test_new=normed_test_data.iloc[:, feat_idx]\n",
        "#kbest=SelectKBest(f_classif, k=10)\n",
        "#X_train_new = kbest.fit_transform(normed_train_data, train_labels)\n",
        "#X_test_new = kbest.transform(normed_test_data)\n",
        "\n",
        "X_test_new.shape\n",
        "X_test_new.head()"
      ],
      "execution_count": 480,
      "outputs": [
        {
          "output_type": "execute_result",
          "data": {
            "text/html": [
              "<div>\n",
              "<style scoped>\n",
              "    .dataframe tbody tr th:only-of-type {\n",
              "        vertical-align: middle;\n",
              "    }\n",
              "\n",
              "    .dataframe tbody tr th {\n",
              "        vertical-align: top;\n",
              "    }\n",
              "\n",
              "    .dataframe thead th {\n",
              "        text-align: right;\n",
              "    }\n",
              "</style>\n",
              "<table border=\"1\" class=\"dataframe\">\n",
              "  <thead>\n",
              "    <tr style=\"text-align: right;\">\n",
              "      <th></th>\n",
              "      <th>rsi_10</th>\n",
              "      <th>rsi_20</th>\n",
              "      <th>mfi_10</th>\n",
              "      <th>mfi_20</th>\n",
              "      <th>roc_1</th>\n",
              "      <th>roc_5</th>\n",
              "      <th>roc_20</th>\n",
              "      <th>trix_15</th>\n",
              "      <th>trix_40</th>\n",
              "      <th>cci_15</th>\n",
              "      <th>bb_h20</th>\n",
              "      <th>realised_vol_10</th>\n",
              "      <th>realised_vol_20</th>\n",
              "      <th>realised_vol_40</th>\n",
              "      <th>vix_level</th>\n",
              "      <th>forcei_15</th>\n",
              "      <th>forcei_20</th>\n",
              "      <th>forcei_40</th>\n",
              "      <th>cmf_15</th>\n",
              "      <th>curve</th>\n",
              "    </tr>\n",
              "  </thead>\n",
              "  <tbody>\n",
              "    <tr>\n",
              "      <th>445</th>\n",
              "      <td>1.473545</td>\n",
              "      <td>0.424727</td>\n",
              "      <td>2.046190</td>\n",
              "      <td>0.042554</td>\n",
              "      <td>-0.302996</td>\n",
              "      <td>0.538344</td>\n",
              "      <td>0.125121</td>\n",
              "      <td>0.055951</td>\n",
              "      <td>0.590913</td>\n",
              "      <td>1.238605</td>\n",
              "      <td>-0.262044</td>\n",
              "      <td>-0.305450</td>\n",
              "      <td>-0.524884</td>\n",
              "      <td>-0.616337</td>\n",
              "      <td>0.445087</td>\n",
              "      <td>0.314448</td>\n",
              "      <td>0.314448</td>\n",
              "      <td>0.314448</td>\n",
              "      <td>-0.332522</td>\n",
              "      <td>2.013397</td>\n",
              "    </tr>\n",
              "    <tr>\n",
              "      <th>448</th>\n",
              "      <td>1.014410</td>\n",
              "      <td>0.596838</td>\n",
              "      <td>0.904895</td>\n",
              "      <td>0.147968</td>\n",
              "      <td>0.315614</td>\n",
              "      <td>0.811985</td>\n",
              "      <td>0.365990</td>\n",
              "      <td>0.227426</td>\n",
              "      <td>0.564411</td>\n",
              "      <td>0.738125</td>\n",
              "      <td>-0.262044</td>\n",
              "      <td>-0.284153</td>\n",
              "      <td>-0.610881</td>\n",
              "      <td>-0.658496</td>\n",
              "      <td>0.226020</td>\n",
              "      <td>0.181683</td>\n",
              "      <td>0.181683</td>\n",
              "      <td>0.181683</td>\n",
              "      <td>1.182530</td>\n",
              "      <td>2.093196</td>\n",
              "    </tr>\n",
              "    <tr>\n",
              "      <th>452</th>\n",
              "      <td>0.604084</td>\n",
              "      <td>0.644698</td>\n",
              "      <td>0.837423</td>\n",
              "      <td>0.683720</td>\n",
              "      <td>0.777383</td>\n",
              "      <td>0.431303</td>\n",
              "      <td>0.799809</td>\n",
              "      <td>0.384487</td>\n",
              "      <td>0.546650</td>\n",
              "      <td>1.042409</td>\n",
              "      <td>-0.262044</td>\n",
              "      <td>0.094247</td>\n",
              "      <td>-0.494804</td>\n",
              "      <td>-0.675027</td>\n",
              "      <td>0.136238</td>\n",
              "      <td>0.323167</td>\n",
              "      <td>0.323167</td>\n",
              "      <td>0.323167</td>\n",
              "      <td>1.248340</td>\n",
              "      <td>2.006838</td>\n",
              "    </tr>\n",
              "    <tr>\n",
              "      <th>469</th>\n",
              "      <td>0.639552</td>\n",
              "      <td>-0.556265</td>\n",
              "      <td>1.539068</td>\n",
              "      <td>0.509921</td>\n",
              "      <td>1.031964</td>\n",
              "      <td>1.038809</td>\n",
              "      <td>-0.558945</td>\n",
              "      <td>-0.768114</td>\n",
              "      <td>0.177954</td>\n",
              "      <td>0.593250</td>\n",
              "      <td>-0.262044</td>\n",
              "      <td>0.118225</td>\n",
              "      <td>0.520881</td>\n",
              "      <td>-0.074739</td>\n",
              "      <td>1.639183</td>\n",
              "      <td>0.535047</td>\n",
              "      <td>0.535047</td>\n",
              "      <td>0.535047</td>\n",
              "      <td>-1.214792</td>\n",
              "      <td>1.836308</td>\n",
              "    </tr>\n",
              "    <tr>\n",
              "      <th>470</th>\n",
              "      <td>0.550966</td>\n",
              "      <td>-0.594972</td>\n",
              "      <td>1.162671</td>\n",
              "      <td>0.461768</td>\n",
              "      <td>-0.365543</td>\n",
              "      <td>0.807102</td>\n",
              "      <td>-0.405499</td>\n",
              "      <td>-0.728537</td>\n",
              "      <td>0.151700</td>\n",
              "      <td>0.700055</td>\n",
              "      <td>-0.262044</td>\n",
              "      <td>0.130615</td>\n",
              "      <td>0.477482</td>\n",
              "      <td>-0.078019</td>\n",
              "      <td>1.531445</td>\n",
              "      <td>0.298649</td>\n",
              "      <td>0.298649</td>\n",
              "      <td>0.298649</td>\n",
              "      <td>-1.265846</td>\n",
              "      <td>1.902990</td>\n",
              "    </tr>\n",
              "  </tbody>\n",
              "</table>\n",
              "</div>"
            ],
            "text/plain": [
              "       rsi_10    rsi_20    mfi_10  ...  forcei_40    cmf_15     curve\n",
              "445  1.473545  0.424727  2.046190  ...   0.314448 -0.332522  2.013397\n",
              "448  1.014410  0.596838  0.904895  ...   0.181683  1.182530  2.093196\n",
              "452  0.604084  0.644698  0.837423  ...   0.323167  1.248340  2.006838\n",
              "469  0.639552 -0.556265  1.539068  ...   0.535047 -1.214792  1.836308\n",
              "470  0.550966 -0.594972  1.162671  ...   0.298649 -1.265846  1.902990\n",
              "\n",
              "[5 rows x 20 columns]"
            ]
          },
          "metadata": {
            "tags": []
          },
          "execution_count": 480
        }
      ]
    },
    {
      "cell_type": "code",
      "metadata": {
        "id": "1Y6IeZLPdDbh",
        "colab_type": "code",
        "colab": {}
      },
      "source": [
        "def build_model(hidden_dim,dropout=0.5):\n",
        "    ## input layer\n",
        "    inputs=tf.keras.Input(shape=(X_train_new.shape[1],))\n",
        "\n",
        "\n",
        "    h1= tf.keras.layers.Dense(units=hidden_dim,activation='relu')(inputs)\n",
        "    h2= tf.keras.layers.Dropout(dropout)(h1)\n",
        "    h3= tf.keras.layers.Dense(units=hidden_dim*2,activation='relu')(h2)\n",
        "    h4= tf.keras.layers.Dropout(dropout)(h3)\n",
        "    h5= tf.keras.layers.Dense(units=hidden_dim*2,activation='relu')(h4)\n",
        "    h6= tf.keras.layers.Dropout(dropout)(h5)\n",
        "    h7= tf.keras.layers.Dense(units=hidden_dim,activation='relu')(h6)\n",
        "\n",
        "    ##output\n",
        "    outputs=tf.keras.layers.Dense(units=2,activation='softmax')(h7)\n",
        "\n",
        "    return tf.keras.Model(inputs=inputs, outputs=outputs)"
      ],
      "execution_count": 481,
      "outputs": []
    },
    {
      "cell_type": "code",
      "metadata": {
        "id": "YvYU19fefqf7",
        "colab_type": "code",
        "colab": {}
      },
      "source": [
        "tf.random.set_seed(1)\n",
        "\n",
        "criterion = tf.keras.losses.sparse_categorical_crossentropy\n",
        "\n",
        "optimizer = tf.keras.optimizers.Adam(learning_rate=0.001)\n",
        "\n",
        "model = build_model(hidden_dim=64)\n",
        "\n",
        "model.compile(optimizer=optimizer,loss=criterion,metrics=['accuracy'])"
      ],
      "execution_count": 482,
      "outputs": []
    },
    {
      "cell_type": "code",
      "metadata": {
        "id": "2RjdYWf5gX4x",
        "colab_type": "code",
        "colab": {
          "base_uri": "https://localhost:8080/",
          "height": 190
        },
        "outputId": "1745465b-396c-4c0b-cb49-91865b593fca"
      },
      "source": [
        "example_batch = X_train_new[:10]\n",
        "example_result = model.predict(example_batch)\n",
        "example_result"
      ],
      "execution_count": 483,
      "outputs": [
        {
          "output_type": "execute_result",
          "data": {
            "text/plain": [
              "array([[0.586402  , 0.413598  ],\n",
              "       [0.50468314, 0.4953169 ],\n",
              "       [0.55996644, 0.44003353],\n",
              "       [0.54908913, 0.45091087],\n",
              "       [0.5585241 , 0.44147593],\n",
              "       [0.5579984 , 0.4420016 ],\n",
              "       [0.5519473 , 0.4480527 ],\n",
              "       [0.48483318, 0.51516676],\n",
              "       [0.49603182, 0.5039682 ],\n",
              "       [0.5969391 , 0.40306088]], dtype=float32)"
            ]
          },
          "metadata": {
            "tags": []
          },
          "execution_count": 483
        }
      ]
    },
    {
      "cell_type": "code",
      "metadata": {
        "id": "bwsZt86Vg9Fs",
        "colab_type": "code",
        "colab": {
          "base_uri": "https://localhost:8080/",
          "height": 1000
        },
        "outputId": "bc22c8c3-4dfe-4426-aa92-aa6cb3f86755"
      },
      "source": [
        "EPOCHS=200\n",
        "BATCH_SIZE=20\n",
        "\n",
        "history = model.fit(\n",
        "  X_train_new, train_labels,\n",
        "  epochs=EPOCHS, batch_size=BATCH_SIZE ,sample_weight=SAMPLE_WEIGHT,shuffle=True,validation_split = 0.2, verbose=1,\n",
        "  callbacks=[tfdocs.modeling.EpochDots()])"
      ],
      "execution_count": 484,
      "outputs": [
        {
          "output_type": "stream",
          "text": [
            "Epoch 1/200\n",
            "66/79 [========================>.....] - ETA: 0s - loss: 0.7418 - accuracy: 0.4962\n",
            "Epoch: 0, accuracy:0.4974,  loss:0.7370,  val_accuracy:0.5153,  val_loss:0.6851,  \n",
            "79/79 [==============================] - 1s 7ms/step - loss: 0.7370 - accuracy: 0.4974 - val_loss: 0.6851 - val_accuracy: 0.5153\n",
            "Epoch 2/200\n",
            "79/79 [==============================] - 0s 6ms/step - loss: 0.7038 - accuracy: 0.5338 - val_loss: 0.6816 - val_accuracy: 0.5434\n",
            "Epoch 3/200\n",
            "79/79 [==============================] - 0s 5ms/step - loss: 0.6932 - accuracy: 0.5198 - val_loss: 0.6758 - val_accuracy: 0.5867\n",
            "Epoch 4/200\n",
            "79/79 [==============================] - 0s 6ms/step - loss: 0.6872 - accuracy: 0.5497 - val_loss: 0.6745 - val_accuracy: 0.5510\n",
            "Epoch 5/200\n",
            "79/79 [==============================] - 0s 5ms/step - loss: 0.6891 - accuracy: 0.5446 - val_loss: 0.6747 - val_accuracy: 0.5561\n",
            "Epoch 6/200\n",
            "79/79 [==============================] - 0s 6ms/step - loss: 0.6821 - accuracy: 0.5529 - val_loss: 0.6718 - val_accuracy: 0.5536\n",
            "Epoch 7/200\n",
            "79/79 [==============================] - 0s 6ms/step - loss: 0.6652 - accuracy: 0.5804 - val_loss: 0.6639 - val_accuracy: 0.5969\n",
            "Epoch 8/200\n",
            "79/79 [==============================] - 0s 5ms/step - loss: 0.6662 - accuracy: 0.5931 - val_loss: 0.6634 - val_accuracy: 0.5867\n",
            "Epoch 9/200\n",
            "79/79 [==============================] - 0s 5ms/step - loss: 0.6712 - accuracy: 0.5797 - val_loss: 0.6609 - val_accuracy: 0.5816\n",
            "Epoch 10/200\n",
            "79/79 [==============================] - 0s 5ms/step - loss: 0.6572 - accuracy: 0.6065 - val_loss: 0.6531 - val_accuracy: 0.6097\n",
            "Epoch 11/200\n",
            "79/79 [==============================] - 0s 6ms/step - loss: 0.6541 - accuracy: 0.5976 - val_loss: 0.6517 - val_accuracy: 0.6148\n",
            "Epoch 12/200\n",
            "79/79 [==============================] - 0s 5ms/step - loss: 0.6564 - accuracy: 0.6078 - val_loss: 0.6479 - val_accuracy: 0.5995\n",
            "Epoch 13/200\n",
            "79/79 [==============================] - 0s 5ms/step - loss: 0.6389 - accuracy: 0.6231 - val_loss: 0.6428 - val_accuracy: 0.6173\n",
            "Epoch 14/200\n",
            "79/79 [==============================] - 0s 5ms/step - loss: 0.6514 - accuracy: 0.6276 - val_loss: 0.6455 - val_accuracy: 0.6352\n",
            "Epoch 15/200\n",
            "79/79 [==============================] - 0s 5ms/step - loss: 0.6378 - accuracy: 0.6154 - val_loss: 0.6362 - val_accuracy: 0.6224\n",
            "Epoch 16/200\n",
            "79/79 [==============================] - 0s 5ms/step - loss: 0.6306 - accuracy: 0.6371 - val_loss: 0.6270 - val_accuracy: 0.6173\n",
            "Epoch 17/200\n",
            "79/79 [==============================] - 0s 5ms/step - loss: 0.6215 - accuracy: 0.6409 - val_loss: 0.6239 - val_accuracy: 0.6276\n",
            "Epoch 18/200\n",
            "79/79 [==============================] - 0s 5ms/step - loss: 0.6254 - accuracy: 0.6562 - val_loss: 0.6282 - val_accuracy: 0.6352\n",
            "Epoch 19/200\n",
            "79/79 [==============================] - 0s 5ms/step - loss: 0.6247 - accuracy: 0.6467 - val_loss: 0.6278 - val_accuracy: 0.6301\n",
            "Epoch 20/200\n",
            "79/79 [==============================] - 0s 6ms/step - loss: 0.6308 - accuracy: 0.6550 - val_loss: 0.6317 - val_accuracy: 0.6454\n",
            "Epoch 21/200\n",
            "79/79 [==============================] - 0s 5ms/step - loss: 0.6200 - accuracy: 0.6607 - val_loss: 0.6233 - val_accuracy: 0.6454\n",
            "Epoch 22/200\n",
            "79/79 [==============================] - 0s 6ms/step - loss: 0.6165 - accuracy: 0.6652 - val_loss: 0.6148 - val_accuracy: 0.6607\n",
            "Epoch 23/200\n",
            "79/79 [==============================] - 0s 5ms/step - loss: 0.5975 - accuracy: 0.6728 - val_loss: 0.6129 - val_accuracy: 0.6607\n",
            "Epoch 24/200\n",
            "79/79 [==============================] - 0s 6ms/step - loss: 0.6085 - accuracy: 0.6684 - val_loss: 0.6106 - val_accuracy: 0.6658\n",
            "Epoch 25/200\n",
            "79/79 [==============================] - 0s 5ms/step - loss: 0.5986 - accuracy: 0.6690 - val_loss: 0.6038 - val_accuracy: 0.6607\n",
            "Epoch 26/200\n",
            "79/79 [==============================] - 0s 5ms/step - loss: 0.5966 - accuracy: 0.6786 - val_loss: 0.6095 - val_accuracy: 0.6556\n",
            "Epoch 27/200\n",
            "79/79 [==============================] - 0s 6ms/step - loss: 0.5924 - accuracy: 0.6907 - val_loss: 0.6033 - val_accuracy: 0.6633\n",
            "Epoch 28/200\n",
            "79/79 [==============================] - 0s 5ms/step - loss: 0.5984 - accuracy: 0.6881 - val_loss: 0.6034 - val_accuracy: 0.6735\n",
            "Epoch 29/200\n",
            "79/79 [==============================] - 0s 5ms/step - loss: 0.5790 - accuracy: 0.7047 - val_loss: 0.5952 - val_accuracy: 0.6786\n",
            "Epoch 30/200\n",
            "79/79 [==============================] - 0s 6ms/step - loss: 0.5937 - accuracy: 0.6716 - val_loss: 0.6025 - val_accuracy: 0.6607\n",
            "Epoch 31/200\n",
            "79/79 [==============================] - 0s 6ms/step - loss: 0.5912 - accuracy: 0.6869 - val_loss: 0.5950 - val_accuracy: 0.6837\n",
            "Epoch 32/200\n",
            "79/79 [==============================] - 0s 6ms/step - loss: 0.5956 - accuracy: 0.6964 - val_loss: 0.5966 - val_accuracy: 0.6760\n",
            "Epoch 33/200\n",
            "79/79 [==============================] - 0s 5ms/step - loss: 0.5674 - accuracy: 0.6983 - val_loss: 0.5998 - val_accuracy: 0.6633\n",
            "Epoch 34/200\n",
            "79/79 [==============================] - 0s 6ms/step - loss: 0.5709 - accuracy: 0.6811 - val_loss: 0.5834 - val_accuracy: 0.6709\n",
            "Epoch 35/200\n",
            "79/79 [==============================] - 0s 6ms/step - loss: 0.5652 - accuracy: 0.6990 - val_loss: 0.5894 - val_accuracy: 0.6837\n",
            "Epoch 36/200\n",
            "79/79 [==============================] - 0s 5ms/step - loss: 0.5592 - accuracy: 0.7302 - val_loss: 0.5849 - val_accuracy: 0.6837\n",
            "Epoch 37/200\n",
            "79/79 [==============================] - 0s 5ms/step - loss: 0.5699 - accuracy: 0.7022 - val_loss: 0.5816 - val_accuracy: 0.6811\n",
            "Epoch 38/200\n",
            "79/79 [==============================] - 0s 5ms/step - loss: 0.5566 - accuracy: 0.7168 - val_loss: 0.5855 - val_accuracy: 0.6633\n",
            "Epoch 39/200\n",
            "79/79 [==============================] - 0s 6ms/step - loss: 0.5668 - accuracy: 0.6996 - val_loss: 0.5799 - val_accuracy: 0.6709\n",
            "Epoch 40/200\n",
            "79/79 [==============================] - 0s 5ms/step - loss: 0.5639 - accuracy: 0.6964 - val_loss: 0.5786 - val_accuracy: 0.6735\n",
            "Epoch 41/200\n",
            "79/79 [==============================] - 0s 6ms/step - loss: 0.5444 - accuracy: 0.7232 - val_loss: 0.5678 - val_accuracy: 0.6709\n",
            "Epoch 42/200\n",
            "79/79 [==============================] - 0s 6ms/step - loss: 0.5481 - accuracy: 0.7117 - val_loss: 0.5666 - val_accuracy: 0.6888\n",
            "Epoch 43/200\n",
            "79/79 [==============================] - 0s 5ms/step - loss: 0.5522 - accuracy: 0.7232 - val_loss: 0.5661 - val_accuracy: 0.6913\n",
            "Epoch 44/200\n",
            "79/79 [==============================] - 0s 5ms/step - loss: 0.5222 - accuracy: 0.7392 - val_loss: 0.5508 - val_accuracy: 0.7168\n",
            "Epoch 45/200\n",
            "79/79 [==============================] - 0s 5ms/step - loss: 0.5610 - accuracy: 0.7105 - val_loss: 0.5545 - val_accuracy: 0.7092\n",
            "Epoch 46/200\n",
            "79/79 [==============================] - 0s 5ms/step - loss: 0.5455 - accuracy: 0.7149 - val_loss: 0.5615 - val_accuracy: 0.7015\n",
            "Epoch 47/200\n",
            "79/79 [==============================] - 0s 5ms/step - loss: 0.5615 - accuracy: 0.7143 - val_loss: 0.5656 - val_accuracy: 0.7041\n",
            "Epoch 48/200\n",
            "79/79 [==============================] - 0s 5ms/step - loss: 0.5381 - accuracy: 0.7226 - val_loss: 0.5537 - val_accuracy: 0.7219\n",
            "Epoch 49/200\n",
            "79/79 [==============================] - 0s 5ms/step - loss: 0.5417 - accuracy: 0.7245 - val_loss: 0.5583 - val_accuracy: 0.7245\n",
            "Epoch 50/200\n",
            "79/79 [==============================] - 0s 5ms/step - loss: 0.5382 - accuracy: 0.7251 - val_loss: 0.5500 - val_accuracy: 0.7117\n",
            "Epoch 51/200\n",
            "79/79 [==============================] - 0s 5ms/step - loss: 0.5346 - accuracy: 0.7328 - val_loss: 0.5546 - val_accuracy: 0.7168\n",
            "Epoch 52/200\n",
            "79/79 [==============================] - 0s 5ms/step - loss: 0.5284 - accuracy: 0.7270 - val_loss: 0.5481 - val_accuracy: 0.7194\n",
            "Epoch 53/200\n",
            "79/79 [==============================] - 0s 5ms/step - loss: 0.5320 - accuracy: 0.7321 - val_loss: 0.5549 - val_accuracy: 0.6990\n",
            "Epoch 54/200\n",
            "79/79 [==============================] - 0s 5ms/step - loss: 0.5165 - accuracy: 0.7366 - val_loss: 0.5423 - val_accuracy: 0.7117\n",
            "Epoch 55/200\n",
            "79/79 [==============================] - 0s 5ms/step - loss: 0.5369 - accuracy: 0.7423 - val_loss: 0.5446 - val_accuracy: 0.7143\n",
            "Epoch 56/200\n",
            "79/79 [==============================] - 0s 5ms/step - loss: 0.5154 - accuracy: 0.7379 - val_loss: 0.5487 - val_accuracy: 0.6939\n",
            "Epoch 57/200\n",
            "79/79 [==============================] - 0s 5ms/step - loss: 0.5068 - accuracy: 0.7353 - val_loss: 0.5373 - val_accuracy: 0.7117\n",
            "Epoch 58/200\n",
            "79/79 [==============================] - 0s 5ms/step - loss: 0.5183 - accuracy: 0.7538 - val_loss: 0.5403 - val_accuracy: 0.7168\n",
            "Epoch 59/200\n",
            "79/79 [==============================] - 0s 5ms/step - loss: 0.4939 - accuracy: 0.7570 - val_loss: 0.5579 - val_accuracy: 0.6862\n",
            "Epoch 60/200\n",
            "79/79 [==============================] - 0s 6ms/step - loss: 0.5150 - accuracy: 0.7417 - val_loss: 0.5444 - val_accuracy: 0.7092\n",
            "Epoch 61/200\n",
            "79/79 [==============================] - 0s 5ms/step - loss: 0.5064 - accuracy: 0.7481 - val_loss: 0.5295 - val_accuracy: 0.7296\n",
            "Epoch 62/200\n",
            "79/79 [==============================] - 0s 5ms/step - loss: 0.5145 - accuracy: 0.7455 - val_loss: 0.5431 - val_accuracy: 0.7015\n",
            "Epoch 63/200\n",
            "79/79 [==============================] - 0s 5ms/step - loss: 0.5051 - accuracy: 0.7430 - val_loss: 0.5387 - val_accuracy: 0.7092\n",
            "Epoch 64/200\n",
            "79/79 [==============================] - 0s 5ms/step - loss: 0.5083 - accuracy: 0.7589 - val_loss: 0.5493 - val_accuracy: 0.6990\n",
            "Epoch 65/200\n",
            "79/79 [==============================] - 0s 5ms/step - loss: 0.5022 - accuracy: 0.7526 - val_loss: 0.5523 - val_accuracy: 0.6811\n",
            "Epoch 66/200\n",
            "79/79 [==============================] - 0s 5ms/step - loss: 0.5049 - accuracy: 0.7481 - val_loss: 0.5332 - val_accuracy: 0.7117\n",
            "Epoch 67/200\n",
            "79/79 [==============================] - 0s 6ms/step - loss: 0.4899 - accuracy: 0.7704 - val_loss: 0.5299 - val_accuracy: 0.7143\n",
            "Epoch 68/200\n",
            "79/79 [==============================] - 1s 8ms/step - loss: 0.5102 - accuracy: 0.7506 - val_loss: 0.5437 - val_accuracy: 0.6964\n",
            "Epoch 69/200\n",
            "79/79 [==============================] - 0s 5ms/step - loss: 0.4944 - accuracy: 0.7583 - val_loss: 0.5228 - val_accuracy: 0.7321\n",
            "Epoch 70/200\n",
            "79/79 [==============================] - 0s 5ms/step - loss: 0.4856 - accuracy: 0.7723 - val_loss: 0.5240 - val_accuracy: 0.7347\n",
            "Epoch 71/200\n",
            "79/79 [==============================] - 0s 5ms/step - loss: 0.4803 - accuracy: 0.7717 - val_loss: 0.5178 - val_accuracy: 0.7347\n",
            "Epoch 72/200\n",
            "79/79 [==============================] - 0s 5ms/step - loss: 0.4857 - accuracy: 0.7532 - val_loss: 0.5132 - val_accuracy: 0.7423\n",
            "Epoch 73/200\n",
            "79/79 [==============================] - 0s 6ms/step - loss: 0.4903 - accuracy: 0.7615 - val_loss: 0.5198 - val_accuracy: 0.7270\n",
            "Epoch 74/200\n",
            "79/79 [==============================] - 0s 6ms/step - loss: 0.4898 - accuracy: 0.7608 - val_loss: 0.5275 - val_accuracy: 0.7219\n",
            "Epoch 75/200\n",
            "79/79 [==============================] - 0s 5ms/step - loss: 0.4654 - accuracy: 0.7908 - val_loss: 0.5142 - val_accuracy: 0.7347\n",
            "Epoch 76/200\n",
            "79/79 [==============================] - 0s 6ms/step - loss: 0.4718 - accuracy: 0.7819 - val_loss: 0.5062 - val_accuracy: 0.7449\n",
            "Epoch 77/200\n",
            "79/79 [==============================] - 0s 5ms/step - loss: 0.4632 - accuracy: 0.7851 - val_loss: 0.5002 - val_accuracy: 0.7577\n",
            "Epoch 78/200\n",
            "79/79 [==============================] - 0s 6ms/step - loss: 0.4659 - accuracy: 0.7864 - val_loss: 0.5318 - val_accuracy: 0.7219\n",
            "Epoch 79/200\n",
            "79/79 [==============================] - 0s 5ms/step - loss: 0.4854 - accuracy: 0.7628 - val_loss: 0.5193 - val_accuracy: 0.7245\n",
            "Epoch 80/200\n",
            "79/79 [==============================] - 0s 5ms/step - loss: 0.4582 - accuracy: 0.7908 - val_loss: 0.5220 - val_accuracy: 0.7296\n",
            "Epoch 81/200\n",
            "79/79 [==============================] - 0s 6ms/step - loss: 0.4783 - accuracy: 0.7819 - val_loss: 0.5210 - val_accuracy: 0.7117\n",
            "Epoch 82/200\n",
            "79/79 [==============================] - 0s 6ms/step - loss: 0.4713 - accuracy: 0.7659 - val_loss: 0.5222 - val_accuracy: 0.7398\n",
            "Epoch 83/200\n",
            "79/79 [==============================] - 0s 5ms/step - loss: 0.4661 - accuracy: 0.7812 - val_loss: 0.5172 - val_accuracy: 0.7372\n",
            "Epoch 84/200\n",
            "79/79 [==============================] - 0s 5ms/step - loss: 0.4711 - accuracy: 0.7819 - val_loss: 0.5223 - val_accuracy: 0.7168\n",
            "Epoch 85/200\n",
            "79/79 [==============================] - 0s 5ms/step - loss: 0.4436 - accuracy: 0.7940 - val_loss: 0.5121 - val_accuracy: 0.7449\n",
            "Epoch 86/200\n",
            "79/79 [==============================] - 0s 5ms/step - loss: 0.4677 - accuracy: 0.7781 - val_loss: 0.5347 - val_accuracy: 0.7219\n",
            "Epoch 87/200\n",
            "79/79 [==============================] - 0s 5ms/step - loss: 0.4765 - accuracy: 0.7793 - val_loss: 0.5158 - val_accuracy: 0.7398\n",
            "Epoch 88/200\n",
            "79/79 [==============================] - 0s 5ms/step - loss: 0.4562 - accuracy: 0.7895 - val_loss: 0.5404 - val_accuracy: 0.7015\n",
            "Epoch 89/200\n",
            "79/79 [==============================] - 0s 6ms/step - loss: 0.4723 - accuracy: 0.7742 - val_loss: 0.5388 - val_accuracy: 0.6990\n",
            "Epoch 90/200\n",
            "79/79 [==============================] - 0s 5ms/step - loss: 0.4544 - accuracy: 0.7870 - val_loss: 0.5408 - val_accuracy: 0.7041\n",
            "Epoch 91/200\n",
            "79/79 [==============================] - 0s 6ms/step - loss: 0.4600 - accuracy: 0.7838 - val_loss: 0.5088 - val_accuracy: 0.7423\n",
            "Epoch 92/200\n",
            "79/79 [==============================] - 0s 5ms/step - loss: 0.4509 - accuracy: 0.7889 - val_loss: 0.5055 - val_accuracy: 0.7449\n",
            "Epoch 93/200\n",
            "79/79 [==============================] - 0s 5ms/step - loss: 0.4486 - accuracy: 0.7838 - val_loss: 0.5149 - val_accuracy: 0.7372\n",
            "Epoch 94/200\n",
            "79/79 [==============================] - 0s 5ms/step - loss: 0.4490 - accuracy: 0.7889 - val_loss: 0.5070 - val_accuracy: 0.7449\n",
            "Epoch 95/200\n",
            "79/79 [==============================] - 0s 5ms/step - loss: 0.4471 - accuracy: 0.7895 - val_loss: 0.5201 - val_accuracy: 0.7321\n",
            "Epoch 96/200\n",
            "79/79 [==============================] - 0s 5ms/step - loss: 0.4640 - accuracy: 0.7800 - val_loss: 0.5090 - val_accuracy: 0.7500\n",
            "Epoch 97/200\n",
            "79/79 [==============================] - 0s 5ms/step - loss: 0.4408 - accuracy: 0.7972 - val_loss: 0.5307 - val_accuracy: 0.7245\n",
            "Epoch 98/200\n",
            "79/79 [==============================] - 0s 5ms/step - loss: 0.4629 - accuracy: 0.7742 - val_loss: 0.5242 - val_accuracy: 0.7219\n",
            "Epoch 99/200\n",
            "79/79 [==============================] - 0s 5ms/step - loss: 0.4442 - accuracy: 0.7966 - val_loss: 0.5379 - val_accuracy: 0.7245\n",
            "Epoch 100/200\n",
            "79/79 [==============================] - 0s 5ms/step - loss: 0.4286 - accuracy: 0.7908 - val_loss: 0.5114 - val_accuracy: 0.7474\n",
            "Epoch 101/200\n",
            "75/79 [===========================>..] - ETA: 0s - loss: 0.4416 - accuracy: 0.7967\n",
            "Epoch: 100, accuracy:0.7966,  loss:0.4438,  val_accuracy:0.7500,  val_loss:0.5024,  \n",
            "79/79 [==============================] - 0s 5ms/step - loss: 0.4438 - accuracy: 0.7966 - val_loss: 0.5024 - val_accuracy: 0.7500\n",
            "Epoch 102/200\n",
            "79/79 [==============================] - 0s 5ms/step - loss: 0.4602 - accuracy: 0.7812 - val_loss: 0.5095 - val_accuracy: 0.7551\n",
            "Epoch 103/200\n",
            "79/79 [==============================] - 0s 5ms/step - loss: 0.4205 - accuracy: 0.8182 - val_loss: 0.5393 - val_accuracy: 0.7296\n",
            "Epoch 104/200\n",
            "79/79 [==============================] - 0s 6ms/step - loss: 0.4348 - accuracy: 0.8004 - val_loss: 0.5214 - val_accuracy: 0.7398\n",
            "Epoch 105/200\n",
            "79/79 [==============================] - 0s 5ms/step - loss: 0.4268 - accuracy: 0.8023 - val_loss: 0.5093 - val_accuracy: 0.7577\n",
            "Epoch 106/200\n",
            "79/79 [==============================] - 0s 5ms/step - loss: 0.4362 - accuracy: 0.7959 - val_loss: 0.5203 - val_accuracy: 0.7551\n",
            "Epoch 107/200\n",
            "79/79 [==============================] - 0s 6ms/step - loss: 0.4259 - accuracy: 0.8010 - val_loss: 0.4970 - val_accuracy: 0.7551\n",
            "Epoch 108/200\n",
            "79/79 [==============================] - 0s 5ms/step - loss: 0.4432 - accuracy: 0.7915 - val_loss: 0.4887 - val_accuracy: 0.7679\n",
            "Epoch 109/200\n",
            "79/79 [==============================] - 0s 6ms/step - loss: 0.4307 - accuracy: 0.7959 - val_loss: 0.4984 - val_accuracy: 0.7449\n",
            "Epoch 110/200\n",
            "79/79 [==============================] - 0s 5ms/step - loss: 0.4273 - accuracy: 0.8004 - val_loss: 0.5144 - val_accuracy: 0.7372\n",
            "Epoch 111/200\n",
            "79/79 [==============================] - 0s 6ms/step - loss: 0.4316 - accuracy: 0.7940 - val_loss: 0.5064 - val_accuracy: 0.7423\n",
            "Epoch 112/200\n",
            "79/79 [==============================] - 0s 5ms/step - loss: 0.4452 - accuracy: 0.7921 - val_loss: 0.4969 - val_accuracy: 0.7474\n",
            "Epoch 113/200\n",
            "79/79 [==============================] - 0s 6ms/step - loss: 0.4250 - accuracy: 0.8042 - val_loss: 0.5077 - val_accuracy: 0.7423\n",
            "Epoch 114/200\n",
            "79/79 [==============================] - 0s 5ms/step - loss: 0.4215 - accuracy: 0.8112 - val_loss: 0.5127 - val_accuracy: 0.7449\n",
            "Epoch 115/200\n",
            "79/79 [==============================] - 0s 5ms/step - loss: 0.4168 - accuracy: 0.8087 - val_loss: 0.5113 - val_accuracy: 0.7551\n",
            "Epoch 116/200\n",
            "79/79 [==============================] - 0s 6ms/step - loss: 0.4128 - accuracy: 0.8068 - val_loss: 0.4982 - val_accuracy: 0.7577\n",
            "Epoch 117/200\n",
            "79/79 [==============================] - 0s 5ms/step - loss: 0.4265 - accuracy: 0.8061 - val_loss: 0.4950 - val_accuracy: 0.7500\n",
            "Epoch 118/200\n",
            "79/79 [==============================] - 0s 6ms/step - loss: 0.4194 - accuracy: 0.8080 - val_loss: 0.4911 - val_accuracy: 0.7500\n",
            "Epoch 119/200\n",
            "79/79 [==============================] - 0s 5ms/step - loss: 0.4259 - accuracy: 0.8182 - val_loss: 0.4709 - val_accuracy: 0.7781\n",
            "Epoch 120/200\n",
            "79/79 [==============================] - 0s 5ms/step - loss: 0.4337 - accuracy: 0.8036 - val_loss: 0.4932 - val_accuracy: 0.7474\n",
            "Epoch 121/200\n",
            "79/79 [==============================] - 0s 5ms/step - loss: 0.4204 - accuracy: 0.8017 - val_loss: 0.4984 - val_accuracy: 0.7526\n",
            "Epoch 122/200\n",
            "79/79 [==============================] - 0s 5ms/step - loss: 0.4109 - accuracy: 0.8093 - val_loss: 0.5029 - val_accuracy: 0.7628\n",
            "Epoch 123/200\n",
            "79/79 [==============================] - 0s 5ms/step - loss: 0.4315 - accuracy: 0.8017 - val_loss: 0.4805 - val_accuracy: 0.7704\n",
            "Epoch 124/200\n",
            "79/79 [==============================] - 0s 5ms/step - loss: 0.4236 - accuracy: 0.7985 - val_loss: 0.4939 - val_accuracy: 0.7730\n",
            "Epoch 125/200\n",
            "79/79 [==============================] - 0s 5ms/step - loss: 0.4038 - accuracy: 0.8310 - val_loss: 0.5075 - val_accuracy: 0.7449\n",
            "Epoch 126/200\n",
            "79/79 [==============================] - 0s 5ms/step - loss: 0.4135 - accuracy: 0.8004 - val_loss: 0.4950 - val_accuracy: 0.7653\n",
            "Epoch 127/200\n",
            "79/79 [==============================] - 0s 6ms/step - loss: 0.3976 - accuracy: 0.8189 - val_loss: 0.5008 - val_accuracy: 0.7500\n",
            "Epoch 128/200\n",
            "79/79 [==============================] - 0s 5ms/step - loss: 0.4129 - accuracy: 0.8023 - val_loss: 0.4958 - val_accuracy: 0.7602\n",
            "Epoch 129/200\n",
            "79/79 [==============================] - 0s 5ms/step - loss: 0.4046 - accuracy: 0.8176 - val_loss: 0.4928 - val_accuracy: 0.7526\n",
            "Epoch 130/200\n",
            "79/79 [==============================] - 0s 6ms/step - loss: 0.4109 - accuracy: 0.8163 - val_loss: 0.5225 - val_accuracy: 0.7372\n",
            "Epoch 131/200\n",
            "79/79 [==============================] - 0s 5ms/step - loss: 0.3991 - accuracy: 0.8106 - val_loss: 0.5110 - val_accuracy: 0.7449\n",
            "Epoch 132/200\n",
            "79/79 [==============================] - 0s 5ms/step - loss: 0.4221 - accuracy: 0.8119 - val_loss: 0.4891 - val_accuracy: 0.7526\n",
            "Epoch 133/200\n",
            "79/79 [==============================] - 0s 5ms/step - loss: 0.4026 - accuracy: 0.8329 - val_loss: 0.5076 - val_accuracy: 0.7449\n",
            "Epoch 134/200\n",
            "79/79 [==============================] - 0s 5ms/step - loss: 0.4187 - accuracy: 0.8112 - val_loss: 0.5026 - val_accuracy: 0.7526\n",
            "Epoch 135/200\n",
            "79/79 [==============================] - 0s 5ms/step - loss: 0.4080 - accuracy: 0.8195 - val_loss: 0.4934 - val_accuracy: 0.7628\n",
            "Epoch 136/200\n",
            "79/79 [==============================] - 0s 6ms/step - loss: 0.4211 - accuracy: 0.8074 - val_loss: 0.5033 - val_accuracy: 0.7551\n",
            "Epoch 137/200\n",
            "79/79 [==============================] - 0s 6ms/step - loss: 0.4059 - accuracy: 0.8195 - val_loss: 0.5071 - val_accuracy: 0.7551\n",
            "Epoch 138/200\n",
            "79/79 [==============================] - 0s 5ms/step - loss: 0.4050 - accuracy: 0.8176 - val_loss: 0.5176 - val_accuracy: 0.7423\n",
            "Epoch 139/200\n",
            "79/79 [==============================] - 0s 6ms/step - loss: 0.4072 - accuracy: 0.8151 - val_loss: 0.5375 - val_accuracy: 0.7296\n",
            "Epoch 140/200\n",
            "79/79 [==============================] - 0s 5ms/step - loss: 0.4066 - accuracy: 0.8208 - val_loss: 0.5028 - val_accuracy: 0.7474\n",
            "Epoch 141/200\n",
            "79/79 [==============================] - 0s 5ms/step - loss: 0.3920 - accuracy: 0.8342 - val_loss: 0.5206 - val_accuracy: 0.7347\n",
            "Epoch 142/200\n",
            "79/79 [==============================] - 0s 6ms/step - loss: 0.4022 - accuracy: 0.8163 - val_loss: 0.5015 - val_accuracy: 0.7398\n",
            "Epoch 143/200\n",
            "79/79 [==============================] - 0s 5ms/step - loss: 0.4061 - accuracy: 0.8227 - val_loss: 0.4843 - val_accuracy: 0.7628\n",
            "Epoch 144/200\n",
            "79/79 [==============================] - 0s 6ms/step - loss: 0.4131 - accuracy: 0.8157 - val_loss: 0.4943 - val_accuracy: 0.7526\n",
            "Epoch 145/200\n",
            "79/79 [==============================] - 0s 5ms/step - loss: 0.4023 - accuracy: 0.8253 - val_loss: 0.4919 - val_accuracy: 0.7602\n",
            "Epoch 146/200\n",
            "79/79 [==============================] - 0s 5ms/step - loss: 0.4101 - accuracy: 0.8202 - val_loss: 0.4917 - val_accuracy: 0.7449\n",
            "Epoch 147/200\n",
            "79/79 [==============================] - 0s 5ms/step - loss: 0.4014 - accuracy: 0.8246 - val_loss: 0.4926 - val_accuracy: 0.7551\n",
            "Epoch 148/200\n",
            "79/79 [==============================] - 0s 5ms/step - loss: 0.3885 - accuracy: 0.8329 - val_loss: 0.4850 - val_accuracy: 0.7526\n",
            "Epoch 149/200\n",
            "79/79 [==============================] - 0s 5ms/step - loss: 0.4034 - accuracy: 0.8208 - val_loss: 0.5024 - val_accuracy: 0.7270\n",
            "Epoch 150/200\n",
            "79/79 [==============================] - 0s 5ms/step - loss: 0.4056 - accuracy: 0.8157 - val_loss: 0.4871 - val_accuracy: 0.7577\n",
            "Epoch 151/200\n",
            "79/79 [==============================] - 0s 6ms/step - loss: 0.4177 - accuracy: 0.8029 - val_loss: 0.4878 - val_accuracy: 0.7500\n",
            "Epoch 152/200\n",
            "79/79 [==============================] - 0s 5ms/step - loss: 0.3908 - accuracy: 0.8304 - val_loss: 0.4576 - val_accuracy: 0.7806\n",
            "Epoch 153/200\n",
            "79/79 [==============================] - 0s 5ms/step - loss: 0.3982 - accuracy: 0.8259 - val_loss: 0.4866 - val_accuracy: 0.7474\n",
            "Epoch 154/200\n",
            "79/79 [==============================] - 0s 6ms/step - loss: 0.4033 - accuracy: 0.8246 - val_loss: 0.5060 - val_accuracy: 0.7449\n",
            "Epoch 155/200\n",
            "79/79 [==============================] - 0s 5ms/step - loss: 0.4016 - accuracy: 0.8221 - val_loss: 0.4767 - val_accuracy: 0.7526\n",
            "Epoch 156/200\n",
            "79/79 [==============================] - 0s 6ms/step - loss: 0.3838 - accuracy: 0.8278 - val_loss: 0.4908 - val_accuracy: 0.7602\n",
            "Epoch 157/200\n",
            "79/79 [==============================] - 0s 5ms/step - loss: 0.3925 - accuracy: 0.8265 - val_loss: 0.4936 - val_accuracy: 0.7296\n",
            "Epoch 158/200\n",
            "79/79 [==============================] - 0s 6ms/step - loss: 0.3959 - accuracy: 0.8297 - val_loss: 0.4784 - val_accuracy: 0.7730\n",
            "Epoch 159/200\n",
            "79/79 [==============================] - 0s 5ms/step - loss: 0.3849 - accuracy: 0.8291 - val_loss: 0.4844 - val_accuracy: 0.7628\n",
            "Epoch 160/200\n",
            "79/79 [==============================] - 0s 5ms/step - loss: 0.3823 - accuracy: 0.8253 - val_loss: 0.4675 - val_accuracy: 0.7704\n",
            "Epoch 161/200\n",
            "79/79 [==============================] - 0s 5ms/step - loss: 0.4050 - accuracy: 0.8323 - val_loss: 0.4702 - val_accuracy: 0.7653\n",
            "Epoch 162/200\n",
            "79/79 [==============================] - 0s 5ms/step - loss: 0.3803 - accuracy: 0.8323 - val_loss: 0.4739 - val_accuracy: 0.7653\n",
            "Epoch 163/200\n",
            "79/79 [==============================] - 0s 5ms/step - loss: 0.3824 - accuracy: 0.8323 - val_loss: 0.4790 - val_accuracy: 0.7551\n",
            "Epoch 164/200\n",
            "79/79 [==============================] - 0s 5ms/step - loss: 0.3854 - accuracy: 0.8272 - val_loss: 0.4921 - val_accuracy: 0.7398\n",
            "Epoch 165/200\n",
            "79/79 [==============================] - 0s 5ms/step - loss: 0.3874 - accuracy: 0.8335 - val_loss: 0.4658 - val_accuracy: 0.7577\n",
            "Epoch 166/200\n",
            "79/79 [==============================] - 0s 5ms/step - loss: 0.3673 - accuracy: 0.8310 - val_loss: 0.4777 - val_accuracy: 0.7730\n",
            "Epoch 167/200\n",
            "79/79 [==============================] - 0s 5ms/step - loss: 0.3728 - accuracy: 0.8374 - val_loss: 0.4710 - val_accuracy: 0.7628\n",
            "Epoch 168/200\n",
            "79/79 [==============================] - 0s 5ms/step - loss: 0.3749 - accuracy: 0.8406 - val_loss: 0.4926 - val_accuracy: 0.7551\n",
            "Epoch 169/200\n",
            "79/79 [==============================] - 0s 5ms/step - loss: 0.4107 - accuracy: 0.8087 - val_loss: 0.4682 - val_accuracy: 0.7755\n",
            "Epoch 170/200\n",
            "79/79 [==============================] - 0s 5ms/step - loss: 0.3827 - accuracy: 0.8335 - val_loss: 0.5218 - val_accuracy: 0.7500\n",
            "Epoch 171/200\n",
            "79/79 [==============================] - 0s 5ms/step - loss: 0.4130 - accuracy: 0.8151 - val_loss: 0.4841 - val_accuracy: 0.7551\n",
            "Epoch 172/200\n",
            "79/79 [==============================] - 0s 6ms/step - loss: 0.3995 - accuracy: 0.8227 - val_loss: 0.4781 - val_accuracy: 0.7577\n",
            "Epoch 173/200\n",
            "79/79 [==============================] - 0s 5ms/step - loss: 0.3822 - accuracy: 0.8329 - val_loss: 0.4756 - val_accuracy: 0.7653\n",
            "Epoch 174/200\n",
            "79/79 [==============================] - 0s 5ms/step - loss: 0.3841 - accuracy: 0.8297 - val_loss: 0.4777 - val_accuracy: 0.7755\n",
            "Epoch 175/200\n",
            "79/79 [==============================] - 0s 5ms/step - loss: 0.3727 - accuracy: 0.8386 - val_loss: 0.4814 - val_accuracy: 0.7781\n",
            "Epoch 176/200\n",
            "79/79 [==============================] - 0s 5ms/step - loss: 0.3778 - accuracy: 0.8342 - val_loss: 0.5129 - val_accuracy: 0.7679\n",
            "Epoch 177/200\n",
            "79/79 [==============================] - 0s 5ms/step - loss: 0.3719 - accuracy: 0.8335 - val_loss: 0.5127 - val_accuracy: 0.7474\n",
            "Epoch 178/200\n",
            "79/79 [==============================] - 0s 5ms/step - loss: 0.3900 - accuracy: 0.8304 - val_loss: 0.5209 - val_accuracy: 0.7423\n",
            "Epoch 179/200\n",
            "79/79 [==============================] - 0s 5ms/step - loss: 0.3685 - accuracy: 0.8367 - val_loss: 0.5304 - val_accuracy: 0.7423\n",
            "Epoch 180/200\n",
            "79/79 [==============================] - 0s 5ms/step - loss: 0.4216 - accuracy: 0.8144 - val_loss: 0.5197 - val_accuracy: 0.7194\n",
            "Epoch 181/200\n",
            "79/79 [==============================] - 0s 5ms/step - loss: 0.3707 - accuracy: 0.8393 - val_loss: 0.5011 - val_accuracy: 0.7577\n",
            "Epoch 182/200\n",
            "79/79 [==============================] - 0s 6ms/step - loss: 0.3757 - accuracy: 0.8399 - val_loss: 0.5101 - val_accuracy: 0.7526\n",
            "Epoch 183/200\n",
            "79/79 [==============================] - 0s 5ms/step - loss: 0.3753 - accuracy: 0.8329 - val_loss: 0.5258 - val_accuracy: 0.7398\n",
            "Epoch 184/200\n",
            "79/79 [==============================] - 0s 6ms/step - loss: 0.3645 - accuracy: 0.8412 - val_loss: 0.4932 - val_accuracy: 0.7500\n",
            "Epoch 185/200\n",
            "79/79 [==============================] - 0s 6ms/step - loss: 0.3572 - accuracy: 0.8450 - val_loss: 0.5069 - val_accuracy: 0.7500\n",
            "Epoch 186/200\n",
            "79/79 [==============================] - 0s 5ms/step - loss: 0.3565 - accuracy: 0.8431 - val_loss: 0.4898 - val_accuracy: 0.7628\n",
            "Epoch 187/200\n",
            "79/79 [==============================] - 0s 6ms/step - loss: 0.3862 - accuracy: 0.8323 - val_loss: 0.4823 - val_accuracy: 0.7679\n",
            "Epoch 188/200\n",
            "79/79 [==============================] - 0s 5ms/step - loss: 0.3805 - accuracy: 0.8431 - val_loss: 0.5073 - val_accuracy: 0.7500\n",
            "Epoch 189/200\n",
            "79/79 [==============================] - 0s 6ms/step - loss: 0.3721 - accuracy: 0.8284 - val_loss: 0.5074 - val_accuracy: 0.7602\n",
            "Epoch 190/200\n",
            "79/79 [==============================] - 0s 5ms/step - loss: 0.3562 - accuracy: 0.8406 - val_loss: 0.5211 - val_accuracy: 0.7526\n",
            "Epoch 191/200\n",
            "79/79 [==============================] - 0s 6ms/step - loss: 0.3868 - accuracy: 0.8323 - val_loss: 0.5128 - val_accuracy: 0.7296\n",
            "Epoch 192/200\n",
            "79/79 [==============================] - 0s 6ms/step - loss: 0.3622 - accuracy: 0.8399 - val_loss: 0.5089 - val_accuracy: 0.7449\n",
            "Epoch 193/200\n",
            "79/79 [==============================] - 0s 6ms/step - loss: 0.3605 - accuracy: 0.8412 - val_loss: 0.4966 - val_accuracy: 0.7500\n",
            "Epoch 194/200\n",
            "79/79 [==============================] - 0s 6ms/step - loss: 0.3595 - accuracy: 0.8412 - val_loss: 0.5029 - val_accuracy: 0.7372\n",
            "Epoch 195/200\n",
            "79/79 [==============================] - 0s 5ms/step - loss: 0.3777 - accuracy: 0.8380 - val_loss: 0.4936 - val_accuracy: 0.7500\n",
            "Epoch 196/200\n",
            "79/79 [==============================] - 0s 6ms/step - loss: 0.3535 - accuracy: 0.8438 - val_loss: 0.5103 - val_accuracy: 0.7551\n",
            "Epoch 197/200\n",
            "79/79 [==============================] - 0s 5ms/step - loss: 0.3618 - accuracy: 0.8399 - val_loss: 0.5119 - val_accuracy: 0.7423\n",
            "Epoch 198/200\n",
            "79/79 [==============================] - 0s 6ms/step - loss: 0.3841 - accuracy: 0.8335 - val_loss: 0.4909 - val_accuracy: 0.7577\n",
            "Epoch 199/200\n",
            "79/79 [==============================] - 0s 5ms/step - loss: 0.3513 - accuracy: 0.8508 - val_loss: 0.5202 - val_accuracy: 0.7577\n",
            "Epoch 200/200\n",
            "79/79 [==============================] - 0s 5ms/step - loss: 0.3883 - accuracy: 0.8227 - val_loss: 0.4994 - val_accuracy: 0.7577\n"
          ],
          "name": "stdout"
        }
      ]
    },
    {
      "cell_type": "code",
      "metadata": {
        "id": "ODHW1NAOqNcK",
        "colab_type": "code",
        "colab": {
          "base_uri": "https://localhost:8080/",
          "height": 206
        },
        "outputId": "db59bd7a-77c7-4ac5-b1b4-40e4180081dd"
      },
      "source": [
        "hist = pd.DataFrame(history.history)\n",
        "hist['epoch'] = history.epoch\n",
        "hist.tail()"
      ],
      "execution_count": 485,
      "outputs": [
        {
          "output_type": "execute_result",
          "data": {
            "text/html": [
              "<div>\n",
              "<style scoped>\n",
              "    .dataframe tbody tr th:only-of-type {\n",
              "        vertical-align: middle;\n",
              "    }\n",
              "\n",
              "    .dataframe tbody tr th {\n",
              "        vertical-align: top;\n",
              "    }\n",
              "\n",
              "    .dataframe thead th {\n",
              "        text-align: right;\n",
              "    }\n",
              "</style>\n",
              "<table border=\"1\" class=\"dataframe\">\n",
              "  <thead>\n",
              "    <tr style=\"text-align: right;\">\n",
              "      <th></th>\n",
              "      <th>loss</th>\n",
              "      <th>accuracy</th>\n",
              "      <th>val_loss</th>\n",
              "      <th>val_accuracy</th>\n",
              "      <th>epoch</th>\n",
              "    </tr>\n",
              "  </thead>\n",
              "  <tbody>\n",
              "    <tr>\n",
              "      <th>195</th>\n",
              "      <td>0.353529</td>\n",
              "      <td>0.843750</td>\n",
              "      <td>0.510305</td>\n",
              "      <td>0.755102</td>\n",
              "      <td>195</td>\n",
              "    </tr>\n",
              "    <tr>\n",
              "      <th>196</th>\n",
              "      <td>0.361792</td>\n",
              "      <td>0.839923</td>\n",
              "      <td>0.511882</td>\n",
              "      <td>0.742347</td>\n",
              "      <td>196</td>\n",
              "    </tr>\n",
              "    <tr>\n",
              "      <th>197</th>\n",
              "      <td>0.384143</td>\n",
              "      <td>0.833546</td>\n",
              "      <td>0.490895</td>\n",
              "      <td>0.757653</td>\n",
              "      <td>197</td>\n",
              "    </tr>\n",
              "    <tr>\n",
              "      <th>198</th>\n",
              "      <td>0.351294</td>\n",
              "      <td>0.850765</td>\n",
              "      <td>0.520228</td>\n",
              "      <td>0.757653</td>\n",
              "      <td>198</td>\n",
              "    </tr>\n",
              "    <tr>\n",
              "      <th>199</th>\n",
              "      <td>0.388334</td>\n",
              "      <td>0.822704</td>\n",
              "      <td>0.499400</td>\n",
              "      <td>0.757653</td>\n",
              "      <td>199</td>\n",
              "    </tr>\n",
              "  </tbody>\n",
              "</table>\n",
              "</div>"
            ],
            "text/plain": [
              "         loss  accuracy  val_loss  val_accuracy  epoch\n",
              "195  0.353529  0.843750  0.510305      0.755102    195\n",
              "196  0.361792  0.839923  0.511882      0.742347    196\n",
              "197  0.384143  0.833546  0.490895      0.757653    197\n",
              "198  0.351294  0.850765  0.520228      0.757653    198\n",
              "199  0.388334  0.822704  0.499400      0.757653    199"
            ]
          },
          "metadata": {
            "tags": []
          },
          "execution_count": 485
        }
      ]
    },
    {
      "cell_type": "code",
      "metadata": {
        "id": "Q3-cFZIRrMKd",
        "colab_type": "code",
        "colab": {
          "base_uri": "https://localhost:8080/",
          "height": 362
        },
        "outputId": "28cbc73d-777c-4030-cf79-530c563c03f6"
      },
      "source": [
        "import matplotlib.pyplot as plt\n",
        "\n",
        "hist=history.history\n",
        "\n",
        "fig=plt.figure(figsize=(12,5))\n",
        "ax=fig.add_subplot(1,2,1)\n",
        "ax.plot(hist['loss'],lw=3)\n",
        "ax.plot(hist['val_loss'],lw=3)\n",
        "ax.set_title('Training & Validation Loss',size=15)\n",
        "ax.set_xlabel('Epoch',size=15)\n",
        "ax.tick_params(axis='both',which='major',labelsize=15)\n",
        "ax=fig.add_subplot(1,2,2)\n",
        "ax.plot(hist['accuracy'],lw=3)\n",
        "ax.plot(hist['val_accuracy'],lw=3)\n",
        "ax.set_title('Training & Validation accuracy',size=15)\n",
        "ax.set_xlabel('Epoch',size=15)\n",
        "ax.tick_params(axis='both',which='major',labelsize=15)\n",
        "plt.show()\n",
        "\n",
        "\n"
      ],
      "execution_count": 486,
      "outputs": [
        {
          "output_type": "display_data",
          "data": {
            "image/png": "[encoded data removed]",
            "text/plain": [
              "<Figure size 864x360 with 2 Axes>"
            ]
          },
          "metadata": {
            "tags": [],
            "needs_background": "light"
          }
        }
      ]
    },
    {
      "cell_type": "code",
      "metadata": {
        "id": "eOahIbKW6AMf",
        "colab_type": "code",
        "colab": {
          "base_uri": "https://localhost:8080/",
          "height": 366
        },
        "outputId": "ff45ce41-f959-4582-ea8d-95d45665fdb6"
      },
      "source": [
        "!pip install shap"
      ],
      "execution_count": 32,
      "outputs": [
        {
          "output_type": "stream",
          "text": [
            "Collecting shap\n",
            "\u001b[?25l  Downloading https://files.pythonhosted.org/packages/a8/77/b504e43e21a2ba543a1ac4696718beb500cfa708af2fb57cb54ce299045c/shap-0.35.0.tar.gz (273kB)\n",
            "\r\u001b[K     |█▏                              | 10kB 21.7MB/s eta 0:00:01\r\u001b[K     |██▍                             | 20kB 1.7MB/s eta 0:00:01\r\u001b[K     |███▋                            | 30kB 2.2MB/s eta 0:00:01\r\u001b[K     |████▉                           | 40kB 2.5MB/s eta 0:00:01\r\u001b[K     |██████                          | 51kB 2.0MB/s eta 0:00:01\r\u001b[K     |███████▏                        | 61kB 2.3MB/s eta 0:00:01\r\u001b[K     |████████▍                       | 71kB 2.5MB/s eta 0:00:01\r\u001b[K     |█████████▋                      | 81kB 2.7MB/s eta 0:00:01\r\u001b[K     |██████████▉                     | 92kB 2.9MB/s eta 0:00:01\r\u001b[K     |████████████                    | 102kB 2.8MB/s eta 0:00:01\r\u001b[K     |█████████████▏                  | 112kB 2.8MB/s eta 0:00:01\r\u001b[K     |██████████████▍                 | 122kB 2.8MB/s eta 0:00:01\r\u001b[K     |███████████████▋                | 133kB 2.8MB/s eta 0:00:01\r\u001b[K     |████████████████▉               | 143kB 2.8MB/s eta 0:00:01\r\u001b[K     |██████████████████              | 153kB 2.8MB/s eta 0:00:01\r\u001b[K     |███████████████████▏            | 163kB 2.8MB/s eta 0:00:01\r\u001b[K     |████████████████████▍           | 174kB 2.8MB/s eta 0:00:01\r\u001b[K     |█████████████████████▋          | 184kB 2.8MB/s eta 0:00:01\r\u001b[K     |██████████████████████▉         | 194kB 2.8MB/s eta 0:00:01\r\u001b[K     |████████████████████████        | 204kB 2.8MB/s eta 0:00:01\r\u001b[K     |█████████████████████████▏      | 215kB 2.8MB/s eta 0:00:01\r\u001b[K     |██████████████████████████▍     | 225kB 2.8MB/s eta 0:00:01\r\u001b[K     |███████████████████████████▋    | 235kB 2.8MB/s eta 0:00:01\r\u001b[K     |████████████████████████████▉   | 245kB 2.8MB/s eta 0:00:01\r\u001b[K     |██████████████████████████████  | 256kB 2.8MB/s eta 0:00:01\r\u001b[K     |███████████████████████████████▏| 266kB 2.8MB/s eta 0:00:01\r\u001b[K     |████████████████████████████████| 276kB 2.8MB/s \n",
            "\u001b[?25hRequirement already satisfied: numpy in /usr/local/lib/python3.6/dist-packages (from shap) (1.18.5)\n",
            "Requirement already satisfied: scipy in /usr/local/lib/python3.6/dist-packages (from shap) (1.4.1)\n",
            "Requirement already satisfied: scikit-learn in /usr/local/lib/python3.6/dist-packages (from shap) (0.22.2.post1)\n",
            "Requirement already satisfied: pandas in /usr/local/lib/python3.6/dist-packages (from shap) (1.0.5)\n",
            "Requirement already satisfied: tqdm>4.25.0 in /usr/local/lib/python3.6/dist-packages (from shap) (4.41.1)\n",
            "Requirement already satisfied: joblib>=0.11 in /usr/local/lib/python3.6/dist-packages (from scikit-learn->shap) (0.15.1)\n",
            "Requirement already satisfied: pytz>=2017.2 in /usr/local/lib/python3.6/dist-packages (from pandas->shap) (2018.9)\n",
            "Requirement already satisfied: python-dateutil>=2.6.1 in /usr/local/lib/python3.6/dist-packages (from pandas->shap) (2.8.1)\n",
            "Requirement already satisfied: six>=1.5 in /usr/local/lib/python3.6/dist-packages (from python-dateutil>=2.6.1->pandas->shap) (1.12.0)\n",
            "Building wheels for collected packages: shap\n",
            "  Building wheel for shap (setup.py) ... \u001b[?25l\u001b[?25hdone\n",
            "  Created wheel for shap: filename=shap-0.35.0-cp36-cp36m-linux_x86_64.whl size=394130 sha256=fa7a3695c4152743202e7de8bd95b7d76cec14ad3ea03f3ef255b7369251cec7\n",
            "  Stored in directory: /root/.cache/pip/wheels/e7/f7/0f/b57055080cf8894906b3bd3616d2fc2bfd0b12d5161bcb24ac\n",
            "Successfully built shap\n",
            "Installing collected packages: shap\n",
            "Successfully installed shap-0.35.0\n"
          ],
          "name": "stdout"
        }
      ]
    },
    {
      "cell_type": "code",
      "metadata": {
        "id": "368Jn0vJ6KwX",
        "colab_type": "code",
        "colab": {}
      },
      "source": [
        "import shap\n",
        "\n",
        "explainer = shap.DeepExplainer(model, np.array(X_train_new))"
      ],
      "execution_count": 487,
      "outputs": []
    },
    {
      "cell_type": "code",
      "metadata": {
        "id": "u9u_3boZEVPn",
        "colab_type": "code",
        "colab": {}
      },
      "source": [
        "shap_values  = explainer.shap_values(np.array(X_test_new))"
      ],
      "execution_count": 488,
      "outputs": []
    },
    {
      "cell_type": "code",
      "metadata": {
        "id": "A5xcKTYcExMZ",
        "colab_type": "code",
        "colab": {
          "base_uri": "https://localhost:8080/",
          "height": 585
        },
        "outputId": "6a743aaf-4081-4ba8-9bff-38123e4c5066"
      },
      "source": [
        "shap.summary_plot(shap_values[1], X_test_new)"
      ],
      "execution_count": 489,
      "outputs": [
        {
          "output_type": "display_data",
          "data": {
            "image/png": "[encoded data removed]",
            "text/plain": [
              "<Figure size 576x684 with 2 Axes>"
            ]
          },
          "metadata": {
            "tags": [],
            "needs_background": "light"
          }
        }
      ]
    },
    {
      "cell_type": "code",
      "metadata": {
        "id": "1e2NoPn2Oump",
        "colab_type": "code",
        "colab": {
          "base_uri": "https://localhost:8080/",
          "height": 415
        },
        "outputId": "16735022-0e9b-41d5-c7d0-aa9feee43bcc"
      },
      "source": [
        "pred=model.predict(X_test_new)\n",
        "pred.argmax(axis=1)"
      ],
      "execution_count": 490,
      "outputs": [
        {
          "output_type": "execute_result",
          "data": {
            "text/plain": [
              "array([0, 0, 0, 1, 1, 1, 0, 0, 0, 0, 0, 0, 0, 0, 0, 0, 0, 1, 0, 1, 0, 0,\n",
              "       0, 0, 0, 0, 0, 0, 1, 1, 1, 1, 1, 0, 0, 0, 0, 0, 0, 0, 1, 1, 0, 0,\n",
              "       0, 0, 0, 0, 0, 0, 0, 0, 1, 1, 1, 0, 0, 0, 0, 0, 0, 0, 0, 1, 0, 0,\n",
              "       0, 0, 1, 1, 1, 1, 1, 1, 1, 1, 1, 1, 1, 1, 1, 0, 1, 1, 1, 1, 1, 1,\n",
              "       0, 1, 0, 0, 0, 1, 0, 0, 0, 0, 0, 1, 1, 1, 1, 0, 1, 1, 1, 1, 1, 1,\n",
              "       1, 1, 1, 1, 1, 0, 0, 1, 1, 1, 0, 1, 1, 1, 1, 1, 1, 0, 0, 0, 0, 1,\n",
              "       0, 1, 0, 0, 1, 1, 0, 0, 0, 1, 1, 1, 1, 1, 1, 1, 1, 1, 0, 0, 0, 0,\n",
              "       1, 1, 1, 1, 1, 1, 0, 0, 0, 0, 0, 1, 0, 0, 0, 0, 0, 0, 0, 0, 0, 0,\n",
              "       0, 0, 0, 0, 1, 1, 1, 1, 0, 1, 0, 0, 0, 0, 0, 0, 1, 1, 1, 0, 0, 1,\n",
              "       1, 0, 1, 0, 1, 0, 0, 0, 0, 1, 1, 1, 1, 0, 0, 0, 0, 0, 0, 0, 0, 0,\n",
              "       1, 1, 0, 1, 1, 1, 0, 0, 0, 0, 0, 0, 0, 0, 1, 1, 1, 0, 1, 1, 0, 0,\n",
              "       1, 1, 1, 1, 0, 0, 1, 0, 0, 0, 0, 0, 1, 0, 0, 1, 1, 1, 1, 0, 0, 0,\n",
              "       0, 0, 0, 1, 1, 0, 1, 0, 0, 0, 0, 0, 0, 0, 0, 0, 0, 0, 0, 0, 1, 1,\n",
              "       1, 0, 1, 0, 1, 1, 1, 1, 1, 1, 1, 0, 1, 1, 0, 1, 0, 1, 1, 0, 0, 0,\n",
              "       0, 1, 0, 0, 0, 0, 1, 1, 1, 1, 1, 1, 1, 1, 0, 0, 0, 0, 0, 0, 0, 0,\n",
              "       1, 0, 0, 1, 1, 0, 1, 0, 0, 0, 0, 1, 1, 1, 0, 0, 1, 0, 0, 0, 1, 1,\n",
              "       0, 0, 0, 1, 1, 0, 0, 0, 1, 1, 1, 1, 1, 1, 1, 1, 1, 1, 1, 1, 1, 1,\n",
              "       1, 1, 1, 1, 1, 1, 1, 0, 1, 1, 1, 1, 1, 1, 1, 1, 1, 1, 1, 1, 1, 1,\n",
              "       1, 1, 1, 0, 0, 0, 0, 1, 1, 1, 1, 1, 0, 0, 0, 1, 0, 0, 0, 0, 0, 0,\n",
              "       0, 1, 0, 0, 0, 0, 1, 1, 1, 0, 0, 0, 0, 0, 0, 0, 1, 0, 0, 0, 1, 1,\n",
              "       0, 0, 1, 0, 1, 0, 0, 1, 1, 1, 0, 0, 1, 1, 1, 1, 1, 1, 1, 1, 1, 1,\n",
              "       1, 1, 1, 0, 0, 1, 1, 1, 0, 0, 0, 0, 0, 0, 0, 1, 1, 1, 0, 0, 0, 1,\n",
              "       0, 0, 0, 1, 1, 1])"
            ]
          },
          "metadata": {
            "tags": []
          },
          "execution_count": 490
        }
      ]
    },
    {
      "cell_type": "code",
      "metadata": {
        "id": "5t5o4NldebYo",
        "colab_type": "code",
        "colab": {}
      },
      "source": [
        "from sklearn.metrics import classification_report, confusion_matrix\n",
        "\n",
        "cm=confusion_matrix(test_labels, pred.argmax(axis=1))"
      ],
      "execution_count": 491,
      "outputs": []
    },
    {
      "cell_type": "code",
      "metadata": {
        "id": "E2N0EkwSkbPS",
        "colab_type": "code",
        "colab": {
          "base_uri": "https://localhost:8080/",
          "height": 215
        },
        "outputId": "dc09947c-29ab-47f5-8cff-74d86d6e916f"
      },
      "source": [
        "print('Confusion Matrix')\n",
        "fig,ax = plt.subplots(figsize=(2.5,2.5))\n",
        "ax.matshow(cm,cmap=plt.cm.Blues,alpha=0.3)\n",
        "for i in range(cm.shape[0]):\n",
        "  for j in range(cm.shape[1]):\n",
        "    ax.text(x=j,y=i,\n",
        "            s=cm[i,j],\n",
        "            va='center',ha='center')\n",
        "plt.xlabel('Predicted Label')\n",
        "plt.ylabel('True Label')\n",
        "plt.show()\n",
        "\n"
      ],
      "execution_count": 492,
      "outputs": [
        {
          "output_type": "stream",
          "text": [
            "Confusion Matrix\n"
          ],
          "name": "stdout"
        },
        {
          "output_type": "display_data",
          "data": {
            "image/png": "[encoded data removed]",
            "text/plain": [
              "<Figure size 180x180 with 1 Axes>"
            ]
          },
          "metadata": {
            "tags": [],
            "needs_background": "light"
          }
        }
      ]
    },
    {
      "cell_type": "code",
      "metadata": {
        "id": "BqloAWv8pioM",
        "colab_type": "code",
        "colab": {
          "base_uri": "https://localhost:8080/",
          "height": 69
        },
        "outputId": "1c2d4994-f717-4651-9007-c4d620a20da2"
      },
      "source": [
        "from sklearn.metrics import precision_score\n",
        "from sklearn.metrics import recall_score, f1_score\n",
        "\n",
        "print('Precision: %.3f' % precision_score(y_true=test_labels,y_pred=pred.argmax(axis=1)))\n",
        "\n",
        "print('Recall: %.3f' % recall_score(y_true=test_labels,y_pred=pred.argmax(axis=1)))\n",
        "\n",
        "print('F1: %.3f' % f1_score(y_true=test_labels,y_pred=pred.argmax(axis=1)))"
      ],
      "execution_count": 493,
      "outputs": [
        {
          "output_type": "stream",
          "text": [
            "Precision: 0.835\n",
            "Recall: 0.689\n",
            "F1: 0.755\n"
          ],
          "name": "stdout"
        }
      ]
    },
    {
      "cell_type": "code",
      "metadata": {
        "id": "f6Kbg7ee6Ddc",
        "colab_type": "code",
        "colab": {}
      },
      "source": [
        "from sklearn.pipeline import Pipeline\n",
        "from sklearn.feature_selection import SelectKBest, chi2\n",
        "import xgboost as xgb\n",
        "from sklearn.model_selection import KFold, GridSearchCV\n",
        "from sklearn.metrics import accuracy_score, make_scorer"
      ],
      "execution_count": 494,
      "outputs": []
    },
    {
      "cell_type": "code",
      "metadata": {
        "id": "t3dxaKoa6HzT",
        "colab_type": "code",
        "colab": {}
      },
      "source": [
        "pipe = Pipeline([\n",
        "  ('fs', SelectKBest()),\n",
        "  ('clf', xgb.XGBClassifier(objective='binary:logistic'))\n",
        "])"
      ],
      "execution_count": 495,
      "outputs": []
    },
    {
      "cell_type": "code",
      "metadata": {
        "id": "YYasVbi56P_Q",
        "colab_type": "code",
        "colab": {}
      },
      "source": [
        "search_space = [\n",
        "  {\n",
        "    'clf__n_estimators': [200],\n",
        "    'clf__learning_rate': [0.05, 0.5, 0.1],\n",
        "    'clf__max_depth': range(3, 10),\n",
        "    'clf__colsample_bytree': [i/10.0 for i in range(1, 3)],\n",
        "    'clf__gamma': [i/10.0 for i in range(3)],\n",
        "    'fs__score_func': [mutual_info_classif,f_classif],\n",
        "    'fs__k': [30,40],\n",
        "  }\n",
        "]"
      ],
      "execution_count": 496,
      "outputs": []
    },
    {
      "cell_type": "code",
      "metadata": {
        "id": "MyjNXlvW7k0f",
        "colab_type": "code",
        "colab": {}
      },
      "source": [
        "kfold = KFold(n_splits=4, shuffle=True, random_state=42)"
      ],
      "execution_count": 498,
      "outputs": []
    },
    {
      "cell_type": "code",
      "metadata": {
        "id": "ytjrsKU77sQB",
        "colab_type": "code",
        "colab": {}
      },
      "source": [
        "scoring = {'AUC':'roc_auc', 'Accuracy':make_scorer(accuracy_score)}"
      ],
      "execution_count": 499,
      "outputs": []
    },
    {
      "cell_type": "code",
      "metadata": {
        "id": "VrXsHFmn7wML",
        "colab_type": "code",
        "colab": {}
      },
      "source": [
        "grid = GridSearchCV(\n",
        "  pipe,\n",
        "  param_grid=search_space,\n",
        "  cv=kfold,\n",
        "  scoring=scoring,\n",
        "  refit='AUC',\n",
        "  verbose=1,\n",
        "  n_jobs=-1\n",
        ")"
      ],
      "execution_count": 500,
      "outputs": []
    },
    {
      "cell_type": "code",
      "metadata": {
        "id": "Shvo5yEg7303",
        "colab_type": "code",
        "colab": {
          "base_uri": "https://localhost:8080/",
          "height": 173
        },
        "outputId": "986b6ae7-9f0c-4f3e-9dcd-bb2f6fedb0f3"
      },
      "source": [
        "model = grid.fit(normed_train_data, train_labels)"
      ],
      "execution_count": 501,
      "outputs": [
        {
          "output_type": "stream",
          "text": [
            "Fitting 4 folds for each of 504 candidates, totalling 2016 fits\n"
          ],
          "name": "stdout"
        },
        {
          "output_type": "stream",
          "text": [
            "[Parallel(n_jobs=-1)]: Using backend LokyBackend with 2 concurrent workers.\n",
            "[Parallel(n_jobs=-1)]: Done  46 tasks      | elapsed:   25.3s\n",
            "[Parallel(n_jobs=-1)]: Done 196 tasks      | elapsed:  1.8min\n",
            "[Parallel(n_jobs=-1)]: Done 446 tasks      | elapsed:  4.2min\n",
            "[Parallel(n_jobs=-1)]: Done 796 tasks      | elapsed:  7.4min\n",
            "[Parallel(n_jobs=-1)]: Done 1246 tasks      | elapsed: 11.9min\n",
            "[Parallel(n_jobs=-1)]: Done 1796 tasks      | elapsed: 18.0min\n",
            "[Parallel(n_jobs=-1)]: Done 2016 out of 2016 | elapsed: 20.3min finished\n"
          ],
          "name": "stderr"
        }
      ]
    },
    {
      "cell_type": "code",
      "metadata": {
        "id": "S0MwiyBuOL-z",
        "colab_type": "code",
        "colab": {}
      },
      "source": [
        "import pickle\n",
        "\n",
        "# Dictionary of best parameters\n",
        "best_pars = grid.best_params_\n",
        "# Best XGB model that was found based on the metric score you specify\n",
        "best_model = grid.best_estimator_\n",
        "# Save model\n",
        "pickle.dump(grid.best_estimator_, open('gdrive/My Drive/SS_AITrader/'+stock+'/xgb_'+stock+'_log_reg.pickle', \"wb\"))"
      ],
      "execution_count": 502,
      "outputs": []
    },
    {
      "cell_type": "code",
      "metadata": {
        "id": "lYPYB1GQRn44",
        "colab_type": "code",
        "colab": {
          "base_uri": "https://localhost:8080/",
          "height": 51
        },
        "outputId": "82d47ff2-0edd-43d6-af40-67aca2867768"
      },
      "source": [
        "predict = model.predict(normed_test_data)\n",
        "print('Best AUC Score: {}'.format(model.best_score_))\n",
        "print('Accuracy: {}'.format(accuracy_score(test_labels, predict)))\n",
        "cm=confusion_matrix(test_labels,predict)"
      ],
      "execution_count": 503,
      "outputs": [
        {
          "output_type": "stream",
          "text": [
            "Best AUC Score: 0.927092274803014\n",
            "Accuracy: 0.8857142857142857\n"
          ],
          "name": "stdout"
        }
      ]
    },
    {
      "cell_type": "code",
      "metadata": {
        "id": "_F-aB0lqS1dx",
        "colab_type": "code",
        "colab": {
          "base_uri": "https://localhost:8080/",
          "height": 215
        },
        "outputId": "55eba071-ad3e-433c-d4ea-26de5b9b5fa8"
      },
      "source": [
        "print('Confusion Matrix')\n",
        "fig,ax = plt.subplots(figsize=(2.5,2.5))\n",
        "ax.matshow(cm,cmap=plt.cm.Blues,alpha=0.3)\n",
        "for i in range(cm.shape[0]):\n",
        "  for j in range(cm.shape[1]):\n",
        "    ax.text(x=j,y=i,\n",
        "            s=cm[i,j],\n",
        "            va='center',ha='center')\n",
        "plt.xlabel('Predicted Label')\n",
        "plt.ylabel('True Label')\n",
        "plt.show()"
      ],
      "execution_count": 504,
      "outputs": [
        {
          "output_type": "stream",
          "text": [
            "Confusion Matrix\n"
          ],
          "name": "stdout"
        },
        {
          "output_type": "display_data",
          "data": {
            "image/png": "[encoded data removed]",
            "text/plain": [
              "<Figure size 180x180 with 1 Axes>"
            ]
          },
          "metadata": {
            "tags": [],
            "needs_background": "light"
          }
        }
      ]
    },
    {
      "cell_type": "code",
      "metadata": {
        "id": "DNgkOrW_TPMl",
        "colab_type": "code",
        "colab": {
          "base_uri": "https://localhost:8080/",
          "height": 54
        },
        "outputId": "9be138b3-eec3-4da8-ab18-ce3e95e59999"
      },
      "source": [
        "print(model.best_params_)"
      ],
      "execution_count": 505,
      "outputs": [
        {
          "output_type": "stream",
          "text": [
            "{'clf__colsample_bytree': 0.2, 'clf__gamma': 0.2, 'clf__learning_rate': 0.1, 'clf__max_depth': 8, 'clf__n_estimators': 200, 'fs__k': 40, 'fs__score_func': <function mutual_info_classif at 0x7f9d435a61e0>}\n"
          ],
          "name": "stdout"
        }
      ]
    },
    {
      "cell_type": "code",
      "metadata": {
        "id": "9S0pNSHq8lEE",
        "colab_type": "code",
        "colab": {}
      },
      "source": [
        "k=40\n",
        "select_k_best = SelectKBest(mutual_info_classif, k=k)\n",
        "select_k_best.fit(normed_train_data, train_labels)\n",
        "selected_features_mic = itemgetter(*select_k_best.get_support(indices=True))(list_features)\n",
        "\n",
        "list_features = list(normed_train_data.columns)\n",
        "feat_idx = []\n",
        "for c in selected_features_mic:\n",
        "      feat_idx.append(list_features.index(c))\n",
        "\n",
        "feat_idx = sorted(feat_idx)\n",
        "X_train_new=normed_train_data.iloc[:, feat_idx]\n",
        "X_test_new=normed_test_data.iloc[:, feat_idx]\n",
        "\n",
        "\n"
      ],
      "execution_count": 506,
      "outputs": []
    },
    {
      "cell_type": "code",
      "metadata": {
        "id": "g5_E1028Tx0Q",
        "colab_type": "code",
        "colab": {
          "base_uri": "https://localhost:8080/",
          "height": 1000
        },
        "outputId": "c7b9038a-5969-4a3b-f7e2-54ef8a815901"
      },
      "source": [
        "model_opt = xgb.XGBClassifier(max_depth=8,\n",
        "                        objective='binary:logistic',\n",
        "                        n_estimators=200,\n",
        "                        learning_rate = 0.1,\n",
        "                        colsample_bytree= 0.2,\n",
        "                        gamma= 0.2)\n",
        "eval_set = [(X_train_new, train_labels), (X_test_new, test_labels)]\n",
        "model_opt.fit(X_train_new, train_labels, early_stopping_rounds=15, eval_metric=[\"error\", \"logloss\"], eval_set=eval_set, verbose=True)"
      ],
      "execution_count": 507,
      "outputs": [
        {
          "output_type": "stream",
          "text": [
            "[0]\tvalidation_0-error:0.210714\tvalidation_0-logloss:0.657021\tvalidation_1-error:0.363265\tvalidation_1-logloss:0.675198\n",
            "Multiple eval metrics have been passed: 'validation_1-logloss' will be used for early stopping.\n",
            "\n",
            "Will train until validation_1-logloss hasn't improved in 15 rounds.\n",
            "[1]\tvalidation_0-error:0.166327\tvalidation_0-logloss:0.637441\tvalidation_1-error:0.359184\tvalidation_1-logloss:0.667856\n",
            "[2]\tvalidation_0-error:0.15051\tvalidation_0-logloss:0.618438\tvalidation_1-error:0.340816\tvalidation_1-logloss:0.657338\n",
            "[3]\tvalidation_0-error:0.096939\tvalidation_0-logloss:0.585049\tvalidation_1-error:0.267347\tvalidation_1-logloss:0.634321\n",
            "[4]\tvalidation_0-error:0.092347\tvalidation_0-logloss:0.56073\tvalidation_1-error:0.263265\tvalidation_1-logloss:0.621385\n",
            "[5]\tvalidation_0-error:0.081633\tvalidation_0-logloss:0.549214\tvalidation_1-error:0.244898\tvalidation_1-logloss:0.617156\n",
            "[6]\tvalidation_0-error:0.072449\tvalidation_0-logloss:0.527671\tvalidation_1-error:0.257143\tvalidation_1-logloss:0.609694\n",
            "[7]\tvalidation_0-error:0.055612\tvalidation_0-logloss:0.502283\tvalidation_1-error:0.238776\tvalidation_1-logloss:0.592951\n",
            "[8]\tvalidation_0-error:0.046939\tvalidation_0-logloss:0.475224\tvalidation_1-error:0.228571\tvalidation_1-logloss:0.577415\n",
            "[9]\tvalidation_0-error:0.037755\tvalidation_0-logloss:0.458044\tvalidation_1-error:0.228571\tvalidation_1-logloss:0.570013\n",
            "[10]\tvalidation_0-error:0.034184\tvalidation_0-logloss:0.445638\tvalidation_1-error:0.230612\tvalidation_1-logloss:0.565189\n",
            "[11]\tvalidation_0-error:0.028571\tvalidation_0-logloss:0.429956\tvalidation_1-error:0.222449\tvalidation_1-logloss:0.554045\n",
            "[12]\tvalidation_0-error:0.02398\tvalidation_0-logloss:0.412294\tvalidation_1-error:0.218367\tvalidation_1-logloss:0.548378\n",
            "[13]\tvalidation_0-error:0.019898\tvalidation_0-logloss:0.397518\tvalidation_1-error:0.220408\tvalidation_1-logloss:0.541619\n",
            "[14]\tvalidation_0-error:0.016837\tvalidation_0-logloss:0.382267\tvalidation_1-error:0.218367\tvalidation_1-logloss:0.533828\n",
            "[15]\tvalidation_0-error:0.015306\tvalidation_0-logloss:0.370248\tvalidation_1-error:0.220408\tvalidation_1-logloss:0.530128\n",
            "[16]\tvalidation_0-error:0.013776\tvalidation_0-logloss:0.353693\tvalidation_1-error:0.208163\tvalidation_1-logloss:0.518235\n",
            "[17]\tvalidation_0-error:0.012755\tvalidation_0-logloss:0.346798\tvalidation_1-error:0.208163\tvalidation_1-logloss:0.514196\n",
            "[18]\tvalidation_0-error:0.012755\tvalidation_0-logloss:0.333163\tvalidation_1-error:0.189796\tvalidation_1-logloss:0.50395\n",
            "[19]\tvalidation_0-error:0.011735\tvalidation_0-logloss:0.323402\tvalidation_1-error:0.206122\tvalidation_1-logloss:0.503585\n",
            "[20]\tvalidation_0-error:0.011224\tvalidation_0-logloss:0.316596\tvalidation_1-error:0.193878\tvalidation_1-logloss:0.501565\n",
            "[21]\tvalidation_0-error:0.012245\tvalidation_0-logloss:0.306933\tvalidation_1-error:0.189796\tvalidation_1-logloss:0.498133\n",
            "[22]\tvalidation_0-error:0.010204\tvalidation_0-logloss:0.299605\tvalidation_1-error:0.191837\tvalidation_1-logloss:0.495407\n",
            "[23]\tvalidation_0-error:0.009694\tvalidation_0-logloss:0.290449\tvalidation_1-error:0.183673\tvalidation_1-logloss:0.489801\n",
            "[24]\tvalidation_0-error:0.009184\tvalidation_0-logloss:0.28607\tvalidation_1-error:0.191837\tvalidation_1-logloss:0.488925\n",
            "[25]\tvalidation_0-error:0.008673\tvalidation_0-logloss:0.28305\tvalidation_1-error:0.189796\tvalidation_1-logloss:0.487948\n",
            "[26]\tvalidation_0-error:0.008163\tvalidation_0-logloss:0.271467\tvalidation_1-error:0.177551\tvalidation_1-logloss:0.477213\n",
            "[27]\tvalidation_0-error:0.007143\tvalidation_0-logloss:0.264699\tvalidation_1-error:0.17551\tvalidation_1-logloss:0.474263\n",
            "[28]\tvalidation_0-error:0.006633\tvalidation_0-logloss:0.258018\tvalidation_1-error:0.177551\tvalidation_1-logloss:0.469706\n",
            "[29]\tvalidation_0-error:0.007143\tvalidation_0-logloss:0.252413\tvalidation_1-error:0.169388\tvalidation_1-logloss:0.467681\n",
            "[30]\tvalidation_0-error:0.005612\tvalidation_0-logloss:0.245773\tvalidation_1-error:0.171429\tvalidation_1-logloss:0.465522\n",
            "[31]\tvalidation_0-error:0.004592\tvalidation_0-logloss:0.237026\tvalidation_1-error:0.163265\tvalidation_1-logloss:0.457637\n",
            "[32]\tvalidation_0-error:0.005102\tvalidation_0-logloss:0.228712\tvalidation_1-error:0.171429\tvalidation_1-logloss:0.453279\n",
            "[33]\tvalidation_0-error:0.005612\tvalidation_0-logloss:0.223284\tvalidation_1-error:0.169388\tvalidation_1-logloss:0.449937\n",
            "[34]\tvalidation_0-error:0.004592\tvalidation_0-logloss:0.21647\tvalidation_1-error:0.163265\tvalidation_1-logloss:0.446328\n",
            "[35]\tvalidation_0-error:0.004592\tvalidation_0-logloss:0.211567\tvalidation_1-error:0.159184\tvalidation_1-logloss:0.44448\n",
            "[36]\tvalidation_0-error:0.004082\tvalidation_0-logloss:0.205964\tvalidation_1-error:0.161224\tvalidation_1-logloss:0.44025\n",
            "[37]\tvalidation_0-error:0.003571\tvalidation_0-logloss:0.200558\tvalidation_1-error:0.165306\tvalidation_1-logloss:0.437378\n",
            "[38]\tvalidation_0-error:0.003061\tvalidation_0-logloss:0.195412\tvalidation_1-error:0.167347\tvalidation_1-logloss:0.435367\n",
            "[39]\tvalidation_0-error:0.003571\tvalidation_0-logloss:0.194043\tvalidation_1-error:0.165306\tvalidation_1-logloss:0.435745\n",
            "[40]\tvalidation_0-error:0.003061\tvalidation_0-logloss:0.189113\tvalidation_1-error:0.165306\tvalidation_1-logloss:0.431591\n",
            "[41]\tvalidation_0-error:0.003061\tvalidation_0-logloss:0.183864\tvalidation_1-error:0.161224\tvalidation_1-logloss:0.425912\n",
            "[42]\tvalidation_0-error:0.002041\tvalidation_0-logloss:0.178304\tvalidation_1-error:0.163265\tvalidation_1-logloss:0.420525\n",
            "[43]\tvalidation_0-error:0.002041\tvalidation_0-logloss:0.174786\tvalidation_1-error:0.159184\tvalidation_1-logloss:0.419634\n",
            "[44]\tvalidation_0-error:0.002551\tvalidation_0-logloss:0.171572\tvalidation_1-error:0.159184\tvalidation_1-logloss:0.419762\n",
            "[45]\tvalidation_0-error:0.002041\tvalidation_0-logloss:0.16719\tvalidation_1-error:0.155102\tvalidation_1-logloss:0.414764\n",
            "[46]\tvalidation_0-error:0.002041\tvalidation_0-logloss:0.165236\tvalidation_1-error:0.159184\tvalidation_1-logloss:0.413685\n",
            "[47]\tvalidation_0-error:0.001531\tvalidation_0-logloss:0.160165\tvalidation_1-error:0.15102\tvalidation_1-logloss:0.407325\n",
            "[48]\tvalidation_0-error:0.001531\tvalidation_0-logloss:0.156688\tvalidation_1-error:0.15102\tvalidation_1-logloss:0.404255\n",
            "[49]\tvalidation_0-error:0.00102\tvalidation_0-logloss:0.153505\tvalidation_1-error:0.15102\tvalidation_1-logloss:0.403053\n",
            "[50]\tvalidation_0-error:0.001531\tvalidation_0-logloss:0.150696\tvalidation_1-error:0.14898\tvalidation_1-logloss:0.401663\n",
            "[51]\tvalidation_0-error:0.00102\tvalidation_0-logloss:0.147083\tvalidation_1-error:0.146939\tvalidation_1-logloss:0.399198\n",
            "[52]\tvalidation_0-error:0.00051\tvalidation_0-logloss:0.144686\tvalidation_1-error:0.142857\tvalidation_1-logloss:0.398375\n",
            "[53]\tvalidation_0-error:0.00051\tvalidation_0-logloss:0.142609\tvalidation_1-error:0.153061\tvalidation_1-logloss:0.398414\n",
            "[54]\tvalidation_0-error:0.00051\tvalidation_0-logloss:0.140457\tvalidation_1-error:0.155102\tvalidation_1-logloss:0.396996\n",
            "[55]\tvalidation_0-error:0.00051\tvalidation_0-logloss:0.138937\tvalidation_1-error:0.153061\tvalidation_1-logloss:0.396761\n",
            "[56]\tvalidation_0-error:0.00051\tvalidation_0-logloss:0.135725\tvalidation_1-error:0.155102\tvalidation_1-logloss:0.395537\n",
            "[57]\tvalidation_0-error:0.00051\tvalidation_0-logloss:0.133813\tvalidation_1-error:0.15102\tvalidation_1-logloss:0.395608\n",
            "[58]\tvalidation_0-error:0.00051\tvalidation_0-logloss:0.132549\tvalidation_1-error:0.14898\tvalidation_1-logloss:0.395461\n",
            "[59]\tvalidation_0-error:0\tvalidation_0-logloss:0.130445\tvalidation_1-error:0.14898\tvalidation_1-logloss:0.393579\n",
            "[60]\tvalidation_0-error:0\tvalidation_0-logloss:0.128323\tvalidation_1-error:0.146939\tvalidation_1-logloss:0.392101\n",
            "[61]\tvalidation_0-error:0\tvalidation_0-logloss:0.12576\tvalidation_1-error:0.146939\tvalidation_1-logloss:0.392066\n",
            "[62]\tvalidation_0-error:0\tvalidation_0-logloss:0.123761\tvalidation_1-error:0.146939\tvalidation_1-logloss:0.391643\n",
            "[63]\tvalidation_0-error:0\tvalidation_0-logloss:0.121473\tvalidation_1-error:0.144898\tvalidation_1-logloss:0.389127\n",
            "[64]\tvalidation_0-error:0\tvalidation_0-logloss:0.119057\tvalidation_1-error:0.14898\tvalidation_1-logloss:0.388373\n",
            "[65]\tvalidation_0-error:0\tvalidation_0-logloss:0.11705\tvalidation_1-error:0.153061\tvalidation_1-logloss:0.387035\n",
            "[66]\tvalidation_0-error:0\tvalidation_0-logloss:0.116147\tvalidation_1-error:0.15102\tvalidation_1-logloss:0.387738\n",
            "[67]\tvalidation_0-error:0\tvalidation_0-logloss:0.113795\tvalidation_1-error:0.15102\tvalidation_1-logloss:0.387756\n",
            "[68]\tvalidation_0-error:0\tvalidation_0-logloss:0.111561\tvalidation_1-error:0.146939\tvalidation_1-logloss:0.385324\n",
            "[69]\tvalidation_0-error:0\tvalidation_0-logloss:0.109786\tvalidation_1-error:0.146939\tvalidation_1-logloss:0.384638\n",
            "[70]\tvalidation_0-error:0\tvalidation_0-logloss:0.107768\tvalidation_1-error:0.144898\tvalidation_1-logloss:0.383165\n",
            "[71]\tvalidation_0-error:0\tvalidation_0-logloss:0.105536\tvalidation_1-error:0.142857\tvalidation_1-logloss:0.380855\n",
            "[72]\tvalidation_0-error:0\tvalidation_0-logloss:0.104758\tvalidation_1-error:0.142857\tvalidation_1-logloss:0.380542\n",
            "[73]\tvalidation_0-error:0\tvalidation_0-logloss:0.102626\tvalidation_1-error:0.142857\tvalidation_1-logloss:0.378814\n",
            "[74]\tvalidation_0-error:0\tvalidation_0-logloss:0.101319\tvalidation_1-error:0.142857\tvalidation_1-logloss:0.377977\n",
            "[75]\tvalidation_0-error:0\tvalidation_0-logloss:0.100316\tvalidation_1-error:0.142857\tvalidation_1-logloss:0.378048\n",
            "[76]\tvalidation_0-error:0\tvalidation_0-logloss:0.099639\tvalidation_1-error:0.144898\tvalidation_1-logloss:0.377745\n",
            "[77]\tvalidation_0-error:0\tvalidation_0-logloss:0.098458\tvalidation_1-error:0.138776\tvalidation_1-logloss:0.377545\n",
            "[78]\tvalidation_0-error:0\tvalidation_0-logloss:0.096817\tvalidation_1-error:0.142857\tvalidation_1-logloss:0.375955\n",
            "[79]\tvalidation_0-error:0\tvalidation_0-logloss:0.095801\tvalidation_1-error:0.14898\tvalidation_1-logloss:0.375926\n",
            "[80]\tvalidation_0-error:0\tvalidation_0-logloss:0.094273\tvalidation_1-error:0.15102\tvalidation_1-logloss:0.3754\n",
            "[81]\tvalidation_0-error:0\tvalidation_0-logloss:0.092858\tvalidation_1-error:0.146939\tvalidation_1-logloss:0.372622\n",
            "[82]\tvalidation_0-error:0\tvalidation_0-logloss:0.091332\tvalidation_1-error:0.14898\tvalidation_1-logloss:0.372088\n",
            "[83]\tvalidation_0-error:0\tvalidation_0-logloss:0.089855\tvalidation_1-error:0.14898\tvalidation_1-logloss:0.370704\n",
            "[84]\tvalidation_0-error:0\tvalidation_0-logloss:0.08961\tvalidation_1-error:0.144898\tvalidation_1-logloss:0.370368\n",
            "[85]\tvalidation_0-error:0\tvalidation_0-logloss:0.088999\tvalidation_1-error:0.142857\tvalidation_1-logloss:0.369695\n",
            "[86]\tvalidation_0-error:0\tvalidation_0-logloss:0.087535\tvalidation_1-error:0.144898\tvalidation_1-logloss:0.369325\n",
            "[87]\tvalidation_0-error:0\tvalidation_0-logloss:0.086651\tvalidation_1-error:0.15102\tvalidation_1-logloss:0.368331\n",
            "[88]\tvalidation_0-error:0\tvalidation_0-logloss:0.084764\tvalidation_1-error:0.140816\tvalidation_1-logloss:0.366107\n",
            "[89]\tvalidation_0-error:0\tvalidation_0-logloss:0.08351\tvalidation_1-error:0.138776\tvalidation_1-logloss:0.365307\n",
            "[90]\tvalidation_0-error:0\tvalidation_0-logloss:0.08239\tvalidation_1-error:0.140816\tvalidation_1-logloss:0.365063\n",
            "[91]\tvalidation_0-error:0\tvalidation_0-logloss:0.081539\tvalidation_1-error:0.138776\tvalidation_1-logloss:0.364269\n",
            "[92]\tvalidation_0-error:0\tvalidation_0-logloss:0.080685\tvalidation_1-error:0.140816\tvalidation_1-logloss:0.363743\n",
            "[93]\tvalidation_0-error:0\tvalidation_0-logloss:0.079627\tvalidation_1-error:0.140816\tvalidation_1-logloss:0.363513\n",
            "[94]\tvalidation_0-error:0\tvalidation_0-logloss:0.078647\tvalidation_1-error:0.136735\tvalidation_1-logloss:0.363245\n",
            "[95]\tvalidation_0-error:0\tvalidation_0-logloss:0.077293\tvalidation_1-error:0.140816\tvalidation_1-logloss:0.362203\n",
            "[96]\tvalidation_0-error:0\tvalidation_0-logloss:0.076376\tvalidation_1-error:0.138776\tvalidation_1-logloss:0.36151\n",
            "[97]\tvalidation_0-error:0\tvalidation_0-logloss:0.075431\tvalidation_1-error:0.138776\tvalidation_1-logloss:0.360112\n",
            "[98]\tvalidation_0-error:0\tvalidation_0-logloss:0.074339\tvalidation_1-error:0.136735\tvalidation_1-logloss:0.358478\n",
            "[99]\tvalidation_0-error:0\tvalidation_0-logloss:0.072606\tvalidation_1-error:0.132653\tvalidation_1-logloss:0.355013\n",
            "[100]\tvalidation_0-error:0\tvalidation_0-logloss:0.071758\tvalidation_1-error:0.136735\tvalidation_1-logloss:0.354733\n",
            "[101]\tvalidation_0-error:0\tvalidation_0-logloss:0.070925\tvalidation_1-error:0.136735\tvalidation_1-logloss:0.354434\n",
            "[102]\tvalidation_0-error:0\tvalidation_0-logloss:0.06978\tvalidation_1-error:0.136735\tvalidation_1-logloss:0.353906\n",
            "[103]\tvalidation_0-error:0\tvalidation_0-logloss:0.068978\tvalidation_1-error:0.138776\tvalidation_1-logloss:0.352996\n",
            "[104]\tvalidation_0-error:0\tvalidation_0-logloss:0.068261\tvalidation_1-error:0.138776\tvalidation_1-logloss:0.352644\n",
            "[105]\tvalidation_0-error:0\tvalidation_0-logloss:0.068076\tvalidation_1-error:0.138776\tvalidation_1-logloss:0.352441\n",
            "[106]\tvalidation_0-error:0\tvalidation_0-logloss:0.067656\tvalidation_1-error:0.138776\tvalidation_1-logloss:0.352847\n",
            "[107]\tvalidation_0-error:0\tvalidation_0-logloss:0.067347\tvalidation_1-error:0.140816\tvalidation_1-logloss:0.352928\n",
            "[108]\tvalidation_0-error:0\tvalidation_0-logloss:0.066658\tvalidation_1-error:0.138776\tvalidation_1-logloss:0.352879\n",
            "[109]\tvalidation_0-error:0\tvalidation_0-logloss:0.066093\tvalidation_1-error:0.136735\tvalidation_1-logloss:0.352665\n",
            "[110]\tvalidation_0-error:0\tvalidation_0-logloss:0.064928\tvalidation_1-error:0.136735\tvalidation_1-logloss:0.351293\n",
            "[111]\tvalidation_0-error:0\tvalidation_0-logloss:0.064408\tvalidation_1-error:0.136735\tvalidation_1-logloss:0.350668\n",
            "[112]\tvalidation_0-error:0\tvalidation_0-logloss:0.063616\tvalidation_1-error:0.136735\tvalidation_1-logloss:0.349892\n",
            "[113]\tvalidation_0-error:0\tvalidation_0-logloss:0.062849\tvalidation_1-error:0.134694\tvalidation_1-logloss:0.349471\n",
            "[114]\tvalidation_0-error:0\tvalidation_0-logloss:0.062213\tvalidation_1-error:0.134694\tvalidation_1-logloss:0.349345\n",
            "[115]\tvalidation_0-error:0\tvalidation_0-logloss:0.061726\tvalidation_1-error:0.136735\tvalidation_1-logloss:0.349913\n",
            "[116]\tvalidation_0-error:0\tvalidation_0-logloss:0.061144\tvalidation_1-error:0.134694\tvalidation_1-logloss:0.349323\n",
            "[117]\tvalidation_0-error:0\tvalidation_0-logloss:0.060419\tvalidation_1-error:0.136735\tvalidation_1-logloss:0.349276\n",
            "[118]\tvalidation_0-error:0\tvalidation_0-logloss:0.059932\tvalidation_1-error:0.134694\tvalidation_1-logloss:0.348782\n",
            "[119]\tvalidation_0-error:0\tvalidation_0-logloss:0.059708\tvalidation_1-error:0.134694\tvalidation_1-logloss:0.348495\n",
            "[120]\tvalidation_0-error:0\tvalidation_0-logloss:0.059145\tvalidation_1-error:0.134694\tvalidation_1-logloss:0.347348\n",
            "[121]\tvalidation_0-error:0\tvalidation_0-logloss:0.05861\tvalidation_1-error:0.136735\tvalidation_1-logloss:0.347104\n",
            "[122]\tvalidation_0-error:0\tvalidation_0-logloss:0.058261\tvalidation_1-error:0.134694\tvalidation_1-logloss:0.347031\n",
            "[123]\tvalidation_0-error:0\tvalidation_0-logloss:0.057627\tvalidation_1-error:0.136735\tvalidation_1-logloss:0.346179\n",
            "[124]\tvalidation_0-error:0\tvalidation_0-logloss:0.056928\tvalidation_1-error:0.136735\tvalidation_1-logloss:0.346241\n",
            "[125]\tvalidation_0-error:0\tvalidation_0-logloss:0.056155\tvalidation_1-error:0.138776\tvalidation_1-logloss:0.345063\n",
            "[126]\tvalidation_0-error:0\tvalidation_0-logloss:0.055913\tvalidation_1-error:0.138776\tvalidation_1-logloss:0.345321\n",
            "[127]\tvalidation_0-error:0\tvalidation_0-logloss:0.055299\tvalidation_1-error:0.138776\tvalidation_1-logloss:0.345768\n",
            "[128]\tvalidation_0-error:0\tvalidation_0-logloss:0.054713\tvalidation_1-error:0.140816\tvalidation_1-logloss:0.345788\n",
            "[129]\tvalidation_0-error:0\tvalidation_0-logloss:0.05373\tvalidation_1-error:0.142857\tvalidation_1-logloss:0.34433\n",
            "[130]\tvalidation_0-error:0\tvalidation_0-logloss:0.053307\tvalidation_1-error:0.140816\tvalidation_1-logloss:0.344284\n",
            "[131]\tvalidation_0-error:0\tvalidation_0-logloss:0.052773\tvalidation_1-error:0.140816\tvalidation_1-logloss:0.344029\n",
            "[132]\tvalidation_0-error:0\tvalidation_0-logloss:0.052439\tvalidation_1-error:0.138776\tvalidation_1-logloss:0.343446\n",
            "[133]\tvalidation_0-error:0\tvalidation_0-logloss:0.052049\tvalidation_1-error:0.138776\tvalidation_1-logloss:0.342999\n",
            "[134]\tvalidation_0-error:0\tvalidation_0-logloss:0.051464\tvalidation_1-error:0.142857\tvalidation_1-logloss:0.342846\n",
            "[135]\tvalidation_0-error:0\tvalidation_0-logloss:0.051031\tvalidation_1-error:0.140816\tvalidation_1-logloss:0.342627\n",
            "[136]\tvalidation_0-error:0\tvalidation_0-logloss:0.050547\tvalidation_1-error:0.140816\tvalidation_1-logloss:0.342411\n",
            "[137]\tvalidation_0-error:0\tvalidation_0-logloss:0.050235\tvalidation_1-error:0.140816\tvalidation_1-logloss:0.342299\n",
            "[138]\tvalidation_0-error:0\tvalidation_0-logloss:0.049671\tvalidation_1-error:0.140816\tvalidation_1-logloss:0.341874\n",
            "[139]\tvalidation_0-error:0\tvalidation_0-logloss:0.04907\tvalidation_1-error:0.138776\tvalidation_1-logloss:0.34056\n",
            "[140]\tvalidation_0-error:0\tvalidation_0-logloss:0.048603\tvalidation_1-error:0.138776\tvalidation_1-logloss:0.340162\n",
            "[141]\tvalidation_0-error:0\tvalidation_0-logloss:0.048295\tvalidation_1-error:0.136735\tvalidation_1-logloss:0.340221\n",
            "[142]\tvalidation_0-error:0\tvalidation_0-logloss:0.047801\tvalidation_1-error:0.138776\tvalidation_1-logloss:0.340052\n",
            "[143]\tvalidation_0-error:0\tvalidation_0-logloss:0.047369\tvalidation_1-error:0.138776\tvalidation_1-logloss:0.339683\n",
            "[144]\tvalidation_0-error:0\tvalidation_0-logloss:0.046781\tvalidation_1-error:0.136735\tvalidation_1-logloss:0.339431\n",
            "[145]\tvalidation_0-error:0\tvalidation_0-logloss:0.046515\tvalidation_1-error:0.140816\tvalidation_1-logloss:0.339403\n",
            "[146]\tvalidation_0-error:0\tvalidation_0-logloss:0.046099\tvalidation_1-error:0.138776\tvalidation_1-logloss:0.338832\n",
            "[147]\tvalidation_0-error:0\tvalidation_0-logloss:0.045736\tvalidation_1-error:0.136735\tvalidation_1-logloss:0.338881\n",
            "[148]\tvalidation_0-error:0\tvalidation_0-logloss:0.045266\tvalidation_1-error:0.136735\tvalidation_1-logloss:0.337946\n",
            "[149]\tvalidation_0-error:0\tvalidation_0-logloss:0.044846\tvalidation_1-error:0.136735\tvalidation_1-logloss:0.336983\n",
            "[150]\tvalidation_0-error:0\tvalidation_0-logloss:0.044464\tvalidation_1-error:0.134694\tvalidation_1-logloss:0.335847\n",
            "[151]\tvalidation_0-error:0\tvalidation_0-logloss:0.044034\tvalidation_1-error:0.134694\tvalidation_1-logloss:0.334583\n",
            "[152]\tvalidation_0-error:0\tvalidation_0-logloss:0.043634\tvalidation_1-error:0.134694\tvalidation_1-logloss:0.334609\n",
            "[153]\tvalidation_0-error:0\tvalidation_0-logloss:0.043296\tvalidation_1-error:0.132653\tvalidation_1-logloss:0.335019\n",
            "[154]\tvalidation_0-error:0\tvalidation_0-logloss:0.042706\tvalidation_1-error:0.136735\tvalidation_1-logloss:0.334543\n",
            "[155]\tvalidation_0-error:0\tvalidation_0-logloss:0.042333\tvalidation_1-error:0.136735\tvalidation_1-logloss:0.334066\n",
            "[156]\tvalidation_0-error:0\tvalidation_0-logloss:0.042142\tvalidation_1-error:0.134694\tvalidation_1-logloss:0.333334\n",
            "[157]\tvalidation_0-error:0\tvalidation_0-logloss:0.041666\tvalidation_1-error:0.132653\tvalidation_1-logloss:0.333844\n",
            "[158]\tvalidation_0-error:0\tvalidation_0-logloss:0.041329\tvalidation_1-error:0.132653\tvalidation_1-logloss:0.333665\n",
            "[159]\tvalidation_0-error:0\tvalidation_0-logloss:0.040765\tvalidation_1-error:0.128571\tvalidation_1-logloss:0.331071\n",
            "[160]\tvalidation_0-error:0\tvalidation_0-logloss:0.040507\tvalidation_1-error:0.128571\tvalidation_1-logloss:0.330698\n",
            "[161]\tvalidation_0-error:0\tvalidation_0-logloss:0.040068\tvalidation_1-error:0.128571\tvalidation_1-logloss:0.330027\n",
            "[162]\tvalidation_0-error:0\tvalidation_0-logloss:0.039855\tvalidation_1-error:0.128571\tvalidation_1-logloss:0.330115\n",
            "[163]\tvalidation_0-error:0\tvalidation_0-logloss:0.039703\tvalidation_1-error:0.128571\tvalidation_1-logloss:0.330229\n",
            "[164]\tvalidation_0-error:0\tvalidation_0-logloss:0.039428\tvalidation_1-error:0.126531\tvalidation_1-logloss:0.330365\n",
            "[165]\tvalidation_0-error:0\tvalidation_0-logloss:0.039247\tvalidation_1-error:0.126531\tvalidation_1-logloss:0.330146\n",
            "[166]\tvalidation_0-error:0\tvalidation_0-logloss:0.038874\tvalidation_1-error:0.126531\tvalidation_1-logloss:0.329713\n",
            "[167]\tvalidation_0-error:0\tvalidation_0-logloss:0.038417\tvalidation_1-error:0.126531\tvalidation_1-logloss:0.328911\n",
            "[168]\tvalidation_0-error:0\tvalidation_0-logloss:0.038157\tvalidation_1-error:0.12449\tvalidation_1-logloss:0.328827\n",
            "[169]\tvalidation_0-error:0\tvalidation_0-logloss:0.038047\tvalidation_1-error:0.12449\tvalidation_1-logloss:0.328761\n",
            "[170]\tvalidation_0-error:0\tvalidation_0-logloss:0.037799\tvalidation_1-error:0.128571\tvalidation_1-logloss:0.329136\n",
            "[171]\tvalidation_0-error:0\tvalidation_0-logloss:0.037536\tvalidation_1-error:0.128571\tvalidation_1-logloss:0.328178\n",
            "[172]\tvalidation_0-error:0\tvalidation_0-logloss:0.037317\tvalidation_1-error:0.130612\tvalidation_1-logloss:0.328577\n",
            "[173]\tvalidation_0-error:0\tvalidation_0-logloss:0.037107\tvalidation_1-error:0.128571\tvalidation_1-logloss:0.328273\n",
            "[174]\tvalidation_0-error:0\tvalidation_0-logloss:0.036967\tvalidation_1-error:0.128571\tvalidation_1-logloss:0.328348\n",
            "[175]\tvalidation_0-error:0\tvalidation_0-logloss:0.036835\tvalidation_1-error:0.130612\tvalidation_1-logloss:0.328162\n",
            "[176]\tvalidation_0-error:0\tvalidation_0-logloss:0.036601\tvalidation_1-error:0.132653\tvalidation_1-logloss:0.327672\n",
            "[177]\tvalidation_0-error:0\tvalidation_0-logloss:0.036388\tvalidation_1-error:0.128571\tvalidation_1-logloss:0.32768\n",
            "[178]\tvalidation_0-error:0\tvalidation_0-logloss:0.036168\tvalidation_1-error:0.130612\tvalidation_1-logloss:0.327664\n",
            "[179]\tvalidation_0-error:0\tvalidation_0-logloss:0.035967\tvalidation_1-error:0.128571\tvalidation_1-logloss:0.327242\n",
            "[180]\tvalidation_0-error:0\tvalidation_0-logloss:0.035765\tvalidation_1-error:0.130612\tvalidation_1-logloss:0.327418\n",
            "[181]\tvalidation_0-error:0\tvalidation_0-logloss:0.035558\tvalidation_1-error:0.126531\tvalidation_1-logloss:0.327738\n",
            "[182]\tvalidation_0-error:0\tvalidation_0-logloss:0.035257\tvalidation_1-error:0.126531\tvalidation_1-logloss:0.327285\n",
            "[183]\tvalidation_0-error:0\tvalidation_0-logloss:0.035078\tvalidation_1-error:0.128571\tvalidation_1-logloss:0.327073\n",
            "[184]\tvalidation_0-error:0\tvalidation_0-logloss:0.03494\tvalidation_1-error:0.128571\tvalidation_1-logloss:0.327547\n",
            "[185]\tvalidation_0-error:0\tvalidation_0-logloss:0.034853\tvalidation_1-error:0.128571\tvalidation_1-logloss:0.327781\n",
            "[186]\tvalidation_0-error:0\tvalidation_0-logloss:0.034686\tvalidation_1-error:0.128571\tvalidation_1-logloss:0.32814\n",
            "[187]\tvalidation_0-error:0\tvalidation_0-logloss:0.034505\tvalidation_1-error:0.128571\tvalidation_1-logloss:0.32779\n",
            "[188]\tvalidation_0-error:0\tvalidation_0-logloss:0.034147\tvalidation_1-error:0.130612\tvalidation_1-logloss:0.326985\n",
            "[189]\tvalidation_0-error:0\tvalidation_0-logloss:0.033949\tvalidation_1-error:0.130612\tvalidation_1-logloss:0.32623\n",
            "[190]\tvalidation_0-error:0\tvalidation_0-logloss:0.033846\tvalidation_1-error:0.130612\tvalidation_1-logloss:0.326242\n",
            "[191]\tvalidation_0-error:0\tvalidation_0-logloss:0.033538\tvalidation_1-error:0.128571\tvalidation_1-logloss:0.325728\n",
            "[192]\tvalidation_0-error:0\tvalidation_0-logloss:0.033452\tvalidation_1-error:0.130612\tvalidation_1-logloss:0.325558\n",
            "[193]\tvalidation_0-error:0\tvalidation_0-logloss:0.033266\tvalidation_1-error:0.128571\tvalidation_1-logloss:0.326139\n",
            "[194]\tvalidation_0-error:0\tvalidation_0-logloss:0.033196\tvalidation_1-error:0.128571\tvalidation_1-logloss:0.326095\n",
            "[195]\tvalidation_0-error:0\tvalidation_0-logloss:0.033025\tvalidation_1-error:0.128571\tvalidation_1-logloss:0.326395\n",
            "[196]\tvalidation_0-error:0\tvalidation_0-logloss:0.03294\tvalidation_1-error:0.128571\tvalidation_1-logloss:0.326396\n",
            "[197]\tvalidation_0-error:0\tvalidation_0-logloss:0.032752\tvalidation_1-error:0.132653\tvalidation_1-logloss:0.32668\n",
            "[198]\tvalidation_0-error:0\tvalidation_0-logloss:0.032534\tvalidation_1-error:0.130612\tvalidation_1-logloss:0.326608\n",
            "[199]\tvalidation_0-error:0\tvalidation_0-logloss:0.03244\tvalidation_1-error:0.130612\tvalidation_1-logloss:0.326191\n"
          ],
          "name": "stdout"
        },
        {
          "output_type": "execute_result",
          "data": {
            "text/plain": [
              "XGBClassifier(base_score=0.5, booster='gbtree', colsample_bylevel=1,\n",
              "              colsample_bynode=1, colsample_bytree=0.2, gamma=0.2,\n",
              "              learning_rate=0.1, max_delta_step=0, max_depth=8,\n",
              "              min_child_weight=1, missing=None, n_estimators=200, n_jobs=1,\n",
              "              nthread=None, objective='binary:logistic', random_state=0,\n",
              "              reg_alpha=0, reg_lambda=1, scale_pos_weight=1, seed=None,\n",
              "              silent=None, subsample=1, verbosity=1)"
            ]
          },
          "metadata": {
            "tags": []
          },
          "execution_count": 507
        }
      ]
    },
    {
      "cell_type": "code",
      "metadata": {
        "id": "QSaYf0OGYnBq",
        "colab_type": "code",
        "colab": {
          "base_uri": "https://localhost:8080/",
          "height": 34
        },
        "outputId": "4acd4fad-177f-4172-d2c3-fb0b25f0830d"
      },
      "source": [
        "\n",
        "# make predictions for test data\n",
        "y_pred = model_opt.predict(X_test_new)\n",
        "predictions = [round(value) for value in y_pred]\n",
        "\n",
        "# evaluate predictions\n",
        "accuracy = accuracy_score(test_labels, predictions)\n",
        "print(\"Accuracy: %.2f%%\" % (accuracy * 100.0))"
      ],
      "execution_count": 508,
      "outputs": [
        {
          "output_type": "stream",
          "text": [
            "Accuracy: 86.94%\n"
          ],
          "name": "stdout"
        }
      ]
    },
    {
      "cell_type": "code",
      "metadata": {
        "id": "Z8D-K6-UZeNJ",
        "colab_type": "code",
        "colab": {
          "base_uri": "https://localhost:8080/",
          "height": 545
        },
        "outputId": "b24b7675-862b-457c-a283-91d1ca03d797"
      },
      "source": [
        "from matplotlib import pyplot\n",
        "\n",
        "results = model_opt.evals_result()\n",
        "epochs = len(results['validation_0']['error'])\n",
        "x_axis = range(0, epochs)\n",
        "# plot log loss\n",
        "fig, ax = pyplot.subplots()\n",
        "ax.plot(x_axis, results['validation_0']['logloss'], label='Train')\n",
        "ax.plot(x_axis, results['validation_1']['logloss'], label='Test')\n",
        "ax.legend()\n",
        "pyplot.ylabel('Log Loss')\n",
        "pyplot.title('XGBoost Log Loss')\n",
        "pyplot.show()\n",
        "# plot classification error\n",
        "fig, ax = pyplot.subplots()\n",
        "ax.plot(x_axis, results['validation_0']['error'], label='Train')\n",
        "ax.plot(x_axis, results['validation_1']['error'], label='Test')\n",
        "ax.legend()\n",
        "pyplot.ylabel('Classification Error')\n",
        "pyplot.title('XGBoost Classification Error')\n",
        "pyplot.show()"
      ],
      "execution_count": 509,
      "outputs": [
        {
          "output_type": "display_data",
          "data": {
            "image/png": "[encoded data removed]",
            "text/plain": [
              "<Figure size 432x288 with 1 Axes>"
            ]
          },
          "metadata": {
            "tags": [],
            "needs_background": "light"
          }
        },
        {
          "output_type": "display_data",
          "data": {
            "image/png": "[encoded data removed]",
            "text/plain": [
              "<Figure size 432x288 with 1 Axes>"
            ]
          },
          "metadata": {
            "tags": [],
            "needs_background": "light"
          }
        }
      ]
    },
    {
      "cell_type": "code",
      "metadata": {
        "id": "FC9l3_3rdBVp",
        "colab_type": "code",
        "colab": {
          "base_uri": "https://localhost:8080/",
          "height": 34
        },
        "outputId": "e8b85954-3c7a-4646-f5b6-3de538659b68"
      },
      "source": [
        "shap_values = shap.TreeExplainer(model_opt).shap_values(X_test_new) "
      ],
      "execution_count": 510,
      "outputs": [
        {
          "output_type": "stream",
          "text": [
            "Setting feature_perturbation = \"tree_path_dependent\" because no background data was given.\n"
          ],
          "name": "stderr"
        }
      ]
    },
    {
      "cell_type": "code",
      "metadata": {
        "id": "sCqFjPjzdIyd",
        "colab_type": "code",
        "colab": {
          "base_uri": "https://localhost:8080/",
          "height": 585
        },
        "outputId": "e37711ba-ec1f-4769-cc7e-aabe535b70e2"
      },
      "source": [
        "shap.summary_plot(shap_values, X_test_new)"
      ],
      "execution_count": 511,
      "outputs": [
        {
          "output_type": "display_data",
          "data": {
            "image/png": "[encoded data removed]",
            "text/plain": [
              "<Figure size 576x684 with 2 Axes>"
            ]
          },
          "metadata": {
            "tags": [],
            "needs_background": "light"
          }
        }
      ]
    },
    {
      "cell_type": "code",
      "metadata": {
        "id": "9E1paKnoeZWG",
        "colab_type": "code",
        "colab": {}
      },
      "source": [
        "predict = model_opt.predict(X_test_new)\n",
        "\n",
        "cm=confusion_matrix(test_labels,predict)"
      ],
      "execution_count": 512,
      "outputs": []
    },
    {
      "cell_type": "code",
      "metadata": {
        "id": "_HC4TpNaefH3",
        "colab_type": "code",
        "colab": {
          "base_uri": "https://localhost:8080/",
          "height": 215
        },
        "outputId": "a3ffe0c5-5e8e-45c5-bbcc-3cbdc80a1ad5"
      },
      "source": [
        "print('Confusion Matrix')\n",
        "fig,ax = plt.subplots(figsize=(2.5,2.5))\n",
        "ax.matshow(cm,cmap=plt.cm.Blues,alpha=0.3)\n",
        "for i in range(cm.shape[0]):\n",
        "  for j in range(cm.shape[1]):\n",
        "    ax.text(x=j,y=i,\n",
        "            s=cm[i,j],\n",
        "            va='center',ha='center')\n",
        "plt.xlabel('Predicted Label')\n",
        "plt.ylabel('True Label')\n",
        "plt.show()"
      ],
      "execution_count": 513,
      "outputs": [
        {
          "output_type": "stream",
          "text": [
            "Confusion Matrix\n"
          ],
          "name": "stdout"
        },
        {
          "output_type": "display_data",
          "data": {
            "image/png": "[encoded data removed]",
            "text/plain": [
              "<Figure size 180x180 with 1 Axes>"
            ]
          },
          "metadata": {
            "tags": [],
            "needs_background": "light"
          }
        }
      ]
    }
  ]
}