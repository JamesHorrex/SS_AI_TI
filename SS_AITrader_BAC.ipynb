{
  "nbformat": 4,
  "nbformat_minor": 0,
  "metadata": {
    "colab": {
      "name": "SS_AITrader.ipynb",
      "provenance": [],
      "collapsed_sections": [],
      "authorship_tag": "ABX9TyM5+1jzrMwyWUvS86rZ+NK4",
      "include_colab_link": true
    },
    "kernelspec": {
      "name": "python3",
      "display_name": "Python 3"
    },
    "accelerator": "GPU"
  },
  "cells": [
    {
      "cell_type": "markdown",
      "metadata": {
        "id": "view-in-github",
        "colab_type": "text"
      },
      "source": [
        "<a href=\"https://colab.research.google.com/github/JamesHorrex/SS_AI_TI/blob/master/SS_AITrader_BAC.ipynb\" target=\"_parent\"><img src=\"https://colab.research.google.com/assets/colab-badge.svg\" alt=\"Open In Colab\"/></a>"
      ]
    },
    {
      "cell_type": "code",
      "metadata": {
        "id": "bKT2tX6DtauA",
        "colab_type": "code",
        "colab": {
          "base_uri": "https://localhost:8080/",
          "height": 34
        },
        "outputId": "b6934d21-069b-4fc7-9759-13fdbf3b8a3f"
      },
      "source": [
        "%matplotlib inline\n",
        "import numpy as np\n",
        "import tensorflow as tf\n",
        "print(tf.__version__)"
      ],
      "execution_count": 2,
      "outputs": [
        {
          "output_type": "stream",
          "text": [
            "2.2.0\n"
          ],
          "name": "stdout"
        }
      ]
    },
    {
      "cell_type": "code",
      "metadata": {
        "id": "k2b2DdBskfka",
        "colab_type": "code",
        "colab": {
          "base_uri": "https://localhost:8080/",
          "height": 314
        },
        "outputId": "83c60797-79dc-416e-b1dd-4c6c0dcf0479"
      },
      "source": [
        "!pip install git+https://github.com/tensorflow/docs"
      ],
      "execution_count": 3,
      "outputs": [
        {
          "output_type": "stream",
          "text": [
            "Collecting git+https://github.com/tensorflow/docs\n",
            "  Cloning https://github.com/tensorflow/docs to /tmp/pip-req-build-u1gg8kd7\n",
            "  Running command git clone -q https://github.com/tensorflow/docs /tmp/pip-req-build-u1gg8kd7\n",
            "Requirement already satisfied: astor in /usr/local/lib/python3.6/dist-packages (from tensorflow-docs===0.0.087622f0d4888b557639c605c04a0e822874df5ba-) (0.8.1)\n",
            "Requirement already satisfied: absl-py in /usr/local/lib/python3.6/dist-packages (from tensorflow-docs===0.0.087622f0d4888b557639c605c04a0e822874df5ba-) (0.9.0)\n",
            "Requirement already satisfied: protobuf in /usr/local/lib/python3.6/dist-packages (from tensorflow-docs===0.0.087622f0d4888b557639c605c04a0e822874df5ba-) (3.10.0)\n",
            "Requirement already satisfied: pyyaml in /usr/local/lib/python3.6/dist-packages (from tensorflow-docs===0.0.087622f0d4888b557639c605c04a0e822874df5ba-) (3.13)\n",
            "Requirement already satisfied: six in /usr/local/lib/python3.6/dist-packages (from absl-py->tensorflow-docs===0.0.087622f0d4888b557639c605c04a0e822874df5ba-) (1.12.0)\n",
            "Requirement already satisfied: setuptools in /usr/local/lib/python3.6/dist-packages (from protobuf->tensorflow-docs===0.0.087622f0d4888b557639c605c04a0e822874df5ba-) (47.3.1)\n",
            "Building wheels for collected packages: tensorflow-docs\n",
            "  Building wheel for tensorflow-docs (setup.py) ... \u001b[?25l\u001b[?25hdone\n",
            "  Created wheel for tensorflow-docs: filename=tensorflow_docs-0.0.087622f0d4888b557639c605c04a0e822874df5ba_-cp36-none-any.whl size=123835 sha256=6bd4575d9ab5558f18a03de08bb32ffe50026b9f6c5c612e189fbdd90ce56612\n",
            "  Stored in directory: /tmp/pip-ephem-wheel-cache-boryl4mq/wheels/eb/1b/35/fce87697be00d2fc63e0b4b395b0d9c7e391a10e98d9a0d97f\n",
            "Successfully built tensorflow-docs\n",
            "Installing collected packages: tensorflow-docs\n",
            "Successfully installed tensorflow-docs-0.0.087622f0d4888b557639c605c04a0e822874df5ba-\n"
          ],
          "name": "stdout"
        }
      ]
    },
    {
      "cell_type": "code",
      "metadata": {
        "id": "IYtw7-dbkYiD",
        "colab_type": "code",
        "colab": {}
      },
      "source": [
        "import tensorflow_docs as tfdocs\n",
        "import tensorflow_docs.plots\n",
        "import tensorflow_docs.modeling"
      ],
      "execution_count": 4,
      "outputs": []
    },
    {
      "cell_type": "code",
      "metadata": {
        "id": "hDdT5zKLv1rP",
        "colab_type": "code",
        "colab": {
          "base_uri": "https://localhost:8080/",
          "height": 123
        },
        "outputId": "b0389859-a0a4-4852-fcf7-310a27f6929d"
      },
      "source": [
        "from google.colab import drive \n",
        "drive.mount('/content/gdrive')"
      ],
      "execution_count": 5,
      "outputs": [
        {
          "output_type": "stream",
          "text": [
            "Go to this URL in a browser: https://accounts.google.com/o/oauth2/auth?client_id=947318989803-6bn6qk8qdgf4n4g3pfee6491hc0brc4i.apps.googleusercontent.com&redirect_uri=urn%3aietf%3awg%3aoauth%3a2.0%3aoob&response_type=code&scope=email%20https%3a%2f%2fwww.googleapis.com%2fauth%2fdocs.test%20https%3a%2f%2fwww.googleapis.com%2fauth%2fdrive%20https%3a%2f%2fwww.googleapis.com%2fauth%2fdrive.photos.readonly%20https%3a%2f%2fwww.googleapis.com%2fauth%2fpeopleapi.readonly\n",
            "\n",
            "Enter your authorization code:\n",
            "··········\n",
            "Mounted at /content/gdrive\n"
          ],
          "name": "stdout"
        }
      ]
    },
    {
      "cell_type": "code",
      "metadata": {
        "id": "mAz2vMeqAyTL",
        "colab_type": "code",
        "colab": {}
      },
      "source": [
        "import pandas as pd \n",
        "stock='BAC'\n",
        "df=pd.read_csv('gdrive/My Drive/SS_AITrader/'+stock+'/df_'+stock+'_20drtn_features.csv')"
      ],
      "execution_count": 313,
      "outputs": []
    },
    {
      "cell_type": "code",
      "metadata": {
        "id": "I0Qvmpz-BCSt",
        "colab_type": "code",
        "colab": {
          "base_uri": "https://localhost:8080/",
          "height": 312
        },
        "outputId": "e503007f-9321-4d41-ce22-f1a91660beae"
      },
      "source": [
        "df.head()"
      ],
      "execution_count": 314,
      "outputs": [
        {
          "output_type": "execute_result",
          "data": {
            "text/html": [
              "<div>\n",
              "<style scoped>\n",
              "    .dataframe tbody tr th:only-of-type {\n",
              "        vertical-align: middle;\n",
              "    }\n",
              "\n",
              "    .dataframe tbody tr th {\n",
              "        vertical-align: top;\n",
              "    }\n",
              "\n",
              "    .dataframe thead th {\n",
              "        text-align: right;\n",
              "    }\n",
              "</style>\n",
              "<table border=\"1\" class=\"dataframe\">\n",
              "  <thead>\n",
              "    <tr style=\"text-align: right;\">\n",
              "      <th></th>\n",
              "      <th>timestamp</th>\n",
              "      <th>rsi_10</th>\n",
              "      <th>rsi_15</th>\n",
              "      <th>rsi_20</th>\n",
              "      <th>rsi_40</th>\n",
              "      <th>wr_10</th>\n",
              "      <th>wr_15</th>\n",
              "      <th>wr_20</th>\n",
              "      <th>wr_40</th>\n",
              "      <th>mfi_10</th>\n",
              "      <th>mfi_15</th>\n",
              "      <th>mfi_20</th>\n",
              "      <th>mfi_40</th>\n",
              "      <th>roc_1</th>\n",
              "      <th>roc_3</th>\n",
              "      <th>roc_5</th>\n",
              "      <th>roc_10</th>\n",
              "      <th>roc_20</th>\n",
              "      <th>trix_10</th>\n",
              "      <th>trix_15</th>\n",
              "      <th>trix_20</th>\n",
              "      <th>trix_40</th>\n",
              "      <th>macd10</th>\n",
              "      <th>macd15</th>\n",
              "      <th>macd20</th>\n",
              "      <th>macd40</th>\n",
              "      <th>cci_5</th>\n",
              "      <th>cci_10</th>\n",
              "      <th>cci_15</th>\n",
              "      <th>cci_25</th>\n",
              "      <th>kst_20</th>\n",
              "      <th>kst_40</th>\n",
              "      <th>ibr</th>\n",
              "      <th>bb_h10</th>\n",
              "      <th>bb_l10</th>\n",
              "      <th>bb_h15</th>\n",
              "      <th>bb_l15</th>\n",
              "      <th>bb_h20</th>\n",
              "      <th>bb_l20</th>\n",
              "      <th>bb_h40</th>\n",
              "      <th>bb_l40</th>\n",
              "      <th>realised_vol_10</th>\n",
              "      <th>realised_vol_change_5d_10</th>\n",
              "      <th>realised_vol_20</th>\n",
              "      <th>realised_vol_change_5d_20</th>\n",
              "      <th>realised_vol_40</th>\n",
              "      <th>realised_vol_change_5d_40</th>\n",
              "      <th>vix_level</th>\n",
              "      <th>vix_1d_change</th>\n",
              "      <th>vix_5d_change</th>\n",
              "      <th>forcei_10</th>\n",
              "      <th>forcei_15</th>\n",
              "      <th>forcei_20</th>\n",
              "      <th>forcei_40</th>\n",
              "      <th>cmf_10</th>\n",
              "      <th>cmf_15</th>\n",
              "      <th>cmf_20</th>\n",
              "      <th>cmf_40</th>\n",
              "      <th>volume_delta</th>\n",
              "      <th>curve</th>\n",
              "      <th>curve_shift</th>\n",
              "      <th>curve_shift_5d</th>\n",
              "      <th>dollarix_1d_change</th>\n",
              "      <th>dollarix_5d_change</th>\n",
              "      <th>labels</th>\n",
              "    </tr>\n",
              "  </thead>\n",
              "  <tbody>\n",
              "    <tr>\n",
              "      <th>0</th>\n",
              "      <td>2008-03-06</td>\n",
              "      <td>10.665772</td>\n",
              "      <td>20.199074</td>\n",
              "      <td>28.395354</td>\n",
              "      <td>45.308801</td>\n",
              "      <td>-96.556648</td>\n",
              "      <td>-96.721288</td>\n",
              "      <td>-96.812728</td>\n",
              "      <td>-71.571900</td>\n",
              "      <td>24.928281</td>\n",
              "      <td>22.089128</td>\n",
              "      <td>32.264400</td>\n",
              "      <td>49.772501</td>\n",
              "      <td>-2.743006</td>\n",
              "      <td>-6.789178</td>\n",
              "      <td>-11.830029</td>\n",
              "      <td>-13.480215</td>\n",
              "      <td>-13.725493</td>\n",
              "      <td>-0.338562</td>\n",
              "      <td>-0.015970</td>\n",
              "      <td>0.063501</td>\n",
              "      <td>0.021953</td>\n",
              "      <td>-0.881290</td>\n",
              "      <td>-0.881290</td>\n",
              "      <td>-0.881290</td>\n",
              "      <td>-0.881290</td>\n",
              "      <td>-122.445269</td>\n",
              "      <td>-128.030818</td>\n",
              "      <td>-167.273933</td>\n",
              "      <td>-252.062649</td>\n",
              "      <td>-4.668752</td>\n",
              "      <td>48.614281</td>\n",
              "      <td>0.252633</td>\n",
              "      <td>0.0</td>\n",
              "      <td>0.0</td>\n",
              "      <td>0.0</td>\n",
              "      <td>1.0</td>\n",
              "      <td>0.0</td>\n",
              "      <td>1.0</td>\n",
              "      <td>0.0</td>\n",
              "      <td>0.0</td>\n",
              "      <td>0.291392</td>\n",
              "      <td>0.039242</td>\n",
              "      <td>0.303011</td>\n",
              "      <td>-0.035934</td>\n",
              "      <td>0.434522</td>\n",
              "      <td>0.013841</td>\n",
              "      <td>27.549999</td>\n",
              "      <td>2.949999</td>\n",
              "      <td>4.019999</td>\n",
              "      <td>-4.331492e+07</td>\n",
              "      <td>-4.331492e+07</td>\n",
              "      <td>-4.331492e+07</td>\n",
              "      <td>-4.331492e+07</td>\n",
              "      <td>-0.083928</td>\n",
              "      <td>-0.043246</td>\n",
              "      <td>0.010295</td>\n",
              "      <td>0.065919</td>\n",
              "      <td>0.002129</td>\n",
              "      <td>2.257</td>\n",
              "      <td>0.044</td>\n",
              "      <td>0.397</td>\n",
              "      <td>-0.480003</td>\n",
              "      <td>-0.720001</td>\n",
              "      <td>1.0</td>\n",
              "    </tr>\n",
              "    <tr>\n",
              "      <th>1</th>\n",
              "      <td>2008-03-07</td>\n",
              "      <td>14.705471</td>\n",
              "      <td>18.227026</td>\n",
              "      <td>29.790649</td>\n",
              "      <td>47.623409</td>\n",
              "      <td>-88.571424</td>\n",
              "      <td>-88.947364</td>\n",
              "      <td>-89.090903</td>\n",
              "      <td>-69.732426</td>\n",
              "      <td>34.925037</td>\n",
              "      <td>28.835627</td>\n",
              "      <td>31.320660</td>\n",
              "      <td>51.799513</td>\n",
              "      <td>0.602413</td>\n",
              "      <td>-5.260436</td>\n",
              "      <td>-7.549069</td>\n",
              "      <td>-13.755862</td>\n",
              "      <td>-15.287059</td>\n",
              "      <td>-0.451633</td>\n",
              "      <td>-0.079839</td>\n",
              "      <td>0.029493</td>\n",
              "      <td>0.018747</td>\n",
              "      <td>-1.074473</td>\n",
              "      <td>-1.074473</td>\n",
              "      <td>-1.074473</td>\n",
              "      <td>-1.074473</td>\n",
              "      <td>-81.059175</td>\n",
              "      <td>-100.586794</td>\n",
              "      <td>-130.315527</td>\n",
              "      <td>-196.810841</td>\n",
              "      <td>-18.608835</td>\n",
              "      <td>23.703650</td>\n",
              "      <td>0.502995</td>\n",
              "      <td>0.0</td>\n",
              "      <td>0.0</td>\n",
              "      <td>0.0</td>\n",
              "      <td>0.0</td>\n",
              "      <td>0.0</td>\n",
              "      <td>1.0</td>\n",
              "      <td>0.0</td>\n",
              "      <td>0.0</td>\n",
              "      <td>0.284509</td>\n",
              "      <td>-0.011259</td>\n",
              "      <td>0.283780</td>\n",
              "      <td>-0.035676</td>\n",
              "      <td>0.434208</td>\n",
              "      <td>0.003179</td>\n",
              "      <td>27.490000</td>\n",
              "      <td>-0.059999</td>\n",
              "      <td>0.949999</td>\n",
              "      <td>-2.566000e+07</td>\n",
              "      <td>-2.566000e+07</td>\n",
              "      <td>-2.566000e+07</td>\n",
              "      <td>-2.566000e+07</td>\n",
              "      <td>-0.161024</td>\n",
              "      <td>0.011597</td>\n",
              "      <td>-0.022640</td>\n",
              "      <td>0.045669</td>\n",
              "      <td>-0.155857</td>\n",
              "      <td>2.141</td>\n",
              "      <td>-0.116</td>\n",
              "      <td>0.392</td>\n",
              "      <td>0.029999</td>\n",
              "      <td>-0.680000</td>\n",
              "      <td>1.0</td>\n",
              "    </tr>\n",
              "    <tr>\n",
              "      <th>2</th>\n",
              "      <td>2008-03-10</td>\n",
              "      <td>8.100014</td>\n",
              "      <td>17.359608</td>\n",
              "      <td>21.465780</td>\n",
              "      <td>45.204720</td>\n",
              "      <td>-98.024693</td>\n",
              "      <td>-98.083834</td>\n",
              "      <td>-98.106510</td>\n",
              "      <td>-81.688947</td>\n",
              "      <td>25.890885</td>\n",
              "      <td>29.284460</td>\n",
              "      <td>31.404727</td>\n",
              "      <td>49.239955</td>\n",
              "      <td>-3.892216</td>\n",
              "      <td>-5.965374</td>\n",
              "      <td>-9.877486</td>\n",
              "      <td>-17.768974</td>\n",
              "      <td>-16.247625</td>\n",
              "      <td>-0.568820</td>\n",
              "      <td>-0.149018</td>\n",
              "      <td>-0.008994</td>\n",
              "      <td>0.014249</td>\n",
              "      <td>-1.327656</td>\n",
              "      <td>-1.327656</td>\n",
              "      <td>-1.327656</td>\n",
              "      <td>-1.327656</td>\n",
              "      <td>-98.777128</td>\n",
              "      <td>-106.218941</td>\n",
              "      <td>-128.378091</td>\n",
              "      <td>-186.947207</td>\n",
              "      <td>-35.551250</td>\n",
              "      <td>-4.593409</td>\n",
              "      <td>0.078049</td>\n",
              "      <td>0.0</td>\n",
              "      <td>0.0</td>\n",
              "      <td>0.0</td>\n",
              "      <td>0.0</td>\n",
              "      <td>0.0</td>\n",
              "      <td>1.0</td>\n",
              "      <td>0.0</td>\n",
              "      <td>1.0</td>\n",
              "      <td>0.277888</td>\n",
              "      <td>-0.004395</td>\n",
              "      <td>0.296393</td>\n",
              "      <td>-0.010344</td>\n",
              "      <td>0.442550</td>\n",
              "      <td>0.010370</td>\n",
              "      <td>29.379999</td>\n",
              "      <td>1.889999</td>\n",
              "      <td>3.099998</td>\n",
              "      <td>-4.110974e+07</td>\n",
              "      <td>-4.110974e+07</td>\n",
              "      <td>-4.110974e+07</td>\n",
              "      <td>-4.110974e+07</td>\n",
              "      <td>-0.317141</td>\n",
              "      <td>-0.147869</td>\n",
              "      <td>-0.058421</td>\n",
              "      <td>0.010594</td>\n",
              "      <td>0.148039</td>\n",
              "      <td>2.138</td>\n",
              "      <td>-0.003</td>\n",
              "      <td>0.239</td>\n",
              "      <td>-0.040001</td>\n",
              "      <td>-0.709999</td>\n",
              "      <td>1.0</td>\n",
              "    </tr>\n",
              "    <tr>\n",
              "      <th>3</th>\n",
              "      <td>2008-03-11</td>\n",
              "      <td>27.627758</td>\n",
              "      <td>31.207784</td>\n",
              "      <td>36.092739</td>\n",
              "      <td>48.003509</td>\n",
              "      <td>-68.271603</td>\n",
              "      <td>-69.221555</td>\n",
              "      <td>-69.585791</td>\n",
              "      <td>-61.538452</td>\n",
              "      <td>31.065326</td>\n",
              "      <td>32.489776</td>\n",
              "      <td>38.122681</td>\n",
              "      <td>52.707869</td>\n",
              "      <td>6.825261</td>\n",
              "      <td>3.285873</td>\n",
              "      <td>-2.733362</td>\n",
              "      <td>-11.704120</td>\n",
              "      <td>-10.488843</td>\n",
              "      <td>-0.640967</td>\n",
              "      <td>-0.207360</td>\n",
              "      <td>-0.044799</td>\n",
              "      <td>0.009351</td>\n",
              "      <td>-1.318638</td>\n",
              "      <td>-1.318638</td>\n",
              "      <td>-1.318638</td>\n",
              "      <td>-1.318638</td>\n",
              "      <td>26.281428</td>\n",
              "      <td>-59.120100</td>\n",
              "      <td>-82.759675</td>\n",
              "      <td>-127.660037</td>\n",
              "      <td>-47.087101</td>\n",
              "      <td>-27.637554</td>\n",
              "      <td>0.986176</td>\n",
              "      <td>0.0</td>\n",
              "      <td>0.0</td>\n",
              "      <td>0.0</td>\n",
              "      <td>0.0</td>\n",
              "      <td>0.0</td>\n",
              "      <td>0.0</td>\n",
              "      <td>0.0</td>\n",
              "      <td>0.0</td>\n",
              "      <td>0.520460</td>\n",
              "      <td>0.241440</td>\n",
              "      <td>0.402844</td>\n",
              "      <td>0.101209</td>\n",
              "      <td>0.473958</td>\n",
              "      <td>0.041927</td>\n",
              "      <td>26.360001</td>\n",
              "      <td>-3.019999</td>\n",
              "      <td>0.840000</td>\n",
              "      <td>2.728122e+07</td>\n",
              "      <td>2.728122e+07</td>\n",
              "      <td>2.728122e+07</td>\n",
              "      <td>2.728122e+07</td>\n",
              "      <td>-0.136933</td>\n",
              "      <td>-0.016087</td>\n",
              "      <td>0.031894</td>\n",
              "      <td>0.066559</td>\n",
              "      <td>0.351892</td>\n",
              "      <td>2.156</td>\n",
              "      <td>0.018</td>\n",
              "      <td>0.172</td>\n",
              "      <td>0.290001</td>\n",
              "      <td>-0.380005</td>\n",
              "      <td>1.0</td>\n",
              "    </tr>\n",
              "    <tr>\n",
              "      <th>4</th>\n",
              "      <td>2008-03-12</td>\n",
              "      <td>24.588717</td>\n",
              "      <td>28.658712</td>\n",
              "      <td>34.004066</td>\n",
              "      <td>48.035669</td>\n",
              "      <td>-75.230603</td>\n",
              "      <td>-77.485059</td>\n",
              "      <td>-77.751504</td>\n",
              "      <td>-67.307702</td>\n",
              "      <td>32.236060</td>\n",
              "      <td>38.995457</td>\n",
              "      <td>37.858910</td>\n",
              "      <td>52.782159</td>\n",
              "      <td>-1.829275</td>\n",
              "      <td>0.789323</td>\n",
              "      <td>-1.384821</td>\n",
              "      <td>-13.642729</td>\n",
              "      <td>-13.521721</td>\n",
              "      <td>-0.688711</td>\n",
              "      <td>-0.258921</td>\n",
              "      <td>-0.079146</td>\n",
              "      <td>0.003948</td>\n",
              "      <td>-1.351589</td>\n",
              "      <td>-1.351589</td>\n",
              "      <td>-1.351589</td>\n",
              "      <td>-1.351589</td>\n",
              "      <td>131.529774</td>\n",
              "      <td>-24.105597</td>\n",
              "      <td>-57.021755</td>\n",
              "      <td>-95.777275</td>\n",
              "      <td>-61.571484</td>\n",
              "      <td>-53.912644</td>\n",
              "      <td>0.026041</td>\n",
              "      <td>0.0</td>\n",
              "      <td>0.0</td>\n",
              "      <td>0.0</td>\n",
              "      <td>0.0</td>\n",
              "      <td>0.0</td>\n",
              "      <td>0.0</td>\n",
              "      <td>0.0</td>\n",
              "      <td>0.0</td>\n",
              "      <td>0.513628</td>\n",
              "      <td>0.230618</td>\n",
              "      <td>0.397131</td>\n",
              "      <td>0.103146</td>\n",
              "      <td>0.473580</td>\n",
              "      <td>0.034458</td>\n",
              "      <td>27.219999</td>\n",
              "      <td>0.859999</td>\n",
              "      <td>2.619999</td>\n",
              "      <td>8.585545e+06</td>\n",
              "      <td>8.585545e+06</td>\n",
              "      <td>8.585545e+06</td>\n",
              "      <td>8.585545e+06</td>\n",
              "      <td>-0.237486</td>\n",
              "      <td>-0.118225</td>\n",
              "      <td>-0.022332</td>\n",
              "      <td>0.031348</td>\n",
              "      <td>-0.386753</td>\n",
              "      <td>2.043</td>\n",
              "      <td>-0.113</td>\n",
              "      <td>-0.170</td>\n",
              "      <td>-0.879997</td>\n",
              "      <td>-1.080002</td>\n",
              "      <td>1.0</td>\n",
              "    </tr>\n",
              "  </tbody>\n",
              "</table>\n",
              "</div>"
            ],
            "text/plain": [
              "    timestamp     rsi_10  ...  dollarix_5d_change  labels\n",
              "0  2008-03-06  10.665772  ...           -0.720001     1.0\n",
              "1  2008-03-07  14.705471  ...           -0.680000     1.0\n",
              "2  2008-03-10   8.100014  ...           -0.709999     1.0\n",
              "3  2008-03-11  27.627758  ...           -0.380005     1.0\n",
              "4  2008-03-12  24.588717  ...           -1.080002     1.0\n",
              "\n",
              "[5 rows x 65 columns]"
            ]
          },
          "metadata": {
            "tags": []
          },
          "execution_count": 314
        }
      ]
    },
    {
      "cell_type": "code",
      "metadata": {
        "id": "1qE_jesFKOpZ",
        "colab_type": "code",
        "colab": {}
      },
      "source": [
        "df['timestamp'] = pd.to_datetime(df['timestamp'])"
      ],
      "execution_count": 315,
      "outputs": []
    },
    {
      "cell_type": "code",
      "metadata": {
        "id": "qTGO7R82NRMH",
        "colab_type": "code",
        "colab": {}
      },
      "source": [
        "from_date='2010-01-01'\n",
        "to_date='2020-01-01'"
      ],
      "execution_count": 316,
      "outputs": []
    },
    {
      "cell_type": "code",
      "metadata": {
        "id": "Hy0qnGa0NZpz",
        "colab_type": "code",
        "colab": {}
      },
      "source": [
        "df = df[pd.to_datetime(from_date) < df['timestamp'] ]\n",
        "df = df[pd.to_datetime(to_date) > df['timestamp'] ]\n"
      ],
      "execution_count": 317,
      "outputs": []
    },
    {
      "cell_type": "code",
      "metadata": {
        "id": "inuuZ7pWKXup",
        "colab_type": "code",
        "colab": {
          "base_uri": "https://localhost:8080/",
          "height": 312
        },
        "outputId": "a7229906-443e-4fe0-fc7a-df66c980e884"
      },
      "source": [
        "df.head()"
      ],
      "execution_count": 318,
      "outputs": [
        {
          "output_type": "execute_result",
          "data": {
            "text/html": [
              "<div>\n",
              "<style scoped>\n",
              "    .dataframe tbody tr th:only-of-type {\n",
              "        vertical-align: middle;\n",
              "    }\n",
              "\n",
              "    .dataframe tbody tr th {\n",
              "        vertical-align: top;\n",
              "    }\n",
              "\n",
              "    .dataframe thead th {\n",
              "        text-align: right;\n",
              "    }\n",
              "</style>\n",
              "<table border=\"1\" class=\"dataframe\">\n",
              "  <thead>\n",
              "    <tr style=\"text-align: right;\">\n",
              "      <th></th>\n",
              "      <th>timestamp</th>\n",
              "      <th>rsi_10</th>\n",
              "      <th>rsi_15</th>\n",
              "      <th>rsi_20</th>\n",
              "      <th>rsi_40</th>\n",
              "      <th>wr_10</th>\n",
              "      <th>wr_15</th>\n",
              "      <th>wr_20</th>\n",
              "      <th>wr_40</th>\n",
              "      <th>mfi_10</th>\n",
              "      <th>mfi_15</th>\n",
              "      <th>mfi_20</th>\n",
              "      <th>mfi_40</th>\n",
              "      <th>roc_1</th>\n",
              "      <th>roc_3</th>\n",
              "      <th>roc_5</th>\n",
              "      <th>roc_10</th>\n",
              "      <th>roc_20</th>\n",
              "      <th>trix_10</th>\n",
              "      <th>trix_15</th>\n",
              "      <th>trix_20</th>\n",
              "      <th>trix_40</th>\n",
              "      <th>macd10</th>\n",
              "      <th>macd15</th>\n",
              "      <th>macd20</th>\n",
              "      <th>macd40</th>\n",
              "      <th>cci_5</th>\n",
              "      <th>cci_10</th>\n",
              "      <th>cci_15</th>\n",
              "      <th>cci_25</th>\n",
              "      <th>kst_20</th>\n",
              "      <th>kst_40</th>\n",
              "      <th>ibr</th>\n",
              "      <th>bb_h10</th>\n",
              "      <th>bb_l10</th>\n",
              "      <th>bb_h15</th>\n",
              "      <th>bb_l15</th>\n",
              "      <th>bb_h20</th>\n",
              "      <th>bb_l20</th>\n",
              "      <th>bb_h40</th>\n",
              "      <th>bb_l40</th>\n",
              "      <th>realised_vol_10</th>\n",
              "      <th>realised_vol_change_5d_10</th>\n",
              "      <th>realised_vol_20</th>\n",
              "      <th>realised_vol_change_5d_20</th>\n",
              "      <th>realised_vol_40</th>\n",
              "      <th>realised_vol_change_5d_40</th>\n",
              "      <th>vix_level</th>\n",
              "      <th>vix_1d_change</th>\n",
              "      <th>vix_5d_change</th>\n",
              "      <th>forcei_10</th>\n",
              "      <th>forcei_15</th>\n",
              "      <th>forcei_20</th>\n",
              "      <th>forcei_40</th>\n",
              "      <th>cmf_10</th>\n",
              "      <th>cmf_15</th>\n",
              "      <th>cmf_20</th>\n",
              "      <th>cmf_40</th>\n",
              "      <th>volume_delta</th>\n",
              "      <th>curve</th>\n",
              "      <th>curve_shift</th>\n",
              "      <th>curve_shift_5d</th>\n",
              "      <th>dollarix_1d_change</th>\n",
              "      <th>dollarix_5d_change</th>\n",
              "      <th>labels</th>\n",
              "    </tr>\n",
              "  </thead>\n",
              "  <tbody>\n",
              "    <tr>\n",
              "      <th>445</th>\n",
              "      <td>2010-01-05</td>\n",
              "      <td>82.683321</td>\n",
              "      <td>64.720348</td>\n",
              "      <td>54.606838</td>\n",
              "      <td>57.364284</td>\n",
              "      <td>-0.806317</td>\n",
              "      <td>-0.724516</td>\n",
              "      <td>-6.164390</td>\n",
              "      <td>-28.272202</td>\n",
              "      <td>73.663774</td>\n",
              "      <td>64.042364</td>\n",
              "      <td>45.776417</td>\n",
              "      <td>60.603040</td>\n",
              "      <td>3.250486</td>\n",
              "      <td>7.498348</td>\n",
              "      <td>5.951608</td>\n",
              "      <td>7.784438</td>\n",
              "      <td>-0.491400</td>\n",
              "      <td>-0.109464</td>\n",
              "      <td>-0.147202</td>\n",
              "      <td>-0.147802</td>\n",
              "      <td>-0.025457</td>\n",
              "      <td>-0.057709</td>\n",
              "      <td>-0.057709</td>\n",
              "      <td>-0.057709</td>\n",
              "      <td>-0.057709</td>\n",
              "      <td>137.107993</td>\n",
              "      <td>255.932887</td>\n",
              "      <td>281.857338</td>\n",
              "      <td>134.908993</td>\n",
              "      <td>-24.896528</td>\n",
              "      <td>-19.915838</td>\n",
              "      <td>0.980395</td>\n",
              "      <td>1.0</td>\n",
              "      <td>0.0</td>\n",
              "      <td>1.0</td>\n",
              "      <td>0.0</td>\n",
              "      <td>1.0</td>\n",
              "      <td>0.0</td>\n",
              "      <td>0.0</td>\n",
              "      <td>0.0</td>\n",
              "      <td>0.277393</td>\n",
              "      <td>0.037025</td>\n",
              "      <td>0.314047</td>\n",
              "      <td>0.020665</td>\n",
              "      <td>0.321816</td>\n",
              "      <td>-0.034209</td>\n",
              "      <td>19.350000</td>\n",
              "      <td>-0.690001</td>\n",
              "      <td>-0.580000</td>\n",
              "      <td>5.951796e+07</td>\n",
              "      <td>5.951796e+07</td>\n",
              "      <td>5.951796e+07</td>\n",
              "      <td>5.951796e+07</td>\n",
              "      <td>0.065093</td>\n",
              "      <td>-0.186667</td>\n",
              "      <td>-0.268118</td>\n",
              "      <td>-0.071697</td>\n",
              "      <td>0.158567</td>\n",
              "      <td>3.695</td>\n",
              "      <td>-0.091</td>\n",
              "      <td>-0.092</td>\n",
              "      <td>0.090004</td>\n",
              "      <td>-0.009995</td>\n",
              "      <td>0.0</td>\n",
              "    </tr>\n",
              "    <tr>\n",
              "      <th>446</th>\n",
              "      <td>2010-01-06</td>\n",
              "      <td>82.556312</td>\n",
              "      <td>61.961551</td>\n",
              "      <td>51.271172</td>\n",
              "      <td>56.308662</td>\n",
              "      <td>-9.554233</td>\n",
              "      <td>-8.772014</td>\n",
              "      <td>-8.772014</td>\n",
              "      <td>-18.324629</td>\n",
              "      <td>75.063888</td>\n",
              "      <td>65.477067</td>\n",
              "      <td>53.586625</td>\n",
              "      <td>60.939169</td>\n",
              "      <td>1.172831</td>\n",
              "      <td>8.831334</td>\n",
              "      <td>8.399468</td>\n",
              "      <td>7.264396</td>\n",
              "      <td>3.146627</td>\n",
              "      <td>-0.028794</td>\n",
              "      <td>-0.118479</td>\n",
              "      <td>-0.135223</td>\n",
              "      <td>-0.027850</td>\n",
              "      <td>0.022884</td>\n",
              "      <td>0.022884</td>\n",
              "      <td>0.022884</td>\n",
              "      <td>0.022884</td>\n",
              "      <td>103.936428</td>\n",
              "      <td>187.992395</td>\n",
              "      <td>265.556191</td>\n",
              "      <td>181.239979</td>\n",
              "      <td>-21.355709</td>\n",
              "      <td>-15.723204</td>\n",
              "      <td>0.705879</td>\n",
              "      <td>1.0</td>\n",
              "      <td>0.0</td>\n",
              "      <td>1.0</td>\n",
              "      <td>0.0</td>\n",
              "      <td>1.0</td>\n",
              "      <td>0.0</td>\n",
              "      <td>0.0</td>\n",
              "      <td>0.0</td>\n",
              "      <td>0.274023</td>\n",
              "      <td>0.029914</td>\n",
              "      <td>0.303401</td>\n",
              "      <td>0.023283</td>\n",
              "      <td>0.322191</td>\n",
              "      <td>0.017617</td>\n",
              "      <td>19.160000</td>\n",
              "      <td>-0.190001</td>\n",
              "      <td>-0.850000</td>\n",
              "      <td>5.267821e+07</td>\n",
              "      <td>5.267821e+07</td>\n",
              "      <td>5.267821e+07</td>\n",
              "      <td>5.267821e+07</td>\n",
              "      <td>0.174894</td>\n",
              "      <td>-0.161079</td>\n",
              "      <td>-0.183715</td>\n",
              "      <td>-0.061434</td>\n",
              "      <td>-0.020348</td>\n",
              "      <td>3.763</td>\n",
              "      <td>0.068</td>\n",
              "      <td>0.049</td>\n",
              "      <td>-0.130005</td>\n",
              "      <td>-0.340004</td>\n",
              "      <td>0.0</td>\n",
              "    </tr>\n",
              "    <tr>\n",
              "      <th>447</th>\n",
              "      <td>2010-01-07</td>\n",
              "      <td>84.897967</td>\n",
              "      <td>67.619403</td>\n",
              "      <td>60.928076</td>\n",
              "      <td>59.023601</td>\n",
              "      <td>-11.711721</td>\n",
              "      <td>-11.016956</td>\n",
              "      <td>-11.016956</td>\n",
              "      <td>-11.016956</td>\n",
              "      <td>79.272899</td>\n",
              "      <td>75.899015</td>\n",
              "      <td>63.593800</td>\n",
              "      <td>61.787394</td>\n",
              "      <td>3.294698</td>\n",
              "      <td>7.903128</td>\n",
              "      <td>12.342406</td>\n",
              "      <td>10.437054</td>\n",
              "      <td>9.863728</td>\n",
              "      <td>0.077298</td>\n",
              "      <td>-0.077269</td>\n",
              "      <td>-0.116054</td>\n",
              "      <td>-0.029017</td>\n",
              "      <td>0.128844</td>\n",
              "      <td>0.128844</td>\n",
              "      <td>0.128844</td>\n",
              "      <td>0.128844</td>\n",
              "      <td>114.367535</td>\n",
              "      <td>173.981553</td>\n",
              "      <td>243.569149</td>\n",
              "      <td>255.019661</td>\n",
              "      <td>-12.018034</td>\n",
              "      <td>-7.180194</td>\n",
              "      <td>0.617647</td>\n",
              "      <td>1.0</td>\n",
              "      <td>0.0</td>\n",
              "      <td>1.0</td>\n",
              "      <td>0.0</td>\n",
              "      <td>1.0</td>\n",
              "      <td>0.0</td>\n",
              "      <td>1.0</td>\n",
              "      <td>0.0</td>\n",
              "      <td>0.301337</td>\n",
              "      <td>0.100250</td>\n",
              "      <td>0.298018</td>\n",
              "      <td>0.018603</td>\n",
              "      <td>0.310558</td>\n",
              "      <td>0.005849</td>\n",
              "      <td>19.059999</td>\n",
              "      <td>-0.100000</td>\n",
              "      <td>-0.900000</td>\n",
              "      <td>9.287522e+07</td>\n",
              "      <td>9.287522e+07</td>\n",
              "      <td>9.287522e+07</td>\n",
              "      <td>9.287522e+07</td>\n",
              "      <td>0.262297</td>\n",
              "      <td>-0.055606</td>\n",
              "      <td>-0.080740</td>\n",
              "      <td>-0.069043</td>\n",
              "      <td>0.563245</td>\n",
              "      <td>3.777</td>\n",
              "      <td>0.014</td>\n",
              "      <td>0.033</td>\n",
              "      <td>0.420006</td>\n",
              "      <td>0.000000</td>\n",
              "      <td>0.0</td>\n",
              "    </tr>\n",
              "    <tr>\n",
              "      <th>448</th>\n",
              "      <td>2010-01-08</td>\n",
              "      <td>78.590445</td>\n",
              "      <td>72.686245</td>\n",
              "      <td>65.008126</td>\n",
              "      <td>55.074487</td>\n",
              "      <td>-18.468459</td>\n",
              "      <td>-17.372870</td>\n",
              "      <td>-17.372870</td>\n",
              "      <td>-17.372870</td>\n",
              "      <td>72.399667</td>\n",
              "      <td>66.725940</td>\n",
              "      <td>62.815450</td>\n",
              "      <td>59.052145</td>\n",
              "      <td>-0.885999</td>\n",
              "      <td>3.580246</td>\n",
              "      <td>11.420984</td>\n",
              "      <td>10.467420</td>\n",
              "      <td>9.031841</td>\n",
              "      <td>0.181545</td>\n",
              "      <td>-0.031158</td>\n",
              "      <td>-0.093184</td>\n",
              "      <td>-0.029226</td>\n",
              "      <td>0.198426</td>\n",
              "      <td>0.198426</td>\n",
              "      <td>0.198426</td>\n",
              "      <td>0.198426</td>\n",
              "      <td>80.090552</td>\n",
              "      <td>117.763380</td>\n",
              "      <td>166.841441</td>\n",
              "      <td>202.382451</td>\n",
              "      <td>-3.331785</td>\n",
              "      <td>0.673812</td>\n",
              "      <td>0.319151</td>\n",
              "      <td>0.0</td>\n",
              "      <td>0.0</td>\n",
              "      <td>0.0</td>\n",
              "      <td>0.0</td>\n",
              "      <td>1.0</td>\n",
              "      <td>0.0</td>\n",
              "      <td>1.0</td>\n",
              "      <td>0.0</td>\n",
              "      <td>0.300852</td>\n",
              "      <td>0.103170</td>\n",
              "      <td>0.301289</td>\n",
              "      <td>0.026225</td>\n",
              "      <td>0.309412</td>\n",
              "      <td>0.005933</td>\n",
              "      <td>18.129999</td>\n",
              "      <td>-0.930000</td>\n",
              "      <td>-3.550001</td>\n",
              "      <td>5.091161e+07</td>\n",
              "      <td>5.091161e+07</td>\n",
              "      <td>5.091161e+07</td>\n",
              "      <td>5.091161e+07</td>\n",
              "      <td>0.240239</td>\n",
              "      <td>-0.051168</td>\n",
              "      <td>-0.096771</td>\n",
              "      <td>-0.085473</td>\n",
              "      <td>-0.314034</td>\n",
              "      <td>3.768</td>\n",
              "      <td>-0.009</td>\n",
              "      <td>-0.025</td>\n",
              "      <td>-0.440002</td>\n",
              "      <td>-0.389999</td>\n",
              "      <td>0.0</td>\n",
              "    </tr>\n",
              "    <tr>\n",
              "      <th>449</th>\n",
              "      <td>2010-01-11</td>\n",
              "      <td>84.900690</td>\n",
              "      <td>73.451694</td>\n",
              "      <td>66.580220</td>\n",
              "      <td>54.609647</td>\n",
              "      <td>-11.711721</td>\n",
              "      <td>-11.255419</td>\n",
              "      <td>-11.016956</td>\n",
              "      <td>-11.016956</td>\n",
              "      <td>76.811005</td>\n",
              "      <td>76.804358</td>\n",
              "      <td>69.751342</td>\n",
              "      <td>58.997217</td>\n",
              "      <td>0.893919</td>\n",
              "      <td>3.294698</td>\n",
              "      <td>7.903128</td>\n",
              "      <td>11.016395</td>\n",
              "      <td>11.308351</td>\n",
              "      <td>0.280070</td>\n",
              "      <td>0.018186</td>\n",
              "      <td>-0.067235</td>\n",
              "      <td>-0.028494</td>\n",
              "      <td>0.262647</td>\n",
              "      <td>0.262647</td>\n",
              "      <td>0.262647</td>\n",
              "      <td>0.262647</td>\n",
              "      <td>65.217320</td>\n",
              "      <td>98.721022</td>\n",
              "      <td>136.325784</td>\n",
              "      <td>189.313358</td>\n",
              "      <td>7.728459</td>\n",
              "      <td>10.308776</td>\n",
              "      <td>0.500002</td>\n",
              "      <td>0.0</td>\n",
              "      <td>0.0</td>\n",
              "      <td>0.0</td>\n",
              "      <td>0.0</td>\n",
              "      <td>1.0</td>\n",
              "      <td>0.0</td>\n",
              "      <td>1.0</td>\n",
              "      <td>0.0</td>\n",
              "      <td>0.299003</td>\n",
              "      <td>0.056473</td>\n",
              "      <td>0.295421</td>\n",
              "      <td>-0.019305</td>\n",
              "      <td>0.304076</td>\n",
              "      <td>-0.015840</td>\n",
              "      <td>17.549999</td>\n",
              "      <td>-0.580000</td>\n",
              "      <td>-2.490002</td>\n",
              "      <td>4.239063e+07</td>\n",
              "      <td>4.239063e+07</td>\n",
              "      <td>4.239063e+07</td>\n",
              "      <td>4.239063e+07</td>\n",
              "      <td>0.215751</td>\n",
              "      <td>0.051554</td>\n",
              "      <td>-0.054121</td>\n",
              "      <td>-0.087832</td>\n",
              "      <td>-0.232222</td>\n",
              "      <td>3.793</td>\n",
              "      <td>0.025</td>\n",
              "      <td>0.007</td>\n",
              "      <td>-0.470001</td>\n",
              "      <td>-0.529999</td>\n",
              "      <td>0.0</td>\n",
              "    </tr>\n",
              "  </tbody>\n",
              "</table>\n",
              "</div>"
            ],
            "text/plain": [
              "     timestamp     rsi_10  ...  dollarix_5d_change  labels\n",
              "445 2010-01-05  82.683321  ...           -0.009995     0.0\n",
              "446 2010-01-06  82.556312  ...           -0.340004     0.0\n",
              "447 2010-01-07  84.897967  ...            0.000000     0.0\n",
              "448 2010-01-08  78.590445  ...           -0.389999     0.0\n",
              "449 2010-01-11  84.900690  ...           -0.529999     0.0\n",
              "\n",
              "[5 rows x 65 columns]"
            ]
          },
          "metadata": {
            "tags": []
          },
          "execution_count": 318
        }
      ]
    },
    {
      "cell_type": "code",
      "metadata": {
        "id": "KR7WRpTJaRB4",
        "colab_type": "code",
        "colab": {}
      },
      "source": [
        "df.drop(['timestamp'], inplace=True, axis=1)"
      ],
      "execution_count": 319,
      "outputs": []
    },
    {
      "cell_type": "code",
      "metadata": {
        "id": "Anb_cU4SHzkl",
        "colab_type": "code",
        "colab": {}
      },
      "source": [
        "train_dataset = df.sample(frac=0.8,random_state=0)\n",
        "test_dataset = df.drop(train_dataset.index)"
      ],
      "execution_count": 320,
      "outputs": []
    },
    {
      "cell_type": "code",
      "metadata": {
        "id": "KyB_Wb9Fav0m",
        "colab_type": "code",
        "colab": {}
      },
      "source": [
        "train_labels = train_dataset.pop('labels')\n",
        "test_labels = test_dataset.pop('labels')"
      ],
      "execution_count": 321,
      "outputs": []
    },
    {
      "cell_type": "code",
      "metadata": {
        "id": "YumkgVabeud9",
        "colab_type": "code",
        "colab": {
          "base_uri": "https://localhost:8080/",
          "height": 121
        },
        "outputId": "da58d348-45f3-4186-a0ec-02206aacd1ca"
      },
      "source": [
        "train_labels.head()"
      ],
      "execution_count": 322,
      "outputs": [
        {
          "output_type": "execute_result",
          "data": {
            "text/plain": [
              "1856    1.0\n",
              "2747    0.0\n",
              "898     0.0\n",
              "765     0.0\n",
              "1100    1.0\n",
              "Name: labels, dtype: float64"
            ]
          },
          "metadata": {
            "tags": []
          },
          "execution_count": 322
        }
      ]
    },
    {
      "cell_type": "code",
      "metadata": {
        "id": "LQpxY8Kjeh9H",
        "colab_type": "code",
        "colab": {}
      },
      "source": [
        "from sklearn.utils import compute_class_weight\n",
        "def get_sample_weights(y):\n",
        "      y = y.astype(int)  # compute_class_weight needs int labels\n",
        "      class_weights = compute_class_weight('balanced', np.unique(y), y)\n",
        "\n",
        "      print(\"real class weights are {}\".format(class_weights), np.unique(y))\n",
        "      print(\"value_counts\", np.unique(y, return_counts=True))\n",
        "      sample_weights = y.copy().astype(float)\n",
        "      for i in np.unique(y):\n",
        "          sample_weights[sample_weights == i] = class_weights[i]  # if i == 2 else 0.8 * class_weights[i]\n",
        "            # sample_weights = np.where(sample_weights == i, class_weights[int(i)], y_)\n",
        "\n",
        "      return sample_weights\n"
      ],
      "execution_count": 323,
      "outputs": []
    },
    {
      "cell_type": "code",
      "metadata": {
        "id": "iXhEiJnO28kQ",
        "colab_type": "code",
        "colab": {
          "base_uri": "https://localhost:8080/",
          "height": 259
        },
        "outputId": "94113323-8653-48a8-9976-59a1c7764f9d"
      },
      "source": [
        "get_sample_weights(train_labels)"
      ],
      "execution_count": 324,
      "outputs": [
        {
          "output_type": "stream",
          "text": [
            "real class weights are [1.14485981 0.88768116] [0 1]\n",
            "value_counts (array([0, 1]), array([ 856, 1104]))\n"
          ],
          "name": "stdout"
        },
        {
          "output_type": "execute_result",
          "data": {
            "text/plain": [
              "1856    0.887681\n",
              "2747    1.144860\n",
              "898     1.144860\n",
              "765     1.144860\n",
              "1100    0.887681\n",
              "          ...   \n",
              "2051    0.887681\n",
              "1301    0.887681\n",
              "2192    0.887681\n",
              "1640    1.144860\n",
              "2882    0.887681\n",
              "Name: labels, Length: 1960, dtype: float64"
            ]
          },
          "metadata": {
            "tags": []
          },
          "execution_count": 324
        }
      ]
    },
    {
      "cell_type": "code",
      "metadata": {
        "id": "EmTtLI6ufD7f",
        "colab_type": "code",
        "colab": {
          "base_uri": "https://localhost:8080/",
          "height": 51
        },
        "outputId": "5fd2f136-229f-48e3-8325-6ad9e624fb32"
      },
      "source": [
        "SAMPLE_WEIGHT=get_sample_weights(train_labels)"
      ],
      "execution_count": 325,
      "outputs": [
        {
          "output_type": "stream",
          "text": [
            "real class weights are [1.14485981 0.88768116] [0 1]\n",
            "value_counts (array([0, 1]), array([ 856, 1104]))\n"
          ],
          "name": "stdout"
        }
      ]
    },
    {
      "cell_type": "code",
      "metadata": {
        "id": "ft6KC349cvWN",
        "colab_type": "code",
        "colab": {}
      },
      "source": [
        "train_stats = train_dataset.describe()\n",
        "train_stats = train_stats.transpose()"
      ],
      "execution_count": 326,
      "outputs": []
    },
    {
      "cell_type": "code",
      "metadata": {
        "id": "zMEH1r2ya1UM",
        "colab_type": "code",
        "colab": {}
      },
      "source": [
        "def norm(x):\n",
        "  return (x - train_stats['mean']) / train_stats['std']\n",
        "normed_train_data = norm(train_dataset)\n",
        "normed_test_data = norm(test_dataset)"
      ],
      "execution_count": 327,
      "outputs": []
    },
    {
      "cell_type": "code",
      "metadata": {
        "id": "QZQxTHBAGIJY",
        "colab_type": "code",
        "colab": {
          "base_uri": "https://localhost:8080/",
          "height": 363
        },
        "outputId": "445cf58e-2f0b-4c98-87a1-6026b7065745"
      },
      "source": [
        "from sklearn.feature_selection import SelectKBest, f_classif, mutual_info_classif\n",
        "from operator import itemgetter\n",
        "\n",
        "k=20\n",
        "list_features = list(normed_train_data.columns)\n",
        "select_k_best = SelectKBest(f_classif, k=k)\n",
        "select_k_best.fit(normed_train_data, train_labels)\n",
        "selected_features_anova = itemgetter(*select_k_best.get_support(indices=True))(list_features)\n",
        "\n",
        "selected_features_anova"
      ],
      "execution_count": 328,
      "outputs": [
        {
          "output_type": "execute_result",
          "data": {
            "text/plain": [
              "('mfi_40',\n",
              " 'roc_3',\n",
              " 'roc_5',\n",
              " 'trix_15',\n",
              " 'trix_20',\n",
              " 'kst_20',\n",
              " 'kst_40',\n",
              " 'bb_l15',\n",
              " 'bb_h20',\n",
              " 'bb_h40',\n",
              " 'realised_vol_10',\n",
              " 'realised_vol_20',\n",
              " 'realised_vol_40',\n",
              " 'realised_vol_change_5d_40',\n",
              " 'vix_level',\n",
              " 'forcei_20',\n",
              " 'forcei_40',\n",
              " 'cmf_20',\n",
              " 'cmf_40',\n",
              " 'curve')"
            ]
          },
          "metadata": {
            "tags": []
          },
          "execution_count": 328
        }
      ]
    },
    {
      "cell_type": "code",
      "metadata": {
        "id": "UoGj_iK6JdDy",
        "colab_type": "code",
        "colab": {
          "base_uri": "https://localhost:8080/",
          "height": 363
        },
        "outputId": "1324d26f-cf16-4c43-82f9-dc6a272f7ace"
      },
      "source": [
        "select_k_best = SelectKBest(mutual_info_classif, k=k)\n",
        "select_k_best.fit(normed_train_data, train_labels)\n",
        "selected_features_mic = itemgetter(*select_k_best.get_support(indices=True))(list_features)\n",
        "selected_features_mic"
      ],
      "execution_count": 329,
      "outputs": [
        {
          "output_type": "execute_result",
          "data": {
            "text/plain": [
              "('mfi_40',\n",
              " 'trix_15',\n",
              " 'trix_20',\n",
              " 'trix_40',\n",
              " 'macd10',\n",
              " 'macd15',\n",
              " 'macd20',\n",
              " 'macd40',\n",
              " 'cci_25',\n",
              " 'kst_20',\n",
              " 'bb_l10',\n",
              " 'bb_h15',\n",
              " 'bb_l40',\n",
              " 'realised_vol_20',\n",
              " 'realised_vol_change_5d_20',\n",
              " 'realised_vol_40',\n",
              " 'realised_vol_change_5d_40',\n",
              " 'vix_level',\n",
              " 'cmf_40',\n",
              " 'curve')"
            ]
          },
          "metadata": {
            "tags": []
          },
          "execution_count": 329
        }
      ]
    },
    {
      "cell_type": "code",
      "metadata": {
        "id": "VS_4c6YyMHl9",
        "colab_type": "code",
        "colab": {
          "base_uri": "https://localhost:8080/",
          "height": 226
        },
        "outputId": "e1b580b8-bd6e-478e-f360-768a68395f2c"
      },
      "source": [
        "list_features = list(normed_train_data.columns)\n",
        "feat_idx = []\n",
        "for c in selected_features_mic:\n",
        "      feat_idx.append(list_features.index(c))\n",
        "\n",
        "feat_idx = sorted(feat_idx)\n",
        "X_train_new=normed_train_data.iloc[:, feat_idx]\n",
        "X_test_new=normed_test_data.iloc[:, feat_idx]\n",
        "#kbest=SelectKBest(f_classif, k=10)\n",
        "#X_train_new = kbest.fit_transform(normed_train_data, train_labels)\n",
        "#X_test_new = kbest.transform(normed_test_data)\n",
        "\n",
        "X_test_new.shape\n",
        "X_test_new.head()"
      ],
      "execution_count": 330,
      "outputs": [
        {
          "output_type": "execute_result",
          "data": {
            "text/html": [
              "<div>\n",
              "<style scoped>\n",
              "    .dataframe tbody tr th:only-of-type {\n",
              "        vertical-align: middle;\n",
              "    }\n",
              "\n",
              "    .dataframe tbody tr th {\n",
              "        vertical-align: top;\n",
              "    }\n",
              "\n",
              "    .dataframe thead th {\n",
              "        text-align: right;\n",
              "    }\n",
              "</style>\n",
              "<table border=\"1\" class=\"dataframe\">\n",
              "  <thead>\n",
              "    <tr style=\"text-align: right;\">\n",
              "      <th></th>\n",
              "      <th>mfi_40</th>\n",
              "      <th>trix_15</th>\n",
              "      <th>trix_20</th>\n",
              "      <th>trix_40</th>\n",
              "      <th>macd10</th>\n",
              "      <th>macd15</th>\n",
              "      <th>macd20</th>\n",
              "      <th>macd40</th>\n",
              "      <th>cci_25</th>\n",
              "      <th>kst_20</th>\n",
              "      <th>bb_l10</th>\n",
              "      <th>bb_h15</th>\n",
              "      <th>bb_l40</th>\n",
              "      <th>realised_vol_20</th>\n",
              "      <th>realised_vol_change_5d_20</th>\n",
              "      <th>realised_vol_40</th>\n",
              "      <th>realised_vol_change_5d_40</th>\n",
              "      <th>vix_level</th>\n",
              "      <th>cmf_40</th>\n",
              "      <th>curve</th>\n",
              "    </tr>\n",
              "  </thead>\n",
              "  <tbody>\n",
              "    <tr>\n",
              "      <th>445</th>\n",
              "      <td>0.885574</td>\n",
              "      <td>-0.544986</td>\n",
              "      <td>-0.613816</td>\n",
              "      <td>-0.241812</td>\n",
              "      <td>-0.306983</td>\n",
              "      <td>-0.306983</td>\n",
              "      <td>-0.306983</td>\n",
              "      <td>-0.306983</td>\n",
              "      <td>1.085757</td>\n",
              "      <td>-0.444265</td>\n",
              "      <td>-0.226883</td>\n",
              "      <td>3.914781</td>\n",
              "      <td>-0.244953</td>\n",
              "      <td>0.147857</td>\n",
              "      <td>0.331476</td>\n",
              "      <td>0.179820</td>\n",
              "      <td>-0.978295</td>\n",
              "      <td>0.445087</td>\n",
              "      <td>-0.548377</td>\n",
              "      <td>2.013397</td>\n",
              "    </tr>\n",
              "    <tr>\n",
              "      <th>448</th>\n",
              "      <td>0.733146</td>\n",
              "      <td>-0.188830</td>\n",
              "      <td>-0.423149</td>\n",
              "      <td>-0.260089</td>\n",
              "      <td>0.418394</td>\n",
              "      <td>0.418394</td>\n",
              "      <td>0.418394</td>\n",
              "      <td>0.418394</td>\n",
              "      <td>1.680606</td>\n",
              "      <td>-0.183822</td>\n",
              "      <td>-0.226883</td>\n",
              "      <td>-0.255312</td>\n",
              "      <td>-0.244953</td>\n",
              "      <td>0.064539</td>\n",
              "      <td>0.420527</td>\n",
              "      <td>0.090332</td>\n",
              "      <td>0.171928</td>\n",
              "      <td>0.226020</td>\n",
              "      <td>-0.671048</td>\n",
              "      <td>2.093196</td>\n",
              "    </tr>\n",
              "    <tr>\n",
              "      <th>452</th>\n",
              "      <td>1.048543</td>\n",
              "      <td>0.323604</td>\n",
              "      <td>-0.076562</td>\n",
              "      <td>-0.232247</td>\n",
              "      <td>0.738404</td>\n",
              "      <td>0.738404</td>\n",
              "      <td>0.738404</td>\n",
              "      <td>0.738404</td>\n",
              "      <td>1.013591</td>\n",
              "      <td>0.264603</td>\n",
              "      <td>-0.226883</td>\n",
              "      <td>-0.255312</td>\n",
              "      <td>-0.244953</td>\n",
              "      <td>0.030931</td>\n",
              "      <td>-0.029551</td>\n",
              "      <td>0.118128</td>\n",
              "      <td>0.079499</td>\n",
              "      <td>0.136238</td>\n",
              "      <td>-0.350937</td>\n",
              "      <td>2.006838</td>\n",
              "    </tr>\n",
              "    <tr>\n",
              "      <th>469</th>\n",
              "      <td>-0.305056</td>\n",
              "      <td>-0.556758</td>\n",
              "      <td>-0.350949</td>\n",
              "      <td>-0.262416</td>\n",
              "      <td>-0.974278</td>\n",
              "      <td>-0.974278</td>\n",
              "      <td>-0.974278</td>\n",
              "      <td>-0.974278</td>\n",
              "      <td>-1.155335</td>\n",
              "      <td>-0.666732</td>\n",
              "      <td>-0.226883</td>\n",
              "      <td>-0.255312</td>\n",
              "      <td>-0.244953</td>\n",
              "      <td>0.763002</td>\n",
              "      <td>0.123770</td>\n",
              "      <td>0.505810</td>\n",
              "      <td>0.329946</td>\n",
              "      <td>1.639183</td>\n",
              "      <td>-0.798435</td>\n",
              "      <td>1.836308</td>\n",
              "    </tr>\n",
              "    <tr>\n",
              "      <th>470</th>\n",
              "      <td>-0.323221</td>\n",
              "      <td>-0.634006</td>\n",
              "      <td>-0.408927</td>\n",
              "      <td>-0.278774</td>\n",
              "      <td>-1.007693</td>\n",
              "      <td>-1.007693</td>\n",
              "      <td>-1.007693</td>\n",
              "      <td>-1.007693</td>\n",
              "      <td>-0.927989</td>\n",
              "      <td>-0.742290</td>\n",
              "      <td>-0.226883</td>\n",
              "      <td>-0.255312</td>\n",
              "      <td>-0.244953</td>\n",
              "      <td>0.726371</td>\n",
              "      <td>0.333519</td>\n",
              "      <td>0.467212</td>\n",
              "      <td>0.468343</td>\n",
              "      <td>1.531445</td>\n",
              "      <td>-0.969475</td>\n",
              "      <td>1.902990</td>\n",
              "    </tr>\n",
              "  </tbody>\n",
              "</table>\n",
              "</div>"
            ],
            "text/plain": [
              "       mfi_40   trix_15   trix_20  ...  vix_level    cmf_40     curve\n",
              "445  0.885574 -0.544986 -0.613816  ...   0.445087 -0.548377  2.013397\n",
              "448  0.733146 -0.188830 -0.423149  ...   0.226020 -0.671048  2.093196\n",
              "452  1.048543  0.323604 -0.076562  ...   0.136238 -0.350937  2.006838\n",
              "469 -0.305056 -0.556758 -0.350949  ...   1.639183 -0.798435  1.836308\n",
              "470 -0.323221 -0.634006 -0.408927  ...   1.531445 -0.969475  1.902990\n",
              "\n",
              "[5 rows x 20 columns]"
            ]
          },
          "metadata": {
            "tags": []
          },
          "execution_count": 330
        }
      ]
    },
    {
      "cell_type": "code",
      "metadata": {
        "id": "1Y6IeZLPdDbh",
        "colab_type": "code",
        "colab": {}
      },
      "source": [
        "def build_model(hidden_dim,dropout=0.5):\n",
        "    ## input layer\n",
        "    inputs=tf.keras.Input(shape=(X_train_new.shape[1],))\n",
        "\n",
        "\n",
        "    h1= tf.keras.layers.Dense(units=hidden_dim,activation='relu')(inputs)\n",
        "    h2= tf.keras.layers.Dropout(dropout)(h1)\n",
        "    h3= tf.keras.layers.Dense(units=hidden_dim*2,activation='relu')(h2)\n",
        "    h4= tf.keras.layers.Dropout(dropout)(h3)\n",
        "    h5= tf.keras.layers.Dense(units=hidden_dim*2,activation='relu')(h4)\n",
        "    h6= tf.keras.layers.Dropout(dropout)(h5)\n",
        "    h7= tf.keras.layers.Dense(units=hidden_dim,activation='relu')(h6)\n",
        "\n",
        "    ##output\n",
        "    outputs=tf.keras.layers.Dense(units=2,activation='softmax')(h7)\n",
        "\n",
        "    return tf.keras.Model(inputs=inputs, outputs=outputs)"
      ],
      "execution_count": 331,
      "outputs": []
    },
    {
      "cell_type": "code",
      "metadata": {
        "id": "YvYU19fefqf7",
        "colab_type": "code",
        "colab": {}
      },
      "source": [
        "tf.random.set_seed(1)\n",
        "\n",
        "criterion = tf.keras.losses.sparse_categorical_crossentropy\n",
        "\n",
        "optimizer = tf.keras.optimizers.Adam(learning_rate=0.001)\n",
        "\n",
        "model = build_model(hidden_dim=64)\n",
        "\n",
        "model.compile(optimizer=optimizer,loss=criterion,metrics=['accuracy'])"
      ],
      "execution_count": 332,
      "outputs": []
    },
    {
      "cell_type": "code",
      "metadata": {
        "id": "2RjdYWf5gX4x",
        "colab_type": "code",
        "colab": {
          "base_uri": "https://localhost:8080/",
          "height": 190
        },
        "outputId": "625ff771-ff7d-498a-adf3-81f4b99f4cdc"
      },
      "source": [
        "example_batch = X_train_new[:10]\n",
        "example_result = model.predict(example_batch)\n",
        "example_result"
      ],
      "execution_count": 333,
      "outputs": [
        {
          "output_type": "execute_result",
          "data": {
            "text/plain": [
              "array([[0.50520015, 0.49479988],\n",
              "       [0.47996655, 0.5200334 ],\n",
              "       [0.46537486, 0.5346252 ],\n",
              "       [0.59619117, 0.40380877],\n",
              "       [0.50473696, 0.495263  ],\n",
              "       [0.55310243, 0.4468976 ],\n",
              "       [0.533551  , 0.46644905],\n",
              "       [0.54386413, 0.45613584],\n",
              "       [0.4583716 , 0.54162836],\n",
              "       [0.56333447, 0.43666556]], dtype=float32)"
            ]
          },
          "metadata": {
            "tags": []
          },
          "execution_count": 333
        }
      ]
    },
    {
      "cell_type": "code",
      "metadata": {
        "id": "bwsZt86Vg9Fs",
        "colab_type": "code",
        "colab": {
          "base_uri": "https://localhost:8080/",
          "height": 1000
        },
        "outputId": "ac7761ec-d66e-432b-da63-4d879679773d"
      },
      "source": [
        "EPOCHS=200\n",
        "BATCH_SIZE=20\n",
        "\n",
        "history = model.fit(\n",
        "  X_train_new, train_labels,\n",
        "  epochs=EPOCHS, batch_size=BATCH_SIZE ,sample_weight=SAMPLE_WEIGHT,shuffle=True,validation_split = 0.2, verbose=1,\n",
        "  callbacks=[tfdocs.modeling.EpochDots()])"
      ],
      "execution_count": 334,
      "outputs": [
        {
          "output_type": "stream",
          "text": [
            "Epoch 1/200\n",
            "74/79 [===========================>..] - ETA: 0s - loss: 0.7326 - accuracy: 0.5054\n",
            "Epoch: 0, accuracy:0.5070,  loss:0.7286,  val_accuracy:0.5638,  val_loss:0.6833,  \n",
            "79/79 [==============================] - 1s 8ms/step - loss: 0.7286 - accuracy: 0.5070 - val_loss: 0.6833 - val_accuracy: 0.5638\n",
            "Epoch 2/200\n",
            "79/79 [==============================] - 0s 6ms/step - loss: 0.7174 - accuracy: 0.5185 - val_loss: 0.6823 - val_accuracy: 0.5179\n",
            "Epoch 3/200\n",
            "79/79 [==============================] - 0s 6ms/step - loss: 0.6996 - accuracy: 0.5312 - val_loss: 0.6770 - val_accuracy: 0.5995\n",
            "Epoch 4/200\n",
            "79/79 [==============================] - 0s 6ms/step - loss: 0.6979 - accuracy: 0.5210 - val_loss: 0.6746 - val_accuracy: 0.5102\n",
            "Epoch 5/200\n",
            "79/79 [==============================] - 0s 6ms/step - loss: 0.6915 - accuracy: 0.5338 - val_loss: 0.6722 - val_accuracy: 0.5689\n",
            "Epoch 6/200\n",
            "79/79 [==============================] - 0s 6ms/step - loss: 0.6855 - accuracy: 0.5466 - val_loss: 0.6659 - val_accuracy: 0.6301\n",
            "Epoch 7/200\n",
            "79/79 [==============================] - 0s 6ms/step - loss: 0.6862 - accuracy: 0.5599 - val_loss: 0.6630 - val_accuracy: 0.6224\n",
            "Epoch 8/200\n",
            "79/79 [==============================] - 0s 5ms/step - loss: 0.6834 - accuracy: 0.5599 - val_loss: 0.6589 - val_accuracy: 0.5842\n",
            "Epoch 9/200\n",
            "79/79 [==============================] - 0s 6ms/step - loss: 0.6836 - accuracy: 0.5714 - val_loss: 0.6546 - val_accuracy: 0.6173\n",
            "Epoch 10/200\n",
            "79/79 [==============================] - 0s 5ms/step - loss: 0.6831 - accuracy: 0.5619 - val_loss: 0.6553 - val_accuracy: 0.6224\n",
            "Epoch 11/200\n",
            "79/79 [==============================] - 0s 5ms/step - loss: 0.6787 - accuracy: 0.5721 - val_loss: 0.6558 - val_accuracy: 0.6097\n",
            "Epoch 12/200\n",
            "79/79 [==============================] - 0s 5ms/step - loss: 0.6825 - accuracy: 0.5625 - val_loss: 0.6572 - val_accuracy: 0.6276\n",
            "Epoch 13/200\n",
            "79/79 [==============================] - 0s 6ms/step - loss: 0.6677 - accuracy: 0.5765 - val_loss: 0.6440 - val_accuracy: 0.6097\n",
            "Epoch 14/200\n",
            "79/79 [==============================] - 0s 5ms/step - loss: 0.6587 - accuracy: 0.6059 - val_loss: 0.6404 - val_accuracy: 0.6224\n",
            "Epoch 15/200\n",
            "79/79 [==============================] - 0s 5ms/step - loss: 0.6644 - accuracy: 0.5804 - val_loss: 0.6381 - val_accuracy: 0.6837\n",
            "Epoch 16/200\n",
            "79/79 [==============================] - 0s 5ms/step - loss: 0.6629 - accuracy: 0.6020 - val_loss: 0.6390 - val_accuracy: 0.6403\n",
            "Epoch 17/200\n",
            "79/79 [==============================] - 0s 6ms/step - loss: 0.6721 - accuracy: 0.5816 - val_loss: 0.6409 - val_accuracy: 0.6505\n",
            "Epoch 18/200\n",
            "79/79 [==============================] - 0s 5ms/step - loss: 0.6545 - accuracy: 0.6040 - val_loss: 0.6269 - val_accuracy: 0.6378\n",
            "Epoch 19/200\n",
            "79/79 [==============================] - 0s 6ms/step - loss: 0.6594 - accuracy: 0.6027 - val_loss: 0.6305 - val_accuracy: 0.6276\n",
            "Epoch 20/200\n",
            "79/79 [==============================] - 0s 5ms/step - loss: 0.6454 - accuracy: 0.5995 - val_loss: 0.6171 - val_accuracy: 0.6378\n",
            "Epoch 21/200\n",
            "79/79 [==============================] - 0s 5ms/step - loss: 0.6549 - accuracy: 0.6046 - val_loss: 0.6263 - val_accuracy: 0.6454\n",
            "Epoch 22/200\n",
            "79/79 [==============================] - 0s 6ms/step - loss: 0.6508 - accuracy: 0.6065 - val_loss: 0.6170 - val_accuracy: 0.6786\n",
            "Epoch 23/200\n",
            "79/79 [==============================] - 0s 5ms/step - loss: 0.6412 - accuracy: 0.6288 - val_loss: 0.6105 - val_accuracy: 0.6250\n",
            "Epoch 24/200\n",
            "79/79 [==============================] - 0s 6ms/step - loss: 0.6428 - accuracy: 0.6339 - val_loss: 0.6145 - val_accuracy: 0.6684\n",
            "Epoch 25/200\n",
            "79/79 [==============================] - 0s 6ms/step - loss: 0.6456 - accuracy: 0.6020 - val_loss: 0.6178 - val_accuracy: 0.6454\n",
            "Epoch 26/200\n",
            "79/79 [==============================] - 0s 6ms/step - loss: 0.6288 - accuracy: 0.6320 - val_loss: 0.6163 - val_accuracy: 0.6224\n",
            "Epoch 27/200\n",
            "79/79 [==============================] - 0s 5ms/step - loss: 0.6316 - accuracy: 0.6346 - val_loss: 0.6067 - val_accuracy: 0.6148\n",
            "Epoch 28/200\n",
            "79/79 [==============================] - 0s 6ms/step - loss: 0.6305 - accuracy: 0.6250 - val_loss: 0.6021 - val_accuracy: 0.6505\n",
            "Epoch 29/200\n",
            "79/79 [==============================] - 0s 5ms/step - loss: 0.6266 - accuracy: 0.6339 - val_loss: 0.5955 - val_accuracy: 0.6684\n",
            "Epoch 30/200\n",
            "79/79 [==============================] - 0s 5ms/step - loss: 0.6215 - accuracy: 0.6333 - val_loss: 0.5892 - val_accuracy: 0.7015\n",
            "Epoch 31/200\n",
            "79/79 [==============================] - 0s 6ms/step - loss: 0.6256 - accuracy: 0.6492 - val_loss: 0.5916 - val_accuracy: 0.6480\n",
            "Epoch 32/200\n",
            "79/79 [==============================] - 0s 5ms/step - loss: 0.6133 - accuracy: 0.6448 - val_loss: 0.5893 - val_accuracy: 0.6531\n",
            "Epoch 33/200\n",
            "79/79 [==============================] - 0s 5ms/step - loss: 0.6165 - accuracy: 0.6614 - val_loss: 0.5860 - val_accuracy: 0.6429\n",
            "Epoch 34/200\n",
            "79/79 [==============================] - 0s 6ms/step - loss: 0.6115 - accuracy: 0.6403 - val_loss: 0.5899 - val_accuracy: 0.6480\n",
            "Epoch 35/200\n",
            "79/79 [==============================] - 0s 5ms/step - loss: 0.6248 - accuracy: 0.6346 - val_loss: 0.5815 - val_accuracy: 0.6556\n",
            "Epoch 36/200\n",
            "79/79 [==============================] - 0s 5ms/step - loss: 0.6050 - accuracy: 0.6550 - val_loss: 0.5739 - val_accuracy: 0.6735\n",
            "Epoch 37/200\n",
            "79/79 [==============================] - 0s 5ms/step - loss: 0.6073 - accuracy: 0.6524 - val_loss: 0.5730 - val_accuracy: 0.6786\n",
            "Epoch 38/200\n",
            "79/79 [==============================] - 0s 6ms/step - loss: 0.6071 - accuracy: 0.6639 - val_loss: 0.5764 - val_accuracy: 0.6327\n",
            "Epoch 39/200\n",
            "79/79 [==============================] - 0s 5ms/step - loss: 0.6132 - accuracy: 0.6486 - val_loss: 0.5736 - val_accuracy: 0.6633\n",
            "Epoch 40/200\n",
            "79/79 [==============================] - 0s 5ms/step - loss: 0.5887 - accuracy: 0.6805 - val_loss: 0.5698 - val_accuracy: 0.6760\n",
            "Epoch 41/200\n",
            "79/79 [==============================] - 0s 5ms/step - loss: 0.6069 - accuracy: 0.6626 - val_loss: 0.5675 - val_accuracy: 0.6913\n",
            "Epoch 42/200\n",
            "79/79 [==============================] - 0s 6ms/step - loss: 0.5923 - accuracy: 0.6696 - val_loss: 0.5580 - val_accuracy: 0.6684\n",
            "Epoch 43/200\n",
            "79/79 [==============================] - 0s 5ms/step - loss: 0.5856 - accuracy: 0.6531 - val_loss: 0.5576 - val_accuracy: 0.6454\n",
            "Epoch 44/200\n",
            "79/79 [==============================] - 0s 5ms/step - loss: 0.5816 - accuracy: 0.6760 - val_loss: 0.5657 - val_accuracy: 0.6454\n",
            "Epoch 45/200\n",
            "79/79 [==============================] - 0s 5ms/step - loss: 0.5865 - accuracy: 0.6601 - val_loss: 0.5510 - val_accuracy: 0.6531\n",
            "Epoch 46/200\n",
            "79/79 [==============================] - 0s 6ms/step - loss: 0.5723 - accuracy: 0.6824 - val_loss: 0.5417 - val_accuracy: 0.6633\n",
            "Epoch 47/200\n",
            "79/79 [==============================] - 0s 5ms/step - loss: 0.5771 - accuracy: 0.6894 - val_loss: 0.5422 - val_accuracy: 0.6837\n",
            "Epoch 48/200\n",
            "79/79 [==============================] - 0s 5ms/step - loss: 0.5779 - accuracy: 0.6779 - val_loss: 0.5422 - val_accuracy: 0.6709\n",
            "Epoch 49/200\n",
            "79/79 [==============================] - 0s 5ms/step - loss: 0.5846 - accuracy: 0.6716 - val_loss: 0.5551 - val_accuracy: 0.6939\n",
            "Epoch 50/200\n",
            "79/79 [==============================] - 0s 6ms/step - loss: 0.5672 - accuracy: 0.6952 - val_loss: 0.5306 - val_accuracy: 0.6837\n",
            "Epoch 51/200\n",
            "79/79 [==============================] - 0s 6ms/step - loss: 0.5634 - accuracy: 0.6932 - val_loss: 0.5429 - val_accuracy: 0.6658\n",
            "Epoch 52/200\n",
            "79/79 [==============================] - 0s 5ms/step - loss: 0.5671 - accuracy: 0.6990 - val_loss: 0.5287 - val_accuracy: 0.7296\n",
            "Epoch 53/200\n",
            "79/79 [==============================] - 0s 5ms/step - loss: 0.5621 - accuracy: 0.6907 - val_loss: 0.5334 - val_accuracy: 0.6990\n",
            "Epoch 54/200\n",
            "79/79 [==============================] - 0s 5ms/step - loss: 0.5698 - accuracy: 0.6849 - val_loss: 0.5271 - val_accuracy: 0.7321\n",
            "Epoch 55/200\n",
            "79/79 [==============================] - 0s 5ms/step - loss: 0.5602 - accuracy: 0.7136 - val_loss: 0.5073 - val_accuracy: 0.7041\n",
            "Epoch 56/200\n",
            "79/79 [==============================] - 0s 6ms/step - loss: 0.5676 - accuracy: 0.6932 - val_loss: 0.5188 - val_accuracy: 0.7194\n",
            "Epoch 57/200\n",
            "79/79 [==============================] - 0s 6ms/step - loss: 0.5551 - accuracy: 0.7060 - val_loss: 0.5217 - val_accuracy: 0.7117\n",
            "Epoch 58/200\n",
            "79/79 [==============================] - 0s 5ms/step - loss: 0.5526 - accuracy: 0.7079 - val_loss: 0.5109 - val_accuracy: 0.7245\n",
            "Epoch 59/200\n",
            "79/79 [==============================] - 0s 5ms/step - loss: 0.5483 - accuracy: 0.7092 - val_loss: 0.5290 - val_accuracy: 0.6837\n",
            "Epoch 60/200\n",
            "79/79 [==============================] - 0s 5ms/step - loss: 0.5576 - accuracy: 0.7079 - val_loss: 0.5211 - val_accuracy: 0.7219\n",
            "Epoch 61/200\n",
            "79/79 [==============================] - 0s 5ms/step - loss: 0.5555 - accuracy: 0.6983 - val_loss: 0.5085 - val_accuracy: 0.7041\n",
            "Epoch 62/200\n",
            "79/79 [==============================] - 0s 5ms/step - loss: 0.5430 - accuracy: 0.7111 - val_loss: 0.5194 - val_accuracy: 0.6888\n",
            "Epoch 63/200\n",
            "79/79 [==============================] - 0s 5ms/step - loss: 0.5445 - accuracy: 0.7124 - val_loss: 0.5009 - val_accuracy: 0.7347\n",
            "Epoch 64/200\n",
            "79/79 [==============================] - 0s 6ms/step - loss: 0.5292 - accuracy: 0.7200 - val_loss: 0.4931 - val_accuracy: 0.7347\n",
            "Epoch 65/200\n",
            "79/79 [==============================] - 0s 6ms/step - loss: 0.5342 - accuracy: 0.7194 - val_loss: 0.4897 - val_accuracy: 0.7066\n",
            "Epoch 66/200\n",
            "79/79 [==============================] - 0s 6ms/step - loss: 0.5354 - accuracy: 0.7302 - val_loss: 0.4788 - val_accuracy: 0.7398\n",
            "Epoch 67/200\n",
            "79/79 [==============================] - 0s 5ms/step - loss: 0.5478 - accuracy: 0.7149 - val_loss: 0.4939 - val_accuracy: 0.7449\n",
            "Epoch 68/200\n",
            "79/79 [==============================] - 0s 5ms/step - loss: 0.5207 - accuracy: 0.7321 - val_loss: 0.4966 - val_accuracy: 0.6964\n",
            "Epoch 69/200\n",
            "79/79 [==============================] - 0s 6ms/step - loss: 0.5330 - accuracy: 0.7200 - val_loss: 0.4962 - val_accuracy: 0.6990\n",
            "Epoch 70/200\n",
            "79/79 [==============================] - 0s 5ms/step - loss: 0.5206 - accuracy: 0.7207 - val_loss: 0.4901 - val_accuracy: 0.7321\n",
            "Epoch 71/200\n",
            "79/79 [==============================] - 0s 6ms/step - loss: 0.5183 - accuracy: 0.7385 - val_loss: 0.4734 - val_accuracy: 0.7423\n",
            "Epoch 72/200\n",
            "79/79 [==============================] - 0s 5ms/step - loss: 0.5184 - accuracy: 0.7309 - val_loss: 0.4645 - val_accuracy: 0.7602\n",
            "Epoch 73/200\n",
            "79/79 [==============================] - 0s 6ms/step - loss: 0.5164 - accuracy: 0.7181 - val_loss: 0.4676 - val_accuracy: 0.7347\n",
            "Epoch 74/200\n",
            "79/79 [==============================] - 0s 5ms/step - loss: 0.5301 - accuracy: 0.7251 - val_loss: 0.4615 - val_accuracy: 0.7679\n",
            "Epoch 75/200\n",
            "79/79 [==============================] - 0s 5ms/step - loss: 0.5139 - accuracy: 0.7474 - val_loss: 0.4638 - val_accuracy: 0.7500\n",
            "Epoch 76/200\n",
            "79/79 [==============================] - 0s 5ms/step - loss: 0.5046 - accuracy: 0.7411 - val_loss: 0.4669 - val_accuracy: 0.7628\n",
            "Epoch 77/200\n",
            "79/79 [==============================] - 0s 5ms/step - loss: 0.5086 - accuracy: 0.7443 - val_loss: 0.4636 - val_accuracy: 0.7781\n",
            "Epoch 78/200\n",
            "79/79 [==============================] - 0s 5ms/step - loss: 0.4918 - accuracy: 0.7596 - val_loss: 0.4495 - val_accuracy: 0.7806\n",
            "Epoch 79/200\n",
            "79/79 [==============================] - 0s 5ms/step - loss: 0.5199 - accuracy: 0.7519 - val_loss: 0.4510 - val_accuracy: 0.7934\n",
            "Epoch 80/200\n",
            "79/79 [==============================] - 0s 5ms/step - loss: 0.5090 - accuracy: 0.7430 - val_loss: 0.4638 - val_accuracy: 0.7704\n",
            "Epoch 81/200\n",
            "79/79 [==============================] - 0s 5ms/step - loss: 0.5052 - accuracy: 0.7449 - val_loss: 0.4616 - val_accuracy: 0.7602\n",
            "Epoch 82/200\n",
            "79/79 [==============================] - 0s 5ms/step - loss: 0.4982 - accuracy: 0.7545 - val_loss: 0.4441 - val_accuracy: 0.7781\n",
            "Epoch 83/200\n",
            "79/79 [==============================] - 0s 5ms/step - loss: 0.5021 - accuracy: 0.7487 - val_loss: 0.4560 - val_accuracy: 0.7857\n",
            "Epoch 84/200\n",
            "79/79 [==============================] - 0s 5ms/step - loss: 0.5019 - accuracy: 0.7500 - val_loss: 0.4661 - val_accuracy: 0.7628\n",
            "Epoch 85/200\n",
            "79/79 [==============================] - 0s 6ms/step - loss: 0.4982 - accuracy: 0.7392 - val_loss: 0.4673 - val_accuracy: 0.7781\n",
            "Epoch 86/200\n",
            "79/79 [==============================] - 0s 5ms/step - loss: 0.5005 - accuracy: 0.7583 - val_loss: 0.4594 - val_accuracy: 0.7857\n",
            "Epoch 87/200\n",
            "79/79 [==============================] - 0s 6ms/step - loss: 0.5193 - accuracy: 0.7309 - val_loss: 0.4823 - val_accuracy: 0.7500\n",
            "Epoch 88/200\n",
            "79/79 [==============================] - 0s 5ms/step - loss: 0.4915 - accuracy: 0.7666 - val_loss: 0.4807 - val_accuracy: 0.7474\n",
            "Epoch 89/200\n",
            "79/79 [==============================] - 0s 5ms/step - loss: 0.4846 - accuracy: 0.7538 - val_loss: 0.4313 - val_accuracy: 0.7883\n",
            "Epoch 90/200\n",
            "79/79 [==============================] - 0s 6ms/step - loss: 0.4894 - accuracy: 0.7647 - val_loss: 0.4516 - val_accuracy: 0.7806\n",
            "Epoch 91/200\n",
            "79/79 [==============================] - 0s 5ms/step - loss: 0.4870 - accuracy: 0.7570 - val_loss: 0.4337 - val_accuracy: 0.7883\n",
            "Epoch 92/200\n",
            "79/79 [==============================] - 0s 6ms/step - loss: 0.4820 - accuracy: 0.7577 - val_loss: 0.4361 - val_accuracy: 0.7883\n",
            "Epoch 93/200\n",
            "79/79 [==============================] - 0s 5ms/step - loss: 0.4974 - accuracy: 0.7577 - val_loss: 0.4411 - val_accuracy: 0.7806\n",
            "Epoch 94/200\n",
            "79/79 [==============================] - 0s 5ms/step - loss: 0.4791 - accuracy: 0.7723 - val_loss: 0.4305 - val_accuracy: 0.7959\n",
            "Epoch 95/200\n",
            "79/79 [==============================] - 0s 5ms/step - loss: 0.4919 - accuracy: 0.7596 - val_loss: 0.4443 - val_accuracy: 0.7806\n",
            "Epoch 96/200\n",
            "79/79 [==============================] - 0s 5ms/step - loss: 0.4797 - accuracy: 0.7666 - val_loss: 0.4306 - val_accuracy: 0.8087\n",
            "Epoch 97/200\n",
            "79/79 [==============================] - 0s 5ms/step - loss: 0.4884 - accuracy: 0.7500 - val_loss: 0.4386 - val_accuracy: 0.7934\n",
            "Epoch 98/200\n",
            "79/79 [==============================] - 0s 5ms/step - loss: 0.4586 - accuracy: 0.7825 - val_loss: 0.4359 - val_accuracy: 0.7857\n",
            "Epoch 99/200\n",
            "79/79 [==============================] - 0s 6ms/step - loss: 0.4795 - accuracy: 0.7710 - val_loss: 0.4305 - val_accuracy: 0.8061\n",
            "Epoch 100/200\n",
            "79/79 [==============================] - 0s 5ms/step - loss: 0.4806 - accuracy: 0.7723 - val_loss: 0.4432 - val_accuracy: 0.7857\n",
            "Epoch 101/200\n",
            "70/79 [=========================>....] - ETA: 0s - loss: 0.4691 - accuracy: 0.7750\n",
            "Epoch: 100, accuracy:0.7774,  loss:0.4698,  val_accuracy:0.8010,  val_loss:0.4253,  \n",
            "79/79 [==============================] - 0s 6ms/step - loss: 0.4698 - accuracy: 0.7774 - val_loss: 0.4253 - val_accuracy: 0.8010\n",
            "Epoch 102/200\n",
            "79/79 [==============================] - 0s 5ms/step - loss: 0.4928 - accuracy: 0.7462 - val_loss: 0.4426 - val_accuracy: 0.7832\n",
            "Epoch 103/200\n",
            "79/79 [==============================] - 0s 6ms/step - loss: 0.4623 - accuracy: 0.7679 - val_loss: 0.4195 - val_accuracy: 0.7959\n",
            "Epoch 104/200\n",
            "79/79 [==============================] - 0s 5ms/step - loss: 0.4628 - accuracy: 0.7755 - val_loss: 0.4211 - val_accuracy: 0.7934\n",
            "Epoch 105/200\n",
            "79/79 [==============================] - 0s 5ms/step - loss: 0.4771 - accuracy: 0.7742 - val_loss: 0.4110 - val_accuracy: 0.8138\n",
            "Epoch 106/200\n",
            "79/79 [==============================] - 0s 5ms/step - loss: 0.4820 - accuracy: 0.7621 - val_loss: 0.4215 - val_accuracy: 0.8061\n",
            "Epoch 107/200\n",
            "79/79 [==============================] - 0s 5ms/step - loss: 0.4621 - accuracy: 0.7819 - val_loss: 0.4105 - val_accuracy: 0.8061\n",
            "Epoch 108/200\n",
            "79/79 [==============================] - 0s 5ms/step - loss: 0.4662 - accuracy: 0.7851 - val_loss: 0.4253 - val_accuracy: 0.8036\n",
            "Epoch 109/200\n",
            "79/79 [==============================] - 0s 5ms/step - loss: 0.4748 - accuracy: 0.7755 - val_loss: 0.4258 - val_accuracy: 0.7959\n",
            "Epoch 110/200\n",
            "79/79 [==============================] - 0s 5ms/step - loss: 0.4691 - accuracy: 0.7825 - val_loss: 0.4238 - val_accuracy: 0.8036\n",
            "Epoch 111/200\n",
            "79/79 [==============================] - 0s 5ms/step - loss: 0.4635 - accuracy: 0.7825 - val_loss: 0.4194 - val_accuracy: 0.8163\n",
            "Epoch 112/200\n",
            "79/79 [==============================] - 0s 5ms/step - loss: 0.4690 - accuracy: 0.7755 - val_loss: 0.4012 - val_accuracy: 0.8367\n",
            "Epoch 113/200\n",
            "79/79 [==============================] - 0s 6ms/step - loss: 0.4604 - accuracy: 0.7832 - val_loss: 0.4096 - val_accuracy: 0.8189\n",
            "Epoch 114/200\n",
            "79/79 [==============================] - 0s 5ms/step - loss: 0.4610 - accuracy: 0.7889 - val_loss: 0.4166 - val_accuracy: 0.8138\n",
            "Epoch 115/200\n",
            "79/79 [==============================] - 0s 6ms/step - loss: 0.4547 - accuracy: 0.7838 - val_loss: 0.4133 - val_accuracy: 0.8061\n",
            "Epoch 116/200\n",
            "79/79 [==============================] - 0s 5ms/step - loss: 0.4480 - accuracy: 0.7895 - val_loss: 0.4037 - val_accuracy: 0.8112\n",
            "Epoch 117/200\n",
            "79/79 [==============================] - 0s 5ms/step - loss: 0.4385 - accuracy: 0.7946 - val_loss: 0.4052 - val_accuracy: 0.8087\n",
            "Epoch 118/200\n",
            "79/79 [==============================] - 0s 5ms/step - loss: 0.4574 - accuracy: 0.7832 - val_loss: 0.3885 - val_accuracy: 0.8061\n",
            "Epoch 119/200\n",
            "79/79 [==============================] - 0s 5ms/step - loss: 0.4617 - accuracy: 0.7793 - val_loss: 0.4145 - val_accuracy: 0.8061\n",
            "Epoch 120/200\n",
            "79/79 [==============================] - 0s 6ms/step - loss: 0.4648 - accuracy: 0.7844 - val_loss: 0.4085 - val_accuracy: 0.8112\n",
            "Epoch 121/200\n",
            "79/79 [==============================] - 0s 5ms/step - loss: 0.4473 - accuracy: 0.7812 - val_loss: 0.3999 - val_accuracy: 0.8291\n",
            "Epoch 122/200\n",
            "79/79 [==============================] - 0s 6ms/step - loss: 0.4710 - accuracy: 0.7781 - val_loss: 0.4045 - val_accuracy: 0.8189\n",
            "Epoch 123/200\n",
            "79/79 [==============================] - 0s 5ms/step - loss: 0.4593 - accuracy: 0.7787 - val_loss: 0.4176 - val_accuracy: 0.8163\n",
            "Epoch 124/200\n",
            "79/79 [==============================] - 0s 5ms/step - loss: 0.4539 - accuracy: 0.7883 - val_loss: 0.3977 - val_accuracy: 0.8061\n",
            "Epoch 125/200\n",
            "79/79 [==============================] - 0s 5ms/step - loss: 0.4653 - accuracy: 0.7864 - val_loss: 0.4068 - val_accuracy: 0.8036\n",
            "Epoch 126/200\n",
            "79/79 [==============================] - 0s 5ms/step - loss: 0.4635 - accuracy: 0.7921 - val_loss: 0.4059 - val_accuracy: 0.8138\n",
            "Epoch 127/200\n",
            "79/79 [==============================] - 0s 6ms/step - loss: 0.4455 - accuracy: 0.7921 - val_loss: 0.3993 - val_accuracy: 0.8112\n",
            "Epoch 128/200\n",
            "79/79 [==============================] - 0s 5ms/step - loss: 0.4483 - accuracy: 0.7838 - val_loss: 0.4020 - val_accuracy: 0.8036\n",
            "Epoch 129/200\n",
            "79/79 [==============================] - 0s 6ms/step - loss: 0.4293 - accuracy: 0.8017 - val_loss: 0.4134 - val_accuracy: 0.8214\n",
            "Epoch 130/200\n",
            "79/79 [==============================] - 0s 5ms/step - loss: 0.4478 - accuracy: 0.7883 - val_loss: 0.3920 - val_accuracy: 0.8291\n",
            "Epoch 131/200\n",
            "79/79 [==============================] - 0s 6ms/step - loss: 0.4687 - accuracy: 0.7787 - val_loss: 0.4005 - val_accuracy: 0.8291\n",
            "Epoch 132/200\n",
            "79/79 [==============================] - 0s 5ms/step - loss: 0.4434 - accuracy: 0.7997 - val_loss: 0.3984 - val_accuracy: 0.8265\n",
            "Epoch 133/200\n",
            "79/79 [==============================] - 0s 5ms/step - loss: 0.4448 - accuracy: 0.7959 - val_loss: 0.3951 - val_accuracy: 0.8240\n",
            "Epoch 134/200\n",
            "79/79 [==============================] - 0s 6ms/step - loss: 0.4495 - accuracy: 0.8029 - val_loss: 0.3905 - val_accuracy: 0.8265\n",
            "Epoch 135/200\n",
            "79/79 [==============================] - 0s 5ms/step - loss: 0.4551 - accuracy: 0.7864 - val_loss: 0.3960 - val_accuracy: 0.8189\n",
            "Epoch 136/200\n",
            "79/79 [==============================] - 0s 6ms/step - loss: 0.4338 - accuracy: 0.7985 - val_loss: 0.3933 - val_accuracy: 0.8163\n",
            "Epoch 137/200\n",
            "79/79 [==============================] - 0s 6ms/step - loss: 0.4469 - accuracy: 0.7857 - val_loss: 0.3824 - val_accuracy: 0.8240\n",
            "Epoch 138/200\n",
            "79/79 [==============================] - 0s 5ms/step - loss: 0.4268 - accuracy: 0.8036 - val_loss: 0.3810 - val_accuracy: 0.8163\n",
            "Epoch 139/200\n",
            "79/79 [==============================] - 0s 5ms/step - loss: 0.4433 - accuracy: 0.7825 - val_loss: 0.4002 - val_accuracy: 0.8036\n",
            "Epoch 140/200\n",
            "79/79 [==============================] - 0s 5ms/step - loss: 0.4404 - accuracy: 0.7838 - val_loss: 0.3865 - val_accuracy: 0.8240\n",
            "Epoch 141/200\n",
            "79/79 [==============================] - 0s 6ms/step - loss: 0.4573 - accuracy: 0.7978 - val_loss: 0.3944 - val_accuracy: 0.8087\n",
            "Epoch 142/200\n",
            "79/79 [==============================] - 0s 5ms/step - loss: 0.4411 - accuracy: 0.7985 - val_loss: 0.3910 - val_accuracy: 0.8112\n",
            "Epoch 143/200\n",
            "79/79 [==============================] - 0s 6ms/step - loss: 0.4271 - accuracy: 0.8029 - val_loss: 0.3817 - val_accuracy: 0.8342\n",
            "Epoch 144/200\n",
            "79/79 [==============================] - 0s 5ms/step - loss: 0.4356 - accuracy: 0.8048 - val_loss: 0.3660 - val_accuracy: 0.8240\n",
            "Epoch 145/200\n",
            "79/79 [==============================] - 0s 6ms/step - loss: 0.4483 - accuracy: 0.7902 - val_loss: 0.3733 - val_accuracy: 0.8367\n",
            "Epoch 146/200\n",
            "79/79 [==============================] - 0s 5ms/step - loss: 0.4385 - accuracy: 0.7940 - val_loss: 0.3948 - val_accuracy: 0.8112\n",
            "Epoch 147/200\n",
            "79/79 [==============================] - 0s 5ms/step - loss: 0.4396 - accuracy: 0.7902 - val_loss: 0.3865 - val_accuracy: 0.8163\n",
            "Epoch 148/200\n",
            "79/79 [==============================] - 0s 5ms/step - loss: 0.4211 - accuracy: 0.7991 - val_loss: 0.3679 - val_accuracy: 0.8240\n",
            "Epoch 149/200\n",
            "79/79 [==============================] - 0s 5ms/step - loss: 0.4205 - accuracy: 0.7972 - val_loss: 0.3737 - val_accuracy: 0.8265\n",
            "Epoch 150/200\n",
            "79/79 [==============================] - 1s 8ms/step - loss: 0.4368 - accuracy: 0.8023 - val_loss: 0.3780 - val_accuracy: 0.8214\n",
            "Epoch 151/200\n",
            "79/79 [==============================] - 0s 5ms/step - loss: 0.4277 - accuracy: 0.8074 - val_loss: 0.3900 - val_accuracy: 0.8163\n",
            "Epoch 152/200\n",
            "79/79 [==============================] - 0s 5ms/step - loss: 0.4445 - accuracy: 0.7927 - val_loss: 0.3893 - val_accuracy: 0.8112\n",
            "Epoch 153/200\n",
            "79/79 [==============================] - 0s 6ms/step - loss: 0.4137 - accuracy: 0.8112 - val_loss: 0.3851 - val_accuracy: 0.8087\n",
            "Epoch 154/200\n",
            "79/79 [==============================] - 0s 6ms/step - loss: 0.4216 - accuracy: 0.8099 - val_loss: 0.3719 - val_accuracy: 0.8418\n",
            "Epoch 155/200\n",
            "79/79 [==============================] - 0s 6ms/step - loss: 0.4330 - accuracy: 0.8042 - val_loss: 0.3750 - val_accuracy: 0.8291\n",
            "Epoch 156/200\n",
            "79/79 [==============================] - 0s 6ms/step - loss: 0.4185 - accuracy: 0.8055 - val_loss: 0.3690 - val_accuracy: 0.8393\n",
            "Epoch 157/200\n",
            "79/79 [==============================] - 0s 6ms/step - loss: 0.4344 - accuracy: 0.7972 - val_loss: 0.3685 - val_accuracy: 0.8444\n",
            "Epoch 158/200\n",
            "79/79 [==============================] - 1s 6ms/step - loss: 0.4165 - accuracy: 0.8048 - val_loss: 0.3653 - val_accuracy: 0.8367\n",
            "Epoch 159/200\n",
            "79/79 [==============================] - 0s 6ms/step - loss: 0.4193 - accuracy: 0.8119 - val_loss: 0.3739 - val_accuracy: 0.8265\n",
            "Epoch 160/200\n",
            "79/79 [==============================] - 1s 6ms/step - loss: 0.4285 - accuracy: 0.7934 - val_loss: 0.3674 - val_accuracy: 0.8291\n",
            "Epoch 161/200\n",
            "79/79 [==============================] - 0s 6ms/step - loss: 0.4162 - accuracy: 0.8112 - val_loss: 0.3836 - val_accuracy: 0.8291\n",
            "Epoch 162/200\n",
            "79/79 [==============================] - 0s 6ms/step - loss: 0.4168 - accuracy: 0.8176 - val_loss: 0.3896 - val_accuracy: 0.8189\n",
            "Epoch 163/200\n",
            "79/79 [==============================] - 0s 6ms/step - loss: 0.4076 - accuracy: 0.8144 - val_loss: 0.3680 - val_accuracy: 0.8367\n",
            "Epoch 164/200\n",
            "79/79 [==============================] - 0s 6ms/step - loss: 0.4167 - accuracy: 0.8119 - val_loss: 0.3778 - val_accuracy: 0.8240\n",
            "Epoch 165/200\n",
            "79/79 [==============================] - 0s 5ms/step - loss: 0.4064 - accuracy: 0.8202 - val_loss: 0.3795 - val_accuracy: 0.8214\n",
            "Epoch 166/200\n",
            "79/79 [==============================] - 0s 5ms/step - loss: 0.4049 - accuracy: 0.8195 - val_loss: 0.3543 - val_accuracy: 0.8393\n",
            "Epoch 167/200\n",
            "79/79 [==============================] - 0s 5ms/step - loss: 0.4063 - accuracy: 0.8202 - val_loss: 0.3607 - val_accuracy: 0.8546\n",
            "Epoch 168/200\n",
            "79/79 [==============================] - 0s 5ms/step - loss: 0.4231 - accuracy: 0.8138 - val_loss: 0.3700 - val_accuracy: 0.8316\n",
            "Epoch 169/200\n",
            "79/79 [==============================] - 0s 5ms/step - loss: 0.4161 - accuracy: 0.8068 - val_loss: 0.3582 - val_accuracy: 0.8444\n",
            "Epoch 170/200\n",
            "79/79 [==============================] - 0s 5ms/step - loss: 0.4335 - accuracy: 0.7902 - val_loss: 0.3844 - val_accuracy: 0.8163\n",
            "Epoch 171/200\n",
            "79/79 [==============================] - 0s 5ms/step - loss: 0.4113 - accuracy: 0.8119 - val_loss: 0.3669 - val_accuracy: 0.8316\n",
            "Epoch 172/200\n",
            "79/79 [==============================] - 0s 5ms/step - loss: 0.4014 - accuracy: 0.8208 - val_loss: 0.3581 - val_accuracy: 0.8367\n",
            "Epoch 173/200\n",
            "79/79 [==============================] - 0s 5ms/step - loss: 0.4050 - accuracy: 0.8163 - val_loss: 0.3645 - val_accuracy: 0.8418\n",
            "Epoch 174/200\n",
            "79/79 [==============================] - 0s 5ms/step - loss: 0.4090 - accuracy: 0.8151 - val_loss: 0.3637 - val_accuracy: 0.8265\n",
            "Epoch 175/200\n",
            "79/79 [==============================] - 0s 5ms/step - loss: 0.4000 - accuracy: 0.8163 - val_loss: 0.3664 - val_accuracy: 0.8112\n",
            "Epoch 176/200\n",
            "79/79 [==============================] - 0s 5ms/step - loss: 0.4221 - accuracy: 0.7972 - val_loss: 0.3670 - val_accuracy: 0.8189\n",
            "Epoch 177/200\n",
            "79/79 [==============================] - 0s 5ms/step - loss: 0.4005 - accuracy: 0.8214 - val_loss: 0.3584 - val_accuracy: 0.8342\n",
            "Epoch 178/200\n",
            "79/79 [==============================] - 0s 5ms/step - loss: 0.4048 - accuracy: 0.8163 - val_loss: 0.3669 - val_accuracy: 0.8418\n",
            "Epoch 179/200\n",
            "79/79 [==============================] - 0s 5ms/step - loss: 0.4003 - accuracy: 0.8189 - val_loss: 0.3843 - val_accuracy: 0.8240\n",
            "Epoch 180/200\n",
            "79/79 [==============================] - 0s 5ms/step - loss: 0.4048 - accuracy: 0.8240 - val_loss: 0.3864 - val_accuracy: 0.8087\n",
            "Epoch 181/200\n",
            "79/79 [==============================] - 0s 5ms/step - loss: 0.4054 - accuracy: 0.8131 - val_loss: 0.3670 - val_accuracy: 0.8316\n",
            "Epoch 182/200\n",
            "79/79 [==============================] - 0s 6ms/step - loss: 0.3877 - accuracy: 0.8221 - val_loss: 0.3627 - val_accuracy: 0.8265\n",
            "Epoch 183/200\n",
            "79/79 [==============================] - 0s 5ms/step - loss: 0.4012 - accuracy: 0.8182 - val_loss: 0.3651 - val_accuracy: 0.8316\n",
            "Epoch 184/200\n",
            "79/79 [==============================] - 0s 5ms/step - loss: 0.4024 - accuracy: 0.8170 - val_loss: 0.3538 - val_accuracy: 0.8342\n",
            "Epoch 185/200\n",
            "79/79 [==============================] - 0s 5ms/step - loss: 0.3823 - accuracy: 0.8310 - val_loss: 0.3574 - val_accuracy: 0.8291\n",
            "Epoch 186/200\n",
            "79/79 [==============================] - 0s 5ms/step - loss: 0.4116 - accuracy: 0.8182 - val_loss: 0.3580 - val_accuracy: 0.8316\n",
            "Epoch 187/200\n",
            "79/79 [==============================] - 0s 5ms/step - loss: 0.4001 - accuracy: 0.8265 - val_loss: 0.3627 - val_accuracy: 0.8367\n",
            "Epoch 188/200\n",
            "79/79 [==============================] - 0s 5ms/step - loss: 0.4046 - accuracy: 0.8253 - val_loss: 0.3733 - val_accuracy: 0.8291\n",
            "Epoch 189/200\n",
            "79/79 [==============================] - 0s 6ms/step - loss: 0.4155 - accuracy: 0.8055 - val_loss: 0.3745 - val_accuracy: 0.8214\n",
            "Epoch 190/200\n",
            "79/79 [==============================] - 0s 5ms/step - loss: 0.3954 - accuracy: 0.8367 - val_loss: 0.3808 - val_accuracy: 0.8138\n",
            "Epoch 191/200\n",
            "79/79 [==============================] - 0s 5ms/step - loss: 0.3996 - accuracy: 0.8265 - val_loss: 0.3624 - val_accuracy: 0.8444\n",
            "Epoch 192/200\n",
            "79/79 [==============================] - 0s 6ms/step - loss: 0.3840 - accuracy: 0.8246 - val_loss: 0.3606 - val_accuracy: 0.8265\n",
            "Epoch 193/200\n",
            "79/79 [==============================] - 0s 5ms/step - loss: 0.3876 - accuracy: 0.8297 - val_loss: 0.3631 - val_accuracy: 0.8240\n",
            "Epoch 194/200\n",
            "79/79 [==============================] - 0s 5ms/step - loss: 0.3786 - accuracy: 0.8374 - val_loss: 0.3607 - val_accuracy: 0.8291\n",
            "Epoch 195/200\n",
            "79/79 [==============================] - 0s 5ms/step - loss: 0.3759 - accuracy: 0.8316 - val_loss: 0.3613 - val_accuracy: 0.8418\n",
            "Epoch 196/200\n",
            "79/79 [==============================] - 0s 5ms/step - loss: 0.4146 - accuracy: 0.8208 - val_loss: 0.3638 - val_accuracy: 0.8316\n",
            "Epoch 197/200\n",
            "79/79 [==============================] - 0s 5ms/step - loss: 0.4036 - accuracy: 0.8189 - val_loss: 0.3630 - val_accuracy: 0.8342\n",
            "Epoch 198/200\n",
            "79/79 [==============================] - 0s 6ms/step - loss: 0.4024 - accuracy: 0.8240 - val_loss: 0.3573 - val_accuracy: 0.8469\n",
            "Epoch 199/200\n",
            "79/79 [==============================] - 0s 5ms/step - loss: 0.3806 - accuracy: 0.8399 - val_loss: 0.3554 - val_accuracy: 0.8342\n",
            "Epoch 200/200\n",
            "79/79 [==============================] - 0s 6ms/step - loss: 0.4012 - accuracy: 0.8329 - val_loss: 0.3652 - val_accuracy: 0.8265\n"
          ],
          "name": "stdout"
        }
      ]
    },
    {
      "cell_type": "code",
      "metadata": {
        "id": "ODHW1NAOqNcK",
        "colab_type": "code",
        "colab": {
          "base_uri": "https://localhost:8080/",
          "height": 206
        },
        "outputId": "b2e9f914-becd-4a1b-a098-15daec3c2603"
      },
      "source": [
        "hist = pd.DataFrame(history.history)\n",
        "hist['epoch'] = history.epoch\n",
        "hist.tail()"
      ],
      "execution_count": 335,
      "outputs": [
        {
          "output_type": "execute_result",
          "data": {
            "text/html": [
              "<div>\n",
              "<style scoped>\n",
              "    .dataframe tbody tr th:only-of-type {\n",
              "        vertical-align: middle;\n",
              "    }\n",
              "\n",
              "    .dataframe tbody tr th {\n",
              "        vertical-align: top;\n",
              "    }\n",
              "\n",
              "    .dataframe thead th {\n",
              "        text-align: right;\n",
              "    }\n",
              "</style>\n",
              "<table border=\"1\" class=\"dataframe\">\n",
              "  <thead>\n",
              "    <tr style=\"text-align: right;\">\n",
              "      <th></th>\n",
              "      <th>loss</th>\n",
              "      <th>accuracy</th>\n",
              "      <th>val_loss</th>\n",
              "      <th>val_accuracy</th>\n",
              "      <th>epoch</th>\n",
              "    </tr>\n",
              "  </thead>\n",
              "  <tbody>\n",
              "    <tr>\n",
              "      <th>195</th>\n",
              "      <td>0.414637</td>\n",
              "      <td>0.820791</td>\n",
              "      <td>0.363840</td>\n",
              "      <td>0.831633</td>\n",
              "      <td>195</td>\n",
              "    </tr>\n",
              "    <tr>\n",
              "      <th>196</th>\n",
              "      <td>0.403640</td>\n",
              "      <td>0.818878</td>\n",
              "      <td>0.362998</td>\n",
              "      <td>0.834184</td>\n",
              "      <td>196</td>\n",
              "    </tr>\n",
              "    <tr>\n",
              "      <th>197</th>\n",
              "      <td>0.402376</td>\n",
              "      <td>0.823980</td>\n",
              "      <td>0.357256</td>\n",
              "      <td>0.846939</td>\n",
              "      <td>197</td>\n",
              "    </tr>\n",
              "    <tr>\n",
              "      <th>198</th>\n",
              "      <td>0.380604</td>\n",
              "      <td>0.839923</td>\n",
              "      <td>0.355360</td>\n",
              "      <td>0.834184</td>\n",
              "      <td>198</td>\n",
              "    </tr>\n",
              "    <tr>\n",
              "      <th>199</th>\n",
              "      <td>0.401224</td>\n",
              "      <td>0.832908</td>\n",
              "      <td>0.365211</td>\n",
              "      <td>0.826531</td>\n",
              "      <td>199</td>\n",
              "    </tr>\n",
              "  </tbody>\n",
              "</table>\n",
              "</div>"
            ],
            "text/plain": [
              "         loss  accuracy  val_loss  val_accuracy  epoch\n",
              "195  0.414637  0.820791  0.363840      0.831633    195\n",
              "196  0.403640  0.818878  0.362998      0.834184    196\n",
              "197  0.402376  0.823980  0.357256      0.846939    197\n",
              "198  0.380604  0.839923  0.355360      0.834184    198\n",
              "199  0.401224  0.832908  0.365211      0.826531    199"
            ]
          },
          "metadata": {
            "tags": []
          },
          "execution_count": 335
        }
      ]
    },
    {
      "cell_type": "code",
      "metadata": {
        "id": "Q3-cFZIRrMKd",
        "colab_type": "code",
        "colab": {
          "base_uri": "https://localhost:8080/",
          "height": 362
        },
        "outputId": "0759fcfe-e2fe-4314-d580-a19221e1c4b6"
      },
      "source": [
        "import matplotlib.pyplot as plt\n",
        "\n",
        "hist=history.history\n",
        "\n",
        "fig=plt.figure(figsize=(12,5))\n",
        "ax=fig.add_subplot(1,2,1)\n",
        "ax.plot(hist['loss'],lw=3)\n",
        "ax.plot(hist['val_loss'],lw=3)\n",
        "ax.set_title('Training & Validation Loss',size=15)\n",
        "ax.set_xlabel('Epoch',size=15)\n",
        "ax.tick_params(axis='both',which='major',labelsize=15)\n",
        "ax=fig.add_subplot(1,2,2)\n",
        "ax.plot(hist['accuracy'],lw=3)\n",
        "ax.plot(hist['val_accuracy'],lw=3)\n",
        "ax.set_title('Training & Validation accuracy',size=15)\n",
        "ax.set_xlabel('Epoch',size=15)\n",
        "ax.tick_params(axis='both',which='major',labelsize=15)\n",
        "plt.show()\n",
        "\n",
        "\n"
      ],
      "execution_count": 336,
      "outputs": [
        {
          "output_type": "display_data",
          "data": {
            "image/png": "[encoded data removed]",
            "text/plain": [
              "<Figure size 864x360 with 2 Axes>"
            ]
          },
          "metadata": {
            "tags": [],
            "needs_background": "light"
          }
        }
      ]
    },
    {
      "cell_type": "code",
      "metadata": {
        "id": "eOahIbKW6AMf",
        "colab_type": "code",
        "colab": {
          "base_uri": "https://localhost:8080/",
          "height": 366
        },
        "outputId": "ff45ce41-f959-4582-ea8d-95d45665fdb6"
      },
      "source": [
        "!pip install shap"
      ],
      "execution_count": 32,
      "outputs": [
        {
          "output_type": "stream",
          "text": [
            "Collecting shap\n",
            "\u001b[?25l  Downloading https://files.pythonhosted.org/packages/a8/77/b504e43e21a2ba543a1ac4696718beb500cfa708af2fb57cb54ce299045c/shap-0.35.0.tar.gz (273kB)\n",
            "\r\u001b[K     |█▏                              | 10kB 21.7MB/s eta 0:00:01\r\u001b[K     |██▍                             | 20kB 1.7MB/s eta 0:00:01\r\u001b[K     |███▋                            | 30kB 2.2MB/s eta 0:00:01\r\u001b[K     |████▉                           | 40kB 2.5MB/s eta 0:00:01\r\u001b[K     |██████                          | 51kB 2.0MB/s eta 0:00:01\r\u001b[K     |███████▏                        | 61kB 2.3MB/s eta 0:00:01\r\u001b[K     |████████▍                       | 71kB 2.5MB/s eta 0:00:01\r\u001b[K     |█████████▋                      | 81kB 2.7MB/s eta 0:00:01\r\u001b[K     |██████████▉                     | 92kB 2.9MB/s eta 0:00:01\r\u001b[K     |████████████                    | 102kB 2.8MB/s eta 0:00:01\r\u001b[K     |█████████████▏                  | 112kB 2.8MB/s eta 0:00:01\r\u001b[K     |██████████████▍                 | 122kB 2.8MB/s eta 0:00:01\r\u001b[K     |███████████████▋                | 133kB 2.8MB/s eta 0:00:01\r\u001b[K     |████████████████▉               | 143kB 2.8MB/s eta 0:00:01\r\u001b[K     |██████████████████              | 153kB 2.8MB/s eta 0:00:01\r\u001b[K     |███████████████████▏            | 163kB 2.8MB/s eta 0:00:01\r\u001b[K     |████████████████████▍           | 174kB 2.8MB/s eta 0:00:01\r\u001b[K     |█████████████████████▋          | 184kB 2.8MB/s eta 0:00:01\r\u001b[K     |██████████████████████▉         | 194kB 2.8MB/s eta 0:00:01\r\u001b[K     |████████████████████████        | 204kB 2.8MB/s eta 0:00:01\r\u001b[K     |█████████████████████████▏      | 215kB 2.8MB/s eta 0:00:01\r\u001b[K     |██████████████████████████▍     | 225kB 2.8MB/s eta 0:00:01\r\u001b[K     |███████████████████████████▋    | 235kB 2.8MB/s eta 0:00:01\r\u001b[K     |████████████████████████████▉   | 245kB 2.8MB/s eta 0:00:01\r\u001b[K     |██████████████████████████████  | 256kB 2.8MB/s eta 0:00:01\r\u001b[K     |███████████████████████████████▏| 266kB 2.8MB/s eta 0:00:01\r\u001b[K     |████████████████████████████████| 276kB 2.8MB/s \n",
            "\u001b[?25hRequirement already satisfied: numpy in /usr/local/lib/python3.6/dist-packages (from shap) (1.18.5)\n",
            "Requirement already satisfied: scipy in /usr/local/lib/python3.6/dist-packages (from shap) (1.4.1)\n",
            "Requirement already satisfied: scikit-learn in /usr/local/lib/python3.6/dist-packages (from shap) (0.22.2.post1)\n",
            "Requirement already satisfied: pandas in /usr/local/lib/python3.6/dist-packages (from shap) (1.0.5)\n",
            "Requirement already satisfied: tqdm>4.25.0 in /usr/local/lib/python3.6/dist-packages (from shap) (4.41.1)\n",
            "Requirement already satisfied: joblib>=0.11 in /usr/local/lib/python3.6/dist-packages (from scikit-learn->shap) (0.15.1)\n",
            "Requirement already satisfied: pytz>=2017.2 in /usr/local/lib/python3.6/dist-packages (from pandas->shap) (2018.9)\n",
            "Requirement already satisfied: python-dateutil>=2.6.1 in /usr/local/lib/python3.6/dist-packages (from pandas->shap) (2.8.1)\n",
            "Requirement already satisfied: six>=1.5 in /usr/local/lib/python3.6/dist-packages (from python-dateutil>=2.6.1->pandas->shap) (1.12.0)\n",
            "Building wheels for collected packages: shap\n",
            "  Building wheel for shap (setup.py) ... \u001b[?25l\u001b[?25hdone\n",
            "  Created wheel for shap: filename=shap-0.35.0-cp36-cp36m-linux_x86_64.whl size=394130 sha256=fa7a3695c4152743202e7de8bd95b7d76cec14ad3ea03f3ef255b7369251cec7\n",
            "  Stored in directory: /root/.cache/pip/wheels/e7/f7/0f/b57055080cf8894906b3bd3616d2fc2bfd0b12d5161bcb24ac\n",
            "Successfully built shap\n",
            "Installing collected packages: shap\n",
            "Successfully installed shap-0.35.0\n"
          ],
          "name": "stdout"
        }
      ]
    },
    {
      "cell_type": "code",
      "metadata": {
        "id": "368Jn0vJ6KwX",
        "colab_type": "code",
        "colab": {}
      },
      "source": [
        "import shap\n",
        "\n",
        "explainer = shap.DeepExplainer(model, np.array(X_train_new))"
      ],
      "execution_count": 337,
      "outputs": []
    },
    {
      "cell_type": "code",
      "metadata": {
        "id": "u9u_3boZEVPn",
        "colab_type": "code",
        "colab": {}
      },
      "source": [
        "shap_values  = explainer.shap_values(np.array(X_test_new))"
      ],
      "execution_count": 338,
      "outputs": []
    },
    {
      "cell_type": "code",
      "metadata": {
        "id": "A5xcKTYcExMZ",
        "colab_type": "code",
        "colab": {
          "base_uri": "https://localhost:8080/",
          "height": 585
        },
        "outputId": "abae22bd-7b9f-448e-b39b-f8681be0cb19"
      },
      "source": [
        "shap.summary_plot(shap_values[1], X_test_new)"
      ],
      "execution_count": 339,
      "outputs": [
        {
          "output_type": "display_data",
          "data": {
            "image/png": "[encoded data removed]",
            "text/plain": [
              "<Figure size 576x684 with 2 Axes>"
            ]
          },
          "metadata": {
            "tags": [],
            "needs_background": "light"
          }
        }
      ]
    },
    {
      "cell_type": "code",
      "metadata": {
        "id": "1e2NoPn2Oump",
        "colab_type": "code",
        "colab": {
          "base_uri": "https://localhost:8080/",
          "height": 415
        },
        "outputId": "52ff3df4-e93c-4763-858b-30f624b8c26b"
      },
      "source": [
        "pred=model.predict(X_test_new)\n",
        "pred.argmax(axis=1)"
      ],
      "execution_count": 340,
      "outputs": [
        {
          "output_type": "execute_result",
          "data": {
            "text/plain": [
              "array([0, 0, 0, 1, 1, 1, 0, 0, 0, 0, 0, 0, 0, 0, 0, 0, 0, 0, 0, 0, 0, 0,\n",
              "       0, 1, 1, 1, 1, 0, 0, 0, 0, 0, 0, 1, 1, 1, 1, 0, 0, 0, 1, 1, 1, 1,\n",
              "       0, 0, 0, 0, 0, 0, 0, 0, 0, 0, 0, 0, 0, 0, 0, 0, 0, 0, 0, 0, 0, 0,\n",
              "       0, 0, 0, 0, 0, 0, 0, 0, 0, 0, 0, 1, 1, 0, 0, 0, 1, 1, 1, 1, 1, 1,\n",
              "       1, 1, 1, 0, 0, 0, 0, 0, 0, 0, 1, 1, 1, 1, 1, 1, 1, 0, 0, 1, 1, 1,\n",
              "       1, 1, 1, 1, 1, 1, 1, 1, 1, 1, 1, 1, 1, 1, 1, 0, 0, 0, 1, 1, 1, 1,\n",
              "       0, 0, 1, 1, 1, 1, 0, 0, 1, 1, 1, 1, 1, 1, 1, 1, 1, 0, 0, 0, 0, 1,\n",
              "       0, 1, 1, 0, 1, 0, 0, 0, 0, 0, 0, 0, 0, 0, 1, 1, 1, 0, 0, 1, 1, 1,\n",
              "       0, 0, 0, 0, 1, 0, 1, 1, 0, 0, 1, 0, 0, 1, 0, 0, 0, 0, 0, 0, 0, 0,\n",
              "       1, 1, 0, 1, 0, 1, 1, 1, 1, 1, 1, 1, 1, 1, 1, 0, 0, 0, 0, 1, 1, 0,\n",
              "       1, 1, 1, 1, 1, 1, 1, 0, 0, 0, 0, 0, 0, 1, 1, 1, 1, 0, 0, 1, 0, 0,\n",
              "       0, 0, 1, 1, 1, 1, 1, 1, 1, 1, 1, 1, 0, 0, 0, 1, 1, 1, 1, 1, 0, 0,\n",
              "       0, 0, 0, 0, 0, 0, 1, 1, 1, 0, 0, 0, 1, 0, 0, 0, 0, 0, 0, 0, 1, 1,\n",
              "       0, 0, 0, 0, 0, 0, 0, 0, 0, 1, 1, 1, 1, 1, 1, 0, 0, 1, 1, 1, 0, 0,\n",
              "       0, 0, 0, 0, 0, 0, 1, 0, 1, 1, 1, 1, 1, 1, 1, 1, 1, 1, 1, 1, 1, 1,\n",
              "       1, 1, 1, 1, 1, 1, 1, 1, 1, 1, 1, 1, 1, 1, 1, 1, 1, 0, 0, 1, 1, 1,\n",
              "       1, 0, 0, 1, 1, 1, 1, 1, 1, 1, 1, 0, 0, 0, 0, 1, 1, 1, 1, 1, 1, 1,\n",
              "       0, 1, 1, 1, 1, 1, 1, 1, 1, 1, 1, 1, 1, 1, 1, 1, 1, 0, 1, 0, 0, 0,\n",
              "       1, 1, 0, 0, 0, 0, 0, 1, 1, 1, 1, 1, 1, 0, 0, 0, 0, 0, 1, 1, 1, 1,\n",
              "       1, 1, 1, 0, 0, 0, 0, 0, 0, 0, 0, 0, 0, 0, 0, 0, 0, 0, 1, 1, 1, 0,\n",
              "       0, 0, 0, 0, 0, 1, 1, 1, 1, 0, 0, 1, 1, 1, 1, 1, 0, 0, 0, 0, 0, 1,\n",
              "       1, 1, 1, 0, 0, 0, 0, 1, 0, 0, 0, 0, 0, 0, 0, 1, 1, 1, 1, 1, 0, 1,\n",
              "       1, 1, 1, 1, 1, 0])"
            ]
          },
          "metadata": {
            "tags": []
          },
          "execution_count": 340
        }
      ]
    },
    {
      "cell_type": "code",
      "metadata": {
        "id": "5t5o4NldebYo",
        "colab_type": "code",
        "colab": {}
      },
      "source": [
        "from sklearn.metrics import classification_report, confusion_matrix\n",
        "\n",
        "cm=confusion_matrix(test_labels, pred.argmax(axis=1))"
      ],
      "execution_count": 341,
      "outputs": []
    },
    {
      "cell_type": "code",
      "metadata": {
        "id": "E2N0EkwSkbPS",
        "colab_type": "code",
        "colab": {
          "base_uri": "https://localhost:8080/",
          "height": 215
        },
        "outputId": "ac7df4a7-54de-4373-d74d-2b71d9617476"
      },
      "source": [
        "print('Confusion Matrix')\n",
        "fig,ax = plt.subplots(figsize=(2.5,2.5))\n",
        "ax.matshow(cm,cmap=plt.cm.Blues,alpha=0.3)\n",
        "for i in range(cm.shape[0]):\n",
        "  for j in range(cm.shape[1]):\n",
        "    ax.text(x=j,y=i,\n",
        "            s=cm[i,j],\n",
        "            va='center',ha='center')\n",
        "plt.xlabel('Predicted Label')\n",
        "plt.ylabel('True Label')\n",
        "plt.show()\n",
        "\n"
      ],
      "execution_count": 342,
      "outputs": [
        {
          "output_type": "stream",
          "text": [
            "Confusion Matrix\n"
          ],
          "name": "stdout"
        },
        {
          "output_type": "display_data",
          "data": {
            "image/png": "[encoded data removed]",
            "text/plain": [
              "<Figure size 180x180 with 1 Axes>"
            ]
          },
          "metadata": {
            "tags": [],
            "needs_background": "light"
          }
        }
      ]
    },
    {
      "cell_type": "code",
      "metadata": {
        "id": "BqloAWv8pioM",
        "colab_type": "code",
        "colab": {
          "base_uri": "https://localhost:8080/",
          "height": 69
        },
        "outputId": "b47b2d3f-a053-421a-d957-3971657b34dc"
      },
      "source": [
        "from sklearn.metrics import precision_score\n",
        "from sklearn.metrics import recall_score, f1_score\n",
        "\n",
        "print('Precision: %.3f' % precision_score(y_true=test_labels,y_pred=pred.argmax(axis=1)))\n",
        "\n",
        "print('Recall: %.3f' % recall_score(y_true=test_labels,y_pred=pred.argmax(axis=1)))\n",
        "\n",
        "print('F1: %.3f' % f1_score(y_true=test_labels,y_pred=pred.argmax(axis=1)))"
      ],
      "execution_count": 343,
      "outputs": [
        {
          "output_type": "stream",
          "text": [
            "Precision: 0.853\n",
            "Recall: 0.823\n",
            "F1: 0.838\n"
          ],
          "name": "stdout"
        }
      ]
    },
    {
      "cell_type": "code",
      "metadata": {
        "id": "f6Kbg7ee6Ddc",
        "colab_type": "code",
        "colab": {}
      },
      "source": [
        "from sklearn.pipeline import Pipeline\n",
        "from sklearn.feature_selection import SelectKBest, chi2\n",
        "import xgboost as xgb\n",
        "from sklearn.model_selection import KFold, GridSearchCV\n",
        "from sklearn.metrics import accuracy_score, make_scorer"
      ],
      "execution_count": 344,
      "outputs": []
    },
    {
      "cell_type": "code",
      "metadata": {
        "id": "t3dxaKoa6HzT",
        "colab_type": "code",
        "colab": {}
      },
      "source": [
        "pipe = Pipeline([\n",
        "  ('fs', SelectKBest()),\n",
        "  ('clf', xgb.XGBClassifier(objective='binary:logistic'))\n",
        "])"
      ],
      "execution_count": 345,
      "outputs": []
    },
    {
      "cell_type": "code",
      "metadata": {
        "id": "YYasVbi56P_Q",
        "colab_type": "code",
        "colab": {}
      },
      "source": [
        "search_space = [\n",
        "  {\n",
        "    'clf__n_estimators': [200],\n",
        "    'clf__learning_rate': [0.05, 0.5, 0.1],\n",
        "    'clf__max_depth': range(3, 10),\n",
        "    'clf__colsample_bytree': [i/10.0 for i in range(1, 3)],\n",
        "    'clf__gamma': [i/10.0 for i in range(3)],\n",
        "    'fs__score_func': [mutual_info_classif,f_classif],\n",
        "    'fs__k': [30,40],\n",
        "  }\n",
        "]"
      ],
      "execution_count": 346,
      "outputs": []
    },
    {
      "cell_type": "code",
      "metadata": {
        "id": "MyjNXlvW7k0f",
        "colab_type": "code",
        "colab": {}
      },
      "source": [
        "kfold = KFold(n_splits=4, shuffle=True, random_state=42)"
      ],
      "execution_count": 297,
      "outputs": []
    },
    {
      "cell_type": "code",
      "metadata": {
        "id": "ytjrsKU77sQB",
        "colab_type": "code",
        "colab": {}
      },
      "source": [
        "scoring = {'AUC':'roc_auc', 'Accuracy':make_scorer(accuracy_score)}"
      ],
      "execution_count": 298,
      "outputs": []
    },
    {
      "cell_type": "code",
      "metadata": {
        "id": "VrXsHFmn7wML",
        "colab_type": "code",
        "colab": {}
      },
      "source": [
        "grid = GridSearchCV(\n",
        "  pipe,\n",
        "  param_grid=search_space,\n",
        "  cv=kfold,\n",
        "  scoring=scoring,\n",
        "  refit='AUC',\n",
        "  verbose=1,\n",
        "  n_jobs=-1\n",
        ")"
      ],
      "execution_count": 299,
      "outputs": []
    },
    {
      "cell_type": "code",
      "metadata": {
        "id": "Shvo5yEg7303",
        "colab_type": "code",
        "colab": {
          "base_uri": "https://localhost:8080/",
          "height": 173
        },
        "outputId": "2358bc0b-520c-4617-c285-081a5efe387c"
      },
      "source": [
        "model = grid.fit(normed_train_data, train_labels)"
      ],
      "execution_count": 300,
      "outputs": [
        {
          "output_type": "stream",
          "text": [
            "Fitting 4 folds for each of 504 candidates, totalling 2016 fits\n"
          ],
          "name": "stdout"
        },
        {
          "output_type": "stream",
          "text": [
            "[Parallel(n_jobs=-1)]: Using backend LokyBackend with 2 concurrent workers.\n",
            "[Parallel(n_jobs=-1)]: Done  46 tasks      | elapsed:   25.5s\n",
            "[Parallel(n_jobs=-1)]: Done 196 tasks      | elapsed:  1.8min\n",
            "[Parallel(n_jobs=-1)]: Done 446 tasks      | elapsed:  4.1min\n",
            "[Parallel(n_jobs=-1)]: Done 796 tasks      | elapsed:  7.2min\n",
            "[Parallel(n_jobs=-1)]: Done 1246 tasks      | elapsed: 11.6min\n",
            "[Parallel(n_jobs=-1)]: Done 1796 tasks      | elapsed: 17.7min\n",
            "[Parallel(n_jobs=-1)]: Done 2016 out of 2016 | elapsed: 20.0min finished\n"
          ],
          "name": "stderr"
        }
      ]
    },
    {
      "cell_type": "code",
      "metadata": {
        "id": "S0MwiyBuOL-z",
        "colab_type": "code",
        "colab": {}
      },
      "source": [
        "import pickle\n",
        "\n",
        "# Dictionary of best parameters\n",
        "best_pars = grid.best_params_\n",
        "# Best XGB model that was found based on the metric score you specify\n",
        "best_model = grid.best_estimator_\n",
        "# Save model\n",
        "pickle.dump(grid.best_estimator_, open('gdrive/My Drive/SS_AITrader/'+stock+'/xgb_'+stock+'_log_reg.pickle', \"wb\"))"
      ],
      "execution_count": 301,
      "outputs": []
    },
    {
      "cell_type": "code",
      "metadata": {
        "id": "lYPYB1GQRn44",
        "colab_type": "code",
        "colab": {
          "base_uri": "https://localhost:8080/",
          "height": 51
        },
        "outputId": "5a4d9835-ee68-441b-e620-cc5cd3182c77"
      },
      "source": [
        "predict = model.predict(normed_test_data)\n",
        "print('Best AUC Score: {}'.format(model.best_score_))\n",
        "print('Accuracy: {}'.format(accuracy_score(test_labels, predict)))\n",
        "cm=confusion_matrix(test_labels,predict)"
      ],
      "execution_count": 302,
      "outputs": [
        {
          "output_type": "stream",
          "text": [
            "Best AUC Score: 0.9375388485031442\n",
            "Accuracy: 0.8877551020408163\n"
          ],
          "name": "stdout"
        }
      ]
    },
    {
      "cell_type": "code",
      "metadata": {
        "id": "_F-aB0lqS1dx",
        "colab_type": "code",
        "colab": {
          "base_uri": "https://localhost:8080/",
          "height": 215
        },
        "outputId": "b92f704e-5bf2-4338-d504-50b984f86cef"
      },
      "source": [
        "print('Confusion Matrix')\n",
        "fig,ax = plt.subplots(figsize=(2.5,2.5))\n",
        "ax.matshow(cm,cmap=plt.cm.Blues,alpha=0.3)\n",
        "for i in range(cm.shape[0]):\n",
        "  for j in range(cm.shape[1]):\n",
        "    ax.text(x=j,y=i,\n",
        "            s=cm[i,j],\n",
        "            va='center',ha='center')\n",
        "plt.xlabel('Predicted Label')\n",
        "plt.ylabel('True Label')\n",
        "plt.show()"
      ],
      "execution_count": 303,
      "outputs": [
        {
          "output_type": "stream",
          "text": [
            "Confusion Matrix\n"
          ],
          "name": "stdout"
        },
        {
          "output_type": "display_data",
          "data": {
            "image/png": "[encoded data removed]",
            "text/plain": [
              "<Figure size 180x180 with 1 Axes>"
            ]
          },
          "metadata": {
            "tags": [],
            "needs_background": "light"
          }
        }
      ]
    },
    {
      "cell_type": "code",
      "metadata": {
        "id": "DNgkOrW_TPMl",
        "colab_type": "code",
        "colab": {
          "base_uri": "https://localhost:8080/",
          "height": 54
        },
        "outputId": "53bcf936-aaaf-4f97-a712-e452dcd623c5"
      },
      "source": [
        "print(model.best_params_)"
      ],
      "execution_count": 304,
      "outputs": [
        {
          "output_type": "stream",
          "text": [
            "{'clf__colsample_bytree': 0.2, 'clf__gamma': 0.0, 'clf__learning_rate': 0.1, 'clf__max_depth': 7, 'clf__n_estimators': 200, 'fs__k': 30, 'fs__score_func': <function mutual_info_classif at 0x7f9d435a61e0>}\n"
          ],
          "name": "stdout"
        }
      ]
    },
    {
      "cell_type": "code",
      "metadata": {
        "id": "9S0pNSHq8lEE",
        "colab_type": "code",
        "colab": {}
      },
      "source": [
        "k=40\n",
        "select_k_best = SelectKBest(mutual_info_classif, k=k)\n",
        "select_k_best.fit(normed_train_data, train_labels)\n",
        "selected_features_mic = itemgetter(*select_k_best.get_support(indices=True))(list_features)\n",
        "\n",
        "list_features = list(normed_train_data.columns)\n",
        "feat_idx = []\n",
        "for c in selected_features_mic:\n",
        "      feat_idx.append(list_features.index(c))\n",
        "\n",
        "feat_idx = sorted(feat_idx)\n",
        "X_train_new=normed_train_data.iloc[:, feat_idx]\n",
        "X_test_new=normed_test_data.iloc[:, feat_idx]\n",
        "\n",
        "\n"
      ],
      "execution_count": 355,
      "outputs": []
    },
    {
      "cell_type": "code",
      "metadata": {
        "id": "g5_E1028Tx0Q",
        "colab_type": "code",
        "colab": {
          "base_uri": "https://localhost:8080/",
          "height": 1000
        },
        "outputId": "97ffbd07-019b-4a25-a884-11d731692857"
      },
      "source": [
        "model_opt = xgb.XGBClassifier(max_depth=7,\n",
        "                        objective='binary:logistic',\n",
        "                        n_estimators=200,\n",
        "                        learning_rate = 0.1,\n",
        "                        colsample_bytree= 0.2,\n",
        "                        gamma= 0.0)\n",
        "eval_set = [(X_train_new, train_labels), (X_test_new, test_labels)]\n",
        "model_opt.fit(X_train_new, train_labels, early_stopping_rounds=15, eval_metric=[\"error\", \"logloss\"], eval_set=eval_set, verbose=True)"
      ],
      "execution_count": 356,
      "outputs": [
        {
          "output_type": "stream",
          "text": [
            "[0]\tvalidation_0-error:0.187755\tvalidation_0-logloss:0.65199\tvalidation_1-error:0.332653\tvalidation_1-logloss:0.670468\n",
            "Multiple eval metrics have been passed: 'validation_1-logloss' will be used for early stopping.\n",
            "\n",
            "Will train until validation_1-logloss hasn't improved in 15 rounds.\n",
            "[1]\tvalidation_0-error:0.176531\tvalidation_0-logloss:0.634258\tvalidation_1-error:0.332653\tvalidation_1-logloss:0.662238\n",
            "[2]\tvalidation_0-error:0.161735\tvalidation_0-logloss:0.623442\tvalidation_1-error:0.310204\tvalidation_1-logloss:0.658767\n",
            "[3]\tvalidation_0-error:0.161735\tvalidation_0-logloss:0.612168\tvalidation_1-error:0.322449\tvalidation_1-logloss:0.653442\n",
            "[4]\tvalidation_0-error:0.129592\tvalidation_0-logloss:0.582593\tvalidation_1-error:0.283673\tvalidation_1-logloss:0.635789\n",
            "[5]\tvalidation_0-error:0.119898\tvalidation_0-logloss:0.558536\tvalidation_1-error:0.281633\tvalidation_1-logloss:0.622775\n",
            "[6]\tvalidation_0-error:0.1\tvalidation_0-logloss:0.547059\tvalidation_1-error:0.255102\tvalidation_1-logloss:0.615975\n",
            "[7]\tvalidation_0-error:0.094898\tvalidation_0-logloss:0.537334\tvalidation_1-error:0.255102\tvalidation_1-logloss:0.61342\n",
            "[8]\tvalidation_0-error:0.082653\tvalidation_0-logloss:0.510489\tvalidation_1-error:0.236735\tvalidation_1-logloss:0.596054\n",
            "[9]\tvalidation_0-error:0.080612\tvalidation_0-logloss:0.498954\tvalidation_1-error:0.240816\tvalidation_1-logloss:0.590467\n",
            "[10]\tvalidation_0-error:0.070408\tvalidation_0-logloss:0.484729\tvalidation_1-error:0.22449\tvalidation_1-logloss:0.586138\n",
            "[11]\tvalidation_0-error:0.068367\tvalidation_0-logloss:0.479217\tvalidation_1-error:0.240816\tvalidation_1-logloss:0.584688\n",
            "[12]\tvalidation_0-error:0.061224\tvalidation_0-logloss:0.464365\tvalidation_1-error:0.222449\tvalidation_1-logloss:0.57564\n",
            "[13]\tvalidation_0-error:0.055102\tvalidation_0-logloss:0.443877\tvalidation_1-error:0.212245\tvalidation_1-logloss:0.558883\n",
            "[14]\tvalidation_0-error:0.05051\tvalidation_0-logloss:0.429443\tvalidation_1-error:0.197959\tvalidation_1-logloss:0.548315\n",
            "[15]\tvalidation_0-error:0.05051\tvalidation_0-logloss:0.424343\tvalidation_1-error:0.197959\tvalidation_1-logloss:0.545629\n",
            "[16]\tvalidation_0-error:0.042857\tvalidation_0-logloss:0.407408\tvalidation_1-error:0.185714\tvalidation_1-logloss:0.531344\n",
            "[17]\tvalidation_0-error:0.041837\tvalidation_0-logloss:0.401914\tvalidation_1-error:0.185714\tvalidation_1-logloss:0.528016\n",
            "[18]\tvalidation_0-error:0.039286\tvalidation_0-logloss:0.393574\tvalidation_1-error:0.185714\tvalidation_1-logloss:0.523258\n",
            "[19]\tvalidation_0-error:0.037755\tvalidation_0-logloss:0.379897\tvalidation_1-error:0.189796\tvalidation_1-logloss:0.516178\n",
            "[20]\tvalidation_0-error:0.036224\tvalidation_0-logloss:0.367855\tvalidation_1-error:0.189796\tvalidation_1-logloss:0.51111\n",
            "[21]\tvalidation_0-error:0.036224\tvalidation_0-logloss:0.357569\tvalidation_1-error:0.181633\tvalidation_1-logloss:0.503277\n",
            "[22]\tvalidation_0-error:0.037245\tvalidation_0-logloss:0.348574\tvalidation_1-error:0.17551\tvalidation_1-logloss:0.495513\n",
            "[23]\tvalidation_0-error:0.032653\tvalidation_0-logloss:0.337031\tvalidation_1-error:0.173469\tvalidation_1-logloss:0.487673\n",
            "[24]\tvalidation_0-error:0.031633\tvalidation_0-logloss:0.330965\tvalidation_1-error:0.173469\tvalidation_1-logloss:0.484932\n",
            "[25]\tvalidation_0-error:0.032653\tvalidation_0-logloss:0.320906\tvalidation_1-error:0.177551\tvalidation_1-logloss:0.478213\n",
            "[26]\tvalidation_0-error:0.029592\tvalidation_0-logloss:0.312922\tvalidation_1-error:0.171429\tvalidation_1-logloss:0.477242\n",
            "[27]\tvalidation_0-error:0.026531\tvalidation_0-logloss:0.307523\tvalidation_1-error:0.17551\tvalidation_1-logloss:0.476679\n",
            "[28]\tvalidation_0-error:0.021939\tvalidation_0-logloss:0.299597\tvalidation_1-error:0.177551\tvalidation_1-logloss:0.475386\n",
            "[29]\tvalidation_0-error:0.021939\tvalidation_0-logloss:0.294211\tvalidation_1-error:0.173469\tvalidation_1-logloss:0.473058\n",
            "[30]\tvalidation_0-error:0.021429\tvalidation_0-logloss:0.286545\tvalidation_1-error:0.179592\tvalidation_1-logloss:0.470039\n",
            "[31]\tvalidation_0-error:0.019388\tvalidation_0-logloss:0.283323\tvalidation_1-error:0.183673\tvalidation_1-logloss:0.468979\n",
            "[32]\tvalidation_0-error:0.018878\tvalidation_0-logloss:0.278592\tvalidation_1-error:0.185714\tvalidation_1-logloss:0.465674\n",
            "[33]\tvalidation_0-error:0.017857\tvalidation_0-logloss:0.274683\tvalidation_1-error:0.181633\tvalidation_1-logloss:0.465218\n",
            "[34]\tvalidation_0-error:0.016327\tvalidation_0-logloss:0.269435\tvalidation_1-error:0.181633\tvalidation_1-logloss:0.461496\n",
            "[35]\tvalidation_0-error:0.013776\tvalidation_0-logloss:0.263599\tvalidation_1-error:0.171429\tvalidation_1-logloss:0.458086\n",
            "[36]\tvalidation_0-error:0.013265\tvalidation_0-logloss:0.258762\tvalidation_1-error:0.177551\tvalidation_1-logloss:0.457225\n",
            "[37]\tvalidation_0-error:0.012245\tvalidation_0-logloss:0.253018\tvalidation_1-error:0.177551\tvalidation_1-logloss:0.455107\n",
            "[38]\tvalidation_0-error:0.010714\tvalidation_0-logloss:0.24532\tvalidation_1-error:0.177551\tvalidation_1-logloss:0.44859\n",
            "[39]\tvalidation_0-error:0.010204\tvalidation_0-logloss:0.242762\tvalidation_1-error:0.177551\tvalidation_1-logloss:0.447533\n",
            "[40]\tvalidation_0-error:0.009694\tvalidation_0-logloss:0.239055\tvalidation_1-error:0.173469\tvalidation_1-logloss:0.446087\n",
            "[41]\tvalidation_0-error:0.008673\tvalidation_0-logloss:0.234033\tvalidation_1-error:0.181633\tvalidation_1-logloss:0.445405\n",
            "[42]\tvalidation_0-error:0.008163\tvalidation_0-logloss:0.230807\tvalidation_1-error:0.173469\tvalidation_1-logloss:0.445662\n",
            "[43]\tvalidation_0-error:0.008163\tvalidation_0-logloss:0.223756\tvalidation_1-error:0.173469\tvalidation_1-logloss:0.439842\n",
            "[44]\tvalidation_0-error:0.007143\tvalidation_0-logloss:0.219205\tvalidation_1-error:0.171429\tvalidation_1-logloss:0.437414\n",
            "[45]\tvalidation_0-error:0.007653\tvalidation_0-logloss:0.215671\tvalidation_1-error:0.165306\tvalidation_1-logloss:0.434976\n",
            "[46]\tvalidation_0-error:0.006633\tvalidation_0-logloss:0.210194\tvalidation_1-error:0.167347\tvalidation_1-logloss:0.431089\n",
            "[47]\tvalidation_0-error:0.006122\tvalidation_0-logloss:0.203978\tvalidation_1-error:0.167347\tvalidation_1-logloss:0.428968\n",
            "[48]\tvalidation_0-error:0.005612\tvalidation_0-logloss:0.202122\tvalidation_1-error:0.169388\tvalidation_1-logloss:0.42881\n",
            "[49]\tvalidation_0-error:0.003061\tvalidation_0-logloss:0.198411\tvalidation_1-error:0.173469\tvalidation_1-logloss:0.428617\n",
            "[50]\tvalidation_0-error:0.003061\tvalidation_0-logloss:0.195993\tvalidation_1-error:0.171429\tvalidation_1-logloss:0.427002\n",
            "[51]\tvalidation_0-error:0.002551\tvalidation_0-logloss:0.193044\tvalidation_1-error:0.169388\tvalidation_1-logloss:0.426836\n",
            "[52]\tvalidation_0-error:0.002551\tvalidation_0-logloss:0.191429\tvalidation_1-error:0.171429\tvalidation_1-logloss:0.425415\n",
            "[53]\tvalidation_0-error:0.002551\tvalidation_0-logloss:0.186683\tvalidation_1-error:0.161224\tvalidation_1-logloss:0.423353\n",
            "[54]\tvalidation_0-error:0.002551\tvalidation_0-logloss:0.182331\tvalidation_1-error:0.167347\tvalidation_1-logloss:0.421692\n",
            "[55]\tvalidation_0-error:0.002551\tvalidation_0-logloss:0.179234\tvalidation_1-error:0.167347\tvalidation_1-logloss:0.421304\n",
            "[56]\tvalidation_0-error:0.002041\tvalidation_0-logloss:0.173964\tvalidation_1-error:0.161224\tvalidation_1-logloss:0.416243\n",
            "[57]\tvalidation_0-error:0.002041\tvalidation_0-logloss:0.169359\tvalidation_1-error:0.161224\tvalidation_1-logloss:0.411722\n",
            "[58]\tvalidation_0-error:0.001531\tvalidation_0-logloss:0.165601\tvalidation_1-error:0.165306\tvalidation_1-logloss:0.409198\n",
            "[59]\tvalidation_0-error:0.001531\tvalidation_0-logloss:0.162031\tvalidation_1-error:0.165306\tvalidation_1-logloss:0.409092\n",
            "[60]\tvalidation_0-error:0.002041\tvalidation_0-logloss:0.157696\tvalidation_1-error:0.167347\tvalidation_1-logloss:0.407695\n",
            "[61]\tvalidation_0-error:0.00102\tvalidation_0-logloss:0.15478\tvalidation_1-error:0.165306\tvalidation_1-logloss:0.406246\n",
            "[62]\tvalidation_0-error:0.00102\tvalidation_0-logloss:0.152186\tvalidation_1-error:0.157143\tvalidation_1-logloss:0.402557\n",
            "[63]\tvalidation_0-error:0.00102\tvalidation_0-logloss:0.149785\tvalidation_1-error:0.161224\tvalidation_1-logloss:0.402575\n",
            "[64]\tvalidation_0-error:0.00102\tvalidation_0-logloss:0.146148\tvalidation_1-error:0.157143\tvalidation_1-logloss:0.400947\n",
            "[65]\tvalidation_0-error:0.00102\tvalidation_0-logloss:0.144873\tvalidation_1-error:0.153061\tvalidation_1-logloss:0.400292\n",
            "[66]\tvalidation_0-error:0.00102\tvalidation_0-logloss:0.143579\tvalidation_1-error:0.153061\tvalidation_1-logloss:0.400293\n",
            "[67]\tvalidation_0-error:0.00051\tvalidation_0-logloss:0.141916\tvalidation_1-error:0.153061\tvalidation_1-logloss:0.39854\n",
            "[68]\tvalidation_0-error:0.00051\tvalidation_0-logloss:0.14032\tvalidation_1-error:0.153061\tvalidation_1-logloss:0.398173\n",
            "[69]\tvalidation_0-error:0.00051\tvalidation_0-logloss:0.136863\tvalidation_1-error:0.146939\tvalidation_1-logloss:0.39645\n",
            "[70]\tvalidation_0-error:0.00051\tvalidation_0-logloss:0.134907\tvalidation_1-error:0.146939\tvalidation_1-logloss:0.39635\n",
            "[71]\tvalidation_0-error:0.00051\tvalidation_0-logloss:0.132676\tvalidation_1-error:0.15102\tvalidation_1-logloss:0.39544\n",
            "[72]\tvalidation_0-error:0.00051\tvalidation_0-logloss:0.130406\tvalidation_1-error:0.153061\tvalidation_1-logloss:0.393403\n",
            "[73]\tvalidation_0-error:0.00051\tvalidation_0-logloss:0.128339\tvalidation_1-error:0.153061\tvalidation_1-logloss:0.391174\n",
            "[74]\tvalidation_0-error:0.00051\tvalidation_0-logloss:0.126861\tvalidation_1-error:0.153061\tvalidation_1-logloss:0.390127\n",
            "[75]\tvalidation_0-error:0.00051\tvalidation_0-logloss:0.124012\tvalidation_1-error:0.144898\tvalidation_1-logloss:0.386988\n",
            "[76]\tvalidation_0-error:0.00051\tvalidation_0-logloss:0.12171\tvalidation_1-error:0.144898\tvalidation_1-logloss:0.385893\n",
            "[77]\tvalidation_0-error:0.00051\tvalidation_0-logloss:0.119428\tvalidation_1-error:0.144898\tvalidation_1-logloss:0.385199\n",
            "[78]\tvalidation_0-error:0.00051\tvalidation_0-logloss:0.117672\tvalidation_1-error:0.144898\tvalidation_1-logloss:0.385366\n",
            "[79]\tvalidation_0-error:0.00051\tvalidation_0-logloss:0.116427\tvalidation_1-error:0.144898\tvalidation_1-logloss:0.383928\n",
            "[80]\tvalidation_0-error:0.00051\tvalidation_0-logloss:0.114029\tvalidation_1-error:0.142857\tvalidation_1-logloss:0.382506\n",
            "[81]\tvalidation_0-error:0.00051\tvalidation_0-logloss:0.111967\tvalidation_1-error:0.142857\tvalidation_1-logloss:0.381191\n",
            "[82]\tvalidation_0-error:0\tvalidation_0-logloss:0.109675\tvalidation_1-error:0.144898\tvalidation_1-logloss:0.378493\n",
            "[83]\tvalidation_0-error:0\tvalidation_0-logloss:0.107971\tvalidation_1-error:0.140816\tvalidation_1-logloss:0.376211\n",
            "[84]\tvalidation_0-error:0\tvalidation_0-logloss:0.106244\tvalidation_1-error:0.138776\tvalidation_1-logloss:0.374007\n",
            "[85]\tvalidation_0-error:0\tvalidation_0-logloss:0.104867\tvalidation_1-error:0.142857\tvalidation_1-logloss:0.3731\n",
            "[86]\tvalidation_0-error:0\tvalidation_0-logloss:0.103399\tvalidation_1-error:0.138776\tvalidation_1-logloss:0.372488\n",
            "[87]\tvalidation_0-error:0\tvalidation_0-logloss:0.101213\tvalidation_1-error:0.136735\tvalidation_1-logloss:0.369059\n",
            "[88]\tvalidation_0-error:0\tvalidation_0-logloss:0.099651\tvalidation_1-error:0.134694\tvalidation_1-logloss:0.369112\n",
            "[89]\tvalidation_0-error:0\tvalidation_0-logloss:0.098312\tvalidation_1-error:0.136735\tvalidation_1-logloss:0.369711\n",
            "[90]\tvalidation_0-error:0\tvalidation_0-logloss:0.096615\tvalidation_1-error:0.136735\tvalidation_1-logloss:0.367718\n",
            "[91]\tvalidation_0-error:0\tvalidation_0-logloss:0.09579\tvalidation_1-error:0.136735\tvalidation_1-logloss:0.368012\n",
            "[92]\tvalidation_0-error:0\tvalidation_0-logloss:0.095471\tvalidation_1-error:0.136735\tvalidation_1-logloss:0.368045\n",
            "[93]\tvalidation_0-error:0\tvalidation_0-logloss:0.093859\tvalidation_1-error:0.138776\tvalidation_1-logloss:0.367983\n",
            "[94]\tvalidation_0-error:0\tvalidation_0-logloss:0.092437\tvalidation_1-error:0.140816\tvalidation_1-logloss:0.367301\n",
            "[95]\tvalidation_0-error:0\tvalidation_0-logloss:0.09113\tvalidation_1-error:0.142857\tvalidation_1-logloss:0.366776\n",
            "[96]\tvalidation_0-error:0\tvalidation_0-logloss:0.089607\tvalidation_1-error:0.140816\tvalidation_1-logloss:0.365807\n",
            "[97]\tvalidation_0-error:0\tvalidation_0-logloss:0.088079\tvalidation_1-error:0.138776\tvalidation_1-logloss:0.365457\n",
            "[98]\tvalidation_0-error:0\tvalidation_0-logloss:0.086946\tvalidation_1-error:0.144898\tvalidation_1-logloss:0.364144\n",
            "[99]\tvalidation_0-error:0\tvalidation_0-logloss:0.085726\tvalidation_1-error:0.142857\tvalidation_1-logloss:0.364348\n",
            "[100]\tvalidation_0-error:0\tvalidation_0-logloss:0.084594\tvalidation_1-error:0.136735\tvalidation_1-logloss:0.363466\n",
            "[101]\tvalidation_0-error:0\tvalidation_0-logloss:0.083243\tvalidation_1-error:0.140816\tvalidation_1-logloss:0.362125\n",
            "[102]\tvalidation_0-error:0\tvalidation_0-logloss:0.081436\tvalidation_1-error:0.144898\tvalidation_1-logloss:0.359508\n",
            "[103]\tvalidation_0-error:0\tvalidation_0-logloss:0.079512\tvalidation_1-error:0.142857\tvalidation_1-logloss:0.358566\n",
            "[104]\tvalidation_0-error:0\tvalidation_0-logloss:0.078489\tvalidation_1-error:0.140816\tvalidation_1-logloss:0.35793\n",
            "[105]\tvalidation_0-error:0\tvalidation_0-logloss:0.07749\tvalidation_1-error:0.138776\tvalidation_1-logloss:0.356849\n",
            "[106]\tvalidation_0-error:0\tvalidation_0-logloss:0.076261\tvalidation_1-error:0.140816\tvalidation_1-logloss:0.35587\n",
            "[107]\tvalidation_0-error:0\tvalidation_0-logloss:0.075465\tvalidation_1-error:0.140816\tvalidation_1-logloss:0.35506\n",
            "[108]\tvalidation_0-error:0\tvalidation_0-logloss:0.074448\tvalidation_1-error:0.138776\tvalidation_1-logloss:0.355655\n",
            "[109]\tvalidation_0-error:0\tvalidation_0-logloss:0.073937\tvalidation_1-error:0.138776\tvalidation_1-logloss:0.355457\n",
            "[110]\tvalidation_0-error:0\tvalidation_0-logloss:0.072488\tvalidation_1-error:0.146939\tvalidation_1-logloss:0.353677\n",
            "[111]\tvalidation_0-error:0\tvalidation_0-logloss:0.071416\tvalidation_1-error:0.144898\tvalidation_1-logloss:0.353115\n",
            "[112]\tvalidation_0-error:0\tvalidation_0-logloss:0.070892\tvalidation_1-error:0.142857\tvalidation_1-logloss:0.352727\n",
            "[113]\tvalidation_0-error:0\tvalidation_0-logloss:0.070109\tvalidation_1-error:0.134694\tvalidation_1-logloss:0.352404\n",
            "[114]\tvalidation_0-error:0\tvalidation_0-logloss:0.069645\tvalidation_1-error:0.136735\tvalidation_1-logloss:0.352533\n",
            "[115]\tvalidation_0-error:0\tvalidation_0-logloss:0.068449\tvalidation_1-error:0.138776\tvalidation_1-logloss:0.351873\n",
            "[116]\tvalidation_0-error:0\tvalidation_0-logloss:0.067511\tvalidation_1-error:0.142857\tvalidation_1-logloss:0.351906\n",
            "[117]\tvalidation_0-error:0\tvalidation_0-logloss:0.066676\tvalidation_1-error:0.142857\tvalidation_1-logloss:0.351876\n",
            "[118]\tvalidation_0-error:0\tvalidation_0-logloss:0.066073\tvalidation_1-error:0.142857\tvalidation_1-logloss:0.351514\n",
            "[119]\tvalidation_0-error:0\tvalidation_0-logloss:0.065428\tvalidation_1-error:0.146939\tvalidation_1-logloss:0.351216\n",
            "[120]\tvalidation_0-error:0\tvalidation_0-logloss:0.065\tvalidation_1-error:0.144898\tvalidation_1-logloss:0.350717\n",
            "[121]\tvalidation_0-error:0\tvalidation_0-logloss:0.064327\tvalidation_1-error:0.140816\tvalidation_1-logloss:0.350289\n",
            "[122]\tvalidation_0-error:0\tvalidation_0-logloss:0.063617\tvalidation_1-error:0.140816\tvalidation_1-logloss:0.34972\n",
            "[123]\tvalidation_0-error:0\tvalidation_0-logloss:0.062999\tvalidation_1-error:0.140816\tvalidation_1-logloss:0.349844\n",
            "[124]\tvalidation_0-error:0\tvalidation_0-logloss:0.062275\tvalidation_1-error:0.138776\tvalidation_1-logloss:0.349117\n",
            "[125]\tvalidation_0-error:0\tvalidation_0-logloss:0.06172\tvalidation_1-error:0.140816\tvalidation_1-logloss:0.348645\n",
            "[126]\tvalidation_0-error:0\tvalidation_0-logloss:0.061354\tvalidation_1-error:0.140816\tvalidation_1-logloss:0.348541\n",
            "[127]\tvalidation_0-error:0\tvalidation_0-logloss:0.060928\tvalidation_1-error:0.140816\tvalidation_1-logloss:0.348951\n",
            "[128]\tvalidation_0-error:0\tvalidation_0-logloss:0.060248\tvalidation_1-error:0.138776\tvalidation_1-logloss:0.348098\n",
            "[129]\tvalidation_0-error:0\tvalidation_0-logloss:0.060022\tvalidation_1-error:0.138776\tvalidation_1-logloss:0.347625\n",
            "[130]\tvalidation_0-error:0\tvalidation_0-logloss:0.059725\tvalidation_1-error:0.138776\tvalidation_1-logloss:0.348135\n",
            "[131]\tvalidation_0-error:0\tvalidation_0-logloss:0.059458\tvalidation_1-error:0.134694\tvalidation_1-logloss:0.348017\n",
            "[132]\tvalidation_0-error:0\tvalidation_0-logloss:0.05843\tvalidation_1-error:0.140816\tvalidation_1-logloss:0.347582\n",
            "[133]\tvalidation_0-error:0\tvalidation_0-logloss:0.058013\tvalidation_1-error:0.140816\tvalidation_1-logloss:0.34701\n",
            "[134]\tvalidation_0-error:0\tvalidation_0-logloss:0.057644\tvalidation_1-error:0.140816\tvalidation_1-logloss:0.346438\n",
            "[135]\tvalidation_0-error:0\tvalidation_0-logloss:0.056959\tvalidation_1-error:0.140816\tvalidation_1-logloss:0.346932\n",
            "[136]\tvalidation_0-error:0\tvalidation_0-logloss:0.056219\tvalidation_1-error:0.140816\tvalidation_1-logloss:0.346432\n",
            "[137]\tvalidation_0-error:0\tvalidation_0-logloss:0.055647\tvalidation_1-error:0.140816\tvalidation_1-logloss:0.345995\n",
            "[138]\tvalidation_0-error:0\tvalidation_0-logloss:0.054943\tvalidation_1-error:0.140816\tvalidation_1-logloss:0.345779\n",
            "[139]\tvalidation_0-error:0\tvalidation_0-logloss:0.054294\tvalidation_1-error:0.142857\tvalidation_1-logloss:0.346211\n",
            "[140]\tvalidation_0-error:0\tvalidation_0-logloss:0.053627\tvalidation_1-error:0.146939\tvalidation_1-logloss:0.345742\n",
            "[141]\tvalidation_0-error:0\tvalidation_0-logloss:0.053098\tvalidation_1-error:0.146939\tvalidation_1-logloss:0.345549\n",
            "[142]\tvalidation_0-error:0\tvalidation_0-logloss:0.052716\tvalidation_1-error:0.146939\tvalidation_1-logloss:0.345344\n",
            "[143]\tvalidation_0-error:0\tvalidation_0-logloss:0.051912\tvalidation_1-error:0.144898\tvalidation_1-logloss:0.34476\n",
            "[144]\tvalidation_0-error:0\tvalidation_0-logloss:0.0513\tvalidation_1-error:0.144898\tvalidation_1-logloss:0.344546\n",
            "[145]\tvalidation_0-error:0\tvalidation_0-logloss:0.0508\tvalidation_1-error:0.144898\tvalidation_1-logloss:0.344009\n",
            "[146]\tvalidation_0-error:0\tvalidation_0-logloss:0.050572\tvalidation_1-error:0.144898\tvalidation_1-logloss:0.344125\n",
            "[147]\tvalidation_0-error:0\tvalidation_0-logloss:0.050103\tvalidation_1-error:0.144898\tvalidation_1-logloss:0.343895\n",
            "[148]\tvalidation_0-error:0\tvalidation_0-logloss:0.049652\tvalidation_1-error:0.142857\tvalidation_1-logloss:0.34334\n",
            "[149]\tvalidation_0-error:0\tvalidation_0-logloss:0.049177\tvalidation_1-error:0.140816\tvalidation_1-logloss:0.343732\n",
            "[150]\tvalidation_0-error:0\tvalidation_0-logloss:0.048704\tvalidation_1-error:0.140816\tvalidation_1-logloss:0.343584\n",
            "[151]\tvalidation_0-error:0\tvalidation_0-logloss:0.04806\tvalidation_1-error:0.142857\tvalidation_1-logloss:0.342972\n",
            "[152]\tvalidation_0-error:0\tvalidation_0-logloss:0.047724\tvalidation_1-error:0.142857\tvalidation_1-logloss:0.34286\n",
            "[153]\tvalidation_0-error:0\tvalidation_0-logloss:0.047014\tvalidation_1-error:0.142857\tvalidation_1-logloss:0.342622\n",
            "[154]\tvalidation_0-error:0\tvalidation_0-logloss:0.046525\tvalidation_1-error:0.142857\tvalidation_1-logloss:0.342354\n",
            "[155]\tvalidation_0-error:0\tvalidation_0-logloss:0.04601\tvalidation_1-error:0.142857\tvalidation_1-logloss:0.341996\n",
            "[156]\tvalidation_0-error:0\tvalidation_0-logloss:0.045573\tvalidation_1-error:0.142857\tvalidation_1-logloss:0.341433\n",
            "[157]\tvalidation_0-error:0\tvalidation_0-logloss:0.045108\tvalidation_1-error:0.142857\tvalidation_1-logloss:0.341678\n",
            "[158]\tvalidation_0-error:0\tvalidation_0-logloss:0.044741\tvalidation_1-error:0.140816\tvalidation_1-logloss:0.341179\n",
            "[159]\tvalidation_0-error:0\tvalidation_0-logloss:0.044551\tvalidation_1-error:0.140816\tvalidation_1-logloss:0.340757\n",
            "[160]\tvalidation_0-error:0\tvalidation_0-logloss:0.044213\tvalidation_1-error:0.144898\tvalidation_1-logloss:0.340911\n",
            "[161]\tvalidation_0-error:0\tvalidation_0-logloss:0.043906\tvalidation_1-error:0.140816\tvalidation_1-logloss:0.341227\n",
            "[162]\tvalidation_0-error:0\tvalidation_0-logloss:0.043549\tvalidation_1-error:0.138776\tvalidation_1-logloss:0.341414\n",
            "[163]\tvalidation_0-error:0\tvalidation_0-logloss:0.043239\tvalidation_1-error:0.138776\tvalidation_1-logloss:0.340827\n",
            "[164]\tvalidation_0-error:0\tvalidation_0-logloss:0.042804\tvalidation_1-error:0.140816\tvalidation_1-logloss:0.340707\n",
            "[165]\tvalidation_0-error:0\tvalidation_0-logloss:0.042432\tvalidation_1-error:0.140816\tvalidation_1-logloss:0.341399\n",
            "[166]\tvalidation_0-error:0\tvalidation_0-logloss:0.042029\tvalidation_1-error:0.140816\tvalidation_1-logloss:0.341346\n",
            "[167]\tvalidation_0-error:0\tvalidation_0-logloss:0.041603\tvalidation_1-error:0.142857\tvalidation_1-logloss:0.341686\n",
            "[168]\tvalidation_0-error:0\tvalidation_0-logloss:0.041194\tvalidation_1-error:0.142857\tvalidation_1-logloss:0.341386\n",
            "[169]\tvalidation_0-error:0\tvalidation_0-logloss:0.040994\tvalidation_1-error:0.142857\tvalidation_1-logloss:0.341329\n",
            "[170]\tvalidation_0-error:0\tvalidation_0-logloss:0.040578\tvalidation_1-error:0.142857\tvalidation_1-logloss:0.340816\n",
            "[171]\tvalidation_0-error:0\tvalidation_0-logloss:0.040188\tvalidation_1-error:0.142857\tvalidation_1-logloss:0.341198\n",
            "[172]\tvalidation_0-error:0\tvalidation_0-logloss:0.040005\tvalidation_1-error:0.140816\tvalidation_1-logloss:0.341047\n",
            "[173]\tvalidation_0-error:0\tvalidation_0-logloss:0.039693\tvalidation_1-error:0.142857\tvalidation_1-logloss:0.341666\n",
            "[174]\tvalidation_0-error:0\tvalidation_0-logloss:0.039345\tvalidation_1-error:0.142857\tvalidation_1-logloss:0.341883\n",
            "[175]\tvalidation_0-error:0\tvalidation_0-logloss:0.038944\tvalidation_1-error:0.138776\tvalidation_1-logloss:0.341701\n",
            "[176]\tvalidation_0-error:0\tvalidation_0-logloss:0.038791\tvalidation_1-error:0.138776\tvalidation_1-logloss:0.341355\n",
            "[177]\tvalidation_0-error:0\tvalidation_0-logloss:0.038465\tvalidation_1-error:0.140816\tvalidation_1-logloss:0.340847\n",
            "[178]\tvalidation_0-error:0\tvalidation_0-logloss:0.037907\tvalidation_1-error:0.142857\tvalidation_1-logloss:0.338959\n",
            "[179]\tvalidation_0-error:0\tvalidation_0-logloss:0.037788\tvalidation_1-error:0.142857\tvalidation_1-logloss:0.338951\n",
            "[180]\tvalidation_0-error:0\tvalidation_0-logloss:0.037364\tvalidation_1-error:0.142857\tvalidation_1-logloss:0.338738\n",
            "[181]\tvalidation_0-error:0\tvalidation_0-logloss:0.037241\tvalidation_1-error:0.142857\tvalidation_1-logloss:0.338904\n",
            "[182]\tvalidation_0-error:0\tvalidation_0-logloss:0.036965\tvalidation_1-error:0.142857\tvalidation_1-logloss:0.339579\n",
            "[183]\tvalidation_0-error:0\tvalidation_0-logloss:0.036645\tvalidation_1-error:0.140816\tvalidation_1-logloss:0.339684\n",
            "[184]\tvalidation_0-error:0\tvalidation_0-logloss:0.036313\tvalidation_1-error:0.142857\tvalidation_1-logloss:0.339684\n",
            "[185]\tvalidation_0-error:0\tvalidation_0-logloss:0.036079\tvalidation_1-error:0.138776\tvalidation_1-logloss:0.339279\n",
            "[186]\tvalidation_0-error:0\tvalidation_0-logloss:0.03593\tvalidation_1-error:0.138776\tvalidation_1-logloss:0.338947\n",
            "[187]\tvalidation_0-error:0\tvalidation_0-logloss:0.035595\tvalidation_1-error:0.140816\tvalidation_1-logloss:0.338404\n",
            "[188]\tvalidation_0-error:0\tvalidation_0-logloss:0.035438\tvalidation_1-error:0.138776\tvalidation_1-logloss:0.338243\n",
            "[189]\tvalidation_0-error:0\tvalidation_0-logloss:0.035059\tvalidation_1-error:0.138776\tvalidation_1-logloss:0.338548\n",
            "[190]\tvalidation_0-error:0\tvalidation_0-logloss:0.034824\tvalidation_1-error:0.140816\tvalidation_1-logloss:0.338117\n",
            "[191]\tvalidation_0-error:0\tvalidation_0-logloss:0.034466\tvalidation_1-error:0.140816\tvalidation_1-logloss:0.33715\n",
            "[192]\tvalidation_0-error:0\tvalidation_0-logloss:0.034318\tvalidation_1-error:0.140816\tvalidation_1-logloss:0.337179\n",
            "[193]\tvalidation_0-error:0\tvalidation_0-logloss:0.034089\tvalidation_1-error:0.138776\tvalidation_1-logloss:0.33726\n",
            "[194]\tvalidation_0-error:0\tvalidation_0-logloss:0.033841\tvalidation_1-error:0.138776\tvalidation_1-logloss:0.337266\n",
            "[195]\tvalidation_0-error:0\tvalidation_0-logloss:0.033723\tvalidation_1-error:0.140816\tvalidation_1-logloss:0.337392\n",
            "[196]\tvalidation_0-error:0\tvalidation_0-logloss:0.033537\tvalidation_1-error:0.140816\tvalidation_1-logloss:0.337215\n",
            "[197]\tvalidation_0-error:0\tvalidation_0-logloss:0.033132\tvalidation_1-error:0.140816\tvalidation_1-logloss:0.33692\n",
            "[198]\tvalidation_0-error:0\tvalidation_0-logloss:0.03284\tvalidation_1-error:0.138776\tvalidation_1-logloss:0.336834\n",
            "[199]\tvalidation_0-error:0\tvalidation_0-logloss:0.032592\tvalidation_1-error:0.138776\tvalidation_1-logloss:0.337122\n"
          ],
          "name": "stdout"
        },
        {
          "output_type": "execute_result",
          "data": {
            "text/plain": [
              "XGBClassifier(base_score=0.5, booster='gbtree', colsample_bylevel=1,\n",
              "              colsample_bynode=1, colsample_bytree=0.2, gamma=0.0,\n",
              "              learning_rate=0.1, max_delta_step=0, max_depth=7,\n",
              "              min_child_weight=1, missing=None, n_estimators=200, n_jobs=1,\n",
              "              nthread=None, objective='binary:logistic', random_state=0,\n",
              "              reg_alpha=0, reg_lambda=1, scale_pos_weight=1, seed=None,\n",
              "              silent=None, subsample=1, verbosity=1)"
            ]
          },
          "metadata": {
            "tags": []
          },
          "execution_count": 356
        }
      ]
    },
    {
      "cell_type": "code",
      "metadata": {
        "id": "QSaYf0OGYnBq",
        "colab_type": "code",
        "colab": {
          "base_uri": "https://localhost:8080/",
          "height": 34
        },
        "outputId": "57488973-bf6c-48ff-ea5c-549ab1eecb62"
      },
      "source": [
        "\n",
        "# make predictions for test data\n",
        "y_pred = model_opt.predict(X_test_new)\n",
        "predictions = [round(value) for value in y_pred]\n",
        "\n",
        "# evaluate predictions\n",
        "accuracy = accuracy_score(test_labels, predictions)\n",
        "print(\"Accuracy: %.2f%%\" % (accuracy * 100.0))"
      ],
      "execution_count": 357,
      "outputs": [
        {
          "output_type": "stream",
          "text": [
            "Accuracy: 86.12%\n"
          ],
          "name": "stdout"
        }
      ]
    },
    {
      "cell_type": "code",
      "metadata": {
        "id": "Z8D-K6-UZeNJ",
        "colab_type": "code",
        "colab": {
          "base_uri": "https://localhost:8080/",
          "height": 545
        },
        "outputId": "f96f3211-fe43-4b50-f159-886314d2915d"
      },
      "source": [
        "from matplotlib import pyplot\n",
        "\n",
        "results = model_opt.evals_result()\n",
        "epochs = len(results['validation_0']['error'])\n",
        "x_axis = range(0, epochs)\n",
        "# plot log loss\n",
        "fig, ax = pyplot.subplots()\n",
        "ax.plot(x_axis, results['validation_0']['logloss'], label='Train')\n",
        "ax.plot(x_axis, results['validation_1']['logloss'], label='Test')\n",
        "ax.legend()\n",
        "pyplot.ylabel('Log Loss')\n",
        "pyplot.title('XGBoost Log Loss')\n",
        "pyplot.show()\n",
        "# plot classification error\n",
        "fig, ax = pyplot.subplots()\n",
        "ax.plot(x_axis, results['validation_0']['error'], label='Train')\n",
        "ax.plot(x_axis, results['validation_1']['error'], label='Test')\n",
        "ax.legend()\n",
        "pyplot.ylabel('Classification Error')\n",
        "pyplot.title('XGBoost Classification Error')\n",
        "pyplot.show()"
      ],
      "execution_count": 358,
      "outputs": [
        {
          "output_type": "display_data",
          "data": {
            "image/png": "[encoded data removed]",
            "text/plain": [
              "<Figure size 432x288 with 1 Axes>"
            ]
          },
          "metadata": {
            "tags": [],
            "needs_background": "light"
          }
        },
        {
          "output_type": "display_data",
          "data": {
            "image/png": "[encoded data removed]",
            "text/plain": [
              "<Figure size 432x288 with 1 Axes>"
            ]
          },
          "metadata": {
            "tags": [],
            "needs_background": "light"
          }
        }
      ]
    },
    {
      "cell_type": "code",
      "metadata": {
        "id": "FC9l3_3rdBVp",
        "colab_type": "code",
        "colab": {
          "base_uri": "https://localhost:8080/",
          "height": 34
        },
        "outputId": "c2b65a40-c5bb-44e8-8914-3821263fb242"
      },
      "source": [
        "shap_values = shap.TreeExplainer(model_opt).shap_values(X_test_new) "
      ],
      "execution_count": 351,
      "outputs": [
        {
          "output_type": "stream",
          "text": [
            "Setting feature_perturbation = \"tree_path_dependent\" because no background data was given.\n"
          ],
          "name": "stderr"
        }
      ]
    },
    {
      "cell_type": "code",
      "metadata": {
        "id": "sCqFjPjzdIyd",
        "colab_type": "code",
        "colab": {
          "base_uri": "https://localhost:8080/",
          "height": 585
        },
        "outputId": "b8a2f9fc-fea1-4af7-d5c5-722ade774fbe"
      },
      "source": [
        "shap.summary_plot(shap_values, X_test_new)"
      ],
      "execution_count": 352,
      "outputs": [
        {
          "output_type": "display_data",
          "data": {
            "image/png": "[encoded data removed]",
            "text/plain": [
              "<Figure size 576x684 with 2 Axes>"
            ]
          },
          "metadata": {
            "tags": [],
            "needs_background": "light"
          }
        }
      ]
    },
    {
      "cell_type": "code",
      "metadata": {
        "id": "9E1paKnoeZWG",
        "colab_type": "code",
        "colab": {}
      },
      "source": [
        "predict = model_opt.predict(X_test_new)\n",
        "\n",
        "cm=confusion_matrix(test_labels,predict)"
      ],
      "execution_count": 359,
      "outputs": []
    },
    {
      "cell_type": "code",
      "metadata": {
        "id": "_HC4TpNaefH3",
        "colab_type": "code",
        "colab": {
          "base_uri": "https://localhost:8080/",
          "height": 215
        },
        "outputId": "6559bb63-42aa-4459-8296-c85b0d33a2d5"
      },
      "source": [
        "print('Confusion Matrix')\n",
        "fig,ax = plt.subplots(figsize=(2.5,2.5))\n",
        "ax.matshow(cm,cmap=plt.cm.Blues,alpha=0.3)\n",
        "for i in range(cm.shape[0]):\n",
        "  for j in range(cm.shape[1]):\n",
        "    ax.text(x=j,y=i,\n",
        "            s=cm[i,j],\n",
        "            va='center',ha='center')\n",
        "plt.xlabel('Predicted Label')\n",
        "plt.ylabel('True Label')\n",
        "plt.show()"
      ],
      "execution_count": 360,
      "outputs": [
        {
          "output_type": "stream",
          "text": [
            "Confusion Matrix\n"
          ],
          "name": "stdout"
        },
        {
          "output_type": "display_data",
          "data": {
            "image/png": "[encoded data removed]",
            "text/plain": [
              "<Figure size 180x180 with 1 Axes>"
            ]
          },
          "metadata": {
            "tags": [],
            "needs_background": "light"
          }
        }
      ]
    }
  ]
}