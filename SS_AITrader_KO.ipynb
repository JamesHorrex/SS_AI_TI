{
  "nbformat": 4,
  "nbformat_minor": 0,
  "metadata": {
    "colab": {
      "name": "SS_AITrader.ipynb",
      "provenance": [],
      "collapsed_sections": [],
      "authorship_tag": "ABX9TyOqXm4cCc89yiZ6Xc1yeB41",
      "include_colab_link": true
    },
    "kernelspec": {
      "name": "python3",
      "display_name": "Python 3"
    },
    "accelerator": "GPU"
  },
  "cells": [
    {
      "cell_type": "markdown",
      "metadata": {
        "id": "view-in-github",
        "colab_type": "text"
      },
      "source": [
        "<a href=\"https://colab.research.google.com/github/JamesHorrex/SS_AI_TI/blob/master/SS_AITrader_KO.ipynb\" target=\"_parent\"><img src=\"https://colab.research.google.com/assets/colab-badge.svg\" alt=\"Open In Colab\"/></a>"
      ]
    },
    {
      "cell_type": "code",
      "metadata": {
        "id": "bKT2tX6DtauA",
        "colab_type": "code",
        "colab": {
          "base_uri": "https://localhost:8080/",
          "height": 34
        },
        "outputId": "b6934d21-069b-4fc7-9759-13fdbf3b8a3f"
      },
      "source": [
        "%matplotlib inline\n",
        "import numpy as np\n",
        "import tensorflow as tf\n",
        "print(tf.__version__)"
      ],
      "execution_count": 2,
      "outputs": [
        {
          "output_type": "stream",
          "text": [
            "2.2.0\n"
          ],
          "name": "stdout"
        }
      ]
    },
    {
      "cell_type": "code",
      "metadata": {
        "id": "k2b2DdBskfka",
        "colab_type": "code",
        "colab": {
          "base_uri": "https://localhost:8080/",
          "height": 314
        },
        "outputId": "83c60797-79dc-416e-b1dd-4c6c0dcf0479"
      },
      "source": [
        "!pip install git+https://github.com/tensorflow/docs"
      ],
      "execution_count": 3,
      "outputs": [
        {
          "output_type": "stream",
          "text": [
            "Collecting git+https://github.com/tensorflow/docs\n",
            "  Cloning https://github.com/tensorflow/docs to /tmp/pip-req-build-u1gg8kd7\n",
            "  Running command git clone -q https://github.com/tensorflow/docs /tmp/pip-req-build-u1gg8kd7\n",
            "Requirement already satisfied: astor in /usr/local/lib/python3.6/dist-packages (from tensorflow-docs===0.0.087622f0d4888b557639c605c04a0e822874df5ba-) (0.8.1)\n",
            "Requirement already satisfied: absl-py in /usr/local/lib/python3.6/dist-packages (from tensorflow-docs===0.0.087622f0d4888b557639c605c04a0e822874df5ba-) (0.9.0)\n",
            "Requirement already satisfied: protobuf in /usr/local/lib/python3.6/dist-packages (from tensorflow-docs===0.0.087622f0d4888b557639c605c04a0e822874df5ba-) (3.10.0)\n",
            "Requirement already satisfied: pyyaml in /usr/local/lib/python3.6/dist-packages (from tensorflow-docs===0.0.087622f0d4888b557639c605c04a0e822874df5ba-) (3.13)\n",
            "Requirement already satisfied: six in /usr/local/lib/python3.6/dist-packages (from absl-py->tensorflow-docs===0.0.087622f0d4888b557639c605c04a0e822874df5ba-) (1.12.0)\n",
            "Requirement already satisfied: setuptools in /usr/local/lib/python3.6/dist-packages (from protobuf->tensorflow-docs===0.0.087622f0d4888b557639c605c04a0e822874df5ba-) (47.3.1)\n",
            "Building wheels for collected packages: tensorflow-docs\n",
            "  Building wheel for tensorflow-docs (setup.py) ... \u001b[?25l\u001b[?25hdone\n",
            "  Created wheel for tensorflow-docs: filename=tensorflow_docs-0.0.087622f0d4888b557639c605c04a0e822874df5ba_-cp36-none-any.whl size=123835 sha256=6bd4575d9ab5558f18a03de08bb32ffe50026b9f6c5c612e189fbdd90ce56612\n",
            "  Stored in directory: /tmp/pip-ephem-wheel-cache-boryl4mq/wheels/eb/1b/35/fce87697be00d2fc63e0b4b395b0d9c7e391a10e98d9a0d97f\n",
            "Successfully built tensorflow-docs\n",
            "Installing collected packages: tensorflow-docs\n",
            "Successfully installed tensorflow-docs-0.0.087622f0d4888b557639c605c04a0e822874df5ba-\n"
          ],
          "name": "stdout"
        }
      ]
    },
    {
      "cell_type": "code",
      "metadata": {
        "id": "IYtw7-dbkYiD",
        "colab_type": "code",
        "colab": {}
      },
      "source": [
        "import tensorflow_docs as tfdocs\n",
        "import tensorflow_docs.plots\n",
        "import tensorflow_docs.modeling"
      ],
      "execution_count": 4,
      "outputs": []
    },
    {
      "cell_type": "code",
      "metadata": {
        "id": "hDdT5zKLv1rP",
        "colab_type": "code",
        "colab": {
          "base_uri": "https://localhost:8080/",
          "height": 123
        },
        "outputId": "b0389859-a0a4-4852-fcf7-310a27f6929d"
      },
      "source": [
        "from google.colab import drive \n",
        "drive.mount('/content/gdrive')"
      ],
      "execution_count": 5,
      "outputs": [
        {
          "output_type": "stream",
          "text": [
            "Go to this URL in a browser: https://accounts.google.com/o/oauth2/auth?client_id=947318989803-6bn6qk8qdgf4n4g3pfee6491hc0brc4i.apps.googleusercontent.com&redirect_uri=urn%3aietf%3awg%3aoauth%3a2.0%3aoob&response_type=code&scope=email%20https%3a%2f%2fwww.googleapis.com%2fauth%2fdocs.test%20https%3a%2f%2fwww.googleapis.com%2fauth%2fdrive%20https%3a%2f%2fwww.googleapis.com%2fauth%2fdrive.photos.readonly%20https%3a%2f%2fwww.googleapis.com%2fauth%2fpeopleapi.readonly\n",
            "\n",
            "Enter your authorization code:\n",
            "··········\n",
            "Mounted at /content/gdrive\n"
          ],
          "name": "stdout"
        }
      ]
    },
    {
      "cell_type": "code",
      "metadata": {
        "id": "mAz2vMeqAyTL",
        "colab_type": "code",
        "colab": {}
      },
      "source": [
        "import pandas as pd \n",
        "stock='KO'\n",
        "df=pd.read_csv('gdrive/My Drive/SS_AITrader/'+stock+'/df_'+stock+'_20drtn_features.csv')"
      ],
      "execution_count": 413,
      "outputs": []
    },
    {
      "cell_type": "code",
      "metadata": {
        "id": "I0Qvmpz-BCSt",
        "colab_type": "code",
        "colab": {
          "base_uri": "https://localhost:8080/",
          "height": 312
        },
        "outputId": "c5884e28-af3f-4684-9db5-74d99f98e524"
      },
      "source": [
        "df.head()"
      ],
      "execution_count": 414,
      "outputs": [
        {
          "output_type": "execute_result",
          "data": {
            "text/html": [
              "<div>\n",
              "<style scoped>\n",
              "    .dataframe tbody tr th:only-of-type {\n",
              "        vertical-align: middle;\n",
              "    }\n",
              "\n",
              "    .dataframe tbody tr th {\n",
              "        vertical-align: top;\n",
              "    }\n",
              "\n",
              "    .dataframe thead th {\n",
              "        text-align: right;\n",
              "    }\n",
              "</style>\n",
              "<table border=\"1\" class=\"dataframe\">\n",
              "  <thead>\n",
              "    <tr style=\"text-align: right;\">\n",
              "      <th></th>\n",
              "      <th>timestamp</th>\n",
              "      <th>rsi_10</th>\n",
              "      <th>rsi_15</th>\n",
              "      <th>rsi_20</th>\n",
              "      <th>rsi_40</th>\n",
              "      <th>wr_10</th>\n",
              "      <th>wr_15</th>\n",
              "      <th>wr_20</th>\n",
              "      <th>wr_40</th>\n",
              "      <th>mfi_10</th>\n",
              "      <th>mfi_15</th>\n",
              "      <th>mfi_20</th>\n",
              "      <th>mfi_40</th>\n",
              "      <th>roc_1</th>\n",
              "      <th>roc_3</th>\n",
              "      <th>roc_5</th>\n",
              "      <th>roc_10</th>\n",
              "      <th>roc_20</th>\n",
              "      <th>trix_10</th>\n",
              "      <th>trix_15</th>\n",
              "      <th>trix_20</th>\n",
              "      <th>trix_40</th>\n",
              "      <th>macd10</th>\n",
              "      <th>macd15</th>\n",
              "      <th>macd20</th>\n",
              "      <th>macd40</th>\n",
              "      <th>cci_5</th>\n",
              "      <th>cci_10</th>\n",
              "      <th>cci_15</th>\n",
              "      <th>cci_25</th>\n",
              "      <th>kst_20</th>\n",
              "      <th>kst_40</th>\n",
              "      <th>ibr</th>\n",
              "      <th>bb_h10</th>\n",
              "      <th>bb_l10</th>\n",
              "      <th>bb_h15</th>\n",
              "      <th>bb_l15</th>\n",
              "      <th>bb_h20</th>\n",
              "      <th>bb_l20</th>\n",
              "      <th>bb_h40</th>\n",
              "      <th>bb_l40</th>\n",
              "      <th>realised_vol_10</th>\n",
              "      <th>realised_vol_change_5d_10</th>\n",
              "      <th>realised_vol_20</th>\n",
              "      <th>realised_vol_change_5d_20</th>\n",
              "      <th>realised_vol_40</th>\n",
              "      <th>realised_vol_change_5d_40</th>\n",
              "      <th>vix_level</th>\n",
              "      <th>vix_1d_change</th>\n",
              "      <th>vix_5d_change</th>\n",
              "      <th>forcei_10</th>\n",
              "      <th>forcei_15</th>\n",
              "      <th>forcei_20</th>\n",
              "      <th>forcei_40</th>\n",
              "      <th>cmf_10</th>\n",
              "      <th>cmf_15</th>\n",
              "      <th>cmf_20</th>\n",
              "      <th>cmf_40</th>\n",
              "      <th>volume_delta</th>\n",
              "      <th>curve</th>\n",
              "      <th>curve_shift</th>\n",
              "      <th>curve_shift_5d</th>\n",
              "      <th>dollarix_1d_change</th>\n",
              "      <th>dollarix_5d_change</th>\n",
              "      <th>labels</th>\n",
              "    </tr>\n",
              "  </thead>\n",
              "  <tbody>\n",
              "    <tr>\n",
              "      <th>0</th>\n",
              "      <td>2008-03-06</td>\n",
              "      <td>56.999411</td>\n",
              "      <td>44.683477</td>\n",
              "      <td>57.867053</td>\n",
              "      <td>42.771779</td>\n",
              "      <td>-43.377522</td>\n",
              "      <td>-43.377522</td>\n",
              "      <td>-45.016117</td>\n",
              "      <td>-71.318700</td>\n",
              "      <td>62.664428</td>\n",
              "      <td>46.321955</td>\n",
              "      <td>50.773485</td>\n",
              "      <td>37.804351</td>\n",
              "      <td>-0.971853</td>\n",
              "      <td>0.135544</td>\n",
              "      <td>-0.605450</td>\n",
              "      <td>1.914118</td>\n",
              "      <td>2.408594</td>\n",
              "      <td>0.005222</td>\n",
              "      <td>-0.081647</td>\n",
              "      <td>-0.106180</td>\n",
              "      <td>-0.053389</td>\n",
              "      <td>-0.072288</td>\n",
              "      <td>-0.072288</td>\n",
              "      <td>-0.072288</td>\n",
              "      <td>-0.072288</td>\n",
              "      <td>49.399669</td>\n",
              "      <td>36.536587</td>\n",
              "      <td>65.498069</td>\n",
              "      <td>56.684123</td>\n",
              "      <td>-17.485650</td>\n",
              "      <td>-30.523814</td>\n",
              "      <td>0.096383</td>\n",
              "      <td>0.0</td>\n",
              "      <td>0.0</td>\n",
              "      <td>0.0</td>\n",
              "      <td>0.0</td>\n",
              "      <td>0.0</td>\n",
              "      <td>0.0</td>\n",
              "      <td>0.0</td>\n",
              "      <td>0.0</td>\n",
              "      <td>0.161427</td>\n",
              "      <td>0.011966</td>\n",
              "      <td>0.154366</td>\n",
              "      <td>-0.020507</td>\n",
              "      <td>0.224489</td>\n",
              "      <td>-0.003948</td>\n",
              "      <td>27.549999</td>\n",
              "      <td>2.949999</td>\n",
              "      <td>4.019999</td>\n",
              "      <td>-3.975630e+05</td>\n",
              "      <td>-3.975630e+05</td>\n",
              "      <td>-3.975630e+05</td>\n",
              "      <td>-3.975630e+05</td>\n",
              "      <td>0.248114</td>\n",
              "      <td>0.123849</td>\n",
              "      <td>0.056307</td>\n",
              "      <td>-0.012115</td>\n",
              "      <td>-0.094295</td>\n",
              "      <td>2.257</td>\n",
              "      <td>0.044</td>\n",
              "      <td>0.397</td>\n",
              "      <td>-0.480003</td>\n",
              "      <td>-0.720001</td>\n",
              "      <td>1.0</td>\n",
              "    </tr>\n",
              "    <tr>\n",
              "      <th>1</th>\n",
              "      <td>2008-03-07</td>\n",
              "      <td>57.264763</td>\n",
              "      <td>46.423004</td>\n",
              "      <td>55.349022</td>\n",
              "      <td>41.908603</td>\n",
              "      <td>-69.955233</td>\n",
              "      <td>-51.655667</td>\n",
              "      <td>-53.054701</td>\n",
              "      <td>-74.065954</td>\n",
              "      <td>61.234965</td>\n",
              "      <td>47.560680</td>\n",
              "      <td>45.083030</td>\n",
              "      <td>34.286592</td>\n",
              "      <td>-0.423012</td>\n",
              "      <td>-0.875864</td>\n",
              "      <td>0.667122</td>\n",
              "      <td>1.012702</td>\n",
              "      <td>0.684342</td>\n",
              "      <td>0.009040</td>\n",
              "      <td>-0.073007</td>\n",
              "      <td>-0.100756</td>\n",
              "      <td>-0.054252</td>\n",
              "      <td>-0.077842</td>\n",
              "      <td>-0.077842</td>\n",
              "      <td>-0.077842</td>\n",
              "      <td>-0.077842</td>\n",
              "      <td>-71.456467</td>\n",
              "      <td>-52.012796</td>\n",
              "      <td>8.839024</td>\n",
              "      <td>4.816483</td>\n",
              "      <td>-15.126372</td>\n",
              "      <td>-27.073891</td>\n",
              "      <td>0.388887</td>\n",
              "      <td>0.0</td>\n",
              "      <td>0.0</td>\n",
              "      <td>0.0</td>\n",
              "      <td>0.0</td>\n",
              "      <td>0.0</td>\n",
              "      <td>0.0</td>\n",
              "      <td>0.0</td>\n",
              "      <td>0.0</td>\n",
              "      <td>0.163399</td>\n",
              "      <td>0.006362</td>\n",
              "      <td>0.149170</td>\n",
              "      <td>-0.020752</td>\n",
              "      <td>0.212239</td>\n",
              "      <td>-0.019587</td>\n",
              "      <td>27.490000</td>\n",
              "      <td>-0.059999</td>\n",
              "      <td>0.949999</td>\n",
              "      <td>-1.028900e+06</td>\n",
              "      <td>-1.028900e+06</td>\n",
              "      <td>-1.028900e+06</td>\n",
              "      <td>-1.028900e+06</td>\n",
              "      <td>0.142281</td>\n",
              "      <td>0.187595</td>\n",
              "      <td>0.016739</td>\n",
              "      <td>-0.055877</td>\n",
              "      <td>0.258830</td>\n",
              "      <td>2.141</td>\n",
              "      <td>-0.116</td>\n",
              "      <td>0.392</td>\n",
              "      <td>0.029999</td>\n",
              "      <td>-0.680000</td>\n",
              "      <td>1.0</td>\n",
              "    </tr>\n",
              "    <tr>\n",
              "      <th>2</th>\n",
              "      <td>2008-03-10</td>\n",
              "      <td>53.358296</td>\n",
              "      <td>50.674938</td>\n",
              "      <td>51.002000</td>\n",
              "      <td>38.057589</td>\n",
              "      <td>-78.475352</td>\n",
              "      <td>-57.947011</td>\n",
              "      <td>-59.163980</td>\n",
              "      <td>-75.590560</td>\n",
              "      <td>50.747916</td>\n",
              "      <td>47.890782</td>\n",
              "      <td>39.635853</td>\n",
              "      <td>31.162724</td>\n",
              "      <td>-0.322852</td>\n",
              "      <td>-1.709116</td>\n",
              "      <td>-0.609964</td>\n",
              "      <td>-0.187171</td>\n",
              "      <td>-0.995781</td>\n",
              "      <td>0.006878</td>\n",
              "      <td>-0.066631</td>\n",
              "      <td>-0.096080</td>\n",
              "      <td>-0.055077</td>\n",
              "      <td>-0.088884</td>\n",
              "      <td>-0.088884</td>\n",
              "      <td>-0.088884</td>\n",
              "      <td>-0.088884</td>\n",
              "      <td>-86.345380</td>\n",
              "      <td>-65.912543</td>\n",
              "      <td>1.055134</td>\n",
              "      <td>2.516549</td>\n",
              "      <td>-14.242739</td>\n",
              "      <td>-24.734704</td>\n",
              "      <td>0.014490</td>\n",
              "      <td>0.0</td>\n",
              "      <td>0.0</td>\n",
              "      <td>0.0</td>\n",
              "      <td>0.0</td>\n",
              "      <td>0.0</td>\n",
              "      <td>0.0</td>\n",
              "      <td>0.0</td>\n",
              "      <td>0.0</td>\n",
              "      <td>0.158594</td>\n",
              "      <td>-0.005131</td>\n",
              "      <td>0.141023</td>\n",
              "      <td>-0.031809</td>\n",
              "      <td>0.211490</td>\n",
              "      <td>-0.020060</td>\n",
              "      <td>29.379999</td>\n",
              "      <td>1.889999</td>\n",
              "      <td>3.099998</td>\n",
              "      <td>-1.284733e+06</td>\n",
              "      <td>-1.284733e+06</td>\n",
              "      <td>-1.284733e+06</td>\n",
              "      <td>-1.284733e+06</td>\n",
              "      <td>0.001363</td>\n",
              "      <td>0.044109</td>\n",
              "      <td>-0.014909</td>\n",
              "      <td>-0.108568</td>\n",
              "      <td>0.031474</td>\n",
              "      <td>2.138</td>\n",
              "      <td>-0.003</td>\n",
              "      <td>0.239</td>\n",
              "      <td>-0.040001</td>\n",
              "      <td>-0.709999</td>\n",
              "      <td>1.0</td>\n",
              "    </tr>\n",
              "    <tr>\n",
              "      <th>3</th>\n",
              "      <td>2008-03-11</td>\n",
              "      <td>56.572385</td>\n",
              "      <td>54.929855</td>\n",
              "      <td>51.310200</td>\n",
              "      <td>39.250685</td>\n",
              "      <td>-42.152413</td>\n",
              "      <td>-31.125778</td>\n",
              "      <td>-33.118925</td>\n",
              "      <td>-62.889148</td>\n",
              "      <td>54.304095</td>\n",
              "      <td>56.995987</td>\n",
              "      <td>45.873516</td>\n",
              "      <td>34.765675</td>\n",
              "      <td>1.380841</td>\n",
              "      <td>0.626062</td>\n",
              "      <td>0.168439</td>\n",
              "      <td>-0.084004</td>\n",
              "      <td>-0.050418</td>\n",
              "      <td>0.009841</td>\n",
              "      <td>-0.059253</td>\n",
              "      <td>-0.090827</td>\n",
              "      <td>-0.055702</td>\n",
              "      <td>-0.064215</td>\n",
              "      <td>-0.064215</td>\n",
              "      <td>-0.064215</td>\n",
              "      <td>-0.064215</td>\n",
              "      <td>36.231995</td>\n",
              "      <td>24.940602</td>\n",
              "      <td>58.071230</td>\n",
              "      <td>57.194819</td>\n",
              "      <td>-12.525218</td>\n",
              "      <td>-21.418778</td>\n",
              "      <td>0.740742</td>\n",
              "      <td>0.0</td>\n",
              "      <td>0.0</td>\n",
              "      <td>0.0</td>\n",
              "      <td>0.0</td>\n",
              "      <td>0.0</td>\n",
              "      <td>0.0</td>\n",
              "      <td>0.0</td>\n",
              "      <td>0.0</td>\n",
              "      <td>0.161047</td>\n",
              "      <td>0.009512</td>\n",
              "      <td>0.149120</td>\n",
              "      <td>-0.020351</td>\n",
              "      <td>0.205668</td>\n",
              "      <td>-0.026428</td>\n",
              "      <td>26.360001</td>\n",
              "      <td>-3.019999</td>\n",
              "      <td>0.840000</td>\n",
              "      <td>3.171405e+06</td>\n",
              "      <td>3.171405e+06</td>\n",
              "      <td>3.171405e+06</td>\n",
              "      <td>3.171405e+06</td>\n",
              "      <td>-0.001981</td>\n",
              "      <td>0.146940</td>\n",
              "      <td>0.003728</td>\n",
              "      <td>-0.067262</td>\n",
              "      <td>0.577833</td>\n",
              "      <td>2.156</td>\n",
              "      <td>0.018</td>\n",
              "      <td>0.172</td>\n",
              "      <td>0.290001</td>\n",
              "      <td>-0.380005</td>\n",
              "      <td>1.0</td>\n",
              "    </tr>\n",
              "    <tr>\n",
              "      <th>4</th>\n",
              "      <td>2008-03-12</td>\n",
              "      <td>46.705842</td>\n",
              "      <td>57.259156</td>\n",
              "      <td>48.380315</td>\n",
              "      <td>41.412081</td>\n",
              "      <td>-47.938194</td>\n",
              "      <td>-40.397385</td>\n",
              "      <td>-41.176522</td>\n",
              "      <td>-64.980563</td>\n",
              "      <td>42.667356</td>\n",
              "      <td>55.283091</td>\n",
              "      <td>39.616788</td>\n",
              "      <td>34.855835</td>\n",
              "      <td>-0.470830</td>\n",
              "      <td>0.577740</td>\n",
              "      <td>-0.821048</td>\n",
              "      <td>-1.432141</td>\n",
              "      <td>-1.218290</td>\n",
              "      <td>0.012439</td>\n",
              "      <td>-0.052324</td>\n",
              "      <td>-0.085604</td>\n",
              "      <td>-0.056199</td>\n",
              "      <td>-0.055324</td>\n",
              "      <td>-0.055324</td>\n",
              "      <td>-0.055324</td>\n",
              "      <td>-0.055324</td>\n",
              "      <td>27.620393</td>\n",
              "      <td>16.915638</td>\n",
              "      <td>31.419265</td>\n",
              "      <td>36.166841</td>\n",
              "      <td>-12.199692</td>\n",
              "      <td>-19.329816</td>\n",
              "      <td>0.433959</td>\n",
              "      <td>0.0</td>\n",
              "      <td>0.0</td>\n",
              "      <td>0.0</td>\n",
              "      <td>0.0</td>\n",
              "      <td>0.0</td>\n",
              "      <td>0.0</td>\n",
              "      <td>0.0</td>\n",
              "      <td>0.0</td>\n",
              "      <td>0.154237</td>\n",
              "      <td>0.001946</td>\n",
              "      <td>0.147592</td>\n",
              "      <td>-0.001793</td>\n",
              "      <td>0.204179</td>\n",
              "      <td>-0.019810</td>\n",
              "      <td>27.219999</td>\n",
              "      <td>0.859999</td>\n",
              "      <td>2.619999</td>\n",
              "      <td>1.059538e+06</td>\n",
              "      <td>1.059538e+06</td>\n",
              "      <td>1.059538e+06</td>\n",
              "      <td>1.059538e+06</td>\n",
              "      <td>-0.057131</td>\n",
              "      <td>0.084058</td>\n",
              "      <td>0.018906</td>\n",
              "      <td>-0.082044</td>\n",
              "      <td>-0.242491</td>\n",
              "      <td>2.043</td>\n",
              "      <td>-0.113</td>\n",
              "      <td>-0.170</td>\n",
              "      <td>-0.879997</td>\n",
              "      <td>-1.080002</td>\n",
              "      <td>1.0</td>\n",
              "    </tr>\n",
              "  </tbody>\n",
              "</table>\n",
              "</div>"
            ],
            "text/plain": [
              "    timestamp     rsi_10  ...  dollarix_5d_change  labels\n",
              "0  2008-03-06  56.999411  ...           -0.720001     1.0\n",
              "1  2008-03-07  57.264763  ...           -0.680000     1.0\n",
              "2  2008-03-10  53.358296  ...           -0.709999     1.0\n",
              "3  2008-03-11  56.572385  ...           -0.380005     1.0\n",
              "4  2008-03-12  46.705842  ...           -1.080002     1.0\n",
              "\n",
              "[5 rows x 65 columns]"
            ]
          },
          "metadata": {
            "tags": []
          },
          "execution_count": 414
        }
      ]
    },
    {
      "cell_type": "code",
      "metadata": {
        "id": "1qE_jesFKOpZ",
        "colab_type": "code",
        "colab": {}
      },
      "source": [
        "df['timestamp'] = pd.to_datetime(df['timestamp'])"
      ],
      "execution_count": 415,
      "outputs": []
    },
    {
      "cell_type": "code",
      "metadata": {
        "id": "qTGO7R82NRMH",
        "colab_type": "code",
        "colab": {}
      },
      "source": [
        "from_date='2010-01-01'\n",
        "to_date='2020-01-01'"
      ],
      "execution_count": 416,
      "outputs": []
    },
    {
      "cell_type": "code",
      "metadata": {
        "id": "Hy0qnGa0NZpz",
        "colab_type": "code",
        "colab": {}
      },
      "source": [
        "df = df[pd.to_datetime(from_date) < df['timestamp'] ]\n",
        "df = df[pd.to_datetime(to_date) > df['timestamp'] ]\n"
      ],
      "execution_count": 417,
      "outputs": []
    },
    {
      "cell_type": "code",
      "metadata": {
        "id": "inuuZ7pWKXup",
        "colab_type": "code",
        "colab": {
          "base_uri": "https://localhost:8080/",
          "height": 312
        },
        "outputId": "8ea90b7d-7c4f-499e-d3fc-c07e863a1188"
      },
      "source": [
        "df.head()"
      ],
      "execution_count": 418,
      "outputs": [
        {
          "output_type": "execute_result",
          "data": {
            "text/html": [
              "<div>\n",
              "<style scoped>\n",
              "    .dataframe tbody tr th:only-of-type {\n",
              "        vertical-align: middle;\n",
              "    }\n",
              "\n",
              "    .dataframe tbody tr th {\n",
              "        vertical-align: top;\n",
              "    }\n",
              "\n",
              "    .dataframe thead th {\n",
              "        text-align: right;\n",
              "    }\n",
              "</style>\n",
              "<table border=\"1\" class=\"dataframe\">\n",
              "  <thead>\n",
              "    <tr style=\"text-align: right;\">\n",
              "      <th></th>\n",
              "      <th>timestamp</th>\n",
              "      <th>rsi_10</th>\n",
              "      <th>rsi_15</th>\n",
              "      <th>rsi_20</th>\n",
              "      <th>rsi_40</th>\n",
              "      <th>wr_10</th>\n",
              "      <th>wr_15</th>\n",
              "      <th>wr_20</th>\n",
              "      <th>wr_40</th>\n",
              "      <th>mfi_10</th>\n",
              "      <th>mfi_15</th>\n",
              "      <th>mfi_20</th>\n",
              "      <th>mfi_40</th>\n",
              "      <th>roc_1</th>\n",
              "      <th>roc_3</th>\n",
              "      <th>roc_5</th>\n",
              "      <th>roc_10</th>\n",
              "      <th>roc_20</th>\n",
              "      <th>trix_10</th>\n",
              "      <th>trix_15</th>\n",
              "      <th>trix_20</th>\n",
              "      <th>trix_40</th>\n",
              "      <th>macd10</th>\n",
              "      <th>macd15</th>\n",
              "      <th>macd20</th>\n",
              "      <th>macd40</th>\n",
              "      <th>cci_5</th>\n",
              "      <th>cci_10</th>\n",
              "      <th>cci_15</th>\n",
              "      <th>cci_25</th>\n",
              "      <th>kst_20</th>\n",
              "      <th>kst_40</th>\n",
              "      <th>ibr</th>\n",
              "      <th>bb_h10</th>\n",
              "      <th>bb_l10</th>\n",
              "      <th>bb_h15</th>\n",
              "      <th>bb_l15</th>\n",
              "      <th>bb_h20</th>\n",
              "      <th>bb_l20</th>\n",
              "      <th>bb_h40</th>\n",
              "      <th>bb_l40</th>\n",
              "      <th>realised_vol_10</th>\n",
              "      <th>realised_vol_change_5d_10</th>\n",
              "      <th>realised_vol_20</th>\n",
              "      <th>realised_vol_change_5d_20</th>\n",
              "      <th>realised_vol_40</th>\n",
              "      <th>realised_vol_change_5d_40</th>\n",
              "      <th>vix_level</th>\n",
              "      <th>vix_1d_change</th>\n",
              "      <th>vix_5d_change</th>\n",
              "      <th>forcei_10</th>\n",
              "      <th>forcei_15</th>\n",
              "      <th>forcei_20</th>\n",
              "      <th>forcei_40</th>\n",
              "      <th>cmf_10</th>\n",
              "      <th>cmf_15</th>\n",
              "      <th>cmf_20</th>\n",
              "      <th>cmf_40</th>\n",
              "      <th>volume_delta</th>\n",
              "      <th>curve</th>\n",
              "      <th>curve_shift</th>\n",
              "      <th>curve_shift_5d</th>\n",
              "      <th>dollarix_1d_change</th>\n",
              "      <th>dollarix_5d_change</th>\n",
              "      <th>labels</th>\n",
              "    </tr>\n",
              "  </thead>\n",
              "  <tbody>\n",
              "    <tr>\n",
              "      <th>445</th>\n",
              "      <td>2010-01-05</td>\n",
              "      <td>35.439594</td>\n",
              "      <td>27.650944</td>\n",
              "      <td>42.943684</td>\n",
              "      <td>59.326550</td>\n",
              "      <td>-88.524652</td>\n",
              "      <td>-93.655619</td>\n",
              "      <td>-93.655619</td>\n",
              "      <td>-54.964586</td>\n",
              "      <td>42.258928</td>\n",
              "      <td>28.662238</td>\n",
              "      <td>47.285138</td>\n",
              "      <td>58.288211</td>\n",
              "      <td>-1.209682</td>\n",
              "      <td>-2.305828</td>\n",
              "      <td>-1.897633</td>\n",
              "      <td>-1.001405</td>\n",
              "      <td>-1.982959</td>\n",
              "      <td>-0.040934</td>\n",
              "      <td>0.059381</td>\n",
              "      <td>0.117432</td>\n",
              "      <td>0.167536</td>\n",
              "      <td>0.005716</td>\n",
              "      <td>0.005716</td>\n",
              "      <td>0.005716</td>\n",
              "      <td>0.005716</td>\n",
              "      <td>-132.429915</td>\n",
              "      <td>-234.383167</td>\n",
              "      <td>-127.070989</td>\n",
              "      <td>-150.515622</td>\n",
              "      <td>10.895964</td>\n",
              "      <td>18.607671</td>\n",
              "      <td>0.247057</td>\n",
              "      <td>0.0</td>\n",
              "      <td>1.0</td>\n",
              "      <td>0.0</td>\n",
              "      <td>0.0</td>\n",
              "      <td>0.0</td>\n",
              "      <td>0.0</td>\n",
              "      <td>0.0</td>\n",
              "      <td>0.0</td>\n",
              "      <td>0.096808</td>\n",
              "      <td>-0.040975</td>\n",
              "      <td>0.134538</td>\n",
              "      <td>-0.004875</td>\n",
              "      <td>0.136300</td>\n",
              "      <td>-0.008145</td>\n",
              "      <td>19.350000</td>\n",
              "      <td>-0.690001</td>\n",
              "      <td>-0.580000</td>\n",
              "      <td>-3.126621e+06</td>\n",
              "      <td>-3.126621e+06</td>\n",
              "      <td>-3.126621e+06</td>\n",
              "      <td>-3.126621e+06</td>\n",
              "      <td>-0.182901</td>\n",
              "      <td>-0.249137</td>\n",
              "      <td>0.014153</td>\n",
              "      <td>0.142840</td>\n",
              "      <td>0.670637</td>\n",
              "      <td>3.695</td>\n",
              "      <td>-0.091</td>\n",
              "      <td>-0.092</td>\n",
              "      <td>0.090004</td>\n",
              "      <td>-0.009995</td>\n",
              "      <td>0.0</td>\n",
              "    </tr>\n",
              "    <tr>\n",
              "      <th>446</th>\n",
              "      <td>2010-01-06</td>\n",
              "      <td>37.193771</td>\n",
              "      <td>19.377235</td>\n",
              "      <td>41.124888</td>\n",
              "      <td>56.732091</td>\n",
              "      <td>-82.411960</td>\n",
              "      <td>-89.130368</td>\n",
              "      <td>-89.913482</td>\n",
              "      <td>-59.090860</td>\n",
              "      <td>28.829212</td>\n",
              "      <td>21.153753</td>\n",
              "      <td>42.253712</td>\n",
              "      <td>56.093641</td>\n",
              "      <td>-0.035487</td>\n",
              "      <td>-1.175435</td>\n",
              "      <td>-2.441981</td>\n",
              "      <td>-1.486531</td>\n",
              "      <td>-2.661132</td>\n",
              "      <td>-0.060824</td>\n",
              "      <td>0.044009</td>\n",
              "      <td>0.106310</td>\n",
              "      <td>0.164879</td>\n",
              "      <td>-0.032526</td>\n",
              "      <td>-0.032526</td>\n",
              "      <td>-0.032526</td>\n",
              "      <td>-0.032526</td>\n",
              "      <td>-101.110438</td>\n",
              "      <td>-178.166517</td>\n",
              "      <td>-160.559644</td>\n",
              "      <td>-169.182090</td>\n",
              "      <td>5.729479</td>\n",
              "      <td>13.252740</td>\n",
              "      <td>0.760876</td>\n",
              "      <td>0.0</td>\n",
              "      <td>0.0</td>\n",
              "      <td>0.0</td>\n",
              "      <td>0.0</td>\n",
              "      <td>0.0</td>\n",
              "      <td>0.0</td>\n",
              "      <td>0.0</td>\n",
              "      <td>0.0</td>\n",
              "      <td>0.091927</td>\n",
              "      <td>-0.051629</td>\n",
              "      <td>0.131575</td>\n",
              "      <td>-0.008946</td>\n",
              "      <td>0.136323</td>\n",
              "      <td>-0.002395</td>\n",
              "      <td>19.160000</td>\n",
              "      <td>-0.190001</td>\n",
              "      <td>-0.850000</td>\n",
              "      <td>-2.148618e+06</td>\n",
              "      <td>-2.148618e+06</td>\n",
              "      <td>-2.148618e+06</td>\n",
              "      <td>-2.148618e+06</td>\n",
              "      <td>-0.069050</td>\n",
              "      <td>-0.165018</td>\n",
              "      <td>0.010732</td>\n",
              "      <td>0.140613</td>\n",
              "      <td>-0.168640</td>\n",
              "      <td>3.763</td>\n",
              "      <td>0.068</td>\n",
              "      <td>0.049</td>\n",
              "      <td>-0.130005</td>\n",
              "      <td>-0.340004</td>\n",
              "      <td>0.0</td>\n",
              "    </tr>\n",
              "    <tr>\n",
              "      <th>447</th>\n",
              "      <td>2010-01-07</td>\n",
              "      <td>27.204052</td>\n",
              "      <td>19.047674</td>\n",
              "      <td>36.623851</td>\n",
              "      <td>55.897018</td>\n",
              "      <td>-80.180253</td>\n",
              "      <td>-87.246419</td>\n",
              "      <td>-88.108148</td>\n",
              "      <td>-77.619084</td>\n",
              "      <td>18.791815</td>\n",
              "      <td>21.408530</td>\n",
              "      <td>42.908541</td>\n",
              "      <td>53.861446</td>\n",
              "      <td>-0.248541</td>\n",
              "      <td>-1.490186</td>\n",
              "      <td>-2.583221</td>\n",
              "      <td>-1.885807</td>\n",
              "      <td>-2.583221</td>\n",
              "      <td>-0.081204</td>\n",
              "      <td>0.028096</td>\n",
              "      <td>0.094637</td>\n",
              "      <td>0.161927</td>\n",
              "      <td>-0.067702</td>\n",
              "      <td>-0.067702</td>\n",
              "      <td>-0.067702</td>\n",
              "      <td>-0.067702</td>\n",
              "      <td>-84.520772</td>\n",
              "      <td>-136.641924</td>\n",
              "      <td>-167.709130</td>\n",
              "      <td>-170.472283</td>\n",
              "      <td>1.080005</td>\n",
              "      <td>8.064038</td>\n",
              "      <td>0.709676</td>\n",
              "      <td>0.0</td>\n",
              "      <td>0.0</td>\n",
              "      <td>0.0</td>\n",
              "      <td>0.0</td>\n",
              "      <td>0.0</td>\n",
              "      <td>0.0</td>\n",
              "      <td>0.0</td>\n",
              "      <td>0.0</td>\n",
              "      <td>0.090395</td>\n",
              "      <td>-0.052648</td>\n",
              "      <td>0.131447</td>\n",
              "      <td>0.002360</td>\n",
              "      <td>0.129048</td>\n",
              "      <td>-0.009100</td>\n",
              "      <td>19.059999</td>\n",
              "      <td>-0.100000</td>\n",
              "      <td>-0.900000</td>\n",
              "      <td>-1.741227e+06</td>\n",
              "      <td>-1.741227e+06</td>\n",
              "      <td>-1.741227e+06</td>\n",
              "      <td>-1.741227e+06</td>\n",
              "      <td>0.002248</td>\n",
              "      <td>-0.158128</td>\n",
              "      <td>-0.016450</td>\n",
              "      <td>0.122796</td>\n",
              "      <td>-0.313009</td>\n",
              "      <td>3.777</td>\n",
              "      <td>0.014</td>\n",
              "      <td>0.033</td>\n",
              "      <td>0.420006</td>\n",
              "      <td>0.000000</td>\n",
              "      <td>0.0</td>\n",
              "    </tr>\n",
              "    <tr>\n",
              "      <th>448</th>\n",
              "      <td>2010-01-08</td>\n",
              "      <td>15.665581</td>\n",
              "      <td>15.076439</td>\n",
              "      <td>32.062272</td>\n",
              "      <td>48.766437</td>\n",
              "      <td>-87.577597</td>\n",
              "      <td>-88.636322</td>\n",
              "      <td>-91.489331</td>\n",
              "      <td>-91.489331</td>\n",
              "      <td>16.544916</td>\n",
              "      <td>20.733793</td>\n",
              "      <td>36.438583</td>\n",
              "      <td>50.703324</td>\n",
              "      <td>-1.850858</td>\n",
              "      <td>-2.129542</td>\n",
              "      <td>-3.245611</td>\n",
              "      <td>-3.735380</td>\n",
              "      <td>-4.634273</td>\n",
              "      <td>-0.110479</td>\n",
              "      <td>0.008904</td>\n",
              "      <td>0.081193</td>\n",
              "      <td>0.158502</td>\n",
              "      <td>-0.135970</td>\n",
              "      <td>-0.135970</td>\n",
              "      <td>-0.135970</td>\n",
              "      <td>-0.135970</td>\n",
              "      <td>-150.319087</td>\n",
              "      <td>-165.213876</td>\n",
              "      <td>-224.539225</td>\n",
              "      <td>-241.613738</td>\n",
              "      <td>-5.097107</td>\n",
              "      <td>1.361006</td>\n",
              "      <td>0.449440</td>\n",
              "      <td>0.0</td>\n",
              "      <td>1.0</td>\n",
              "      <td>0.0</td>\n",
              "      <td>1.0</td>\n",
              "      <td>0.0</td>\n",
              "      <td>1.0</td>\n",
              "      <td>0.0</td>\n",
              "      <td>1.0</td>\n",
              "      <td>0.121535</td>\n",
              "      <td>-0.023165</td>\n",
              "      <td>0.143954</td>\n",
              "      <td>0.008652</td>\n",
              "      <td>0.136573</td>\n",
              "      <td>-0.001959</td>\n",
              "      <td>18.129999</td>\n",
              "      <td>-0.930000</td>\n",
              "      <td>-3.550001</td>\n",
              "      <td>-6.137620e+06</td>\n",
              "      <td>-6.137620e+06</td>\n",
              "      <td>-6.137620e+06</td>\n",
              "      <td>-6.137620e+06</td>\n",
              "      <td>-0.032127</td>\n",
              "      <td>-0.091245</td>\n",
              "      <td>-0.076368</td>\n",
              "      <td>0.112038</td>\n",
              "      <td>1.169495</td>\n",
              "      <td>3.768</td>\n",
              "      <td>-0.009</td>\n",
              "      <td>-0.025</td>\n",
              "      <td>-0.440002</td>\n",
              "      <td>-0.389999</td>\n",
              "      <td>0.0</td>\n",
              "    </tr>\n",
              "    <tr>\n",
              "      <th>449</th>\n",
              "      <td>2010-01-11</td>\n",
              "      <td>39.740323</td>\n",
              "      <td>33.279513</td>\n",
              "      <td>40.823679</td>\n",
              "      <td>51.602485</td>\n",
              "      <td>-52.795035</td>\n",
              "      <td>-52.795035</td>\n",
              "      <td>-67.659570</td>\n",
              "      <td>-67.659570</td>\n",
              "      <td>27.931985</td>\n",
              "      <td>32.024168</td>\n",
              "      <td>35.812836</td>\n",
              "      <td>51.663252</td>\n",
              "      <td>2.030823</td>\n",
              "      <td>-0.106518</td>\n",
              "      <td>-1.349931</td>\n",
              "      <td>-2.036905</td>\n",
              "      <td>-3.943328</td>\n",
              "      <td>-0.129771</td>\n",
              "      <td>-0.007862</td>\n",
              "      <td>0.068422</td>\n",
              "      <td>0.154918</td>\n",
              "      <td>-0.143236</td>\n",
              "      <td>-0.143236</td>\n",
              "      <td>-0.143236</td>\n",
              "      <td>-0.143236</td>\n",
              "      <td>-23.980787</td>\n",
              "      <td>-78.921540</td>\n",
              "      <td>-114.117183</td>\n",
              "      <td>-150.717494</td>\n",
              "      <td>-9.106083</td>\n",
              "      <td>-3.078436</td>\n",
              "      <td>0.890909</td>\n",
              "      <td>0.0</td>\n",
              "      <td>0.0</td>\n",
              "      <td>0.0</td>\n",
              "      <td>0.0</td>\n",
              "      <td>0.0</td>\n",
              "      <td>0.0</td>\n",
              "      <td>0.0</td>\n",
              "      <td>0.0</td>\n",
              "      <td>0.170260</td>\n",
              "      <td>0.095589</td>\n",
              "      <td>0.156141</td>\n",
              "      <td>0.027317</td>\n",
              "      <td>0.145326</td>\n",
              "      <td>0.007411</td>\n",
              "      <td>17.549999</td>\n",
              "      <td>-0.580000</td>\n",
              "      <td>-2.490002</td>\n",
              "      <td>1.254830e+06</td>\n",
              "      <td>1.254830e+06</td>\n",
              "      <td>1.254830e+06</td>\n",
              "      <td>1.254830e+06</td>\n",
              "      <td>0.083800</td>\n",
              "      <td>0.098416</td>\n",
              "      <td>-0.041299</td>\n",
              "      <td>0.131674</td>\n",
              "      <td>-0.002438</td>\n",
              "      <td>3.793</td>\n",
              "      <td>0.025</td>\n",
              "      <td>0.007</td>\n",
              "      <td>-0.470001</td>\n",
              "      <td>-0.529999</td>\n",
              "      <td>0.0</td>\n",
              "    </tr>\n",
              "  </tbody>\n",
              "</table>\n",
              "</div>"
            ],
            "text/plain": [
              "     timestamp     rsi_10  ...  dollarix_5d_change  labels\n",
              "445 2010-01-05  35.439594  ...           -0.009995     0.0\n",
              "446 2010-01-06  37.193771  ...           -0.340004     0.0\n",
              "447 2010-01-07  27.204052  ...            0.000000     0.0\n",
              "448 2010-01-08  15.665581  ...           -0.389999     0.0\n",
              "449 2010-01-11  39.740323  ...           -0.529999     0.0\n",
              "\n",
              "[5 rows x 65 columns]"
            ]
          },
          "metadata": {
            "tags": []
          },
          "execution_count": 418
        }
      ]
    },
    {
      "cell_type": "code",
      "metadata": {
        "id": "KR7WRpTJaRB4",
        "colab_type": "code",
        "colab": {}
      },
      "source": [
        "df.drop(['timestamp'], inplace=True, axis=1)"
      ],
      "execution_count": 419,
      "outputs": []
    },
    {
      "cell_type": "code",
      "metadata": {
        "id": "Anb_cU4SHzkl",
        "colab_type": "code",
        "colab": {}
      },
      "source": [
        "train_dataset = df.sample(frac=0.8,random_state=0)\n",
        "test_dataset = df.drop(train_dataset.index)"
      ],
      "execution_count": 420,
      "outputs": []
    },
    {
      "cell_type": "code",
      "metadata": {
        "id": "KyB_Wb9Fav0m",
        "colab_type": "code",
        "colab": {}
      },
      "source": [
        "train_labels = train_dataset.pop('labels')\n",
        "test_labels = test_dataset.pop('labels')"
      ],
      "execution_count": 421,
      "outputs": []
    },
    {
      "cell_type": "code",
      "metadata": {
        "id": "YumkgVabeud9",
        "colab_type": "code",
        "colab": {
          "base_uri": "https://localhost:8080/",
          "height": 121
        },
        "outputId": "e7ed7815-3529-4b90-cb37-1701389b4c60"
      },
      "source": [
        "train_labels.head()"
      ],
      "execution_count": 422,
      "outputs": [
        {
          "output_type": "execute_result",
          "data": {
            "text/plain": [
              "1856    1.0\n",
              "2747    1.0\n",
              "898     0.0\n",
              "765     1.0\n",
              "1100    0.0\n",
              "Name: labels, dtype: float64"
            ]
          },
          "metadata": {
            "tags": []
          },
          "execution_count": 422
        }
      ]
    },
    {
      "cell_type": "code",
      "metadata": {
        "id": "LQpxY8Kjeh9H",
        "colab_type": "code",
        "colab": {}
      },
      "source": [
        "from sklearn.utils import compute_class_weight\n",
        "def get_sample_weights(y):\n",
        "      y = y.astype(int)  # compute_class_weight needs int labels\n",
        "      class_weights = compute_class_weight('balanced', np.unique(y), y)\n",
        "\n",
        "      print(\"real class weights are {}\".format(class_weights), np.unique(y))\n",
        "      print(\"value_counts\", np.unique(y, return_counts=True))\n",
        "      sample_weights = y.copy().astype(float)\n",
        "      for i in np.unique(y):\n",
        "          sample_weights[sample_weights == i] = class_weights[i]  # if i == 2 else 0.8 * class_weights[i]\n",
        "            # sample_weights = np.where(sample_weights == i, class_weights[int(i)], y_)\n",
        "\n",
        "      return sample_weights\n"
      ],
      "execution_count": 423,
      "outputs": []
    },
    {
      "cell_type": "code",
      "metadata": {
        "id": "iXhEiJnO28kQ",
        "colab_type": "code",
        "colab": {
          "base_uri": "https://localhost:8080/",
          "height": 259
        },
        "outputId": "c5969b9f-e092-47ad-ad82-5b03b6e55fe8"
      },
      "source": [
        "get_sample_weights(train_labels)"
      ],
      "execution_count": 424,
      "outputs": [
        {
          "output_type": "stream",
          "text": [
            "real class weights are [1.21437423 0.84995663] [0 1]\n",
            "value_counts (array([0, 1]), array([ 807, 1153]))\n"
          ],
          "name": "stdout"
        },
        {
          "output_type": "execute_result",
          "data": {
            "text/plain": [
              "1856    0.849957\n",
              "2747    0.849957\n",
              "898     1.214374\n",
              "765     0.849957\n",
              "1100    1.214374\n",
              "          ...   \n",
              "2051    1.214374\n",
              "1301    0.849957\n",
              "2192    0.849957\n",
              "1640    1.214374\n",
              "2882    0.849957\n",
              "Name: labels, Length: 1960, dtype: float64"
            ]
          },
          "metadata": {
            "tags": []
          },
          "execution_count": 424
        }
      ]
    },
    {
      "cell_type": "code",
      "metadata": {
        "id": "EmTtLI6ufD7f",
        "colab_type": "code",
        "colab": {
          "base_uri": "https://localhost:8080/",
          "height": 51
        },
        "outputId": "8a0c10b1-f05e-4275-d458-dac7c5eab2bf"
      },
      "source": [
        "SAMPLE_WEIGHT=get_sample_weights(train_labels)"
      ],
      "execution_count": 425,
      "outputs": [
        {
          "output_type": "stream",
          "text": [
            "real class weights are [1.21437423 0.84995663] [0 1]\n",
            "value_counts (array([0, 1]), array([ 807, 1153]))\n"
          ],
          "name": "stdout"
        }
      ]
    },
    {
      "cell_type": "code",
      "metadata": {
        "id": "ft6KC349cvWN",
        "colab_type": "code",
        "colab": {}
      },
      "source": [
        "train_stats = train_dataset.describe()\n",
        "train_stats = train_stats.transpose()"
      ],
      "execution_count": 426,
      "outputs": []
    },
    {
      "cell_type": "code",
      "metadata": {
        "id": "zMEH1r2ya1UM",
        "colab_type": "code",
        "colab": {}
      },
      "source": [
        "def norm(x):\n",
        "  return (x - train_stats['mean']) / train_stats['std']\n",
        "normed_train_data = norm(train_dataset)\n",
        "normed_test_data = norm(test_dataset)"
      ],
      "execution_count": 427,
      "outputs": []
    },
    {
      "cell_type": "code",
      "metadata": {
        "id": "QZQxTHBAGIJY",
        "colab_type": "code",
        "colab": {
          "base_uri": "https://localhost:8080/",
          "height": 363
        },
        "outputId": "5ffa6334-a81c-47f3-c313-fe2bb38a0f11"
      },
      "source": [
        "from sklearn.feature_selection import SelectKBest, f_classif, mutual_info_classif\n",
        "from operator import itemgetter\n",
        "\n",
        "k=20\n",
        "list_features = list(normed_train_data.columns)\n",
        "select_k_best = SelectKBest(f_classif, k=k)\n",
        "select_k_best.fit(normed_train_data, train_labels)\n",
        "selected_features_anova = itemgetter(*select_k_best.get_support(indices=True))(list_features)\n",
        "\n",
        "selected_features_anova"
      ],
      "execution_count": 428,
      "outputs": [
        {
          "output_type": "execute_result",
          "data": {
            "text/plain": [
              "('rsi_10',\n",
              " 'rsi_15',\n",
              " 'rsi_20',\n",
              " 'wr_10',\n",
              " 'wr_15',\n",
              " 'wr_20',\n",
              " 'wr_40',\n",
              " 'roc_5',\n",
              " 'roc_10',\n",
              " 'roc_20',\n",
              " 'trix_10',\n",
              " 'macd10',\n",
              " 'macd15',\n",
              " 'macd20',\n",
              " 'macd40',\n",
              " 'cci_15',\n",
              " 'cci_25',\n",
              " 'bb_l20',\n",
              " 'bb_l40',\n",
              " 'cmf_10')"
            ]
          },
          "metadata": {
            "tags": []
          },
          "execution_count": 428
        }
      ]
    },
    {
      "cell_type": "code",
      "metadata": {
        "id": "UoGj_iK6JdDy",
        "colab_type": "code",
        "colab": {
          "base_uri": "https://localhost:8080/",
          "height": 363
        },
        "outputId": "afc37e01-75a8-4091-c3a0-2483f51fc650"
      },
      "source": [
        "select_k_best = SelectKBest(mutual_info_classif, k=k)\n",
        "select_k_best.fit(normed_train_data, train_labels)\n",
        "selected_features_mic = itemgetter(*select_k_best.get_support(indices=True))(list_features)\n",
        "selected_features_mic"
      ],
      "execution_count": 429,
      "outputs": [
        {
          "output_type": "execute_result",
          "data": {
            "text/plain": [
              "('rsi_10',\n",
              " 'rsi_15',\n",
              " 'rsi_20',\n",
              " 'wr_15',\n",
              " 'wr_40',\n",
              " 'mfi_20',\n",
              " 'mfi_40',\n",
              " 'roc_1',\n",
              " 'trix_10',\n",
              " 'macd10',\n",
              " 'macd15',\n",
              " 'macd20',\n",
              " 'macd40',\n",
              " 'realised_vol_40',\n",
              " 'vix_level',\n",
              " 'vix_5d_change',\n",
              " 'forcei_20',\n",
              " 'forcei_40',\n",
              " 'cmf_10',\n",
              " 'curve')"
            ]
          },
          "metadata": {
            "tags": []
          },
          "execution_count": 429
        }
      ]
    },
    {
      "cell_type": "code",
      "metadata": {
        "id": "VS_4c6YyMHl9",
        "colab_type": "code",
        "colab": {
          "base_uri": "https://localhost:8080/",
          "height": 226
        },
        "outputId": "733773db-6f23-4883-9941-62f8b64fa31a"
      },
      "source": [
        "list_features = list(normed_train_data.columns)\n",
        "feat_idx = []\n",
        "for c in selected_features_mic:\n",
        "      feat_idx.append(list_features.index(c))\n",
        "\n",
        "feat_idx = sorted(feat_idx)\n",
        "X_train_new=normed_train_data.iloc[:, feat_idx]\n",
        "X_test_new=normed_test_data.iloc[:, feat_idx]\n",
        "#kbest=SelectKBest(f_classif, k=10)\n",
        "#X_train_new = kbest.fit_transform(normed_train_data, train_labels)\n",
        "#X_test_new = kbest.transform(normed_test_data)\n",
        "\n",
        "X_test_new.shape\n",
        "X_test_new.head()"
      ],
      "execution_count": 430,
      "outputs": [
        {
          "output_type": "execute_result",
          "data": {
            "text/html": [
              "<div>\n",
              "<style scoped>\n",
              "    .dataframe tbody tr th:only-of-type {\n",
              "        vertical-align: middle;\n",
              "    }\n",
              "\n",
              "    .dataframe tbody tr th {\n",
              "        vertical-align: top;\n",
              "    }\n",
              "\n",
              "    .dataframe thead th {\n",
              "        text-align: right;\n",
              "    }\n",
              "</style>\n",
              "<table border=\"1\" class=\"dataframe\">\n",
              "  <thead>\n",
              "    <tr style=\"text-align: right;\">\n",
              "      <th></th>\n",
              "      <th>rsi_10</th>\n",
              "      <th>rsi_15</th>\n",
              "      <th>rsi_20</th>\n",
              "      <th>wr_15</th>\n",
              "      <th>wr_40</th>\n",
              "      <th>mfi_20</th>\n",
              "      <th>mfi_40</th>\n",
              "      <th>roc_1</th>\n",
              "      <th>trix_10</th>\n",
              "      <th>macd10</th>\n",
              "      <th>macd15</th>\n",
              "      <th>macd20</th>\n",
              "      <th>macd40</th>\n",
              "      <th>realised_vol_40</th>\n",
              "      <th>vix_level</th>\n",
              "      <th>vix_5d_change</th>\n",
              "      <th>forcei_20</th>\n",
              "      <th>forcei_40</th>\n",
              "      <th>cmf_10</th>\n",
              "      <th>curve</th>\n",
              "    </tr>\n",
              "  </thead>\n",
              "  <tbody>\n",
              "    <tr>\n",
              "      <th>445</th>\n",
              "      <td>-0.997250</td>\n",
              "      <td>-1.732735</td>\n",
              "      <td>-0.787808</td>\n",
              "      <td>-1.718987</td>\n",
              "      <td>-0.453182</td>\n",
              "      <td>-0.424576</td>\n",
              "      <td>0.653414</td>\n",
              "      <td>-1.297481</td>\n",
              "      <td>-0.476005</td>\n",
              "      <td>-0.206079</td>\n",
              "      <td>-0.206079</td>\n",
              "      <td>-0.206079</td>\n",
              "      <td>-0.206079</td>\n",
              "      <td>-0.190748</td>\n",
              "      <td>0.445087</td>\n",
              "      <td>-0.194993</td>\n",
              "      <td>-0.690389</td>\n",
              "      <td>-0.690389</td>\n",
              "      <td>-1.071546</td>\n",
              "      <td>2.013397</td>\n",
              "    </tr>\n",
              "    <tr>\n",
              "      <th>448</th>\n",
              "      <td>-2.081248</td>\n",
              "      <td>-2.580038</td>\n",
              "      <td>-1.646090</td>\n",
              "      <td>-1.548156</td>\n",
              "      <td>-1.726393</td>\n",
              "      <td>-1.290910</td>\n",
              "      <td>-0.186873</td>\n",
              "      <td>-1.981583</td>\n",
              "      <td>-0.968841</td>\n",
              "      <td>-0.650482</td>\n",
              "      <td>-0.650482</td>\n",
              "      <td>-0.650482</td>\n",
              "      <td>-0.650482</td>\n",
              "      <td>-0.183894</td>\n",
              "      <td>0.226020</td>\n",
              "      <td>-1.176824</td>\n",
              "      <td>-1.375617</td>\n",
              "      <td>-1.375617</td>\n",
              "      <td>-0.372662</td>\n",
              "      <td>2.093196</td>\n",
              "    </tr>\n",
              "    <tr>\n",
              "      <th>452</th>\n",
              "      <td>-0.551236</td>\n",
              "      <td>-0.254474</td>\n",
              "      <td>-1.215076</td>\n",
              "      <td>0.580696</td>\n",
              "      <td>-0.257871</td>\n",
              "      <td>-1.179506</td>\n",
              "      <td>-0.106735</td>\n",
              "      <td>0.180276</td>\n",
              "      <td>-1.009782</td>\n",
              "      <td>-0.463468</td>\n",
              "      <td>-0.463468</td>\n",
              "      <td>-0.463468</td>\n",
              "      <td>-0.463468</td>\n",
              "      <td>0.037301</td>\n",
              "      <td>0.136238</td>\n",
              "      <td>-0.475989</td>\n",
              "      <td>0.449545</td>\n",
              "      <td>0.449545</td>\n",
              "      <td>0.635009</td>\n",
              "      <td>2.006838</td>\n",
              "    </tr>\n",
              "    <tr>\n",
              "      <th>469</th>\n",
              "      <td>-0.290033</td>\n",
              "      <td>-1.139573</td>\n",
              "      <td>-0.619534</td>\n",
              "      <td>-0.629957</td>\n",
              "      <td>-1.277529</td>\n",
              "      <td>-1.403987</td>\n",
              "      <td>-1.882290</td>\n",
              "      <td>2.749210</td>\n",
              "      <td>-1.972410</td>\n",
              "      <td>-1.495814</td>\n",
              "      <td>-1.495814</td>\n",
              "      <td>-1.495814</td>\n",
              "      <td>-1.495814</td>\n",
              "      <td>0.681354</td>\n",
              "      <td>1.639183</td>\n",
              "      <td>1.490979</td>\n",
              "      <td>0.977304</td>\n",
              "      <td>0.977304</td>\n",
              "      <td>-0.610408</td>\n",
              "      <td>1.836308</td>\n",
              "    </tr>\n",
              "    <tr>\n",
              "      <th>470</th>\n",
              "      <td>-0.383174</td>\n",
              "      <td>-1.331941</td>\n",
              "      <td>-1.224635</td>\n",
              "      <td>-0.528889</td>\n",
              "      <td>-1.388351</td>\n",
              "      <td>-1.845893</td>\n",
              "      <td>-2.286487</td>\n",
              "      <td>-0.441410</td>\n",
              "      <td>-1.936032</td>\n",
              "      <td>-1.444565</td>\n",
              "      <td>-1.444565</td>\n",
              "      <td>-1.444565</td>\n",
              "      <td>-1.444565</td>\n",
              "      <td>0.623628</td>\n",
              "      <td>1.531445</td>\n",
              "      <td>1.252959</td>\n",
              "      <td>0.502401</td>\n",
              "      <td>0.502401</td>\n",
              "      <td>-0.981903</td>\n",
              "      <td>1.902990</td>\n",
              "    </tr>\n",
              "  </tbody>\n",
              "</table>\n",
              "</div>"
            ],
            "text/plain": [
              "       rsi_10    rsi_15    rsi_20  ...  forcei_40    cmf_10     curve\n",
              "445 -0.997250 -1.732735 -0.787808  ...  -0.690389 -1.071546  2.013397\n",
              "448 -2.081248 -2.580038 -1.646090  ...  -1.375617 -0.372662  2.093196\n",
              "452 -0.551236 -0.254474 -1.215076  ...   0.449545  0.635009  2.006838\n",
              "469 -0.290033 -1.139573 -0.619534  ...   0.977304 -0.610408  1.836308\n",
              "470 -0.383174 -1.331941 -1.224635  ...   0.502401 -0.981903  1.902990\n",
              "\n",
              "[5 rows x 20 columns]"
            ]
          },
          "metadata": {
            "tags": []
          },
          "execution_count": 430
        }
      ]
    },
    {
      "cell_type": "code",
      "metadata": {
        "id": "1Y6IeZLPdDbh",
        "colab_type": "code",
        "colab": {}
      },
      "source": [
        "def build_model(hidden_dim,dropout=0.5):\n",
        "    ## input layer\n",
        "    inputs=tf.keras.Input(shape=(X_train_new.shape[1],))\n",
        "\n",
        "\n",
        "    h1= tf.keras.layers.Dense(units=hidden_dim,activation='relu')(inputs)\n",
        "    h2= tf.keras.layers.Dropout(dropout)(h1)\n",
        "    h3= tf.keras.layers.Dense(units=hidden_dim*2,activation='relu')(h2)\n",
        "    h4= tf.keras.layers.Dropout(dropout)(h3)\n",
        "    h5= tf.keras.layers.Dense(units=hidden_dim*2,activation='relu')(h4)\n",
        "    h6= tf.keras.layers.Dropout(dropout)(h5)\n",
        "    h7= tf.keras.layers.Dense(units=hidden_dim,activation='relu')(h6)\n",
        "\n",
        "    ##output\n",
        "    outputs=tf.keras.layers.Dense(units=2,activation='softmax')(h7)\n",
        "\n",
        "    return tf.keras.Model(inputs=inputs, outputs=outputs)"
      ],
      "execution_count": 431,
      "outputs": []
    },
    {
      "cell_type": "code",
      "metadata": {
        "id": "YvYU19fefqf7",
        "colab_type": "code",
        "colab": {}
      },
      "source": [
        "tf.random.set_seed(1)\n",
        "\n",
        "criterion = tf.keras.losses.sparse_categorical_crossentropy\n",
        "\n",
        "optimizer = tf.keras.optimizers.Adam(learning_rate=0.001)\n",
        "\n",
        "model = build_model(hidden_dim=64)\n",
        "\n",
        "model.compile(optimizer=optimizer,loss=criterion,metrics=['accuracy'])"
      ],
      "execution_count": 432,
      "outputs": []
    },
    {
      "cell_type": "code",
      "metadata": {
        "id": "2RjdYWf5gX4x",
        "colab_type": "code",
        "colab": {
          "base_uri": "https://localhost:8080/",
          "height": 190
        },
        "outputId": "6b7ce637-a126-421a-a2ac-24ca8b60107c"
      },
      "source": [
        "example_batch = X_train_new[:10]\n",
        "example_result = model.predict(example_batch)\n",
        "example_result"
      ],
      "execution_count": 433,
      "outputs": [
        {
          "output_type": "execute_result",
          "data": {
            "text/plain": [
              "array([[0.53895485, 0.46104512],\n",
              "       [0.49759817, 0.5024018 ],\n",
              "       [0.56052214, 0.43947786],\n",
              "       [0.528748  , 0.47125196],\n",
              "       [0.55075485, 0.4492451 ],\n",
              "       [0.5560378 , 0.44396225],\n",
              "       [0.56038725, 0.4396128 ],\n",
              "       [0.5006257 , 0.49937424],\n",
              "       [0.57541466, 0.42458528],\n",
              "       [0.55058646, 0.44941354]], dtype=float32)"
            ]
          },
          "metadata": {
            "tags": []
          },
          "execution_count": 433
        }
      ]
    },
    {
      "cell_type": "code",
      "metadata": {
        "id": "bwsZt86Vg9Fs",
        "colab_type": "code",
        "colab": {
          "base_uri": "https://localhost:8080/",
          "height": 1000
        },
        "outputId": "f170794f-f638-46aa-91ee-e305174b0f02"
      },
      "source": [
        "EPOCHS=200\n",
        "BATCH_SIZE=20\n",
        "\n",
        "history = model.fit(\n",
        "  X_train_new, train_labels,\n",
        "  epochs=EPOCHS, batch_size=BATCH_SIZE ,sample_weight=SAMPLE_WEIGHT,shuffle=True,validation_split = 0.2, verbose=1,\n",
        "  callbacks=[tfdocs.modeling.EpochDots()])"
      ],
      "execution_count": 434,
      "outputs": [
        {
          "output_type": "stream",
          "text": [
            "Epoch 1/200\n",
            "70/79 [=========================>....] - ETA: 0s - loss: 0.7084 - accuracy: 0.5407\n",
            "Epoch: 0, accuracy:0.5415,  loss:0.7054,  val_accuracy:0.5357,  val_loss:0.6878,  \n",
            "79/79 [==============================] - 1s 7ms/step - loss: 0.7054 - accuracy: 0.5415 - val_loss: 0.6878 - val_accuracy: 0.5357\n",
            "Epoch 2/200\n",
            "79/79 [==============================] - 0s 5ms/step - loss: 0.6993 - accuracy: 0.5198 - val_loss: 0.6847 - val_accuracy: 0.5306\n",
            "Epoch 3/200\n",
            "79/79 [==============================] - 0s 5ms/step - loss: 0.6907 - accuracy: 0.5370 - val_loss: 0.6861 - val_accuracy: 0.5051\n",
            "Epoch 4/200\n",
            "79/79 [==============================] - 0s 5ms/step - loss: 0.6889 - accuracy: 0.5357 - val_loss: 0.6887 - val_accuracy: 0.4949\n",
            "Epoch 5/200\n",
            "79/79 [==============================] - 0s 5ms/step - loss: 0.6889 - accuracy: 0.5064 - val_loss: 0.6839 - val_accuracy: 0.5459\n",
            "Epoch 6/200\n",
            "79/79 [==============================] - 0s 5ms/step - loss: 0.6953 - accuracy: 0.5312 - val_loss: 0.6860 - val_accuracy: 0.5383\n",
            "Epoch 7/200\n",
            "79/79 [==============================] - 0s 5ms/step - loss: 0.6819 - accuracy: 0.5625 - val_loss: 0.6822 - val_accuracy: 0.5408\n",
            "Epoch 8/200\n",
            "79/79 [==============================] - 0s 5ms/step - loss: 0.6721 - accuracy: 0.5504 - val_loss: 0.6796 - val_accuracy: 0.5383\n",
            "Epoch 9/200\n",
            "79/79 [==============================] - 0s 5ms/step - loss: 0.6757 - accuracy: 0.5663 - val_loss: 0.6786 - val_accuracy: 0.5408\n",
            "Epoch 10/200\n",
            "79/79 [==============================] - 0s 5ms/step - loss: 0.6709 - accuracy: 0.5784 - val_loss: 0.6794 - val_accuracy: 0.5332\n",
            "Epoch 11/200\n",
            "79/79 [==============================] - 0s 5ms/step - loss: 0.6739 - accuracy: 0.5670 - val_loss: 0.6771 - val_accuracy: 0.5459\n",
            "Epoch 12/200\n",
            "79/79 [==============================] - 0s 6ms/step - loss: 0.6663 - accuracy: 0.5944 - val_loss: 0.6753 - val_accuracy: 0.5332\n",
            "Epoch 13/200\n",
            "79/79 [==============================] - 0s 5ms/step - loss: 0.6709 - accuracy: 0.5574 - val_loss: 0.6740 - val_accuracy: 0.5281\n",
            "Epoch 14/200\n",
            "79/79 [==============================] - 0s 5ms/step - loss: 0.6651 - accuracy: 0.5727 - val_loss: 0.6713 - val_accuracy: 0.5740\n",
            "Epoch 15/200\n",
            "79/79 [==============================] - 0s 6ms/step - loss: 0.6658 - accuracy: 0.5765 - val_loss: 0.6708 - val_accuracy: 0.5663\n",
            "Epoch 16/200\n",
            "79/79 [==============================] - 0s 5ms/step - loss: 0.6639 - accuracy: 0.5835 - val_loss: 0.6712 - val_accuracy: 0.5791\n",
            "Epoch 17/200\n",
            "79/79 [==============================] - 0s 5ms/step - loss: 0.6649 - accuracy: 0.5931 - val_loss: 0.6664 - val_accuracy: 0.6173\n",
            "Epoch 18/200\n",
            "79/79 [==============================] - 0s 5ms/step - loss: 0.6591 - accuracy: 0.6040 - val_loss: 0.6638 - val_accuracy: 0.5893\n",
            "Epoch 19/200\n",
            "79/79 [==============================] - 0s 5ms/step - loss: 0.6628 - accuracy: 0.6033 - val_loss: 0.6678 - val_accuracy: 0.6097\n",
            "Epoch 20/200\n",
            "79/79 [==============================] - 0s 5ms/step - loss: 0.6491 - accuracy: 0.6110 - val_loss: 0.6619 - val_accuracy: 0.5893\n",
            "Epoch 21/200\n",
            "79/79 [==============================] - 0s 5ms/step - loss: 0.6582 - accuracy: 0.5957 - val_loss: 0.6718 - val_accuracy: 0.5434\n",
            "Epoch 22/200\n",
            "79/79 [==============================] - 0s 5ms/step - loss: 0.6481 - accuracy: 0.6033 - val_loss: 0.6640 - val_accuracy: 0.5842\n",
            "Epoch 23/200\n",
            "79/79 [==============================] - 0s 6ms/step - loss: 0.6456 - accuracy: 0.6244 - val_loss: 0.6564 - val_accuracy: 0.6097\n",
            "Epoch 24/200\n",
            "79/79 [==============================] - 0s 5ms/step - loss: 0.6466 - accuracy: 0.6269 - val_loss: 0.6570 - val_accuracy: 0.6250\n",
            "Epoch 25/200\n",
            "79/79 [==============================] - 0s 5ms/step - loss: 0.6417 - accuracy: 0.6091 - val_loss: 0.6564 - val_accuracy: 0.6046\n",
            "Epoch 26/200\n",
            "79/79 [==============================] - 0s 5ms/step - loss: 0.6423 - accuracy: 0.6339 - val_loss: 0.6497 - val_accuracy: 0.6352\n",
            "Epoch 27/200\n",
            "79/79 [==============================] - 0s 5ms/step - loss: 0.6422 - accuracy: 0.6212 - val_loss: 0.6514 - val_accuracy: 0.6301\n",
            "Epoch 28/200\n",
            "79/79 [==============================] - 0s 5ms/step - loss: 0.6442 - accuracy: 0.6218 - val_loss: 0.6511 - val_accuracy: 0.6301\n",
            "Epoch 29/200\n",
            "79/79 [==============================] - 0s 5ms/step - loss: 0.6272 - accuracy: 0.6339 - val_loss: 0.6518 - val_accuracy: 0.6097\n",
            "Epoch 30/200\n",
            "79/79 [==============================] - 0s 5ms/step - loss: 0.6308 - accuracy: 0.6480 - val_loss: 0.6495 - val_accuracy: 0.6173\n",
            "Epoch 31/200\n",
            "79/79 [==============================] - 0s 6ms/step - loss: 0.6099 - accuracy: 0.6460 - val_loss: 0.6364 - val_accuracy: 0.6658\n",
            "Epoch 32/200\n",
            "79/79 [==============================] - 0s 5ms/step - loss: 0.6180 - accuracy: 0.6499 - val_loss: 0.6331 - val_accuracy: 0.6531\n",
            "Epoch 33/200\n",
            "79/79 [==============================] - 0s 5ms/step - loss: 0.6161 - accuracy: 0.6441 - val_loss: 0.6308 - val_accuracy: 0.6633\n",
            "Epoch 34/200\n",
            "79/79 [==============================] - 0s 5ms/step - loss: 0.6242 - accuracy: 0.6480 - val_loss: 0.6350 - val_accuracy: 0.6684\n",
            "Epoch 35/200\n",
            "79/79 [==============================] - 0s 5ms/step - loss: 0.6224 - accuracy: 0.6416 - val_loss: 0.6314 - val_accuracy: 0.6709\n",
            "Epoch 36/200\n",
            "79/79 [==============================] - 0s 5ms/step - loss: 0.6136 - accuracy: 0.6378 - val_loss: 0.6250 - val_accuracy: 0.6633\n",
            "Epoch 37/200\n",
            "79/79 [==============================] - 0s 5ms/step - loss: 0.6076 - accuracy: 0.6614 - val_loss: 0.6249 - val_accuracy: 0.6633\n",
            "Epoch 38/200\n",
            "79/79 [==============================] - 0s 5ms/step - loss: 0.6048 - accuracy: 0.6633 - val_loss: 0.6213 - val_accuracy: 0.6633\n",
            "Epoch 39/200\n",
            "79/79 [==============================] - 0s 5ms/step - loss: 0.6049 - accuracy: 0.6499 - val_loss: 0.6193 - val_accuracy: 0.6837\n",
            "Epoch 40/200\n",
            "79/79 [==============================] - 0s 5ms/step - loss: 0.5921 - accuracy: 0.6601 - val_loss: 0.6198 - val_accuracy: 0.6709\n",
            "Epoch 41/200\n",
            "79/79 [==============================] - 0s 6ms/step - loss: 0.6036 - accuracy: 0.6569 - val_loss: 0.6209 - val_accuracy: 0.6658\n",
            "Epoch 42/200\n",
            "79/79 [==============================] - 0s 5ms/step - loss: 0.6014 - accuracy: 0.6524 - val_loss: 0.6198 - val_accuracy: 0.6556\n",
            "Epoch 43/200\n",
            "79/79 [==============================] - 0s 6ms/step - loss: 0.5947 - accuracy: 0.6658 - val_loss: 0.6202 - val_accuracy: 0.6786\n",
            "Epoch 44/200\n",
            "79/79 [==============================] - 0s 5ms/step - loss: 0.6018 - accuracy: 0.6626 - val_loss: 0.6095 - val_accuracy: 0.6939\n",
            "Epoch 45/200\n",
            "79/79 [==============================] - 0s 5ms/step - loss: 0.5940 - accuracy: 0.6626 - val_loss: 0.6067 - val_accuracy: 0.6811\n",
            "Epoch 46/200\n",
            "79/79 [==============================] - 0s 5ms/step - loss: 0.5993 - accuracy: 0.6754 - val_loss: 0.6108 - val_accuracy: 0.6760\n",
            "Epoch 47/200\n",
            "79/79 [==============================] - 0s 6ms/step - loss: 0.5902 - accuracy: 0.6703 - val_loss: 0.6102 - val_accuracy: 0.6837\n",
            "Epoch 48/200\n",
            "79/79 [==============================] - 0s 6ms/step - loss: 0.5894 - accuracy: 0.6830 - val_loss: 0.6053 - val_accuracy: 0.6837\n",
            "Epoch 49/200\n",
            "79/79 [==============================] - 0s 5ms/step - loss: 0.5867 - accuracy: 0.6856 - val_loss: 0.6062 - val_accuracy: 0.6709\n",
            "Epoch 50/200\n",
            "79/79 [==============================] - 0s 6ms/step - loss: 0.5831 - accuracy: 0.6907 - val_loss: 0.6062 - val_accuracy: 0.6786\n",
            "Epoch 51/200\n",
            "79/79 [==============================] - 0s 5ms/step - loss: 0.5651 - accuracy: 0.6952 - val_loss: 0.6070 - val_accuracy: 0.6633\n",
            "Epoch 52/200\n",
            "79/79 [==============================] - 0s 5ms/step - loss: 0.5770 - accuracy: 0.6875 - val_loss: 0.6014 - val_accuracy: 0.6709\n",
            "Epoch 53/200\n",
            "79/79 [==============================] - 0s 5ms/step - loss: 0.5772 - accuracy: 0.6971 - val_loss: 0.5955 - val_accuracy: 0.6735\n",
            "Epoch 54/200\n",
            "79/79 [==============================] - 0s 5ms/step - loss: 0.5643 - accuracy: 0.7028 - val_loss: 0.5948 - val_accuracy: 0.6684\n",
            "Epoch 55/200\n",
            "79/79 [==============================] - 0s 5ms/step - loss: 0.5584 - accuracy: 0.6913 - val_loss: 0.5911 - val_accuracy: 0.6709\n",
            "Epoch 56/200\n",
            "79/79 [==============================] - 0s 5ms/step - loss: 0.5723 - accuracy: 0.6888 - val_loss: 0.5927 - val_accuracy: 0.6658\n",
            "Epoch 57/200\n",
            "79/79 [==============================] - 0s 6ms/step - loss: 0.5592 - accuracy: 0.6875 - val_loss: 0.5941 - val_accuracy: 0.6684\n",
            "Epoch 58/200\n",
            "79/79 [==============================] - 0s 5ms/step - loss: 0.5571 - accuracy: 0.6990 - val_loss: 0.5909 - val_accuracy: 0.6582\n",
            "Epoch 59/200\n",
            "79/79 [==============================] - 0s 5ms/step - loss: 0.5718 - accuracy: 0.7034 - val_loss: 0.5821 - val_accuracy: 0.6837\n",
            "Epoch 60/200\n",
            "79/79 [==============================] - 0s 5ms/step - loss: 0.5518 - accuracy: 0.7047 - val_loss: 0.5763 - val_accuracy: 0.7117\n",
            "Epoch 61/200\n",
            "79/79 [==============================] - 0s 5ms/step - loss: 0.5591 - accuracy: 0.7194 - val_loss: 0.5803 - val_accuracy: 0.6760\n",
            "Epoch 62/200\n",
            "79/79 [==============================] - 0s 5ms/step - loss: 0.5602 - accuracy: 0.6996 - val_loss: 0.5728 - val_accuracy: 0.6837\n",
            "Epoch 63/200\n",
            "79/79 [==============================] - 0s 5ms/step - loss: 0.5582 - accuracy: 0.7073 - val_loss: 0.5732 - val_accuracy: 0.6888\n",
            "Epoch 64/200\n",
            "79/79 [==============================] - 0s 5ms/step - loss: 0.5513 - accuracy: 0.7105 - val_loss: 0.5799 - val_accuracy: 0.6684\n",
            "Epoch 65/200\n",
            "79/79 [==============================] - 0s 5ms/step - loss: 0.5410 - accuracy: 0.7136 - val_loss: 0.5711 - val_accuracy: 0.7015\n",
            "Epoch 66/200\n",
            "79/79 [==============================] - 0s 5ms/step - loss: 0.5426 - accuracy: 0.7315 - val_loss: 0.5681 - val_accuracy: 0.6888\n",
            "Epoch 67/200\n",
            "79/79 [==============================] - 0s 5ms/step - loss: 0.5380 - accuracy: 0.7372 - val_loss: 0.5740 - val_accuracy: 0.6760\n",
            "Epoch 68/200\n",
            "79/79 [==============================] - 0s 5ms/step - loss: 0.5494 - accuracy: 0.7060 - val_loss: 0.5613 - val_accuracy: 0.7041\n",
            "Epoch 69/200\n",
            "79/79 [==============================] - 0s 5ms/step - loss: 0.5471 - accuracy: 0.7117 - val_loss: 0.5646 - val_accuracy: 0.6760\n",
            "Epoch 70/200\n",
            "79/79 [==============================] - 0s 5ms/step - loss: 0.5293 - accuracy: 0.7175 - val_loss: 0.5697 - val_accuracy: 0.7015\n",
            "Epoch 71/200\n",
            "79/79 [==============================] - 0s 5ms/step - loss: 0.5399 - accuracy: 0.7162 - val_loss: 0.5669 - val_accuracy: 0.6837\n",
            "Epoch 72/200\n",
            "79/79 [==============================] - 0s 6ms/step - loss: 0.5341 - accuracy: 0.7105 - val_loss: 0.5758 - val_accuracy: 0.6607\n",
            "Epoch 73/200\n",
            "79/79 [==============================] - 0s 5ms/step - loss: 0.5454 - accuracy: 0.7136 - val_loss: 0.5693 - val_accuracy: 0.6837\n",
            "Epoch 74/200\n",
            "79/79 [==============================] - 0s 5ms/step - loss: 0.5478 - accuracy: 0.7245 - val_loss: 0.5647 - val_accuracy: 0.6913\n",
            "Epoch 75/200\n",
            "79/79 [==============================] - 0s 5ms/step - loss: 0.5156 - accuracy: 0.7328 - val_loss: 0.5507 - val_accuracy: 0.7066\n",
            "Epoch 76/200\n",
            "79/79 [==============================] - 0s 5ms/step - loss: 0.5506 - accuracy: 0.7251 - val_loss: 0.5731 - val_accuracy: 0.6862\n",
            "Epoch 77/200\n",
            "79/79 [==============================] - 0s 6ms/step - loss: 0.5453 - accuracy: 0.7130 - val_loss: 0.5582 - val_accuracy: 0.7168\n",
            "Epoch 78/200\n",
            "79/79 [==============================] - 0s 5ms/step - loss: 0.5261 - accuracy: 0.7309 - val_loss: 0.5624 - val_accuracy: 0.6939\n",
            "Epoch 79/200\n",
            "79/79 [==============================] - 0s 5ms/step - loss: 0.5201 - accuracy: 0.7385 - val_loss: 0.5786 - val_accuracy: 0.6760\n",
            "Epoch 80/200\n",
            "79/79 [==============================] - 0s 5ms/step - loss: 0.5161 - accuracy: 0.7443 - val_loss: 0.5626 - val_accuracy: 0.6990\n",
            "Epoch 81/200\n",
            "79/79 [==============================] - 0s 5ms/step - loss: 0.5220 - accuracy: 0.7309 - val_loss: 0.5602 - val_accuracy: 0.6939\n",
            "Epoch 82/200\n",
            "79/79 [==============================] - 0s 5ms/step - loss: 0.5311 - accuracy: 0.7162 - val_loss: 0.5536 - val_accuracy: 0.6913\n",
            "Epoch 83/200\n",
            "79/79 [==============================] - 0s 5ms/step - loss: 0.5338 - accuracy: 0.7270 - val_loss: 0.5557 - val_accuracy: 0.7092\n",
            "Epoch 84/200\n",
            "79/79 [==============================] - 0s 5ms/step - loss: 0.5128 - accuracy: 0.7404 - val_loss: 0.5628 - val_accuracy: 0.6811\n",
            "Epoch 85/200\n",
            "79/79 [==============================] - 0s 5ms/step - loss: 0.5149 - accuracy: 0.7481 - val_loss: 0.5566 - val_accuracy: 0.6888\n",
            "Epoch 86/200\n",
            "79/79 [==============================] - 0s 5ms/step - loss: 0.5208 - accuracy: 0.7385 - val_loss: 0.5621 - val_accuracy: 0.6939\n",
            "Epoch 87/200\n",
            "79/79 [==============================] - 1s 8ms/step - loss: 0.5141 - accuracy: 0.7258 - val_loss: 0.5654 - val_accuracy: 0.6862\n",
            "Epoch 88/200\n",
            "79/79 [==============================] - 0s 5ms/step - loss: 0.4972 - accuracy: 0.7423 - val_loss: 0.5774 - val_accuracy: 0.6811\n",
            "Epoch 89/200\n",
            "79/79 [==============================] - 0s 5ms/step - loss: 0.5017 - accuracy: 0.7494 - val_loss: 0.5596 - val_accuracy: 0.6862\n",
            "Epoch 90/200\n",
            "79/79 [==============================] - 0s 5ms/step - loss: 0.5284 - accuracy: 0.7321 - val_loss: 0.5692 - val_accuracy: 0.6837\n",
            "Epoch 91/200\n",
            "79/79 [==============================] - 0s 5ms/step - loss: 0.5101 - accuracy: 0.7526 - val_loss: 0.5550 - val_accuracy: 0.6862\n",
            "Epoch 92/200\n",
            "79/79 [==============================] - 0s 5ms/step - loss: 0.5056 - accuracy: 0.7411 - val_loss: 0.5803 - val_accuracy: 0.6684\n",
            "Epoch 93/200\n",
            "79/79 [==============================] - 0s 5ms/step - loss: 0.5056 - accuracy: 0.7557 - val_loss: 0.5664 - val_accuracy: 0.6811\n",
            "Epoch 94/200\n",
            "79/79 [==============================] - 0s 5ms/step - loss: 0.5009 - accuracy: 0.7468 - val_loss: 0.5455 - val_accuracy: 0.7015\n",
            "Epoch 95/200\n",
            "79/79 [==============================] - 0s 6ms/step - loss: 0.4882 - accuracy: 0.7551 - val_loss: 0.5667 - val_accuracy: 0.6786\n",
            "Epoch 96/200\n",
            "79/79 [==============================] - 0s 5ms/step - loss: 0.5043 - accuracy: 0.7360 - val_loss: 0.5598 - val_accuracy: 0.7066\n",
            "Epoch 97/200\n",
            "79/79 [==============================] - 0s 5ms/step - loss: 0.5068 - accuracy: 0.7519 - val_loss: 0.5414 - val_accuracy: 0.7143\n",
            "Epoch 98/200\n",
            "79/79 [==============================] - 0s 5ms/step - loss: 0.4995 - accuracy: 0.7519 - val_loss: 0.5484 - val_accuracy: 0.7066\n",
            "Epoch 99/200\n",
            "79/79 [==============================] - 0s 5ms/step - loss: 0.4922 - accuracy: 0.7519 - val_loss: 0.5436 - val_accuracy: 0.7194\n",
            "Epoch 100/200\n",
            "79/79 [==============================] - 0s 5ms/step - loss: 0.5184 - accuracy: 0.7455 - val_loss: 0.5567 - val_accuracy: 0.6862\n",
            "Epoch 101/200\n",
            "69/79 [=========================>....] - ETA: 0s - loss: 0.4878 - accuracy: 0.7500\n",
            "Epoch: 100, accuracy:0.7513,  loss:0.4862,  val_accuracy:0.6939,  val_loss:0.5522,  \n",
            "79/79 [==============================] - 0s 5ms/step - loss: 0.4862 - accuracy: 0.7513 - val_loss: 0.5522 - val_accuracy: 0.6939\n",
            "Epoch 102/200\n",
            "79/79 [==============================] - 0s 5ms/step - loss: 0.4976 - accuracy: 0.7532 - val_loss: 0.5499 - val_accuracy: 0.6990\n",
            "Epoch 103/200\n",
            "79/79 [==============================] - 0s 5ms/step - loss: 0.4891 - accuracy: 0.7519 - val_loss: 0.5502 - val_accuracy: 0.6990\n",
            "Epoch 104/200\n",
            "79/79 [==============================] - 0s 5ms/step - loss: 0.4852 - accuracy: 0.7589 - val_loss: 0.5509 - val_accuracy: 0.6913\n",
            "Epoch 105/200\n",
            "79/79 [==============================] - 0s 5ms/step - loss: 0.4873 - accuracy: 0.7691 - val_loss: 0.5551 - val_accuracy: 0.6939\n",
            "Epoch 106/200\n",
            "79/79 [==============================] - 0s 5ms/step - loss: 0.4725 - accuracy: 0.7723 - val_loss: 0.5653 - val_accuracy: 0.6786\n",
            "Epoch 107/200\n",
            "79/79 [==============================] - 0s 5ms/step - loss: 0.4880 - accuracy: 0.7589 - val_loss: 0.5440 - val_accuracy: 0.7117\n",
            "Epoch 108/200\n",
            "79/79 [==============================] - 0s 5ms/step - loss: 0.4903 - accuracy: 0.7589 - val_loss: 0.5459 - val_accuracy: 0.7219\n",
            "Epoch 109/200\n",
            "79/79 [==============================] - 0s 5ms/step - loss: 0.4850 - accuracy: 0.7710 - val_loss: 0.5692 - val_accuracy: 0.6913\n",
            "Epoch 110/200\n",
            "79/79 [==============================] - 0s 5ms/step - loss: 0.4872 - accuracy: 0.7653 - val_loss: 0.5457 - val_accuracy: 0.7066\n",
            "Epoch 111/200\n",
            "79/79 [==============================] - 0s 5ms/step - loss: 0.4815 - accuracy: 0.7710 - val_loss: 0.5501 - val_accuracy: 0.7117\n",
            "Epoch 112/200\n",
            "79/79 [==============================] - 0s 5ms/step - loss: 0.4877 - accuracy: 0.7653 - val_loss: 0.5434 - val_accuracy: 0.7219\n",
            "Epoch 113/200\n",
            "79/79 [==============================] - 0s 5ms/step - loss: 0.4811 - accuracy: 0.7653 - val_loss: 0.5494 - val_accuracy: 0.7066\n",
            "Epoch 114/200\n",
            "79/79 [==============================] - 0s 5ms/step - loss: 0.4886 - accuracy: 0.7621 - val_loss: 0.5541 - val_accuracy: 0.7117\n",
            "Epoch 115/200\n",
            "79/79 [==============================] - 0s 5ms/step - loss: 0.4586 - accuracy: 0.7857 - val_loss: 0.5530 - val_accuracy: 0.7168\n",
            "Epoch 116/200\n",
            "79/79 [==============================] - 0s 5ms/step - loss: 0.4598 - accuracy: 0.7844 - val_loss: 0.5553 - val_accuracy: 0.7143\n",
            "Epoch 117/200\n",
            "79/79 [==============================] - 0s 5ms/step - loss: 0.4913 - accuracy: 0.7551 - val_loss: 0.5553 - val_accuracy: 0.6964\n",
            "Epoch 118/200\n",
            "79/79 [==============================] - 0s 5ms/step - loss: 0.4864 - accuracy: 0.7653 - val_loss: 0.5764 - val_accuracy: 0.7041\n",
            "Epoch 119/200\n",
            "79/79 [==============================] - 0s 5ms/step - loss: 0.4594 - accuracy: 0.7857 - val_loss: 0.5434 - val_accuracy: 0.7041\n",
            "Epoch 120/200\n",
            "79/79 [==============================] - 0s 5ms/step - loss: 0.4744 - accuracy: 0.7685 - val_loss: 0.5486 - val_accuracy: 0.7092\n",
            "Epoch 121/200\n",
            "79/79 [==============================] - 0s 5ms/step - loss: 0.4706 - accuracy: 0.7717 - val_loss: 0.5386 - val_accuracy: 0.7168\n",
            "Epoch 122/200\n",
            "79/79 [==============================] - 0s 5ms/step - loss: 0.4586 - accuracy: 0.7761 - val_loss: 0.5480 - val_accuracy: 0.6990\n",
            "Epoch 123/200\n",
            "79/79 [==============================] - 0s 5ms/step - loss: 0.4809 - accuracy: 0.7621 - val_loss: 0.5463 - val_accuracy: 0.7066\n",
            "Epoch 124/200\n",
            "79/79 [==============================] - 0s 6ms/step - loss: 0.4839 - accuracy: 0.7647 - val_loss: 0.5345 - val_accuracy: 0.7245\n",
            "Epoch 125/200\n",
            "79/79 [==============================] - 0s 5ms/step - loss: 0.4570 - accuracy: 0.7755 - val_loss: 0.5526 - val_accuracy: 0.7066\n",
            "Epoch 126/200\n",
            "79/79 [==============================] - 0s 5ms/step - loss: 0.4667 - accuracy: 0.7755 - val_loss: 0.5410 - val_accuracy: 0.7245\n",
            "Epoch 127/200\n",
            "79/79 [==============================] - 0s 5ms/step - loss: 0.4627 - accuracy: 0.7730 - val_loss: 0.5295 - val_accuracy: 0.7474\n",
            "Epoch 128/200\n",
            "79/79 [==============================] - 0s 5ms/step - loss: 0.4761 - accuracy: 0.7653 - val_loss: 0.5432 - val_accuracy: 0.7296\n",
            "Epoch 129/200\n",
            "79/79 [==============================] - 0s 5ms/step - loss: 0.4782 - accuracy: 0.7717 - val_loss: 0.5357 - val_accuracy: 0.7168\n",
            "Epoch 130/200\n",
            "79/79 [==============================] - 0s 5ms/step - loss: 0.4607 - accuracy: 0.7749 - val_loss: 0.5494 - val_accuracy: 0.7117\n",
            "Epoch 131/200\n",
            "79/79 [==============================] - 0s 5ms/step - loss: 0.4628 - accuracy: 0.7761 - val_loss: 0.5385 - val_accuracy: 0.7041\n",
            "Epoch 132/200\n",
            "79/79 [==============================] - 0s 6ms/step - loss: 0.4501 - accuracy: 0.7991 - val_loss: 0.5466 - val_accuracy: 0.7168\n",
            "Epoch 133/200\n",
            "79/79 [==============================] - 0s 5ms/step - loss: 0.4573 - accuracy: 0.7902 - val_loss: 0.5498 - val_accuracy: 0.7066\n",
            "Epoch 134/200\n",
            "79/79 [==============================] - 0s 5ms/step - loss: 0.4603 - accuracy: 0.7666 - val_loss: 0.5271 - val_accuracy: 0.7347\n",
            "Epoch 135/200\n",
            "79/79 [==============================] - 0s 6ms/step - loss: 0.4462 - accuracy: 0.7959 - val_loss: 0.5514 - val_accuracy: 0.7117\n",
            "Epoch 136/200\n",
            "79/79 [==============================] - 0s 5ms/step - loss: 0.4539 - accuracy: 0.7812 - val_loss: 0.5667 - val_accuracy: 0.7015\n",
            "Epoch 137/200\n",
            "79/79 [==============================] - 0s 5ms/step - loss: 0.4594 - accuracy: 0.7851 - val_loss: 0.5357 - val_accuracy: 0.7296\n",
            "Epoch 138/200\n",
            "79/79 [==============================] - 0s 5ms/step - loss: 0.4471 - accuracy: 0.7857 - val_loss: 0.5569 - val_accuracy: 0.7015\n",
            "Epoch 139/200\n",
            "79/79 [==============================] - 0s 5ms/step - loss: 0.4536 - accuracy: 0.7838 - val_loss: 0.5633 - val_accuracy: 0.6990\n",
            "Epoch 140/200\n",
            "79/79 [==============================] - 0s 5ms/step - loss: 0.4531 - accuracy: 0.7934 - val_loss: 0.5619 - val_accuracy: 0.6990\n",
            "Epoch 141/200\n",
            "79/79 [==============================] - 0s 5ms/step - loss: 0.4627 - accuracy: 0.7781 - val_loss: 0.5548 - val_accuracy: 0.6990\n",
            "Epoch 142/200\n",
            "79/79 [==============================] - 0s 5ms/step - loss: 0.4342 - accuracy: 0.7959 - val_loss: 0.5648 - val_accuracy: 0.6990\n",
            "Epoch 143/200\n",
            "79/79 [==============================] - 0s 6ms/step - loss: 0.4487 - accuracy: 0.7927 - val_loss: 0.5476 - val_accuracy: 0.7015\n",
            "Epoch 144/200\n",
            "79/79 [==============================] - 0s 5ms/step - loss: 0.4281 - accuracy: 0.8004 - val_loss: 0.5271 - val_accuracy: 0.7296\n",
            "Epoch 145/200\n",
            "79/79 [==============================] - 0s 5ms/step - loss: 0.4338 - accuracy: 0.8099 - val_loss: 0.5620 - val_accuracy: 0.6990\n",
            "Epoch 146/200\n",
            "79/79 [==============================] - 0s 6ms/step - loss: 0.4442 - accuracy: 0.7927 - val_loss: 0.5625 - val_accuracy: 0.7041\n",
            "Epoch 147/200\n",
            "79/79 [==============================] - 0s 5ms/step - loss: 0.4242 - accuracy: 0.8074 - val_loss: 0.5583 - val_accuracy: 0.7041\n",
            "Epoch 148/200\n",
            "79/79 [==============================] - 0s 5ms/step - loss: 0.4405 - accuracy: 0.7934 - val_loss: 0.5415 - val_accuracy: 0.7066\n",
            "Epoch 149/200\n",
            "79/79 [==============================] - 0s 5ms/step - loss: 0.4604 - accuracy: 0.7921 - val_loss: 0.5369 - val_accuracy: 0.7219\n",
            "Epoch 150/200\n",
            "79/79 [==============================] - 0s 5ms/step - loss: 0.4565 - accuracy: 0.7876 - val_loss: 0.5234 - val_accuracy: 0.7245\n",
            "Epoch 151/200\n",
            "79/79 [==============================] - 0s 5ms/step - loss: 0.4536 - accuracy: 0.7832 - val_loss: 0.5172 - val_accuracy: 0.7372\n",
            "Epoch 152/200\n",
            "79/79 [==============================] - 0s 5ms/step - loss: 0.4708 - accuracy: 0.7781 - val_loss: 0.5332 - val_accuracy: 0.7168\n",
            "Epoch 153/200\n",
            "79/79 [==============================] - 0s 5ms/step - loss: 0.4237 - accuracy: 0.8029 - val_loss: 0.5388 - val_accuracy: 0.7296\n",
            "Epoch 154/200\n",
            "79/79 [==============================] - 0s 5ms/step - loss: 0.4598 - accuracy: 0.7966 - val_loss: 0.5409 - val_accuracy: 0.7143\n",
            "Epoch 155/200\n",
            "79/79 [==============================] - 0s 5ms/step - loss: 0.4471 - accuracy: 0.7966 - val_loss: 0.5321 - val_accuracy: 0.7347\n",
            "Epoch 156/200\n",
            "79/79 [==============================] - 0s 5ms/step - loss: 0.4346 - accuracy: 0.8017 - val_loss: 0.5339 - val_accuracy: 0.7092\n",
            "Epoch 157/200\n",
            "79/79 [==============================] - 0s 6ms/step - loss: 0.4491 - accuracy: 0.7870 - val_loss: 0.5586 - val_accuracy: 0.7015\n",
            "Epoch 158/200\n",
            "79/79 [==============================] - 0s 5ms/step - loss: 0.4458 - accuracy: 0.7959 - val_loss: 0.5282 - val_accuracy: 0.7270\n",
            "Epoch 159/200\n",
            "79/79 [==============================] - 0s 5ms/step - loss: 0.4518 - accuracy: 0.7870 - val_loss: 0.5136 - val_accuracy: 0.7398\n",
            "Epoch 160/200\n",
            "79/79 [==============================] - 0s 5ms/step - loss: 0.4391 - accuracy: 0.7978 - val_loss: 0.5106 - val_accuracy: 0.7423\n",
            "Epoch 161/200\n",
            "79/79 [==============================] - 0s 5ms/step - loss: 0.4342 - accuracy: 0.7972 - val_loss: 0.5296 - val_accuracy: 0.7143\n",
            "Epoch 162/200\n",
            "79/79 [==============================] - 0s 5ms/step - loss: 0.4490 - accuracy: 0.7934 - val_loss: 0.5128 - val_accuracy: 0.7270\n",
            "Epoch 163/200\n",
            "79/79 [==============================] - 0s 5ms/step - loss: 0.4306 - accuracy: 0.8017 - val_loss: 0.5218 - val_accuracy: 0.7270\n",
            "Epoch 164/200\n",
            "79/79 [==============================] - 0s 6ms/step - loss: 0.4148 - accuracy: 0.8112 - val_loss: 0.5361 - val_accuracy: 0.7194\n",
            "Epoch 165/200\n",
            "79/79 [==============================] - 0s 5ms/step - loss: 0.4376 - accuracy: 0.8029 - val_loss: 0.5250 - val_accuracy: 0.7321\n",
            "Epoch 166/200\n",
            "79/79 [==============================] - 0s 5ms/step - loss: 0.4428 - accuracy: 0.8055 - val_loss: 0.5491 - val_accuracy: 0.7041\n",
            "Epoch 167/200\n",
            "79/79 [==============================] - 0s 6ms/step - loss: 0.4376 - accuracy: 0.7997 - val_loss: 0.5080 - val_accuracy: 0.7449\n",
            "Epoch 168/200\n",
            "79/79 [==============================] - 0s 6ms/step - loss: 0.4230 - accuracy: 0.8087 - val_loss: 0.5160 - val_accuracy: 0.7296\n",
            "Epoch 169/200\n",
            "79/79 [==============================] - 0s 5ms/step - loss: 0.4418 - accuracy: 0.8036 - val_loss: 0.4965 - val_accuracy: 0.7474\n",
            "Epoch 170/200\n",
            "79/79 [==============================] - 0s 5ms/step - loss: 0.4118 - accuracy: 0.8233 - val_loss: 0.5207 - val_accuracy: 0.7474\n",
            "Epoch 171/200\n",
            "79/79 [==============================] - 0s 5ms/step - loss: 0.4738 - accuracy: 0.7876 - val_loss: 0.5190 - val_accuracy: 0.7347\n",
            "Epoch 172/200\n",
            "79/79 [==============================] - 0s 5ms/step - loss: 0.4439 - accuracy: 0.7946 - val_loss: 0.5087 - val_accuracy: 0.7423\n",
            "Epoch 173/200\n",
            "79/79 [==============================] - 0s 5ms/step - loss: 0.4367 - accuracy: 0.8023 - val_loss: 0.4956 - val_accuracy: 0.7474\n",
            "Epoch 174/200\n",
            "79/79 [==============================] - 0s 5ms/step - loss: 0.4467 - accuracy: 0.7985 - val_loss: 0.5194 - val_accuracy: 0.7296\n",
            "Epoch 175/200\n",
            "79/79 [==============================] - 0s 5ms/step - loss: 0.4157 - accuracy: 0.8119 - val_loss: 0.5212 - val_accuracy: 0.7372\n",
            "Epoch 176/200\n",
            "79/79 [==============================] - 0s 5ms/step - loss: 0.4355 - accuracy: 0.8010 - val_loss: 0.5073 - val_accuracy: 0.7449\n",
            "Epoch 177/200\n",
            "79/79 [==============================] - 0s 5ms/step - loss: 0.4190 - accuracy: 0.8106 - val_loss: 0.5126 - val_accuracy: 0.7474\n",
            "Epoch 178/200\n",
            "79/79 [==============================] - 0s 5ms/step - loss: 0.4242 - accuracy: 0.8048 - val_loss: 0.5418 - val_accuracy: 0.7372\n",
            "Epoch 179/200\n",
            "79/79 [==============================] - 0s 5ms/step - loss: 0.4326 - accuracy: 0.7985 - val_loss: 0.5079 - val_accuracy: 0.7449\n",
            "Epoch 180/200\n",
            "79/79 [==============================] - 0s 5ms/step - loss: 0.4504 - accuracy: 0.7966 - val_loss: 0.5098 - val_accuracy: 0.7526\n",
            "Epoch 181/200\n",
            "79/79 [==============================] - 0s 5ms/step - loss: 0.4327 - accuracy: 0.8112 - val_loss: 0.5297 - val_accuracy: 0.7347\n",
            "Epoch 182/200\n",
            "79/79 [==============================] - 0s 5ms/step - loss: 0.3959 - accuracy: 0.8214 - val_loss: 0.5257 - val_accuracy: 0.7398\n",
            "Epoch 183/200\n",
            "79/79 [==============================] - 0s 5ms/step - loss: 0.4184 - accuracy: 0.8061 - val_loss: 0.5068 - val_accuracy: 0.7577\n",
            "Epoch 184/200\n",
            "79/79 [==============================] - 0s 5ms/step - loss: 0.4325 - accuracy: 0.8080 - val_loss: 0.5334 - val_accuracy: 0.7245\n",
            "Epoch 185/200\n",
            "79/79 [==============================] - 0s 5ms/step - loss: 0.4123 - accuracy: 0.8151 - val_loss: 0.5324 - val_accuracy: 0.7270\n",
            "Epoch 186/200\n",
            "79/79 [==============================] - 0s 5ms/step - loss: 0.4232 - accuracy: 0.8119 - val_loss: 0.5297 - val_accuracy: 0.7449\n",
            "Epoch 187/200\n",
            "79/79 [==============================] - 0s 5ms/step - loss: 0.4290 - accuracy: 0.8080 - val_loss: 0.5411 - val_accuracy: 0.7245\n",
            "Epoch 188/200\n",
            "79/79 [==============================] - 0s 5ms/step - loss: 0.4060 - accuracy: 0.8125 - val_loss: 0.5307 - val_accuracy: 0.7194\n",
            "Epoch 189/200\n",
            "79/79 [==============================] - 0s 5ms/step - loss: 0.4166 - accuracy: 0.8068 - val_loss: 0.5224 - val_accuracy: 0.7423\n",
            "Epoch 190/200\n",
            "79/79 [==============================] - 0s 5ms/step - loss: 0.4331 - accuracy: 0.8029 - val_loss: 0.5386 - val_accuracy: 0.7117\n",
            "Epoch 191/200\n",
            "79/79 [==============================] - 0s 5ms/step - loss: 0.4385 - accuracy: 0.8036 - val_loss: 0.5093 - val_accuracy: 0.7449\n",
            "Epoch 192/200\n",
            "79/79 [==============================] - 0s 5ms/step - loss: 0.4076 - accuracy: 0.8157 - val_loss: 0.5394 - val_accuracy: 0.7245\n",
            "Epoch 193/200\n",
            "79/79 [==============================] - 0s 6ms/step - loss: 0.4028 - accuracy: 0.8221 - val_loss: 0.5186 - val_accuracy: 0.7653\n",
            "Epoch 194/200\n",
            "79/79 [==============================] - 0s 5ms/step - loss: 0.4065 - accuracy: 0.8246 - val_loss: 0.5122 - val_accuracy: 0.7551\n",
            "Epoch 195/200\n",
            "79/79 [==============================] - 0s 5ms/step - loss: 0.3868 - accuracy: 0.8233 - val_loss: 0.5358 - val_accuracy: 0.7526\n",
            "Epoch 196/200\n",
            "79/79 [==============================] - 0s 5ms/step - loss: 0.4248 - accuracy: 0.8182 - val_loss: 0.5247 - val_accuracy: 0.7398\n",
            "Epoch 197/200\n",
            "79/79 [==============================] - 0s 5ms/step - loss: 0.4173 - accuracy: 0.8106 - val_loss: 0.5027 - val_accuracy: 0.7423\n",
            "Epoch 198/200\n",
            "79/79 [==============================] - 0s 5ms/step - loss: 0.4019 - accuracy: 0.8278 - val_loss: 0.5021 - val_accuracy: 0.7577\n",
            "Epoch 199/200\n",
            "79/79 [==============================] - 0s 5ms/step - loss: 0.4257 - accuracy: 0.8106 - val_loss: 0.5195 - val_accuracy: 0.7245\n",
            "Epoch 200/200\n",
            "79/79 [==============================] - 0s 6ms/step - loss: 0.4070 - accuracy: 0.8202 - val_loss: 0.5208 - val_accuracy: 0.7270\n"
          ],
          "name": "stdout"
        }
      ]
    },
    {
      "cell_type": "code",
      "metadata": {
        "id": "ODHW1NAOqNcK",
        "colab_type": "code",
        "colab": {
          "base_uri": "https://localhost:8080/",
          "height": 206
        },
        "outputId": "9c6f4821-e53a-47d1-af6b-b5439c283531"
      },
      "source": [
        "hist = pd.DataFrame(history.history)\n",
        "hist['epoch'] = history.epoch\n",
        "hist.tail()"
      ],
      "execution_count": 435,
      "outputs": [
        {
          "output_type": "execute_result",
          "data": {
            "text/html": [
              "<div>\n",
              "<style scoped>\n",
              "    .dataframe tbody tr th:only-of-type {\n",
              "        vertical-align: middle;\n",
              "    }\n",
              "\n",
              "    .dataframe tbody tr th {\n",
              "        vertical-align: top;\n",
              "    }\n",
              "\n",
              "    .dataframe thead th {\n",
              "        text-align: right;\n",
              "    }\n",
              "</style>\n",
              "<table border=\"1\" class=\"dataframe\">\n",
              "  <thead>\n",
              "    <tr style=\"text-align: right;\">\n",
              "      <th></th>\n",
              "      <th>loss</th>\n",
              "      <th>accuracy</th>\n",
              "      <th>val_loss</th>\n",
              "      <th>val_accuracy</th>\n",
              "      <th>epoch</th>\n",
              "    </tr>\n",
              "  </thead>\n",
              "  <tbody>\n",
              "    <tr>\n",
              "      <th>195</th>\n",
              "      <td>0.424770</td>\n",
              "      <td>0.818240</td>\n",
              "      <td>0.524710</td>\n",
              "      <td>0.739796</td>\n",
              "      <td>195</td>\n",
              "    </tr>\n",
              "    <tr>\n",
              "      <th>196</th>\n",
              "      <td>0.417335</td>\n",
              "      <td>0.810587</td>\n",
              "      <td>0.502734</td>\n",
              "      <td>0.742347</td>\n",
              "      <td>196</td>\n",
              "    </tr>\n",
              "    <tr>\n",
              "      <th>197</th>\n",
              "      <td>0.401870</td>\n",
              "      <td>0.827806</td>\n",
              "      <td>0.502133</td>\n",
              "      <td>0.757653</td>\n",
              "      <td>197</td>\n",
              "    </tr>\n",
              "    <tr>\n",
              "      <th>198</th>\n",
              "      <td>0.425718</td>\n",
              "      <td>0.810587</td>\n",
              "      <td>0.519460</td>\n",
              "      <td>0.724490</td>\n",
              "      <td>198</td>\n",
              "    </tr>\n",
              "    <tr>\n",
              "      <th>199</th>\n",
              "      <td>0.406986</td>\n",
              "      <td>0.820153</td>\n",
              "      <td>0.520789</td>\n",
              "      <td>0.727041</td>\n",
              "      <td>199</td>\n",
              "    </tr>\n",
              "  </tbody>\n",
              "</table>\n",
              "</div>"
            ],
            "text/plain": [
              "         loss  accuracy  val_loss  val_accuracy  epoch\n",
              "195  0.424770  0.818240  0.524710      0.739796    195\n",
              "196  0.417335  0.810587  0.502734      0.742347    196\n",
              "197  0.401870  0.827806  0.502133      0.757653    197\n",
              "198  0.425718  0.810587  0.519460      0.724490    198\n",
              "199  0.406986  0.820153  0.520789      0.727041    199"
            ]
          },
          "metadata": {
            "tags": []
          },
          "execution_count": 435
        }
      ]
    },
    {
      "cell_type": "code",
      "metadata": {
        "id": "Q3-cFZIRrMKd",
        "colab_type": "code",
        "colab": {
          "base_uri": "https://localhost:8080/",
          "height": 362
        },
        "outputId": "087da15a-dcf0-45ad-a004-e38605180bf8"
      },
      "source": [
        "import matplotlib.pyplot as plt\n",
        "\n",
        "hist=history.history\n",
        "\n",
        "fig=plt.figure(figsize=(12,5))\n",
        "ax=fig.add_subplot(1,2,1)\n",
        "ax.plot(hist['loss'],lw=3)\n",
        "ax.plot(hist['val_loss'],lw=3)\n",
        "ax.set_title('Training & Validation Loss',size=15)\n",
        "ax.set_xlabel('Epoch',size=15)\n",
        "ax.tick_params(axis='both',which='major',labelsize=15)\n",
        "ax=fig.add_subplot(1,2,2)\n",
        "ax.plot(hist['accuracy'],lw=3)\n",
        "ax.plot(hist['val_accuracy'],lw=3)\n",
        "ax.set_title('Training & Validation accuracy',size=15)\n",
        "ax.set_xlabel('Epoch',size=15)\n",
        "ax.tick_params(axis='both',which='major',labelsize=15)\n",
        "plt.show()\n",
        "\n",
        "\n"
      ],
      "execution_count": 436,
      "outputs": [
        {
          "output_type": "display_data",
          "data": {
            "image/png": "[encoded data removed]",
            "text/plain": [
              "<Figure size 864x360 with 2 Axes>"
            ]
          },
          "metadata": {
            "tags": [],
            "needs_background": "light"
          }
        }
      ]
    },
    {
      "cell_type": "code",
      "metadata": {
        "id": "eOahIbKW6AMf",
        "colab_type": "code",
        "colab": {
          "base_uri": "https://localhost:8080/",
          "height": 366
        },
        "outputId": "ff45ce41-f959-4582-ea8d-95d45665fdb6"
      },
      "source": [
        "!pip install shap"
      ],
      "execution_count": 32,
      "outputs": [
        {
          "output_type": "stream",
          "text": [
            "Collecting shap\n",
            "\u001b[?25l  Downloading https://files.pythonhosted.org/packages/a8/77/b504e43e21a2ba543a1ac4696718beb500cfa708af2fb57cb54ce299045c/shap-0.35.0.tar.gz (273kB)\n",
            "\r\u001b[K     |█▏                              | 10kB 21.7MB/s eta 0:00:01\r\u001b[K     |██▍                             | 20kB 1.7MB/s eta 0:00:01\r\u001b[K     |███▋                            | 30kB 2.2MB/s eta 0:00:01\r\u001b[K     |████▉                           | 40kB 2.5MB/s eta 0:00:01\r\u001b[K     |██████                          | 51kB 2.0MB/s eta 0:00:01\r\u001b[K     |███████▏                        | 61kB 2.3MB/s eta 0:00:01\r\u001b[K     |████████▍                       | 71kB 2.5MB/s eta 0:00:01\r\u001b[K     |█████████▋                      | 81kB 2.7MB/s eta 0:00:01\r\u001b[K     |██████████▉                     | 92kB 2.9MB/s eta 0:00:01\r\u001b[K     |████████████                    | 102kB 2.8MB/s eta 0:00:01\r\u001b[K     |█████████████▏                  | 112kB 2.8MB/s eta 0:00:01\r\u001b[K     |██████████████▍                 | 122kB 2.8MB/s eta 0:00:01\r\u001b[K     |███████████████▋                | 133kB 2.8MB/s eta 0:00:01\r\u001b[K     |████████████████▉               | 143kB 2.8MB/s eta 0:00:01\r\u001b[K     |██████████████████              | 153kB 2.8MB/s eta 0:00:01\r\u001b[K     |███████████████████▏            | 163kB 2.8MB/s eta 0:00:01\r\u001b[K     |████████████████████▍           | 174kB 2.8MB/s eta 0:00:01\r\u001b[K     |█████████████████████▋          | 184kB 2.8MB/s eta 0:00:01\r\u001b[K     |██████████████████████▉         | 194kB 2.8MB/s eta 0:00:01\r\u001b[K     |████████████████████████        | 204kB 2.8MB/s eta 0:00:01\r\u001b[K     |█████████████████████████▏      | 215kB 2.8MB/s eta 0:00:01\r\u001b[K     |██████████████████████████▍     | 225kB 2.8MB/s eta 0:00:01\r\u001b[K     |███████████████████████████▋    | 235kB 2.8MB/s eta 0:00:01\r\u001b[K     |████████████████████████████▉   | 245kB 2.8MB/s eta 0:00:01\r\u001b[K     |██████████████████████████████  | 256kB 2.8MB/s eta 0:00:01\r\u001b[K     |███████████████████████████████▏| 266kB 2.8MB/s eta 0:00:01\r\u001b[K     |████████████████████████████████| 276kB 2.8MB/s \n",
            "\u001b[?25hRequirement already satisfied: numpy in /usr/local/lib/python3.6/dist-packages (from shap) (1.18.5)\n",
            "Requirement already satisfied: scipy in /usr/local/lib/python3.6/dist-packages (from shap) (1.4.1)\n",
            "Requirement already satisfied: scikit-learn in /usr/local/lib/python3.6/dist-packages (from shap) (0.22.2.post1)\n",
            "Requirement already satisfied: pandas in /usr/local/lib/python3.6/dist-packages (from shap) (1.0.5)\n",
            "Requirement already satisfied: tqdm>4.25.0 in /usr/local/lib/python3.6/dist-packages (from shap) (4.41.1)\n",
            "Requirement already satisfied: joblib>=0.11 in /usr/local/lib/python3.6/dist-packages (from scikit-learn->shap) (0.15.1)\n",
            "Requirement already satisfied: pytz>=2017.2 in /usr/local/lib/python3.6/dist-packages (from pandas->shap) (2018.9)\n",
            "Requirement already satisfied: python-dateutil>=2.6.1 in /usr/local/lib/python3.6/dist-packages (from pandas->shap) (2.8.1)\n",
            "Requirement already satisfied: six>=1.5 in /usr/local/lib/python3.6/dist-packages (from python-dateutil>=2.6.1->pandas->shap) (1.12.0)\n",
            "Building wheels for collected packages: shap\n",
            "  Building wheel for shap (setup.py) ... \u001b[?25l\u001b[?25hdone\n",
            "  Created wheel for shap: filename=shap-0.35.0-cp36-cp36m-linux_x86_64.whl size=394130 sha256=fa7a3695c4152743202e7de8bd95b7d76cec14ad3ea03f3ef255b7369251cec7\n",
            "  Stored in directory: /root/.cache/pip/wheels/e7/f7/0f/b57055080cf8894906b3bd3616d2fc2bfd0b12d5161bcb24ac\n",
            "Successfully built shap\n",
            "Installing collected packages: shap\n",
            "Successfully installed shap-0.35.0\n"
          ],
          "name": "stdout"
        }
      ]
    },
    {
      "cell_type": "code",
      "metadata": {
        "id": "368Jn0vJ6KwX",
        "colab_type": "code",
        "colab": {}
      },
      "source": [
        "import shap\n",
        "\n",
        "explainer = shap.DeepExplainer(model, np.array(X_train_new))"
      ],
      "execution_count": 437,
      "outputs": []
    },
    {
      "cell_type": "code",
      "metadata": {
        "id": "u9u_3boZEVPn",
        "colab_type": "code",
        "colab": {}
      },
      "source": [
        "shap_values  = explainer.shap_values(np.array(X_test_new))"
      ],
      "execution_count": 438,
      "outputs": []
    },
    {
      "cell_type": "code",
      "metadata": {
        "id": "A5xcKTYcExMZ",
        "colab_type": "code",
        "colab": {
          "base_uri": "https://localhost:8080/",
          "height": 585
        },
        "outputId": "77c15d40-620d-4c6f-c821-611dfc6ebdb5"
      },
      "source": [
        "shap.summary_plot(shap_values[1], X_test_new)"
      ],
      "execution_count": 439,
      "outputs": [
        {
          "output_type": "display_data",
          "data": {
            "image/png": "[encoded data removed]",
            "text/plain": [
              "<Figure size 576x684 with 2 Axes>"
            ]
          },
          "metadata": {
            "tags": [],
            "needs_background": "light"
          }
        }
      ]
    },
    {
      "cell_type": "code",
      "metadata": {
        "id": "1e2NoPn2Oump",
        "colab_type": "code",
        "colab": {
          "base_uri": "https://localhost:8080/",
          "height": 415
        },
        "outputId": "bd2f8e15-f267-45d5-9a31-1403dbd0b6fe"
      },
      "source": [
        "pred=model.predict(X_test_new)\n",
        "pred.argmax(axis=1)"
      ],
      "execution_count": 440,
      "outputs": [
        {
          "output_type": "execute_result",
          "data": {
            "text/plain": [
              "array([0, 0, 0, 1, 1, 0, 0, 0, 0, 0, 0, 0, 1, 1, 1, 1, 0, 1, 1, 1, 1, 1,\n",
              "       1, 1, 1, 1, 1, 1, 1, 1, 1, 1, 1, 1, 1, 1, 1, 1, 1, 1, 0, 0, 0, 0,\n",
              "       0, 1, 0, 0, 0, 0, 0, 0, 0, 1, 0, 0, 0, 0, 0, 0, 0, 1, 0, 1, 0, 0,\n",
              "       0, 0, 0, 1, 0, 0, 0, 0, 0, 0, 0, 0, 1, 0, 0, 1, 0, 1, 0, 0, 1, 1,\n",
              "       1, 1, 1, 1, 1, 1, 1, 0, 0, 0, 0, 0, 1, 1, 1, 1, 1, 1, 1, 1, 0, 0,\n",
              "       0, 0, 0, 0, 1, 0, 0, 0, 1, 1, 1, 1, 1, 0, 0, 1, 1, 0, 0, 0, 0, 1,\n",
              "       1, 1, 1, 1, 0, 1, 1, 1, 1, 1, 1, 1, 1, 1, 0, 0, 0, 0, 0, 0, 0, 0,\n",
              "       0, 1, 1, 1, 0, 0, 0, 0, 0, 0, 0, 1, 0, 0, 1, 1, 0, 0, 0, 1, 1, 0,\n",
              "       0, 0, 0, 1, 0, 0, 0, 0, 0, 1, 0, 0, 0, 1, 0, 0, 1, 0, 1, 1, 1, 0,\n",
              "       1, 1, 0, 1, 0, 0, 0, 0, 1, 1, 0, 0, 1, 1, 1, 1, 1, 1, 0, 0, 0, 0,\n",
              "       0, 0, 1, 0, 0, 0, 0, 0, 0, 0, 1, 1, 0, 1, 1, 0, 0, 0, 0, 0, 0, 0,\n",
              "       1, 1, 1, 0, 0, 0, 0, 0, 0, 0, 0, 0, 1, 1, 1, 1, 1, 1, 1, 1, 0, 0,\n",
              "       1, 1, 1, 1, 1, 0, 1, 1, 1, 1, 1, 1, 1, 1, 1, 1, 1, 1, 0, 0, 0, 0,\n",
              "       0, 0, 0, 1, 1, 1, 1, 1, 1, 0, 0, 0, 0, 0, 0, 0, 0, 0, 0, 0, 0, 0,\n",
              "       0, 0, 0, 0, 0, 0, 1, 1, 0, 0, 1, 0, 0, 0, 0, 0, 0, 0, 0, 0, 0, 0,\n",
              "       0, 1, 1, 1, 1, 1, 1, 0, 0, 0, 0, 0, 0, 0, 0, 0, 0, 1, 0, 1, 1, 1,\n",
              "       1, 1, 1, 0, 0, 0, 0, 1, 1, 1, 1, 0, 1, 1, 1, 1, 1, 1, 0, 0, 1, 1,\n",
              "       1, 1, 1, 1, 0, 0, 0, 0, 0, 0, 0, 1, 0, 0, 1, 1, 0, 0, 0, 0, 0, 0,\n",
              "       0, 1, 0, 0, 0, 0, 0, 1, 1, 0, 0, 0, 1, 0, 0, 0, 0, 1, 0, 1, 1, 1,\n",
              "       0, 0, 0, 0, 0, 0, 1, 0, 0, 0, 0, 1, 1, 1, 1, 1, 1, 1, 1, 0, 1, 0,\n",
              "       0, 0, 0, 0, 0, 0, 0, 0, 0, 0, 0, 0, 0, 0, 0, 0, 0, 1, 1, 1, 1, 1,\n",
              "       1, 1, 1, 1, 0, 1, 1, 1, 1, 1, 1, 1, 1, 1, 1, 0, 0, 0, 0, 0, 0, 0,\n",
              "       0, 0, 0, 0, 0, 1])"
            ]
          },
          "metadata": {
            "tags": []
          },
          "execution_count": 440
        }
      ]
    },
    {
      "cell_type": "code",
      "metadata": {
        "id": "5t5o4NldebYo",
        "colab_type": "code",
        "colab": {}
      },
      "source": [
        "from sklearn.metrics import classification_report, confusion_matrix\n",
        "\n",
        "cm=confusion_matrix(test_labels, pred.argmax(axis=1))"
      ],
      "execution_count": 441,
      "outputs": []
    },
    {
      "cell_type": "code",
      "metadata": {
        "id": "E2N0EkwSkbPS",
        "colab_type": "code",
        "colab": {
          "base_uri": "https://localhost:8080/",
          "height": 215
        },
        "outputId": "496bc51c-176a-4eb4-e0a4-c89e389fd6a1"
      },
      "source": [
        "print('Confusion Matrix')\n",
        "fig,ax = plt.subplots(figsize=(2.5,2.5))\n",
        "ax.matshow(cm,cmap=plt.cm.Blues,alpha=0.3)\n",
        "for i in range(cm.shape[0]):\n",
        "  for j in range(cm.shape[1]):\n",
        "    ax.text(x=j,y=i,\n",
        "            s=cm[i,j],\n",
        "            va='center',ha='center')\n",
        "plt.xlabel('Predicted Label')\n",
        "plt.ylabel('True Label')\n",
        "plt.show()\n",
        "\n"
      ],
      "execution_count": 442,
      "outputs": [
        {
          "output_type": "stream",
          "text": [
            "Confusion Matrix\n"
          ],
          "name": "stdout"
        },
        {
          "output_type": "display_data",
          "data": {
            "image/png": "[encoded data removed]",
            "text/plain": [
              "<Figure size 180x180 with 1 Axes>"
            ]
          },
          "metadata": {
            "tags": [],
            "needs_background": "light"
          }
        }
      ]
    },
    {
      "cell_type": "code",
      "metadata": {
        "id": "BqloAWv8pioM",
        "colab_type": "code",
        "colab": {
          "base_uri": "https://localhost:8080/",
          "height": 69
        },
        "outputId": "5a5a851a-1512-428b-ab2c-53dea5b95711"
      },
      "source": [
        "from sklearn.metrics import precision_score\n",
        "from sklearn.metrics import recall_score, f1_score\n",
        "\n",
        "print('Precision: %.3f' % precision_score(y_true=test_labels,y_pred=pred.argmax(axis=1)))\n",
        "\n",
        "print('Recall: %.3f' % recall_score(y_true=test_labels,y_pred=pred.argmax(axis=1)))\n",
        "\n",
        "print('F1: %.3f' % f1_score(y_true=test_labels,y_pred=pred.argmax(axis=1)))"
      ],
      "execution_count": 443,
      "outputs": [
        {
          "output_type": "stream",
          "text": [
            "Precision: 0.869\n",
            "Recall: 0.679\n",
            "F1: 0.762\n"
          ],
          "name": "stdout"
        }
      ]
    },
    {
      "cell_type": "code",
      "metadata": {
        "id": "f6Kbg7ee6Ddc",
        "colab_type": "code",
        "colab": {}
      },
      "source": [
        "from sklearn.pipeline import Pipeline\n",
        "from sklearn.feature_selection import SelectKBest, chi2\n",
        "import xgboost as xgb\n",
        "from sklearn.model_selection import KFold, GridSearchCV\n",
        "from sklearn.metrics import accuracy_score, make_scorer"
      ],
      "execution_count": 444,
      "outputs": []
    },
    {
      "cell_type": "code",
      "metadata": {
        "id": "t3dxaKoa6HzT",
        "colab_type": "code",
        "colab": {}
      },
      "source": [
        "pipe = Pipeline([\n",
        "  ('fs', SelectKBest()),\n",
        "  ('clf', xgb.XGBClassifier(objective='binary:logistic'))\n",
        "])"
      ],
      "execution_count": 445,
      "outputs": []
    },
    {
      "cell_type": "code",
      "metadata": {
        "id": "YYasVbi56P_Q",
        "colab_type": "code",
        "colab": {}
      },
      "source": [
        "search_space = [\n",
        "  {\n",
        "    'clf__n_estimators': [200],\n",
        "    'clf__learning_rate': [0.05, 0.5, 0.1],\n",
        "    'clf__max_depth': range(3, 10),\n",
        "    'clf__colsample_bytree': [i/10.0 for i in range(1, 3)],\n",
        "    'clf__gamma': [i/10.0 for i in range(3)],\n",
        "    'fs__score_func': [mutual_info_classif,f_classif],\n",
        "    'fs__k': [30,40],\n",
        "  }\n",
        "]"
      ],
      "execution_count": 446,
      "outputs": []
    },
    {
      "cell_type": "code",
      "metadata": {
        "id": "MyjNXlvW7k0f",
        "colab_type": "code",
        "colab": {}
      },
      "source": [
        "kfold = KFold(n_splits=4, shuffle=True, random_state=42)"
      ],
      "execution_count": 447,
      "outputs": []
    },
    {
      "cell_type": "code",
      "metadata": {
        "id": "ytjrsKU77sQB",
        "colab_type": "code",
        "colab": {}
      },
      "source": [
        "scoring = {'AUC':'roc_auc', 'Accuracy':make_scorer(accuracy_score)}"
      ],
      "execution_count": 448,
      "outputs": []
    },
    {
      "cell_type": "code",
      "metadata": {
        "id": "VrXsHFmn7wML",
        "colab_type": "code",
        "colab": {}
      },
      "source": [
        "grid = GridSearchCV(\n",
        "  pipe,\n",
        "  param_grid=search_space,\n",
        "  cv=kfold,\n",
        "  scoring=scoring,\n",
        "  refit='AUC',\n",
        "  verbose=1,\n",
        "  n_jobs=-1\n",
        ")"
      ],
      "execution_count": 449,
      "outputs": []
    },
    {
      "cell_type": "code",
      "metadata": {
        "id": "Shvo5yEg7303",
        "colab_type": "code",
        "colab": {
          "base_uri": "https://localhost:8080/",
          "height": 173
        },
        "outputId": "9717efb7-5551-4b68-a534-3580706ac24f"
      },
      "source": [
        "model = grid.fit(normed_train_data, train_labels)"
      ],
      "execution_count": 450,
      "outputs": [
        {
          "output_type": "stream",
          "text": [
            "Fitting 4 folds for each of 504 candidates, totalling 2016 fits\n"
          ],
          "name": "stdout"
        },
        {
          "output_type": "stream",
          "text": [
            "[Parallel(n_jobs=-1)]: Using backend LokyBackend with 2 concurrent workers.\n",
            "[Parallel(n_jobs=-1)]: Done  46 tasks      | elapsed:   24.9s\n",
            "[Parallel(n_jobs=-1)]: Done 196 tasks      | elapsed:  1.8min\n",
            "[Parallel(n_jobs=-1)]: Done 446 tasks      | elapsed:  4.2min\n",
            "[Parallel(n_jobs=-1)]: Done 796 tasks      | elapsed:  7.4min\n",
            "[Parallel(n_jobs=-1)]: Done 1246 tasks      | elapsed: 11.8min\n",
            "[Parallel(n_jobs=-1)]: Done 1796 tasks      | elapsed: 17.7min\n",
            "[Parallel(n_jobs=-1)]: Done 2016 out of 2016 | elapsed: 20.0min finished\n"
          ],
          "name": "stderr"
        }
      ]
    },
    {
      "cell_type": "code",
      "metadata": {
        "id": "S0MwiyBuOL-z",
        "colab_type": "code",
        "colab": {}
      },
      "source": [
        "import pickle\n",
        "\n",
        "# Dictionary of best parameters\n",
        "best_pars = grid.best_params_\n",
        "# Best XGB model that was found based on the metric score you specify\n",
        "best_model = grid.best_estimator_\n",
        "# Save model\n",
        "pickle.dump(grid.best_estimator_, open('gdrive/My Drive/SS_AITrader/'+stock+'/xgb_'+stock+'_log_reg.pickle', \"wb\"))"
      ],
      "execution_count": 451,
      "outputs": []
    },
    {
      "cell_type": "code",
      "metadata": {
        "id": "lYPYB1GQRn44",
        "colab_type": "code",
        "colab": {
          "base_uri": "https://localhost:8080/",
          "height": 51
        },
        "outputId": "47b02a19-1fb6-44f9-c1ba-fc96d5622df7"
      },
      "source": [
        "predict = model.predict(normed_test_data)\n",
        "print('Best AUC Score: {}'.format(model.best_score_))\n",
        "print('Accuracy: {}'.format(accuracy_score(test_labels, predict)))\n",
        "cm=confusion_matrix(test_labels,predict)"
      ],
      "execution_count": 452,
      "outputs": [
        {
          "output_type": "stream",
          "text": [
            "Best AUC Score: 0.9064932269501688\n",
            "Accuracy: 0.826530612244898\n"
          ],
          "name": "stdout"
        }
      ]
    },
    {
      "cell_type": "code",
      "metadata": {
        "id": "_F-aB0lqS1dx",
        "colab_type": "code",
        "colab": {
          "base_uri": "https://localhost:8080/",
          "height": 215
        },
        "outputId": "a0970aaf-6def-45d8-cb71-a5076f2f0487"
      },
      "source": [
        "print('Confusion Matrix')\n",
        "fig,ax = plt.subplots(figsize=(2.5,2.5))\n",
        "ax.matshow(cm,cmap=plt.cm.Blues,alpha=0.3)\n",
        "for i in range(cm.shape[0]):\n",
        "  for j in range(cm.shape[1]):\n",
        "    ax.text(x=j,y=i,\n",
        "            s=cm[i,j],\n",
        "            va='center',ha='center')\n",
        "plt.xlabel('Predicted Label')\n",
        "plt.ylabel('True Label')\n",
        "plt.show()"
      ],
      "execution_count": 453,
      "outputs": [
        {
          "output_type": "stream",
          "text": [
            "Confusion Matrix\n"
          ],
          "name": "stdout"
        },
        {
          "output_type": "display_data",
          "data": {
            "image/png": "[encoded data removed]",
            "text/plain": [
              "<Figure size 180x180 with 1 Axes>"
            ]
          },
          "metadata": {
            "tags": [],
            "needs_background": "light"
          }
        }
      ]
    },
    {
      "cell_type": "code",
      "metadata": {
        "id": "DNgkOrW_TPMl",
        "colab_type": "code",
        "colab": {
          "base_uri": "https://localhost:8080/",
          "height": 54
        },
        "outputId": "8881ffe8-6c2f-40c0-da37-00645f894267"
      },
      "source": [
        "print(model.best_params_)"
      ],
      "execution_count": 454,
      "outputs": [
        {
          "output_type": "stream",
          "text": [
            "{'clf__colsample_bytree': 0.2, 'clf__gamma': 0.1, 'clf__learning_rate': 0.1, 'clf__max_depth': 9, 'clf__n_estimators': 200, 'fs__k': 40, 'fs__score_func': <function mutual_info_classif at 0x7f9d435a61e0>}\n"
          ],
          "name": "stdout"
        }
      ]
    },
    {
      "cell_type": "code",
      "metadata": {
        "id": "9S0pNSHq8lEE",
        "colab_type": "code",
        "colab": {}
      },
      "source": [
        "k=40\n",
        "select_k_best = SelectKBest(mutual_info_classif, k=k)\n",
        "select_k_best.fit(normed_train_data, train_labels)\n",
        "selected_features_mic = itemgetter(*select_k_best.get_support(indices=True))(list_features)\n",
        "\n",
        "list_features = list(normed_train_data.columns)\n",
        "feat_idx = []\n",
        "for c in selected_features_mic:\n",
        "      feat_idx.append(list_features.index(c))\n",
        "\n",
        "feat_idx = sorted(feat_idx)\n",
        "X_train_new=normed_train_data.iloc[:, feat_idx]\n",
        "X_test_new=normed_test_data.iloc[:, feat_idx]\n",
        "\n",
        "\n"
      ],
      "execution_count": 455,
      "outputs": []
    },
    {
      "cell_type": "code",
      "metadata": {
        "id": "g5_E1028Tx0Q",
        "colab_type": "code",
        "colab": {
          "base_uri": "https://localhost:8080/",
          "height": 1000
        },
        "outputId": "67c1f1be-d76a-4b45-c8fa-cc6c0a1779ae"
      },
      "source": [
        "model_opt = xgb.XGBClassifier(max_depth=9,\n",
        "                        objective='binary:logistic',\n",
        "                        n_estimators=200,\n",
        "                        learning_rate = 0.1,\n",
        "                        colsample_bytree= 0.2,\n",
        "                        gamma= 0.1)\n",
        "eval_set = [(X_train_new, train_labels), (X_test_new, test_labels)]\n",
        "model_opt.fit(X_train_new, train_labels, early_stopping_rounds=15, eval_metric=[\"error\", \"logloss\"], eval_set=eval_set, verbose=True)"
      ],
      "execution_count": 456,
      "outputs": [
        {
          "output_type": "stream",
          "text": [
            "[0]\tvalidation_0-error:0.263775\tvalidation_0-logloss:0.665437\tvalidation_1-error:0.444898\tvalidation_1-logloss:0.684962\n",
            "Multiple eval metrics have been passed: 'validation_1-logloss' will be used for early stopping.\n",
            "\n",
            "Will train until validation_1-logloss hasn't improved in 15 rounds.\n",
            "[1]\tvalidation_0-error:0.220408\tvalidation_0-logloss:0.645777\tvalidation_1-error:0.406122\tvalidation_1-logloss:0.678383\n",
            "[2]\tvalidation_0-error:0.168367\tvalidation_0-logloss:0.622259\tvalidation_1-error:0.404082\tvalidation_1-logloss:0.671451\n",
            "[3]\tvalidation_0-error:0.156633\tvalidation_0-logloss:0.606577\tvalidation_1-error:0.393878\tvalidation_1-logloss:0.665787\n",
            "[4]\tvalidation_0-error:0.144898\tvalidation_0-logloss:0.587274\tvalidation_1-error:0.373469\tvalidation_1-logloss:0.655825\n",
            "[5]\tvalidation_0-error:0.116327\tvalidation_0-logloss:0.566592\tvalidation_1-error:0.35102\tvalidation_1-logloss:0.645679\n",
            "[6]\tvalidation_0-error:0.107653\tvalidation_0-logloss:0.555681\tvalidation_1-error:0.34898\tvalidation_1-logloss:0.642958\n",
            "[7]\tvalidation_0-error:0.077041\tvalidation_0-logloss:0.531537\tvalidation_1-error:0.318367\tvalidation_1-logloss:0.626201\n",
            "[8]\tvalidation_0-error:0.067347\tvalidation_0-logloss:0.510443\tvalidation_1-error:0.285714\tvalidation_1-logloss:0.61628\n",
            "[9]\tvalidation_0-error:0.064796\tvalidation_0-logloss:0.495548\tvalidation_1-error:0.283673\tvalidation_1-logloss:0.608421\n",
            "[10]\tvalidation_0-error:0.057143\tvalidation_0-logloss:0.479361\tvalidation_1-error:0.289796\tvalidation_1-logloss:0.602876\n",
            "[11]\tvalidation_0-error:0.052551\tvalidation_0-logloss:0.462545\tvalidation_1-error:0.285714\tvalidation_1-logloss:0.591485\n",
            "[12]\tvalidation_0-error:0.035204\tvalidation_0-logloss:0.436694\tvalidation_1-error:0.236735\tvalidation_1-logloss:0.571065\n",
            "[13]\tvalidation_0-error:0.035204\tvalidation_0-logloss:0.422334\tvalidation_1-error:0.24898\tvalidation_1-logloss:0.571393\n",
            "[14]\tvalidation_0-error:0.031122\tvalidation_0-logloss:0.406861\tvalidation_1-error:0.240816\tvalidation_1-logloss:0.566714\n",
            "[15]\tvalidation_0-error:0.02551\tvalidation_0-logloss:0.394471\tvalidation_1-error:0.244898\tvalidation_1-logloss:0.560669\n",
            "[16]\tvalidation_0-error:0.029082\tvalidation_0-logloss:0.384827\tvalidation_1-error:0.244898\tvalidation_1-logloss:0.555767\n",
            "[17]\tvalidation_0-error:0.027551\tvalidation_0-logloss:0.380401\tvalidation_1-error:0.244898\tvalidation_1-logloss:0.55486\n",
            "[18]\tvalidation_0-error:0.02449\tvalidation_0-logloss:0.367503\tvalidation_1-error:0.246939\tvalidation_1-logloss:0.549417\n",
            "[19]\tvalidation_0-error:0.02398\tvalidation_0-logloss:0.354315\tvalidation_1-error:0.234694\tvalidation_1-logloss:0.539581\n",
            "[20]\tvalidation_0-error:0.021939\tvalidation_0-logloss:0.347148\tvalidation_1-error:0.228571\tvalidation_1-logloss:0.537461\n",
            "[21]\tvalidation_0-error:0.014796\tvalidation_0-logloss:0.334179\tvalidation_1-error:0.220408\tvalidation_1-logloss:0.530315\n",
            "[22]\tvalidation_0-error:0.014286\tvalidation_0-logloss:0.32828\tvalidation_1-error:0.222449\tvalidation_1-logloss:0.528818\n",
            "[23]\tvalidation_0-error:0.011224\tvalidation_0-logloss:0.320798\tvalidation_1-error:0.230612\tvalidation_1-logloss:0.528511\n",
            "[24]\tvalidation_0-error:0.011735\tvalidation_0-logloss:0.317228\tvalidation_1-error:0.238776\tvalidation_1-logloss:0.529554\n",
            "[25]\tvalidation_0-error:0.013265\tvalidation_0-logloss:0.311905\tvalidation_1-error:0.222449\tvalidation_1-logloss:0.52689\n",
            "[26]\tvalidation_0-error:0.013265\tvalidation_0-logloss:0.305864\tvalidation_1-error:0.226531\tvalidation_1-logloss:0.524921\n",
            "[27]\tvalidation_0-error:0.011735\tvalidation_0-logloss:0.299071\tvalidation_1-error:0.222449\tvalidation_1-logloss:0.522581\n",
            "[28]\tvalidation_0-error:0.007143\tvalidation_0-logloss:0.290148\tvalidation_1-error:0.218367\tvalidation_1-logloss:0.518789\n",
            "[29]\tvalidation_0-error:0.007143\tvalidation_0-logloss:0.281367\tvalidation_1-error:0.222449\tvalidation_1-logloss:0.514941\n",
            "[30]\tvalidation_0-error:0.006633\tvalidation_0-logloss:0.272718\tvalidation_1-error:0.216327\tvalidation_1-logloss:0.509922\n",
            "[31]\tvalidation_0-error:0.004082\tvalidation_0-logloss:0.262294\tvalidation_1-error:0.210204\tvalidation_1-logloss:0.503502\n",
            "[32]\tvalidation_0-error:0.004592\tvalidation_0-logloss:0.251889\tvalidation_1-error:0.220408\tvalidation_1-logloss:0.495441\n",
            "[33]\tvalidation_0-error:0.004082\tvalidation_0-logloss:0.245379\tvalidation_1-error:0.214286\tvalidation_1-logloss:0.489538\n",
            "[34]\tvalidation_0-error:0.003061\tvalidation_0-logloss:0.239074\tvalidation_1-error:0.214286\tvalidation_1-logloss:0.487643\n",
            "[35]\tvalidation_0-error:0.003061\tvalidation_0-logloss:0.233505\tvalidation_1-error:0.214286\tvalidation_1-logloss:0.486881\n",
            "[36]\tvalidation_0-error:0.002041\tvalidation_0-logloss:0.22981\tvalidation_1-error:0.216327\tvalidation_1-logloss:0.486692\n",
            "[37]\tvalidation_0-error:0.002041\tvalidation_0-logloss:0.224433\tvalidation_1-error:0.214286\tvalidation_1-logloss:0.483417\n",
            "[38]\tvalidation_0-error:0.001531\tvalidation_0-logloss:0.219293\tvalidation_1-error:0.214286\tvalidation_1-logloss:0.480982\n",
            "[39]\tvalidation_0-error:0.001531\tvalidation_0-logloss:0.214785\tvalidation_1-error:0.220408\tvalidation_1-logloss:0.479722\n",
            "[40]\tvalidation_0-error:0.00102\tvalidation_0-logloss:0.210261\tvalidation_1-error:0.218367\tvalidation_1-logloss:0.479529\n",
            "[41]\tvalidation_0-error:0.00102\tvalidation_0-logloss:0.205218\tvalidation_1-error:0.210204\tvalidation_1-logloss:0.478108\n",
            "[42]\tvalidation_0-error:0.00102\tvalidation_0-logloss:0.202728\tvalidation_1-error:0.214286\tvalidation_1-logloss:0.47805\n",
            "[43]\tvalidation_0-error:0.00102\tvalidation_0-logloss:0.198836\tvalidation_1-error:0.208163\tvalidation_1-logloss:0.476751\n",
            "[44]\tvalidation_0-error:0.00102\tvalidation_0-logloss:0.196102\tvalidation_1-error:0.208163\tvalidation_1-logloss:0.476567\n",
            "[45]\tvalidation_0-error:0.00102\tvalidation_0-logloss:0.190839\tvalidation_1-error:0.208163\tvalidation_1-logloss:0.473717\n",
            "[46]\tvalidation_0-error:0.00051\tvalidation_0-logloss:0.187253\tvalidation_1-error:0.206122\tvalidation_1-logloss:0.472404\n",
            "[47]\tvalidation_0-error:0.00051\tvalidation_0-logloss:0.184452\tvalidation_1-error:0.2\tvalidation_1-logloss:0.47015\n",
            "[48]\tvalidation_0-error:0.00051\tvalidation_0-logloss:0.180195\tvalidation_1-error:0.193878\tvalidation_1-logloss:0.467228\n",
            "[49]\tvalidation_0-error:0.00051\tvalidation_0-logloss:0.176559\tvalidation_1-error:0.187755\tvalidation_1-logloss:0.466169\n",
            "[50]\tvalidation_0-error:0\tvalidation_0-logloss:0.172172\tvalidation_1-error:0.191837\tvalidation_1-logloss:0.465641\n",
            "[51]\tvalidation_0-error:0\tvalidation_0-logloss:0.169932\tvalidation_1-error:0.191837\tvalidation_1-logloss:0.464024\n",
            "[52]\tvalidation_0-error:0\tvalidation_0-logloss:0.167526\tvalidation_1-error:0.2\tvalidation_1-logloss:0.463031\n",
            "[53]\tvalidation_0-error:0\tvalidation_0-logloss:0.162445\tvalidation_1-error:0.191837\tvalidation_1-logloss:0.460249\n",
            "[54]\tvalidation_0-error:0\tvalidation_0-logloss:0.160796\tvalidation_1-error:0.195918\tvalidation_1-logloss:0.461695\n",
            "[55]\tvalidation_0-error:0\tvalidation_0-logloss:0.156193\tvalidation_1-error:0.197959\tvalidation_1-logloss:0.457366\n",
            "[56]\tvalidation_0-error:0\tvalidation_0-logloss:0.151379\tvalidation_1-error:0.195918\tvalidation_1-logloss:0.454855\n",
            "[57]\tvalidation_0-error:0\tvalidation_0-logloss:0.147423\tvalidation_1-error:0.191837\tvalidation_1-logloss:0.453279\n",
            "[58]\tvalidation_0-error:0\tvalidation_0-logloss:0.145931\tvalidation_1-error:0.193878\tvalidation_1-logloss:0.454013\n",
            "[59]\tvalidation_0-error:0\tvalidation_0-logloss:0.143106\tvalidation_1-error:0.195918\tvalidation_1-logloss:0.454554\n",
            "[60]\tvalidation_0-error:0\tvalidation_0-logloss:0.13921\tvalidation_1-error:0.189796\tvalidation_1-logloss:0.45142\n",
            "[61]\tvalidation_0-error:0\tvalidation_0-logloss:0.136541\tvalidation_1-error:0.183673\tvalidation_1-logloss:0.449102\n",
            "[62]\tvalidation_0-error:0\tvalidation_0-logloss:0.134669\tvalidation_1-error:0.185714\tvalidation_1-logloss:0.448107\n",
            "[63]\tvalidation_0-error:0\tvalidation_0-logloss:0.132725\tvalidation_1-error:0.179592\tvalidation_1-logloss:0.447753\n",
            "[64]\tvalidation_0-error:0\tvalidation_0-logloss:0.131618\tvalidation_1-error:0.181633\tvalidation_1-logloss:0.447838\n",
            "[65]\tvalidation_0-error:0\tvalidation_0-logloss:0.129613\tvalidation_1-error:0.177551\tvalidation_1-logloss:0.447688\n",
            "[66]\tvalidation_0-error:0\tvalidation_0-logloss:0.127966\tvalidation_1-error:0.185714\tvalidation_1-logloss:0.447837\n",
            "[67]\tvalidation_0-error:0\tvalidation_0-logloss:0.126089\tvalidation_1-error:0.179592\tvalidation_1-logloss:0.446825\n",
            "[68]\tvalidation_0-error:0\tvalidation_0-logloss:0.123512\tvalidation_1-error:0.179592\tvalidation_1-logloss:0.444158\n",
            "[69]\tvalidation_0-error:0\tvalidation_0-logloss:0.12259\tvalidation_1-error:0.179592\tvalidation_1-logloss:0.44421\n",
            "[70]\tvalidation_0-error:0\tvalidation_0-logloss:0.120258\tvalidation_1-error:0.177551\tvalidation_1-logloss:0.442703\n",
            "[71]\tvalidation_0-error:0\tvalidation_0-logloss:0.118541\tvalidation_1-error:0.179592\tvalidation_1-logloss:0.441956\n",
            "[72]\tvalidation_0-error:0\tvalidation_0-logloss:0.117126\tvalidation_1-error:0.181633\tvalidation_1-logloss:0.440912\n",
            "[73]\tvalidation_0-error:0\tvalidation_0-logloss:0.113397\tvalidation_1-error:0.171429\tvalidation_1-logloss:0.436876\n",
            "[74]\tvalidation_0-error:0\tvalidation_0-logloss:0.112379\tvalidation_1-error:0.173469\tvalidation_1-logloss:0.437097\n",
            "[75]\tvalidation_0-error:0\tvalidation_0-logloss:0.110289\tvalidation_1-error:0.177551\tvalidation_1-logloss:0.433764\n",
            "[76]\tvalidation_0-error:0\tvalidation_0-logloss:0.108722\tvalidation_1-error:0.17551\tvalidation_1-logloss:0.434152\n",
            "[77]\tvalidation_0-error:0\tvalidation_0-logloss:0.107845\tvalidation_1-error:0.177551\tvalidation_1-logloss:0.434985\n",
            "[78]\tvalidation_0-error:0\tvalidation_0-logloss:0.106303\tvalidation_1-error:0.179592\tvalidation_1-logloss:0.434012\n",
            "[79]\tvalidation_0-error:0\tvalidation_0-logloss:0.105515\tvalidation_1-error:0.179592\tvalidation_1-logloss:0.434785\n",
            "[80]\tvalidation_0-error:0\tvalidation_0-logloss:0.103127\tvalidation_1-error:0.177551\tvalidation_1-logloss:0.432694\n",
            "[81]\tvalidation_0-error:0\tvalidation_0-logloss:0.101042\tvalidation_1-error:0.177551\tvalidation_1-logloss:0.431811\n",
            "[82]\tvalidation_0-error:0\tvalidation_0-logloss:0.098741\tvalidation_1-error:0.17551\tvalidation_1-logloss:0.430492\n",
            "[83]\tvalidation_0-error:0\tvalidation_0-logloss:0.096024\tvalidation_1-error:0.179592\tvalidation_1-logloss:0.42781\n",
            "[84]\tvalidation_0-error:0\tvalidation_0-logloss:0.095343\tvalidation_1-error:0.177551\tvalidation_1-logloss:0.427778\n",
            "[85]\tvalidation_0-error:0\tvalidation_0-logloss:0.094768\tvalidation_1-error:0.17551\tvalidation_1-logloss:0.427478\n",
            "[86]\tvalidation_0-error:0\tvalidation_0-logloss:0.093863\tvalidation_1-error:0.177551\tvalidation_1-logloss:0.426362\n",
            "[87]\tvalidation_0-error:0\tvalidation_0-logloss:0.093082\tvalidation_1-error:0.179592\tvalidation_1-logloss:0.426921\n",
            "[88]\tvalidation_0-error:0\tvalidation_0-logloss:0.091506\tvalidation_1-error:0.17551\tvalidation_1-logloss:0.426157\n",
            "[89]\tvalidation_0-error:0\tvalidation_0-logloss:0.09011\tvalidation_1-error:0.181633\tvalidation_1-logloss:0.425561\n",
            "[90]\tvalidation_0-error:0\tvalidation_0-logloss:0.089254\tvalidation_1-error:0.181633\tvalidation_1-logloss:0.426228\n",
            "[91]\tvalidation_0-error:0\tvalidation_0-logloss:0.087908\tvalidation_1-error:0.179592\tvalidation_1-logloss:0.425048\n",
            "[92]\tvalidation_0-error:0\tvalidation_0-logloss:0.087237\tvalidation_1-error:0.177551\tvalidation_1-logloss:0.425504\n",
            "[93]\tvalidation_0-error:0\tvalidation_0-logloss:0.086254\tvalidation_1-error:0.177551\tvalidation_1-logloss:0.426641\n",
            "[94]\tvalidation_0-error:0\tvalidation_0-logloss:0.084643\tvalidation_1-error:0.17551\tvalidation_1-logloss:0.425367\n",
            "[95]\tvalidation_0-error:0\tvalidation_0-logloss:0.083371\tvalidation_1-error:0.171429\tvalidation_1-logloss:0.426628\n",
            "[96]\tvalidation_0-error:0\tvalidation_0-logloss:0.081036\tvalidation_1-error:0.177551\tvalidation_1-logloss:0.424159\n",
            "[97]\tvalidation_0-error:0\tvalidation_0-logloss:0.080233\tvalidation_1-error:0.17551\tvalidation_1-logloss:0.422979\n",
            "[98]\tvalidation_0-error:0\tvalidation_0-logloss:0.079192\tvalidation_1-error:0.173469\tvalidation_1-logloss:0.421432\n",
            "[99]\tvalidation_0-error:0\tvalidation_0-logloss:0.078029\tvalidation_1-error:0.177551\tvalidation_1-logloss:0.421226\n",
            "[100]\tvalidation_0-error:0\tvalidation_0-logloss:0.07663\tvalidation_1-error:0.181633\tvalidation_1-logloss:0.421631\n",
            "[101]\tvalidation_0-error:0\tvalidation_0-logloss:0.07514\tvalidation_1-error:0.17551\tvalidation_1-logloss:0.421115\n",
            "[102]\tvalidation_0-error:0\tvalidation_0-logloss:0.074284\tvalidation_1-error:0.17551\tvalidation_1-logloss:0.421362\n",
            "[103]\tvalidation_0-error:0\tvalidation_0-logloss:0.073304\tvalidation_1-error:0.173469\tvalidation_1-logloss:0.422146\n",
            "[104]\tvalidation_0-error:0\tvalidation_0-logloss:0.072236\tvalidation_1-error:0.17551\tvalidation_1-logloss:0.421263\n",
            "[105]\tvalidation_0-error:0\tvalidation_0-logloss:0.071805\tvalidation_1-error:0.17551\tvalidation_1-logloss:0.421959\n",
            "[106]\tvalidation_0-error:0\tvalidation_0-logloss:0.071232\tvalidation_1-error:0.173469\tvalidation_1-logloss:0.422938\n",
            "[107]\tvalidation_0-error:0\tvalidation_0-logloss:0.070397\tvalidation_1-error:0.17551\tvalidation_1-logloss:0.422958\n",
            "[108]\tvalidation_0-error:0\tvalidation_0-logloss:0.069506\tvalidation_1-error:0.171429\tvalidation_1-logloss:0.421547\n",
            "[109]\tvalidation_0-error:0\tvalidation_0-logloss:0.068649\tvalidation_1-error:0.171429\tvalidation_1-logloss:0.420549\n",
            "[110]\tvalidation_0-error:0\tvalidation_0-logloss:0.067652\tvalidation_1-error:0.171429\tvalidation_1-logloss:0.420456\n",
            "[111]\tvalidation_0-error:0\tvalidation_0-logloss:0.066811\tvalidation_1-error:0.171429\tvalidation_1-logloss:0.419762\n",
            "[112]\tvalidation_0-error:0\tvalidation_0-logloss:0.06581\tvalidation_1-error:0.169388\tvalidation_1-logloss:0.418858\n",
            "[113]\tvalidation_0-error:0\tvalidation_0-logloss:0.065164\tvalidation_1-error:0.169388\tvalidation_1-logloss:0.419026\n",
            "[114]\tvalidation_0-error:0\tvalidation_0-logloss:0.064471\tvalidation_1-error:0.171429\tvalidation_1-logloss:0.419041\n",
            "[115]\tvalidation_0-error:0\tvalidation_0-logloss:0.063918\tvalidation_1-error:0.169388\tvalidation_1-logloss:0.420211\n",
            "[116]\tvalidation_0-error:0\tvalidation_0-logloss:0.063504\tvalidation_1-error:0.169388\tvalidation_1-logloss:0.420141\n",
            "[117]\tvalidation_0-error:0\tvalidation_0-logloss:0.062751\tvalidation_1-error:0.173469\tvalidation_1-logloss:0.420596\n",
            "[118]\tvalidation_0-error:0\tvalidation_0-logloss:0.061939\tvalidation_1-error:0.171429\tvalidation_1-logloss:0.420521\n",
            "[119]\tvalidation_0-error:0\tvalidation_0-logloss:0.061652\tvalidation_1-error:0.173469\tvalidation_1-logloss:0.420381\n",
            "[120]\tvalidation_0-error:0\tvalidation_0-logloss:0.06064\tvalidation_1-error:0.171429\tvalidation_1-logloss:0.419561\n",
            "[121]\tvalidation_0-error:0\tvalidation_0-logloss:0.059945\tvalidation_1-error:0.171429\tvalidation_1-logloss:0.420174\n",
            "[122]\tvalidation_0-error:0\tvalidation_0-logloss:0.059065\tvalidation_1-error:0.171429\tvalidation_1-logloss:0.419829\n",
            "[123]\tvalidation_0-error:0\tvalidation_0-logloss:0.058316\tvalidation_1-error:0.167347\tvalidation_1-logloss:0.419055\n",
            "[124]\tvalidation_0-error:0\tvalidation_0-logloss:0.057539\tvalidation_1-error:0.169388\tvalidation_1-logloss:0.418293\n",
            "[125]\tvalidation_0-error:0\tvalidation_0-logloss:0.057031\tvalidation_1-error:0.173469\tvalidation_1-logloss:0.417952\n",
            "[126]\tvalidation_0-error:0\tvalidation_0-logloss:0.056442\tvalidation_1-error:0.167347\tvalidation_1-logloss:0.416781\n",
            "[127]\tvalidation_0-error:0\tvalidation_0-logloss:0.055964\tvalidation_1-error:0.169388\tvalidation_1-logloss:0.416851\n",
            "[128]\tvalidation_0-error:0\tvalidation_0-logloss:0.055617\tvalidation_1-error:0.167347\tvalidation_1-logloss:0.416845\n",
            "[129]\tvalidation_0-error:0\tvalidation_0-logloss:0.055142\tvalidation_1-error:0.167347\tvalidation_1-logloss:0.417058\n",
            "[130]\tvalidation_0-error:0\tvalidation_0-logloss:0.054667\tvalidation_1-error:0.167347\tvalidation_1-logloss:0.417124\n",
            "[131]\tvalidation_0-error:0\tvalidation_0-logloss:0.054172\tvalidation_1-error:0.169388\tvalidation_1-logloss:0.416661\n",
            "[132]\tvalidation_0-error:0\tvalidation_0-logloss:0.053728\tvalidation_1-error:0.171429\tvalidation_1-logloss:0.416778\n",
            "[133]\tvalidation_0-error:0\tvalidation_0-logloss:0.053359\tvalidation_1-error:0.173469\tvalidation_1-logloss:0.417008\n",
            "[134]\tvalidation_0-error:0\tvalidation_0-logloss:0.052592\tvalidation_1-error:0.171429\tvalidation_1-logloss:0.415786\n",
            "[135]\tvalidation_0-error:0\tvalidation_0-logloss:0.051466\tvalidation_1-error:0.169388\tvalidation_1-logloss:0.413845\n",
            "[136]\tvalidation_0-error:0\tvalidation_0-logloss:0.050831\tvalidation_1-error:0.169388\tvalidation_1-logloss:0.413501\n",
            "[137]\tvalidation_0-error:0\tvalidation_0-logloss:0.050464\tvalidation_1-error:0.171429\tvalidation_1-logloss:0.413637\n",
            "[138]\tvalidation_0-error:0\tvalidation_0-logloss:0.050216\tvalidation_1-error:0.17551\tvalidation_1-logloss:0.413957\n",
            "[139]\tvalidation_0-error:0\tvalidation_0-logloss:0.049485\tvalidation_1-error:0.17551\tvalidation_1-logloss:0.413044\n",
            "[140]\tvalidation_0-error:0\tvalidation_0-logloss:0.048942\tvalidation_1-error:0.17551\tvalidation_1-logloss:0.413711\n",
            "[141]\tvalidation_0-error:0\tvalidation_0-logloss:0.048562\tvalidation_1-error:0.173469\tvalidation_1-logloss:0.413668\n",
            "[142]\tvalidation_0-error:0\tvalidation_0-logloss:0.048094\tvalidation_1-error:0.173469\tvalidation_1-logloss:0.413586\n",
            "[143]\tvalidation_0-error:0\tvalidation_0-logloss:0.047261\tvalidation_1-error:0.17551\tvalidation_1-logloss:0.411062\n",
            "[144]\tvalidation_0-error:0\tvalidation_0-logloss:0.046675\tvalidation_1-error:0.17551\tvalidation_1-logloss:0.410468\n",
            "[145]\tvalidation_0-error:0\tvalidation_0-logloss:0.046239\tvalidation_1-error:0.177551\tvalidation_1-logloss:0.410767\n",
            "[146]\tvalidation_0-error:0\tvalidation_0-logloss:0.04595\tvalidation_1-error:0.179592\tvalidation_1-logloss:0.411095\n",
            "[147]\tvalidation_0-error:0\tvalidation_0-logloss:0.045528\tvalidation_1-error:0.181633\tvalidation_1-logloss:0.411535\n",
            "[148]\tvalidation_0-error:0\tvalidation_0-logloss:0.044933\tvalidation_1-error:0.179592\tvalidation_1-logloss:0.411455\n",
            "[149]\tvalidation_0-error:0\tvalidation_0-logloss:0.044381\tvalidation_1-error:0.179592\tvalidation_1-logloss:0.410562\n",
            "[150]\tvalidation_0-error:0\tvalidation_0-logloss:0.044007\tvalidation_1-error:0.181633\tvalidation_1-logloss:0.410511\n",
            "[151]\tvalidation_0-error:0\tvalidation_0-logloss:0.043475\tvalidation_1-error:0.17551\tvalidation_1-logloss:0.40955\n",
            "[152]\tvalidation_0-error:0\tvalidation_0-logloss:0.043155\tvalidation_1-error:0.17551\tvalidation_1-logloss:0.409828\n",
            "[153]\tvalidation_0-error:0\tvalidation_0-logloss:0.042564\tvalidation_1-error:0.17551\tvalidation_1-logloss:0.408934\n",
            "[154]\tvalidation_0-error:0\tvalidation_0-logloss:0.042211\tvalidation_1-error:0.17551\tvalidation_1-logloss:0.408714\n",
            "[155]\tvalidation_0-error:0\tvalidation_0-logloss:0.041729\tvalidation_1-error:0.171429\tvalidation_1-logloss:0.408467\n",
            "[156]\tvalidation_0-error:0\tvalidation_0-logloss:0.041607\tvalidation_1-error:0.171429\tvalidation_1-logloss:0.40858\n",
            "[157]\tvalidation_0-error:0\tvalidation_0-logloss:0.041295\tvalidation_1-error:0.173469\tvalidation_1-logloss:0.408898\n",
            "[158]\tvalidation_0-error:0\tvalidation_0-logloss:0.040928\tvalidation_1-error:0.17551\tvalidation_1-logloss:0.408678\n",
            "[159]\tvalidation_0-error:0\tvalidation_0-logloss:0.040531\tvalidation_1-error:0.17551\tvalidation_1-logloss:0.408257\n",
            "[160]\tvalidation_0-error:0\tvalidation_0-logloss:0.040123\tvalidation_1-error:0.17551\tvalidation_1-logloss:0.406971\n",
            "[161]\tvalidation_0-error:0\tvalidation_0-logloss:0.039742\tvalidation_1-error:0.17551\tvalidation_1-logloss:0.407658\n",
            "[162]\tvalidation_0-error:0\tvalidation_0-logloss:0.039499\tvalidation_1-error:0.177551\tvalidation_1-logloss:0.40811\n",
            "[163]\tvalidation_0-error:0\tvalidation_0-logloss:0.039094\tvalidation_1-error:0.17551\tvalidation_1-logloss:0.40777\n",
            "[164]\tvalidation_0-error:0\tvalidation_0-logloss:0.038932\tvalidation_1-error:0.17551\tvalidation_1-logloss:0.407823\n",
            "[165]\tvalidation_0-error:0\tvalidation_0-logloss:0.038535\tvalidation_1-error:0.173469\tvalidation_1-logloss:0.406212\n",
            "[166]\tvalidation_0-error:0\tvalidation_0-logloss:0.038064\tvalidation_1-error:0.171429\tvalidation_1-logloss:0.406046\n",
            "[167]\tvalidation_0-error:0\tvalidation_0-logloss:0.037615\tvalidation_1-error:0.171429\tvalidation_1-logloss:0.405503\n",
            "[168]\tvalidation_0-error:0\tvalidation_0-logloss:0.0373\tvalidation_1-error:0.169388\tvalidation_1-logloss:0.405494\n",
            "[169]\tvalidation_0-error:0\tvalidation_0-logloss:0.036957\tvalidation_1-error:0.167347\tvalidation_1-logloss:0.404851\n",
            "[170]\tvalidation_0-error:0\tvalidation_0-logloss:0.036616\tvalidation_1-error:0.167347\tvalidation_1-logloss:0.404869\n",
            "[171]\tvalidation_0-error:0\tvalidation_0-logloss:0.036274\tvalidation_1-error:0.167347\tvalidation_1-logloss:0.404522\n",
            "[172]\tvalidation_0-error:0\tvalidation_0-logloss:0.035908\tvalidation_1-error:0.169388\tvalidation_1-logloss:0.404901\n",
            "[173]\tvalidation_0-error:0\tvalidation_0-logloss:0.03555\tvalidation_1-error:0.167347\tvalidation_1-logloss:0.403546\n",
            "[174]\tvalidation_0-error:0\tvalidation_0-logloss:0.035321\tvalidation_1-error:0.167347\tvalidation_1-logloss:0.403285\n",
            "[175]\tvalidation_0-error:0\tvalidation_0-logloss:0.035059\tvalidation_1-error:0.167347\tvalidation_1-logloss:0.403868\n",
            "[176]\tvalidation_0-error:0\tvalidation_0-logloss:0.034859\tvalidation_1-error:0.167347\tvalidation_1-logloss:0.403151\n",
            "[177]\tvalidation_0-error:0\tvalidation_0-logloss:0.034706\tvalidation_1-error:0.167347\tvalidation_1-logloss:0.403224\n",
            "[178]\tvalidation_0-error:0\tvalidation_0-logloss:0.034561\tvalidation_1-error:0.169388\tvalidation_1-logloss:0.403596\n",
            "[179]\tvalidation_0-error:0\tvalidation_0-logloss:0.034338\tvalidation_1-error:0.171429\tvalidation_1-logloss:0.403703\n",
            "[180]\tvalidation_0-error:0\tvalidation_0-logloss:0.034127\tvalidation_1-error:0.171429\tvalidation_1-logloss:0.403273\n",
            "[181]\tvalidation_0-error:0\tvalidation_0-logloss:0.033984\tvalidation_1-error:0.171429\tvalidation_1-logloss:0.40366\n",
            "[182]\tvalidation_0-error:0\tvalidation_0-logloss:0.033577\tvalidation_1-error:0.171429\tvalidation_1-logloss:0.40245\n",
            "[183]\tvalidation_0-error:0\tvalidation_0-logloss:0.033148\tvalidation_1-error:0.171429\tvalidation_1-logloss:0.401281\n",
            "[184]\tvalidation_0-error:0\tvalidation_0-logloss:0.032965\tvalidation_1-error:0.171429\tvalidation_1-logloss:0.401765\n",
            "[185]\tvalidation_0-error:0\tvalidation_0-logloss:0.032717\tvalidation_1-error:0.171429\tvalidation_1-logloss:0.401613\n",
            "[186]\tvalidation_0-error:0\tvalidation_0-logloss:0.032493\tvalidation_1-error:0.171429\tvalidation_1-logloss:0.4019\n",
            "[187]\tvalidation_0-error:0\tvalidation_0-logloss:0.032271\tvalidation_1-error:0.171429\tvalidation_1-logloss:0.401683\n",
            "[188]\tvalidation_0-error:0\tvalidation_0-logloss:0.031856\tvalidation_1-error:0.171429\tvalidation_1-logloss:0.400144\n",
            "[189]\tvalidation_0-error:0\tvalidation_0-logloss:0.031645\tvalidation_1-error:0.171429\tvalidation_1-logloss:0.399955\n",
            "[190]\tvalidation_0-error:0\tvalidation_0-logloss:0.031378\tvalidation_1-error:0.165306\tvalidation_1-logloss:0.399822\n",
            "[191]\tvalidation_0-error:0\tvalidation_0-logloss:0.031197\tvalidation_1-error:0.165306\tvalidation_1-logloss:0.399891\n",
            "[192]\tvalidation_0-error:0\tvalidation_0-logloss:0.030976\tvalidation_1-error:0.163265\tvalidation_1-logloss:0.399839\n",
            "[193]\tvalidation_0-error:0\tvalidation_0-logloss:0.030837\tvalidation_1-error:0.163265\tvalidation_1-logloss:0.399972\n",
            "[194]\tvalidation_0-error:0\tvalidation_0-logloss:0.030563\tvalidation_1-error:0.163265\tvalidation_1-logloss:0.398899\n",
            "[195]\tvalidation_0-error:0\tvalidation_0-logloss:0.030345\tvalidation_1-error:0.161224\tvalidation_1-logloss:0.398458\n",
            "[196]\tvalidation_0-error:0\tvalidation_0-logloss:0.030229\tvalidation_1-error:0.161224\tvalidation_1-logloss:0.399069\n",
            "[197]\tvalidation_0-error:0\tvalidation_0-logloss:0.030049\tvalidation_1-error:0.163265\tvalidation_1-logloss:0.399506\n",
            "[198]\tvalidation_0-error:0\tvalidation_0-logloss:0.029766\tvalidation_1-error:0.161224\tvalidation_1-logloss:0.399478\n",
            "[199]\tvalidation_0-error:0\tvalidation_0-logloss:0.029579\tvalidation_1-error:0.161224\tvalidation_1-logloss:0.399297\n"
          ],
          "name": "stdout"
        },
        {
          "output_type": "execute_result",
          "data": {
            "text/plain": [
              "XGBClassifier(base_score=0.5, booster='gbtree', colsample_bylevel=1,\n",
              "              colsample_bynode=1, colsample_bytree=0.2, gamma=0.1,\n",
              "              learning_rate=0.1, max_delta_step=0, max_depth=9,\n",
              "              min_child_weight=1, missing=None, n_estimators=200, n_jobs=1,\n",
              "              nthread=None, objective='binary:logistic', random_state=0,\n",
              "              reg_alpha=0, reg_lambda=1, scale_pos_weight=1, seed=None,\n",
              "              silent=None, subsample=1, verbosity=1)"
            ]
          },
          "metadata": {
            "tags": []
          },
          "execution_count": 456
        }
      ]
    },
    {
      "cell_type": "code",
      "metadata": {
        "id": "QSaYf0OGYnBq",
        "colab_type": "code",
        "colab": {
          "base_uri": "https://localhost:8080/",
          "height": 34
        },
        "outputId": "3180daa3-ffd4-4c04-93e2-34b872412725"
      },
      "source": [
        "\n",
        "# make predictions for test data\n",
        "y_pred = model_opt.predict(X_test_new)\n",
        "predictions = [round(value) for value in y_pred]\n",
        "\n",
        "# evaluate predictions\n",
        "accuracy = accuracy_score(test_labels, predictions)\n",
        "print(\"Accuracy: %.2f%%\" % (accuracy * 100.0))"
      ],
      "execution_count": 457,
      "outputs": [
        {
          "output_type": "stream",
          "text": [
            "Accuracy: 83.88%\n"
          ],
          "name": "stdout"
        }
      ]
    },
    {
      "cell_type": "code",
      "metadata": {
        "id": "Z8D-K6-UZeNJ",
        "colab_type": "code",
        "colab": {
          "base_uri": "https://localhost:8080/",
          "height": 545
        },
        "outputId": "60744285-5f1d-4d1a-dcc7-b03c23c8dda1"
      },
      "source": [
        "from matplotlib import pyplot\n",
        "\n",
        "results = model_opt.evals_result()\n",
        "epochs = len(results['validation_0']['error'])\n",
        "x_axis = range(0, epochs)\n",
        "# plot log loss\n",
        "fig, ax = pyplot.subplots()\n",
        "ax.plot(x_axis, results['validation_0']['logloss'], label='Train')\n",
        "ax.plot(x_axis, results['validation_1']['logloss'], label='Test')\n",
        "ax.legend()\n",
        "pyplot.ylabel('Log Loss')\n",
        "pyplot.title('XGBoost Log Loss')\n",
        "pyplot.show()\n",
        "# plot classification error\n",
        "fig, ax = pyplot.subplots()\n",
        "ax.plot(x_axis, results['validation_0']['error'], label='Train')\n",
        "ax.plot(x_axis, results['validation_1']['error'], label='Test')\n",
        "ax.legend()\n",
        "pyplot.ylabel('Classification Error')\n",
        "pyplot.title('XGBoost Classification Error')\n",
        "pyplot.show()"
      ],
      "execution_count": 458,
      "outputs": [
        {
          "output_type": "display_data",
          "data": {
            "image/png": "[encoded data removed]",
            "text/plain": [
              "<Figure size 432x288 with 1 Axes>"
            ]
          },
          "metadata": {
            "tags": [],
            "needs_background": "light"
          }
        },
        {
          "output_type": "display_data",
          "data": {
            "image/png": "[encoded data removed]",
            "text/plain": [
              "<Figure size 432x288 with 1 Axes>"
            ]
          },
          "metadata": {
            "tags": [],
            "needs_background": "light"
          }
        }
      ]
    },
    {
      "cell_type": "code",
      "metadata": {
        "id": "FC9l3_3rdBVp",
        "colab_type": "code",
        "colab": {
          "base_uri": "https://localhost:8080/",
          "height": 34
        },
        "outputId": "f9aedc43-cce3-404a-c535-070644c415cc"
      },
      "source": [
        "shap_values = shap.TreeExplainer(model_opt).shap_values(X_test_new) "
      ],
      "execution_count": 459,
      "outputs": [
        {
          "output_type": "stream",
          "text": [
            "Setting feature_perturbation = \"tree_path_dependent\" because no background data was given.\n"
          ],
          "name": "stderr"
        }
      ]
    },
    {
      "cell_type": "code",
      "metadata": {
        "id": "sCqFjPjzdIyd",
        "colab_type": "code",
        "colab": {
          "base_uri": "https://localhost:8080/",
          "height": 585
        },
        "outputId": "db68c2bd-4ed6-4c1f-e777-83ad58c29017"
      },
      "source": [
        "shap.summary_plot(shap_values, X_test_new)"
      ],
      "execution_count": 460,
      "outputs": [
        {
          "output_type": "display_data",
          "data": {
            "image/png": "[encoded data removed]",
            "text/plain": [
              "<Figure size 576x684 with 2 Axes>"
            ]
          },
          "metadata": {
            "tags": [],
            "needs_background": "light"
          }
        }
      ]
    },
    {
      "cell_type": "code",
      "metadata": {
        "id": "9E1paKnoeZWG",
        "colab_type": "code",
        "colab": {}
      },
      "source": [
        "predict = model_opt.predict(X_test_new)\n",
        "\n",
        "cm=confusion_matrix(test_labels,predict)"
      ],
      "execution_count": 461,
      "outputs": []
    },
    {
      "cell_type": "code",
      "metadata": {
        "id": "_HC4TpNaefH3",
        "colab_type": "code",
        "colab": {
          "base_uri": "https://localhost:8080/",
          "height": 215
        },
        "outputId": "054a0b71-1ced-4796-bea4-3c57ec70603b"
      },
      "source": [
        "print('Confusion Matrix')\n",
        "fig,ax = plt.subplots(figsize=(2.5,2.5))\n",
        "ax.matshow(cm,cmap=plt.cm.Blues,alpha=0.3)\n",
        "for i in range(cm.shape[0]):\n",
        "  for j in range(cm.shape[1]):\n",
        "    ax.text(x=j,y=i,\n",
        "            s=cm[i,j],\n",
        "            va='center',ha='center')\n",
        "plt.xlabel('Predicted Label')\n",
        "plt.ylabel('True Label')\n",
        "plt.show()"
      ],
      "execution_count": 462,
      "outputs": [
        {
          "output_type": "stream",
          "text": [
            "Confusion Matrix\n"
          ],
          "name": "stdout"
        },
        {
          "output_type": "display_data",
          "data": {
            "image/png": "[encoded data removed]",
            "text/plain": [
              "<Figure size 180x180 with 1 Axes>"
            ]
          },
          "metadata": {
            "tags": [],
            "needs_background": "light"
          }
        }
      ]
    }
  ]
}